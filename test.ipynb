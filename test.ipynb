{
 "cells": [
  {
   "cell_type": "code",
   "execution_count": null,
   "id": "important-japan",
   "metadata": {},
   "outputs": [],
   "source": []
  },
  {
   "cell_type": "code",
   "execution_count": 1,
   "id": "induced-synthetic",
   "metadata": {},
   "outputs": [],
   "source": [
    "from visualisation import plot_map\n"
   ]
  },
  {
   "cell_type": "markdown",
   "id": "stock-monitoring",
   "metadata": {},
   "source": [
    "## Try color pallete"
   ]
  },
  {
   "cell_type": "code",
   "execution_count": 13,
   "id": "brown-limitation",
   "metadata": {
    "collapsed": true
   },
   "outputs": [
    {
     "data": {
      "text/plain": [
       "['aggrnyl',\n",
       " 'agsunset',\n",
       " 'blackbody',\n",
       " 'bluered',\n",
       " 'blues',\n",
       " 'blugrn',\n",
       " 'bluyl',\n",
       " 'brwnyl',\n",
       " 'bugn',\n",
       " 'bupu',\n",
       " 'burg',\n",
       " 'burgyl',\n",
       " 'cividis',\n",
       " 'darkmint',\n",
       " 'electric',\n",
       " 'emrld',\n",
       " 'gnbu',\n",
       " 'greens',\n",
       " 'greys',\n",
       " 'hot',\n",
       " 'inferno',\n",
       " 'jet',\n",
       " 'magenta',\n",
       " 'magma',\n",
       " 'mint',\n",
       " 'orrd',\n",
       " 'oranges',\n",
       " 'oryel',\n",
       " 'peach',\n",
       " 'pinkyl',\n",
       " 'plasma',\n",
       " 'plotly3',\n",
       " 'pubu',\n",
       " 'pubugn',\n",
       " 'purd',\n",
       " 'purp',\n",
       " 'purples',\n",
       " 'purpor',\n",
       " 'rainbow',\n",
       " 'rdbu',\n",
       " 'rdpu',\n",
       " 'redor',\n",
       " 'reds',\n",
       " 'sunset',\n",
       " 'sunsetdark',\n",
       " 'teal',\n",
       " 'tealgrn',\n",
       " 'turbo',\n",
       " 'viridis',\n",
       " 'ylgn',\n",
       " 'ylgnbu',\n",
       " 'ylorbr',\n",
       " 'ylorrd',\n",
       " 'algae',\n",
       " 'amp',\n",
       " 'deep',\n",
       " 'dense',\n",
       " 'gray',\n",
       " 'haline',\n",
       " 'ice',\n",
       " 'matter',\n",
       " 'solar',\n",
       " 'speed',\n",
       " 'tempo',\n",
       " 'thermal',\n",
       " 'turbid',\n",
       " 'armyrose',\n",
       " 'brbg',\n",
       " 'earth',\n",
       " 'fall',\n",
       " 'geyser',\n",
       " 'prgn',\n",
       " 'piyg',\n",
       " 'picnic',\n",
       " 'portland',\n",
       " 'puor',\n",
       " 'rdgy',\n",
       " 'rdylbu',\n",
       " 'rdylgn',\n",
       " 'spectral',\n",
       " 'tealrose',\n",
       " 'temps',\n",
       " 'tropic',\n",
       " 'balance',\n",
       " 'curl',\n",
       " 'delta',\n",
       " 'oxy',\n",
       " 'edge',\n",
       " 'hsv',\n",
       " 'icefire',\n",
       " 'phase',\n",
       " 'twilight',\n",
       " 'mrybm',\n",
       " 'mygbm']"
      ]
     },
     "execution_count": 13,
     "metadata": {},
     "output_type": "execute_result"
    }
   ],
   "source": [
    "import plotly.express as px\n",
    "from textwrap import wrap\n",
    "\n",
    "named_colorscales = px.colors.named_colorscales()\n",
    "named_colorscales"
   ]
  },
  {
   "cell_type": "code",
   "execution_count": 10,
   "id": "unique-crown",
   "metadata": {
    "scrolled": true
   },
   "outputs": [],
   "source": [
    "def try_color(color):\n",
    "    display(plot_map.plot_district_choropleth(color))\n",
    "    display(plot_map.plot_treemap_district(color))\n",
    "    display(plot_map.plot_treemap_all(color))"
   ]
  },
  {
   "cell_type": "code",
   "execution_count": 29,
   "id": "regulation-ocean",
   "metadata": {},
   "outputs": [],
   "source": [
    "color_lst = []"
   ]
  },
  {
   "cell_type": "code",
   "execution_count": 30,
   "id": "presidential-jones",
   "metadata": {
    "scrolled": true
   },
   "outputs": [],
   "source": [
    "color_lst.append(\"brwnyl\")"
   ]
  },
  {
   "cell_type": "code",
   "execution_count": 31,
   "id": "selected-explosion",
   "metadata": {},
   "outputs": [],
   "source": [
    "color_lst.append(\"bluyl\")"
   ]
  },
  {
   "cell_type": "code",
   "execution_count": 32,
   "id": "included-safety",
   "metadata": {
    "scrolled": true
   },
   "outputs": [],
   "source": [
    "color_lst.append(\"cividis\")"
   ]
  },
  {
   "cell_type": "code",
   "execution_count": 33,
   "id": "structural-channel",
   "metadata": {},
   "outputs": [],
   "source": [
    "color_lst.append(\"fall\")"
   ]
  },
  {
   "cell_type": "code",
   "execution_count": 34,
   "id": "hawaiian-computer",
   "metadata": {},
   "outputs": [],
   "source": [
    "color_lst.append(\"geyser\")"
   ]
  },
  {
   "cell_type": "code",
   "execution_count": 35,
   "id": "amazing-mambo",
   "metadata": {},
   "outputs": [],
   "source": [
    "color_lst.append(\"deep\")"
   ]
  },
  {
   "cell_type": "code",
   "execution_count": 37,
   "id": "skilled-penetration",
   "metadata": {},
   "outputs": [],
   "source": [
    "color_lst.append(\"tempo\")"
   ]
  },
  {
   "cell_type": "code",
   "execution_count": 42,
   "id": "organizational-relative",
   "metadata": {},
   "outputs": [],
   "source": [
    "import pickle\n",
    "with open(\"fav_colors.pickle\", \"wb\") as f:\n",
    "    pickle.dump(color_lst, f)"
   ]
  },
  {
   "cell_type": "code",
   "execution_count": 45,
   "id": "encouraging-bennett",
   "metadata": {},
   "outputs": [
    {
     "ename": "TypeError",
     "evalue": "load() takes exactly 1 positional argument (2 given)",
     "output_type": "error",
     "traceback": [
      "\u001b[0;31m---------------------------------------------------------------------------\u001b[0m",
      "\u001b[0;31mTypeError\u001b[0m                                 Traceback (most recent call last)",
      "\u001b[0;32m<ipython-input-45-dc544ebeac46>\u001b[0m in \u001b[0;36m<module>\u001b[0;34m\u001b[0m\n\u001b[0;32m----> 1\u001b[0;31m \u001b[0mpickle\u001b[0m\u001b[0;34m.\u001b[0m\u001b[0mload\u001b[0m\u001b[0;34m(\u001b[0m\u001b[0;34m\"fav_colors.pickle\"\u001b[0m\u001b[0;34m,\u001b[0m \u001b[0;34m\"rb\"\u001b[0m\u001b[0;34m)\u001b[0m\u001b[0;34m\u001b[0m\u001b[0;34m\u001b[0m\u001b[0m\n\u001b[0m",
      "\u001b[0;31mTypeError\u001b[0m: load() takes exactly 1 positional argument (2 given)"
     ]
    }
   ],
   "source": [
    "pickle.load(\"fav_colors.pickle\", \"rb\")"
   ]
  },
  {
   "cell_type": "code",
   "execution_count": null,
   "id": "palestinian-chocolate",
   "metadata": {},
   "outputs": [],
   "source": []
  }
 ],
 "metadata": {
  "kernelspec": {
   "display_name": "Python 3",
   "language": "python",
   "name": "python3"
  },
  "language_info": {
   "codemirror_mode": {
    "name": "ipython",
    "version": 3
   },
   "file_extension": ".py",
   "mimetype": "text/x-python",
   "name": "python",
   "nbconvert_exporter": "python",
   "pygments_lexer": "ipython3",
   "version": "3.8.5"
  },
  "toc": {
   "base_numbering": 1,
   "nav_menu": {},
   "number_sections": true,
   "sideBar": true,
   "skip_h1_title": true,
   "title_cell": "Table of Contents",
   "title_sidebar": "Contents",
   "toc_cell": false,
   "toc_position": {},
   "toc_section_display": true,
   "toc_window_display": true
  }
 },
 "nbformat": 4,
 "nbformat_minor": 5
}
