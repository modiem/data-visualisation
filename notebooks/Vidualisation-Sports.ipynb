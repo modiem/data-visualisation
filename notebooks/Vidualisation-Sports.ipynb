{
 "cells": [
  {
   "cell_type": "code",
   "execution_count": 1,
   "id": "suburban-technology",
   "metadata": {},
   "outputs": [],
   "source": [
    "import pandas as pd\n",
    "import matplotlib.pyplot as plt\n",
    "import seaborn as sns"
   ]
  },
  {
   "cell_type": "markdown",
   "id": "parallel-wheel",
   "metadata": {
    "heading_collapsed": true
   },
   "source": [
    "## Load Data, Clean and Save new datasets"
   ]
  },
  {
   "cell_type": "code",
   "execution_count": 105,
   "id": "seasonal-character",
   "metadata": {
    "hidden": true,
    "scrolled": true
   },
   "outputs": [
    {
     "data": {
      "text/html": [
       "<div>\n",
       "<style scoped>\n",
       "    .dataframe tbody tr th:only-of-type {\n",
       "        vertical-align: middle;\n",
       "    }\n",
       "\n",
       "    .dataframe tbody tr th {\n",
       "        vertical-align: top;\n",
       "    }\n",
       "\n",
       "    .dataframe thead th {\n",
       "        text-align: right;\n",
       "    }\n",
       "</style>\n",
       "<table border=\"1\" class=\"dataframe\">\n",
       "  <thead>\n",
       "    <tr style=\"text-align: right;\">\n",
       "      <th></th>\n",
       "      <th>Sport</th>\n",
       "      <th>Naam</th>\n",
       "      <th>Website</th>\n",
       "      <th>Naam accommodatie</th>\n",
       "      <th>Adres accommodatie</th>\n",
       "      <th>Postcode accommodatie</th>\n",
       "      <th>Plaats accommodatie</th>\n",
       "      <th>Stadsdeel</th>\n",
       "      <th>Aangepast sporten</th>\n",
       "      <th>KvK</th>\n",
       "      <th>Stadspas</th>\n",
       "      <th>x</th>\n",
       "      <th>y</th>\n",
       "    </tr>\n",
       "  </thead>\n",
       "  <tbody>\n",
       "    <tr>\n",
       "      <th>0</th>\n",
       "      <td>Aangepast sporten</td>\n",
       "      <td>Reade</td>\n",
       "      <td>www.reade.nl</td>\n",
       "      <td>Jan van Breemen instituut</td>\n",
       "      <td>Admiraal Helfrichstraat 1</td>\n",
       "      <td>1056AA</td>\n",
       "      <td>Amsterdam</td>\n",
       "      <td>Nieuw-West</td>\n",
       "      <td>ja</td>\n",
       "      <td>NaN</td>\n",
       "      <td>NaN</td>\n",
       "      <td>4,84440832</td>\n",
       "      <td>52,37074001</td>\n",
       "    </tr>\n",
       "    <tr>\n",
       "      <th>1</th>\n",
       "      <td>Aangepast sporten</td>\n",
       "      <td>Friendship Sports Centre</td>\n",
       "      <td>www.friendshipsportscentre.nl</td>\n",
       "      <td>Friendship Sports Centre</td>\n",
       "      <td>Beemsterstraat 652</td>\n",
       "      <td>1027ED</td>\n",
       "      <td>Amsterdam</td>\n",
       "      <td>Noord</td>\n",
       "      <td>ja</td>\n",
       "      <td>34152839.0</td>\n",
       "      <td>NaN</td>\n",
       "      <td>4,95984695</td>\n",
       "      <td>52,40025203</td>\n",
       "    </tr>\n",
       "    <tr>\n",
       "      <th>2</th>\n",
       "      <td>Aangepast sporten</td>\n",
       "      <td>Only Friends</td>\n",
       "      <td>www.onlyfriends.nl</td>\n",
       "      <td>Sportpark De Weeren</td>\n",
       "      <td>Beemsterstraat 652</td>\n",
       "      <td>1027ED</td>\n",
       "      <td>Amsterdam</td>\n",
       "      <td>Noord</td>\n",
       "      <td>ja</td>\n",
       "      <td>50538063.0</td>\n",
       "      <td>ja</td>\n",
       "      <td>4,95984695</td>\n",
       "      <td>52,40025203</td>\n",
       "    </tr>\n",
       "    <tr>\n",
       "      <th>3</th>\n",
       "      <td>Aangepast sporten</td>\n",
       "      <td>PWA Manege | Vereniging Paardrijden Gehandicapten</td>\n",
       "      <td>www.pwamanege.nl</td>\n",
       "      <td>Prins Willem-Alexander manege</td>\n",
       "      <td>Loosdrechtdreef 9</td>\n",
       "      <td>1108AZ</td>\n",
       "      <td>Amsterdam</td>\n",
       "      <td>Zuidoost</td>\n",
       "      <td>ja</td>\n",
       "      <td>40533448.0</td>\n",
       "      <td>NaN</td>\n",
       "      <td>4,99323066</td>\n",
       "      <td>52,31425676</td>\n",
       "    </tr>\n",
       "    <tr>\n",
       "      <th>4</th>\n",
       "      <td>Aangepast sporten</td>\n",
       "      <td>Terminators</td>\n",
       "      <td>www.amsterdamterminators.nl</td>\n",
       "      <td>Reade sporthal</td>\n",
       "      <td>Overtoom 283</td>\n",
       "      <td>1054HW</td>\n",
       "      <td>Amsterdam</td>\n",
       "      <td>West</td>\n",
       "      <td>ja</td>\n",
       "      <td>40539513.0</td>\n",
       "      <td>NaN</td>\n",
       "      <td>4,86684929</td>\n",
       "      <td>52,36037903</td>\n",
       "    </tr>\n",
       "  </tbody>\n",
       "</table>\n",
       "</div>"
      ],
      "text/plain": [
       "               Sport                                               Naam  \\\n",
       "0  Aangepast sporten                                              Reade   \n",
       "1  Aangepast sporten                           Friendship Sports Centre   \n",
       "2  Aangepast sporten                                       Only Friends   \n",
       "3  Aangepast sporten  PWA Manege | Vereniging Paardrijden Gehandicapten   \n",
       "4  Aangepast sporten                                        Terminators   \n",
       "\n",
       "                         Website              Naam accommodatie  \\\n",
       "0                   www.reade.nl      Jan van Breemen instituut   \n",
       "1  www.friendshipsportscentre.nl       Friendship Sports Centre   \n",
       "2             www.onlyfriends.nl            Sportpark De Weeren   \n",
       "3               www.pwamanege.nl  Prins Willem-Alexander manege   \n",
       "4    www.amsterdamterminators.nl                 Reade sporthal   \n",
       "\n",
       "          Adres accommodatie Postcode accommodatie Plaats accommodatie  \\\n",
       "0  Admiraal Helfrichstraat 1                1056AA           Amsterdam   \n",
       "1         Beemsterstraat 652                1027ED           Amsterdam   \n",
       "2         Beemsterstraat 652                1027ED           Amsterdam   \n",
       "3          Loosdrechtdreef 9                1108AZ           Amsterdam   \n",
       "4               Overtoom 283                1054HW           Amsterdam   \n",
       "\n",
       "    Stadsdeel Aangepast sporten         KvK Stadspas           x            y  \n",
       "0  Nieuw-West                ja         NaN      NaN  4,84440832  52,37074001  \n",
       "1       Noord                ja  34152839.0      NaN  4,95984695  52,40025203  \n",
       "2       Noord                ja  50538063.0       ja  4,95984695  52,40025203  \n",
       "3    Zuidoost                ja  40533448.0      NaN  4,99323066  52,31425676  \n",
       "4        West                ja  40539513.0      NaN  4,86684929  52,36037903  "
      ]
     },
     "execution_count": 105,
     "metadata": {},
     "output_type": "execute_result"
    }
   ],
   "source": [
    "df = pd.read_csv(\"data/sportaanbieders.csv\")\n",
    "df.head(5)"
   ]
  },
  {
   "cell_type": "markdown",
   "id": "noted-facility",
   "metadata": {
    "heading_collapsed": true,
    "hidden": true
   },
   "source": [
    "### Translate Dutch Sport name to English"
   ]
  },
  {
   "cell_type": "code",
   "execution_count": 1,
   "id": "civilian-canada",
   "metadata": {
    "hidden": true
   },
   "outputs": [],
   "source": [
    "def translate_text(text):\n",
    "    \"\"\"Translates text into the target language.\n",
    "\n",
    "    Target must be an ISO 639-1 language code.\n",
    "    See https://g.co/cloud/translate/v2/translate-reference#supported_languages\n",
    "    \"\"\"\n",
    "    import six\n",
    "    from google.cloud import translate_v2 as translate\n",
    "\n",
    "    translate_client = translate.Client()\n",
    "\n",
    "    if isinstance(text, six.binary_type):\n",
    "        text = text.decode(\"utf-8\")\n",
    "\n",
    "    # Text can also be a sequence of strings, in which case this method\n",
    "    # will return a sequence of results for each text.\n",
    "    result = translate_client.translate(text, target_language=\"en\")\n",
    "\n",
    "#     print(u\"Text: {}\".format(result[\"input\"]))\n",
    "#     print(u\"Translation: {}\".format(result[\"translatedText\"]))\n",
    "#     print(u\"Detected source language: {}\".format(result[\"detectedSourceLanguage\"]))\n",
    "    return result[\"translatedText\"]\n"
   ]
  },
  {
   "cell_type": "code",
   "execution_count": 106,
   "id": "minus-track",
   "metadata": {
    "hidden": true
   },
   "outputs": [],
   "source": [
    "#################\n",
    "## Clean ########\n",
    "#################\n",
    "df.Sport=df.Sport.apply(lambda x: x.lower().strip())\n",
    "\n",
    "\n",
    "##############################\n",
    "### Check english translation\n",
    "##############################\n",
    "\n",
    "nl_en={}\n",
    "for s_type in sport_types:\n",
    "    nl_en[s_type] = translate_text(s_type)\n",
    "\n",
    "\n",
    "\n",
    "# ##############################\n",
    "# ## correct some mis-translation\n",
    "# ##############################\n",
    "\n",
    "nl_en[\"zeilen\"]=\"sailing\"\n",
    "nl_en[\"dans\"]=\"dance\"\n",
    "nl_en[\"padel\"] = \"padel\"\n",
    "\n",
    "###############################\n",
    "## Save Translation to pickle\n",
    "###############################\n",
    "# import pickle\n",
    "# with open(\"data/sports_translation.pickle\", \"wb\") as f:\n",
    "#     pickle.dump(nl_en, f)\n",
    "\n",
    "#### Add translated name to df\n",
    "df.loc[:, \"Sport_en\"] = df.Sport.map(nl_en)"
   ]
  },
  {
   "cell_type": "markdown",
   "id": "nasty-anime",
   "metadata": {
    "hidden": true
   },
   "source": [
    "### Filter Out Sports Providers outside Amsterdam"
   ]
  },
  {
   "cell_type": "code",
   "execution_count": 7,
   "id": "blessed-vertical",
   "metadata": {
    "hidden": true
   },
   "outputs": [],
   "source": [
    "###############\n",
    "# Geo geojson\n",
    "###############\n",
    "import json\n",
    "\n",
    "with open(\"../geojson.json\") as f:\n",
    "    districts = json.load(f)\n",
    "\n",
    "district_code = {}\n",
    "for d in districts[\"features\"]:\n",
    "    district_code[d[\"properties\"][\"Stadsdeel\"]]=d[\"properties\"][\"Stadsdeel_code\"]\n",
    "\n",
    "df.loc[:, \"Stadsdeel\"] = df.Stadsdeel.str.replace(\"Zuid-Oost\",\"Zuidoost\")\n",
    "df.loc[:, \"district_code\"] = df.Stadsdeel.map(district_code)\n",
    "\n",
    "### Filter out all providers outside amsterdam\n",
    "df = df[~df[\"district_code\"].isna()]\n",
    "\n",
    "### save csv to csv\n",
    "# df.to_csv(\"../data/sports_provider_Amsterdam.csv\", index=False)"
   ]
  },
  {
   "cell_type": "markdown",
   "id": "crucial-secondary",
   "metadata": {
    "hidden": true
   },
   "source": [
    "### Aggregate Same Sport with Different Names"
   ]
  },
  {
   "cell_type": "code",
   "execution_count": 21,
   "id": "modified-wireless",
   "metadata": {
    "hidden": true
   },
   "outputs": [
    {
     "data": {
      "text/plain": [
       "86"
      ]
     },
     "execution_count": 21,
     "metadata": {},
     "output_type": "execute_result"
    }
   ],
   "source": [
    "sports_lst = df.Sport_en.unique().tolist()\n",
    "len(sports_lst)"
   ]
  },
  {
   "cell_type": "code",
   "execution_count": 40,
   "id": "executed-huntington",
   "metadata": {
    "hidden": true
   },
   "outputs": [],
   "source": [
    "## Correct some translation\n",
    "df.loc[df[\"Sport_en\"] == \"the box\", \"Sport_en\"] = \"boxing\"\n",
    "\n",
    "df.loc[df[\"Sport_en\"] == \"street dance\", \"Sport_en\"]=\"dance\"\n",
    "\n",
    "for sport in df.Sport_en.unique().tolist():\n",
    "    if \"skat\" in sport:\n",
    "        df.loc[df[\"Sport_en\"] == sport, \"Sport_en\"] = \"skating\"\n",
    "\n",
    "df.loc[df[\"Sport_en\"] == \"diving\", \"Sport_en\"]=\"underwater sports\"\n",
    "\n",
    "for sport in df.Sport_en.unique().tolist():\n",
    "    if \"fit\" in sport:\n",
    "        df.loc[df[\"Sport_en\"] == sport, \"Sport_en\"] = \"fitness\"\n",
    "\n",
    "df.loc[df[\"Sport_en\"] == \"mountain sports\", \"Sport_en\"]=\"climbing\"\n",
    "df.loc[df[\"Sport_en\"] == \"klimsport\", \"Sport_en\"]=\"climbing\"\n",
    "df.loc[df.Sport_en == 'lawn bowling', \"Sport_en\"] =\"bowls\"\n",
    "df.loc[df.Sport_en == \"screens\", \"Sport_en\"] = \"fencing\"\n",
    "\n",
    "# ## save csv to csv\n",
    "# df.to_csv(\"../data/sports_provider_Amsterdam.csv\", index=False)"
   ]
  },
  {
   "cell_type": "markdown",
   "id": "attempted-weight",
   "metadata": {},
   "source": [
    "## Explore dataset"
   ]
  },
  {
   "cell_type": "code",
   "execution_count": 49,
   "id": "helpful-delta",
   "metadata": {
    "scrolled": true
   },
   "outputs": [
    {
     "data": {
      "text/html": [
       "<div>\n",
       "<style scoped>\n",
       "    .dataframe tbody tr th:only-of-type {\n",
       "        vertical-align: middle;\n",
       "    }\n",
       "\n",
       "    .dataframe tbody tr th {\n",
       "        vertical-align: top;\n",
       "    }\n",
       "\n",
       "    .dataframe thead th {\n",
       "        text-align: right;\n",
       "    }\n",
       "</style>\n",
       "<table border=\"1\" class=\"dataframe\">\n",
       "  <thead>\n",
       "    <tr style=\"text-align: right;\">\n",
       "      <th></th>\n",
       "      <th>Sport</th>\n",
       "      <th>Naam</th>\n",
       "      <th>Website</th>\n",
       "      <th>Naam accommodatie</th>\n",
       "      <th>Adres accommodatie</th>\n",
       "      <th>Postcode accommodatie</th>\n",
       "      <th>Plaats accommodatie</th>\n",
       "      <th>Stadsdeel</th>\n",
       "      <th>Aangepast sporten</th>\n",
       "      <th>KvK</th>\n",
       "      <th>Stadspas</th>\n",
       "      <th>x</th>\n",
       "      <th>y</th>\n",
       "      <th>Sport_en</th>\n",
       "      <th>district_code</th>\n",
       "    </tr>\n",
       "  </thead>\n",
       "  <tbody>\n",
       "    <tr>\n",
       "      <th>0</th>\n",
       "      <td>aangepast sporten</td>\n",
       "      <td>Reade</td>\n",
       "      <td>www.reade.nl</td>\n",
       "      <td>Jan van Breemen instituut</td>\n",
       "      <td>Admiraal Helfrichstraat 1</td>\n",
       "      <td>1056AA</td>\n",
       "      <td>Amsterdam</td>\n",
       "      <td>Nieuw-West</td>\n",
       "      <td>ja</td>\n",
       "      <td>NaN</td>\n",
       "      <td>NaN</td>\n",
       "      <td>4.844408</td>\n",
       "      <td>52.370740</td>\n",
       "      <td>adapted sports</td>\n",
       "      <td>F</td>\n",
       "    </tr>\n",
       "    <tr>\n",
       "      <th>1</th>\n",
       "      <td>aangepast sporten</td>\n",
       "      <td>Friendship Sports Centre</td>\n",
       "      <td>www.friendshipsportscentre.nl</td>\n",
       "      <td>Friendship Sports Centre</td>\n",
       "      <td>Beemsterstraat 652</td>\n",
       "      <td>1027ED</td>\n",
       "      <td>Amsterdam</td>\n",
       "      <td>Noord</td>\n",
       "      <td>ja</td>\n",
       "      <td>34152839.0</td>\n",
       "      <td>NaN</td>\n",
       "      <td>4.959847</td>\n",
       "      <td>52.400252</td>\n",
       "      <td>adapted sports</td>\n",
       "      <td>N</td>\n",
       "    </tr>\n",
       "    <tr>\n",
       "      <th>2</th>\n",
       "      <td>aangepast sporten</td>\n",
       "      <td>Only Friends</td>\n",
       "      <td>www.onlyfriends.nl</td>\n",
       "      <td>Sportpark De Weeren</td>\n",
       "      <td>Beemsterstraat 652</td>\n",
       "      <td>1027ED</td>\n",
       "      <td>Amsterdam</td>\n",
       "      <td>Noord</td>\n",
       "      <td>ja</td>\n",
       "      <td>50538063.0</td>\n",
       "      <td>ja</td>\n",
       "      <td>4.959847</td>\n",
       "      <td>52.400252</td>\n",
       "      <td>adapted sports</td>\n",
       "      <td>N</td>\n",
       "    </tr>\n",
       "    <tr>\n",
       "      <th>3</th>\n",
       "      <td>aangepast sporten</td>\n",
       "      <td>PWA Manege | Vereniging Paardrijden Gehandicapten</td>\n",
       "      <td>www.pwamanege.nl</td>\n",
       "      <td>Prins Willem-Alexander manege</td>\n",
       "      <td>Loosdrechtdreef 9</td>\n",
       "      <td>1108AZ</td>\n",
       "      <td>Amsterdam</td>\n",
       "      <td>Zuidoost</td>\n",
       "      <td>ja</td>\n",
       "      <td>40533448.0</td>\n",
       "      <td>NaN</td>\n",
       "      <td>4.993231</td>\n",
       "      <td>52.314257</td>\n",
       "      <td>adapted sports</td>\n",
       "      <td>T</td>\n",
       "    </tr>\n",
       "    <tr>\n",
       "      <th>4</th>\n",
       "      <td>aangepast sporten</td>\n",
       "      <td>Terminators</td>\n",
       "      <td>www.amsterdamterminators.nl</td>\n",
       "      <td>Reade sporthal</td>\n",
       "      <td>Overtoom 283</td>\n",
       "      <td>1054HW</td>\n",
       "      <td>Amsterdam</td>\n",
       "      <td>West</td>\n",
       "      <td>ja</td>\n",
       "      <td>40539513.0</td>\n",
       "      <td>NaN</td>\n",
       "      <td>4.866849</td>\n",
       "      <td>52.360379</td>\n",
       "      <td>adapted sports</td>\n",
       "      <td>E</td>\n",
       "    </tr>\n",
       "  </tbody>\n",
       "</table>\n",
       "</div>"
      ],
      "text/plain": [
       "               Sport                                               Naam  \\\n",
       "0  aangepast sporten                                              Reade   \n",
       "1  aangepast sporten                           Friendship Sports Centre   \n",
       "2  aangepast sporten                                       Only Friends   \n",
       "3  aangepast sporten  PWA Manege | Vereniging Paardrijden Gehandicapten   \n",
       "4  aangepast sporten                                        Terminators   \n",
       "\n",
       "                         Website              Naam accommodatie  \\\n",
       "0                   www.reade.nl      Jan van Breemen instituut   \n",
       "1  www.friendshipsportscentre.nl       Friendship Sports Centre   \n",
       "2             www.onlyfriends.nl            Sportpark De Weeren   \n",
       "3               www.pwamanege.nl  Prins Willem-Alexander manege   \n",
       "4    www.amsterdamterminators.nl                 Reade sporthal   \n",
       "\n",
       "          Adres accommodatie Postcode accommodatie Plaats accommodatie  \\\n",
       "0  Admiraal Helfrichstraat 1                1056AA           Amsterdam   \n",
       "1         Beemsterstraat 652                1027ED           Amsterdam   \n",
       "2         Beemsterstraat 652                1027ED           Amsterdam   \n",
       "3          Loosdrechtdreef 9                1108AZ           Amsterdam   \n",
       "4               Overtoom 283                1054HW           Amsterdam   \n",
       "\n",
       "    Stadsdeel Aangepast sporten         KvK Stadspas         x          y  \\\n",
       "0  Nieuw-West                ja         NaN      NaN  4.844408  52.370740   \n",
       "1       Noord                ja  34152839.0      NaN  4.959847  52.400252   \n",
       "2       Noord                ja  50538063.0       ja  4.959847  52.400252   \n",
       "3    Zuidoost                ja  40533448.0      NaN  4.993231  52.314257   \n",
       "4        West                ja  40539513.0      NaN  4.866849  52.360379   \n",
       "\n",
       "         Sport_en district_code  \n",
       "0  adapted sports             F  \n",
       "1  adapted sports             N  \n",
       "2  adapted sports             N  \n",
       "3  adapted sports             T  \n",
       "4  adapted sports             E  "
      ]
     },
     "execution_count": 49,
     "metadata": {},
     "output_type": "execute_result"
    }
   ],
   "source": [
    "df=pd.read_csv(\"../data/sports_provider_Amsterdam.csv\")\n",
    "df.head()"
   ]
  },
  {
   "cell_type": "markdown",
   "id": "intimate-baltimore",
   "metadata": {},
   "source": [
    "### Sport type"
   ]
  },
  {
   "cell_type": "code",
   "execution_count": 3,
   "id": "sunrise-paper",
   "metadata": {},
   "outputs": [
    {
     "data": {
      "text/plain": [
       "(967, 15)"
      ]
     },
     "metadata": {},
     "output_type": "display_data"
    },
    {
     "data": {
      "text/plain": [
       "80"
      ]
     },
     "metadata": {},
     "output_type": "display_data"
    }
   ],
   "source": [
    "################\n",
    "### Size #######\n",
    "################\n",
    "display(df.shape)\n",
    "\n",
    "sports_lst = df.Sport_en.unique().tolist()\n",
    "display(len(sports_lst))"
   ]
  },
  {
   "cell_type": "code",
   "execution_count": 7,
   "id": "formed-essex",
   "metadata": {
    "scrolled": false
   },
   "outputs": [
    {
     "data": {
      "image/png": "[encoded data removed]",
      "text/plain": [
       "<Figure size 1080x864 with 1 Axes>"
      ]
     },
     "metadata": {
      "needs_background": "light"
     },
     "output_type": "display_data"
    }
   ],
   "source": [
    "plt.figure(figsize=(15,12))\n",
    "sns.countplot(y=\"Sport_en\", \n",
    "              data=df,\n",
    "              order = df['Sport_en'].value_counts().index)\n",
    "plt.xlabel(\"Count\")\n",
    "plt.ylabel(\"Sports\")\n",
    "plt.title(\"Sports Providers across Amsterdam\")\n",
    "plt.savefig(\"../plots/Sports_Count.png\")"
   ]
  },
  {
   "cell_type": "code",
   "execution_count": 17,
   "id": "meaning-warner",
   "metadata": {},
   "outputs": [
    {
     "data": {
      "text/plain": [
       "29"
      ]
     },
     "execution_count": 17,
     "metadata": {},
     "output_type": "execute_result"
    }
   ],
   "source": [
    "count_df = pd.DataFrame(df.groupby(\"Sport_en\").count()[\"Sport\"]).reset_index()\n",
    "count_df = count_df.rename(columns={\"Sport\":\"Count\"})\n",
    "count_df.sort_values(by=\"Count\", ascending=False)\n",
    "\n",
    "count_df[\"Count\"].nunique()"
   ]
  },
  {
   "cell_type": "code",
   "execution_count": 46,
   "id": "fifty-trunk",
   "metadata": {
    "scrolled": true
   },
   "outputs": [],
   "source": [
    "count_df = count_df.sort_values(by=\"Count\",ascending=True)"
   ]
  },
  {
   "cell_type": "code",
   "execution_count": 48,
   "id": "bridal-cross",
   "metadata": {},
   "outputs": [
    {
     "data": {
      "text/plain": [
       "(80, 2)"
      ]
     },
     "execution_count": 48,
     "metadata": {},
     "output_type": "execute_result"
    }
   ],
   "source": [
    "count_df.shape"
   ]
  },
  {
   "cell_type": "markdown",
   "id": "compound-salem",
   "metadata": {},
   "source": [
    "## Treemap"
   ]
  },
  {
   "cell_type": "code",
   "execution_count": 50,
   "id": "operational-works",
   "metadata": {},
   "outputs": [
    {
     "data": {
      "text/html": [
       "<div>\n",
       "<style scoped>\n",
       "    .dataframe tbody tr th:only-of-type {\n",
       "        vertical-align: middle;\n",
       "    }\n",
       "\n",
       "    .dataframe tbody tr th {\n",
       "        vertical-align: top;\n",
       "    }\n",
       "\n",
       "    .dataframe thead th {\n",
       "        text-align: right;\n",
       "    }\n",
       "</style>\n",
       "<table border=\"1\" class=\"dataframe\">\n",
       "  <thead>\n",
       "    <tr style=\"text-align: right;\">\n",
       "      <th></th>\n",
       "      <th>Sport</th>\n",
       "      <th>Naam</th>\n",
       "      <th>Website</th>\n",
       "      <th>Naam accommodatie</th>\n",
       "      <th>Adres accommodatie</th>\n",
       "      <th>Postcode accommodatie</th>\n",
       "      <th>Plaats accommodatie</th>\n",
       "      <th>Stadsdeel</th>\n",
       "      <th>Aangepast sporten</th>\n",
       "      <th>KvK</th>\n",
       "      <th>Stadspas</th>\n",
       "      <th>x</th>\n",
       "      <th>y</th>\n",
       "      <th>Sport_en</th>\n",
       "      <th>district_code</th>\n",
       "    </tr>\n",
       "  </thead>\n",
       "  <tbody>\n",
       "    <tr>\n",
       "      <th>0</th>\n",
       "      <td>aangepast sporten</td>\n",
       "      <td>Reade</td>\n",
       "      <td>www.reade.nl</td>\n",
       "      <td>Jan van Breemen instituut</td>\n",
       "      <td>Admiraal Helfrichstraat 1</td>\n",
       "      <td>1056AA</td>\n",
       "      <td>Amsterdam</td>\n",
       "      <td>Nieuw-West</td>\n",
       "      <td>ja</td>\n",
       "      <td>NaN</td>\n",
       "      <td>NaN</td>\n",
       "      <td>4.844408</td>\n",
       "      <td>52.370740</td>\n",
       "      <td>adapted sports</td>\n",
       "      <td>F</td>\n",
       "    </tr>\n",
       "    <tr>\n",
       "      <th>1</th>\n",
       "      <td>aangepast sporten</td>\n",
       "      <td>Friendship Sports Centre</td>\n",
       "      <td>www.friendshipsportscentre.nl</td>\n",
       "      <td>Friendship Sports Centre</td>\n",
       "      <td>Beemsterstraat 652</td>\n",
       "      <td>1027ED</td>\n",
       "      <td>Amsterdam</td>\n",
       "      <td>Noord</td>\n",
       "      <td>ja</td>\n",
       "      <td>34152839.0</td>\n",
       "      <td>NaN</td>\n",
       "      <td>4.959847</td>\n",
       "      <td>52.400252</td>\n",
       "      <td>adapted sports</td>\n",
       "      <td>N</td>\n",
       "    </tr>\n",
       "    <tr>\n",
       "      <th>2</th>\n",
       "      <td>aangepast sporten</td>\n",
       "      <td>Only Friends</td>\n",
       "      <td>www.onlyfriends.nl</td>\n",
       "      <td>Sportpark De Weeren</td>\n",
       "      <td>Beemsterstraat 652</td>\n",
       "      <td>1027ED</td>\n",
       "      <td>Amsterdam</td>\n",
       "      <td>Noord</td>\n",
       "      <td>ja</td>\n",
       "      <td>50538063.0</td>\n",
       "      <td>ja</td>\n",
       "      <td>4.959847</td>\n",
       "      <td>52.400252</td>\n",
       "      <td>adapted sports</td>\n",
       "      <td>N</td>\n",
       "    </tr>\n",
       "    <tr>\n",
       "      <th>3</th>\n",
       "      <td>aangepast sporten</td>\n",
       "      <td>PWA Manege | Vereniging Paardrijden Gehandicapten</td>\n",
       "      <td>www.pwamanege.nl</td>\n",
       "      <td>Prins Willem-Alexander manege</td>\n",
       "      <td>Loosdrechtdreef 9</td>\n",
       "      <td>1108AZ</td>\n",
       "      <td>Amsterdam</td>\n",
       "      <td>Zuidoost</td>\n",
       "      <td>ja</td>\n",
       "      <td>40533448.0</td>\n",
       "      <td>NaN</td>\n",
       "      <td>4.993231</td>\n",
       "      <td>52.314257</td>\n",
       "      <td>adapted sports</td>\n",
       "      <td>T</td>\n",
       "    </tr>\n",
       "    <tr>\n",
       "      <th>4</th>\n",
       "      <td>aangepast sporten</td>\n",
       "      <td>Terminators</td>\n",
       "      <td>www.amsterdamterminators.nl</td>\n",
       "      <td>Reade sporthal</td>\n",
       "      <td>Overtoom 283</td>\n",
       "      <td>1054HW</td>\n",
       "      <td>Amsterdam</td>\n",
       "      <td>West</td>\n",
       "      <td>ja</td>\n",
       "      <td>40539513.0</td>\n",
       "      <td>NaN</td>\n",
       "      <td>4.866849</td>\n",
       "      <td>52.360379</td>\n",
       "      <td>adapted sports</td>\n",
       "      <td>E</td>\n",
       "    </tr>\n",
       "  </tbody>\n",
       "</table>\n",
       "</div>"
      ],
      "text/plain": [
       "               Sport                                               Naam  \\\n",
       "0  aangepast sporten                                              Reade   \n",
       "1  aangepast sporten                           Friendship Sports Centre   \n",
       "2  aangepast sporten                                       Only Friends   \n",
       "3  aangepast sporten  PWA Manege | Vereniging Paardrijden Gehandicapten   \n",
       "4  aangepast sporten                                        Terminators   \n",
       "\n",
       "                         Website              Naam accommodatie  \\\n",
       "0                   www.reade.nl      Jan van Breemen instituut   \n",
       "1  www.friendshipsportscentre.nl       Friendship Sports Centre   \n",
       "2             www.onlyfriends.nl            Sportpark De Weeren   \n",
       "3               www.pwamanege.nl  Prins Willem-Alexander manege   \n",
       "4    www.amsterdamterminators.nl                 Reade sporthal   \n",
       "\n",
       "          Adres accommodatie Postcode accommodatie Plaats accommodatie  \\\n",
       "0  Admiraal Helfrichstraat 1                1056AA           Amsterdam   \n",
       "1         Beemsterstraat 652                1027ED           Amsterdam   \n",
       "2         Beemsterstraat 652                1027ED           Amsterdam   \n",
       "3          Loosdrechtdreef 9                1108AZ           Amsterdam   \n",
       "4               Overtoom 283                1054HW           Amsterdam   \n",
       "\n",
       "    Stadsdeel Aangepast sporten         KvK Stadspas         x          y  \\\n",
       "0  Nieuw-West                ja         NaN      NaN  4.844408  52.370740   \n",
       "1       Noord                ja  34152839.0      NaN  4.959847  52.400252   \n",
       "2       Noord                ja  50538063.0       ja  4.959847  52.400252   \n",
       "3    Zuidoost                ja  40533448.0      NaN  4.993231  52.314257   \n",
       "4        West                ja  40539513.0      NaN  4.866849  52.360379   \n",
       "\n",
       "         Sport_en district_code  \n",
       "0  adapted sports             F  \n",
       "1  adapted sports             N  \n",
       "2  adapted sports             N  \n",
       "3  adapted sports             T  \n",
       "4  adapted sports             E  "
      ]
     },
     "execution_count": 50,
     "metadata": {},
     "output_type": "execute_result"
    }
   ],
   "source": [
    "df.head()"
   ]
  },
  {
   "cell_type": "code",
   "execution_count": 68,
   "id": "modern-attitude",
   "metadata": {},
   "outputs": [
    {
     "data": {
      "text/html": [
       "<div>\n",
       "<style scoped>\n",
       "    .dataframe tbody tr th:only-of-type {\n",
       "        vertical-align: middle;\n",
       "    }\n",
       "\n",
       "    .dataframe tbody tr th {\n",
       "        vertical-align: top;\n",
       "    }\n",
       "\n",
       "    .dataframe thead th {\n",
       "        text-align: right;\n",
       "    }\n",
       "</style>\n",
       "<table border=\"1\" class=\"dataframe\">\n",
       "  <thead>\n",
       "    <tr style=\"text-align: right;\">\n",
       "      <th></th>\n",
       "      <th>Sport</th>\n",
       "      <th>Naam</th>\n",
       "      <th>Website</th>\n",
       "      <th>Naam accommodatie</th>\n",
       "      <th>Adres accommodatie</th>\n",
       "      <th>Postcode accommodatie</th>\n",
       "      <th>Plaats accommodatie</th>\n",
       "      <th>Stadsdeel</th>\n",
       "      <th>Aangepast sporten</th>\n",
       "      <th>KvK</th>\n",
       "      <th>Stadspas</th>\n",
       "      <th>x</th>\n",
       "      <th>y</th>\n",
       "      <th>Sport_en</th>\n",
       "      <th>district_code</th>\n",
       "      <th>Count</th>\n",
       "    </tr>\n",
       "  </thead>\n",
       "  <tbody>\n",
       "    <tr>\n",
       "      <th>0</th>\n",
       "      <td>aangepast sporten</td>\n",
       "      <td>Reade</td>\n",
       "      <td>www.reade.nl</td>\n",
       "      <td>Jan van Breemen instituut</td>\n",
       "      <td>Admiraal Helfrichstraat 1</td>\n",
       "      <td>1056AA</td>\n",
       "      <td>Amsterdam</td>\n",
       "      <td>Nieuw-West</td>\n",
       "      <td>ja</td>\n",
       "      <td>NaN</td>\n",
       "      <td>NaN</td>\n",
       "      <td>4.844408</td>\n",
       "      <td>52.370740</td>\n",
       "      <td>adapted sports</td>\n",
       "      <td>F</td>\n",
       "      <td>1</td>\n",
       "    </tr>\n",
       "    <tr>\n",
       "      <th>1</th>\n",
       "      <td>aangepast sporten</td>\n",
       "      <td>Friendship Sports Centre</td>\n",
       "      <td>www.friendshipsportscentre.nl</td>\n",
       "      <td>Friendship Sports Centre</td>\n",
       "      <td>Beemsterstraat 652</td>\n",
       "      <td>1027ED</td>\n",
       "      <td>Amsterdam</td>\n",
       "      <td>Noord</td>\n",
       "      <td>ja</td>\n",
       "      <td>34152839.0</td>\n",
       "      <td>NaN</td>\n",
       "      <td>4.959847</td>\n",
       "      <td>52.400252</td>\n",
       "      <td>adapted sports</td>\n",
       "      <td>N</td>\n",
       "      <td>1</td>\n",
       "    </tr>\n",
       "    <tr>\n",
       "      <th>2</th>\n",
       "      <td>aangepast sporten</td>\n",
       "      <td>Only Friends</td>\n",
       "      <td>www.onlyfriends.nl</td>\n",
       "      <td>Sportpark De Weeren</td>\n",
       "      <td>Beemsterstraat 652</td>\n",
       "      <td>1027ED</td>\n",
       "      <td>Amsterdam</td>\n",
       "      <td>Noord</td>\n",
       "      <td>ja</td>\n",
       "      <td>50538063.0</td>\n",
       "      <td>ja</td>\n",
       "      <td>4.959847</td>\n",
       "      <td>52.400252</td>\n",
       "      <td>adapted sports</td>\n",
       "      <td>N</td>\n",
       "      <td>1</td>\n",
       "    </tr>\n",
       "    <tr>\n",
       "      <th>3</th>\n",
       "      <td>aangepast sporten</td>\n",
       "      <td>PWA Manege | Vereniging Paardrijden Gehandicapten</td>\n",
       "      <td>www.pwamanege.nl</td>\n",
       "      <td>Prins Willem-Alexander manege</td>\n",
       "      <td>Loosdrechtdreef 9</td>\n",
       "      <td>1108AZ</td>\n",
       "      <td>Amsterdam</td>\n",
       "      <td>Zuidoost</td>\n",
       "      <td>ja</td>\n",
       "      <td>40533448.0</td>\n",
       "      <td>NaN</td>\n",
       "      <td>4.993231</td>\n",
       "      <td>52.314257</td>\n",
       "      <td>adapted sports</td>\n",
       "      <td>T</td>\n",
       "      <td>1</td>\n",
       "    </tr>\n",
       "    <tr>\n",
       "      <th>4</th>\n",
       "      <td>aangepast sporten</td>\n",
       "      <td>Terminators</td>\n",
       "      <td>www.amsterdamterminators.nl</td>\n",
       "      <td>Reade sporthal</td>\n",
       "      <td>Overtoom 283</td>\n",
       "      <td>1054HW</td>\n",
       "      <td>Amsterdam</td>\n",
       "      <td>West</td>\n",
       "      <td>ja</td>\n",
       "      <td>40539513.0</td>\n",
       "      <td>NaN</td>\n",
       "      <td>4.866849</td>\n",
       "      <td>52.360379</td>\n",
       "      <td>adapted sports</td>\n",
       "      <td>E</td>\n",
       "      <td>1</td>\n",
       "    </tr>\n",
       "  </tbody>\n",
       "</table>\n",
       "</div>"
      ],
      "text/plain": [
       "               Sport                                               Naam  \\\n",
       "0  aangepast sporten                                              Reade   \n",
       "1  aangepast sporten                           Friendship Sports Centre   \n",
       "2  aangepast sporten                                       Only Friends   \n",
       "3  aangepast sporten  PWA Manege | Vereniging Paardrijden Gehandicapten   \n",
       "4  aangepast sporten                                        Terminators   \n",
       "\n",
       "                         Website              Naam accommodatie  \\\n",
       "0                   www.reade.nl      Jan van Breemen instituut   \n",
       "1  www.friendshipsportscentre.nl       Friendship Sports Centre   \n",
       "2             www.onlyfriends.nl            Sportpark De Weeren   \n",
       "3               www.pwamanege.nl  Prins Willem-Alexander manege   \n",
       "4    www.amsterdamterminators.nl                 Reade sporthal   \n",
       "\n",
       "          Adres accommodatie Postcode accommodatie Plaats accommodatie  \\\n",
       "0  Admiraal Helfrichstraat 1                1056AA           Amsterdam   \n",
       "1         Beemsterstraat 652                1027ED           Amsterdam   \n",
       "2         Beemsterstraat 652                1027ED           Amsterdam   \n",
       "3          Loosdrechtdreef 9                1108AZ           Amsterdam   \n",
       "4               Overtoom 283                1054HW           Amsterdam   \n",
       "\n",
       "    Stadsdeel Aangepast sporten         KvK Stadspas         x          y  \\\n",
       "0  Nieuw-West                ja         NaN      NaN  4.844408  52.370740   \n",
       "1       Noord                ja  34152839.0      NaN  4.959847  52.400252   \n",
       "2       Noord                ja  50538063.0       ja  4.959847  52.400252   \n",
       "3    Zuidoost                ja  40533448.0      NaN  4.993231  52.314257   \n",
       "4        West                ja  40539513.0      NaN  4.866849  52.360379   \n",
       "\n",
       "         Sport_en district_code  Count  \n",
       "0  adapted sports             F      1  \n",
       "1  adapted sports             N      1  \n",
       "2  adapted sports             N      1  \n",
       "3  adapted sports             T      1  \n",
       "4  adapted sports             E      1  "
      ]
     },
     "execution_count": 68,
     "metadata": {},
     "output_type": "execute_result"
    }
   ],
   "source": [
    "df.loc[:,\"Count\"] = 1\n",
    "df.head()"
   ]
  },
  {
   "cell_type": "code",
   "execution_count": 75,
   "id": "essential-freedom",
   "metadata": {},
   "outputs": [
    {
     "data": {
      "application/vnd.plotly.v1+json": {
       "config": {
        "plotlyServerURL": "https://plot.ly"
       },
       "data": [
        {
         "branchvalues": "total",
         "customdata": [
          [
           "adapted sports"
          ],
          [
           "adapted sports"
          ],
          [
           "adapted sports"
          ],
          [
           "adapted sports"
          ],
          [
           "adapted sports"
          ],
          [
           "aerobics"
          ],
          [
           "aerobics"
          ],
          [
           "aikido"
          ],
          [
           "aikido"
          ],
          [
           "badminton"
          ],
          [
           "badminton"
          ],
          [
           "badminton"
          ],
          [
           "badminton"
          ],
          [
           "baseball / softball"
          ],
          [
           "baseball / softball"
          ],
          [
           "baseball / softball"
          ],
          [
           "baseball / softball"
          ],
          [
           "badminton"
          ],
          [
           "badminton"
          ],
          [
           "australian football"
          ],
          [
           "athletics"
          ],
          [
           "athletics"
          ],
          [
           "athletics"
          ],
          [
           "basketball"
          ],
          [
           "athletics"
          ],
          [
           "archery"
          ],
          [
           "american football"
          ],
          [
           "aikido"
          ],
          [
           "aikido"
          ],
          [
           "aikido"
          ],
          [
           "aikido"
          ],
          [
           "athletics"
          ],
          [
           "basketball"
          ],
          [
           "basketball"
          ],
          [
           "basketball"
          ],
          [
           "water polo"
          ],
          [
           "basketball"
          ],
          [
           "basketball"
          ],
          [
           "beach volleyball"
          ],
          [
           "beach volleyball"
          ],
          [
           "beach volleyball"
          ],
          [
           "beach volleyball"
          ],
          [
           "beachhandbal"
          ],
          [
           "bowling"
          ],
          [
           "boxing"
          ],
          [
           "bowls"
          ],
          [
           "bowls"
          ],
          [
           "bowling"
          ],
          [
           "bowling"
          ],
          [
           "bounce"
          ],
          [
           "bootcamp"
          ],
          [
           "bootcamp"
          ],
          [
           "billiards"
          ],
          [
           "billiards"
          ],
          [
           "billiards"
          ],
          [
           "billiards"
          ],
          [
           "billiards"
          ],
          [
           "bootcamp"
          ],
          [
           "capoeira"
          ],
          [
           "capoeira"
          ],
          [
           "capoeira"
          ],
          [
           "capoeira"
          ],
          [
           "cheerleading"
          ],
          [
           "canoeing"
          ],
          [
           "cheerleading"
          ],
          [
           "cheerleading"
          ],
          [
           "chess"
          ],
          [
           "chess"
          ],
          [
           "cheerleading"
          ],
          [
           "canoeing"
          ],
          [
           "capoeira"
          ],
          [
           "canoeing"
          ],
          [
           "bridge"
          ],
          [
           "bridge"
          ],
          [
           "bridge"
          ],
          [
           "bridge"
          ],
          [
           "canoeing"
          ],
          [
           "bridge"
          ],
          [
           "bridge"
          ],
          [
           "bridge"
          ],
          [
           "boxing"
          ],
          [
           "boxing"
          ],
          [
           "boxing"
          ],
          [
           "boxing"
          ],
          [
           "climbing"
          ],
          [
           "circus"
          ],
          [
           "circus"
          ],
          [
           "chess"
          ],
          [
           "chess"
          ],
          [
           "chess"
          ],
          [
           "circus"
          ],
          [
           "chess"
          ],
          [
           "cycling"
          ],
          [
           "dance"
          ],
          [
           "dance"
          ],
          [
           "dammen"
          ],
          [
           "dammen"
          ],
          [
           "cycling"
          ],
          [
           "cycling"
          ],
          [
           "climbing"
          ],
          [
           "cricket"
          ],
          [
           "cricket"
          ],
          [
           "cricket"
          ],
          [
           "climbing"
          ],
          [
           "climbing"
          ],
          [
           "climbing"
          ],
          [
           "cricket"
          ],
          [
           "fitness"
          ],
          [
           "fitness"
          ],
          [
           "equestrian"
          ],
          [
           "fitness"
          ],
          [
           "fitness"
          ],
          [
           "fitness"
          ],
          [
           "fitness"
          ],
          [
           "fitness"
          ],
          [
           "dragon boat racing"
          ],
          [
           "equestrian"
          ],
          [
           "dance"
          ],
          [
           "dance"
          ],
          [
           "equestrian"
          ],
          [
           "dance"
          ],
          [
           "equestrian"
          ],
          [
           "dance"
          ],
          [
           "gymnastics"
          ],
          [
           "gymnastics"
          ],
          [
           "gymnastics"
          ],
          [
           "futsal"
          ],
          [
           "golf"
          ],
          [
           "golf"
          ],
          [
           "golf"
          ],
          [
           "golf"
          ],
          [
           "go"
          ],
          [
           "gaelic football"
          ],
          [
           "futsal"
          ],
          [
           "gymnastics"
          ],
          [
           "futsal"
          ],
          [
           "futsal"
          ],
          [
           "floorball"
          ],
          [
           "football"
          ],
          [
           "futsal"
          ],
          [
           "football"
          ],
          [
           "football"
          ],
          [
           "football"
          ],
          [
           "football"
          ],
          [
           "frisbee"
          ],
          [
           "frisbee"
          ],
          [
           "futsal"
          ],
          [
           "football"
          ],
          [
           "hapkido"
          ],
          [
           "hiking"
          ],
          [
           "hiking"
          ],
          [
           "hiking"
          ],
          [
           "handball"
          ],
          [
           "handball"
          ],
          [
           "handball"
          ],
          [
           "gymnastics"
          ],
          [
           "gymnastics"
          ],
          [
           "gymnastics"
          ],
          [
           "handball"
          ],
          [
           "hockey"
          ],
          [
           "hockey"
          ],
          [
           "hockey"
          ],
          [
           "hockey"
          ],
          [
           "hockey"
          ],
          [
           "ice hockey"
          ],
          [
           "judo"
          ],
          [
           "climbing"
          ],
          [
           "karate"
          ],
          [
           "karate"
          ],
          [
           "karate"
          ],
          [
           "karate"
          ],
          [
           "judo"
          ],
          [
           "judo"
          ],
          [
           "karate"
          ],
          [
           "karate"
          ],
          [
           "lawn bowling"
          ],
          [
           "lacrosse"
          ],
          [
           "martial and strength sports"
          ],
          [
           "martial and strength sports"
          ],
          [
           "lawn bowling"
          ],
          [
           "martial and strength sports"
          ],
          [
           "multisport"
          ],
          [
           "martial and strength sports"
          ],
          [
           "martial and strength sports"
          ],
          [
           "kung-fu"
          ],
          [
           "multisport"
          ],
          [
           "padel"
          ],
          [
           "martial and strength sports"
          ],
          [
           "korfball"
          ],
          [
           "lawn bowling"
          ],
          [
           "korfball"
          ],
          [
           "kickboxing"
          ],
          [
           "kickboxing"
          ],
          [
           "kickboxing"
          ],
          [
           "kickboxing"
          ],
          [
           "kickboxing"
          ],
          [
           "korfball"
          ],
          [
           "korfball"
          ],
          [
           "korfball"
          ],
          [
           "korfball"
          ],
          [
           "korfball"
          ],
          [
           "padel"
          ],
          [
           "judo"
          ],
          [
           "judo"
          ],
          [
           "judo"
          ],
          [
           "judo"
          ],
          [
           "padel"
          ],
          [
           "pencak silat"
          ],
          [
           "pencak silat"
          ],
          [
           "pencak silat"
          ],
          [
           "pickleball"
          ],
          [
           "running"
          ],
          [
           "running"
          ],
          [
           "running"
          ],
          [
           "rugby"
          ],
          [
           "rowing"
          ],
          [
           "rowing"
          ],
          [
           "rowing"
          ],
          [
           "rugby"
          ],
          [
           "tennis"
          ],
          [
           "target shooting"
          ],
          [
           "target shooting"
          ],
          [
           "target shooting"
          ],
          [
           "target shooting"
          ],
          [
           "target shooting"
          ],
          [
           "taekwondo"
          ],
          [
           "taekwondo"
          ],
          [
           "taekwondo"
          ],
          [
           "taekwondo"
          ],
          [
           "table tennis"
          ],
          [
           "table tennis"
          ],
          [
           "table tennis"
          ],
          [
           "tai chi"
          ],
          [
           "tennis"
          ],
          [
           "sloeproeien"
          ],
          [
           "tennis"
          ],
          [
           "tennis"
          ],
          [
           "tennis"
          ],
          [
           "tennis"
          ],
          [
           "triathlon"
          ],
          [
           "triathlon"
          ],
          [
           "underwater sports"
          ],
          [
           "underwater sports"
          ],
          [
           "underwater sports"
          ],
          [
           "urban sports"
          ],
          [
           "urban sports"
          ],
          [
           "urban sports"
          ],
          [
           "urban sports"
          ],
          [
           "table tennis"
          ],
          [
           "tennis"
          ],
          [
           "table tennis"
          ],
          [
           "skating"
          ],
          [
           "swimming"
          ],
          [
           "sailing"
          ],
          [
           "sailing"
          ],
          [
           "sailing"
          ],
          [
           "sailing"
          ],
          [
           "sailing"
          ],
          [
           "table tennis"
          ],
          [
           "screens"
          ],
          [
           "screens"
          ],
          [
           "skating"
          ],
          [
           "skating"
          ],
          [
           "sloeproeien"
          ],
          [
           "sloeproeien"
          ],
          [
           "squash"
          ],
          [
           "squash"
          ],
          [
           "sailing"
          ],
          [
           "squash"
          ],
          [
           "squash"
          ],
          [
           "swimming"
          ],
          [
           "swimming"
          ],
          [
           "swimming"
          ],
          [
           "swimming"
          ],
          [
           "swimming"
          ],
          [
           "swimming"
          ],
          [
           "surfing"
          ],
          [
           "surfing"
          ],
          [
           "surfing"
          ],
          [
           "sup"
          ],
          [
           "sup"
          ],
          [
           "survivalrun"
          ],
          [
           "volley-ball"
          ],
          [
           "water polo"
          ],
          [
           "water polo"
          ],
          [
           "volley-ball"
          ],
          [
           "volley-ball"
          ],
          [
           "volley-ball"
          ],
          [
           "volley-ball"
          ],
          [
           "volley-ball"
          ],
          [
           "urban sports"
          ],
          [
           "urban sports"
          ],
          [
           "volley-ball"
          ],
          [
           "water polo"
          ],
          [
           "(?)"
          ],
          [
           "padel"
          ],
          [
           "(?)"
          ],
          [
           "(?)"
          ],
          [
           "(?)"
          ],
          [
           "(?)"
          ],
          [
           "yoga"
          ],
          [
           "(?)"
          ],
          [
           "yoga"
          ],
          [
           "(?)"
          ],
          [
           "yoga"
          ],
          [
           "yoga"
          ],
          [
           "yoga"
          ],
          [
           "yoga"
          ],
          [
           "water polo"
          ],
          [
           "padel"
          ]
         ],
         "domain": {
          "x": [
           0,
           1
          ],
          "y": [
           0,
           1
          ]
         },
         "hovertemplate": "labels=%{label}<br>count=%{value}<br>parent=%{parent}<br>id=%{id}<br>Sport_en=%{customdata[0]}<extra></extra>",
         "ids": [
          "Centrum/adapted sports",
          "Nieuw-West/adapted sports",
          "Noord/adapted sports",
          "West/adapted sports",
          "Zuidoost/adapted sports",
          "Nieuw-West/aerobics",
          "Zuidoost/aerobics",
          "Centrum/aikido",
          "Nieuw-West/aikido",
          "Noord/badminton",
          "Oost/badminton",
          "West/badminton",
          "Zuid/badminton",
          "Zuidoost/baseball / softball",
          "Nieuw-West/baseball / softball",
          "Noord/baseball / softball",
          "Oost/baseball / softball",
          "Nieuw-West/badminton",
          "Zuidoost/badminton",
          "Nieuw-West/australian football",
          "Noord/athletics",
          "Zuid/athletics",
          "Oost/athletics",
          "Nieuw-West/basketball",
          "Nieuw-West/athletics",
          "Nieuw-West/archery",
          "Nieuw-West/american football",
          "Zuid/aikido",
          "West/aikido",
          "Oost/aikido",
          "Noord/aikido",
          "Zuidoost/athletics",
          "Noord/basketball",
          "West/basketball",
          "Oost/basketball",
          "Oost/water polo",
          "Zuid/basketball",
          "Zuidoost/basketball",
          "Nieuw-West/beach volleyball",
          "Oost/beach volleyball",
          "Zuid/beach volleyball",
          "Zuidoost/beach volleyball",
          "Nieuw-West/beachhandbal",
          "Centrum/bowling",
          "Centrum/boxing",
          "Zuidoost/bowls",
          "Nieuw-West/bowls",
          "Zuidoost/bowling",
          "Zuid/bowling",
          "Nieuw-West/bounce",
          "Noord/bootcamp",
          "Nieuw-West/bootcamp",
          "Zuid/billiards",
          "West/billiards",
          "Oost/billiards",
          "Noord/billiards",
          "Nieuw-West/billiards",
          "West/bootcamp",
          "Zuid/capoeira",
          "Noord/capoeira",
          "Oost/capoeira",
          "West/capoeira",
          "Nieuw-West/cheerleading",
          "Zuidoost/canoeing",
          "Zuid/cheerleading",
          "Zuidoost/cheerleading",
          "Centrum/chess",
          "Noord/chess",
          "Oost/cheerleading",
          "Oost/canoeing",
          "Zuidoost/capoeira",
          "Nieuw-West/canoeing",
          "Zuidoost/bridge",
          "Zuid/bridge",
          "West/bridge",
          "Oost/bridge",
          "Noord/canoeing",
          "Noord/bridge",
          "Nieuw-West/bridge",
          "Centrum/bridge",
          "Zuidoost/boxing",
          "Zuid/boxing",
          "West/boxing",
          "Oost/boxing",
          "Centrum/climbing",
          "Oost/circus",
          "Nieuw-West/circus",
          "West/chess",
          "Zuidoost/chess",
          "Zuid/chess",
          "Centrum/circus",
          "Oost/chess",
          "Noord/cycling",
          "Nieuw-West/dance",
          "Centrum/dance",
          "Zuid/dammen",
          "West/dammen",
          "Zuid/cycling",
          "Nieuw-West/cycling",
          "Noord/climbing",
          "Zuid/cricket",
          "Oost/cricket",
          "Nieuw-West/cricket",
          "Zuid/climbing",
          "West/climbing",
          "Oost/climbing",
          "Zuidoost/cricket",
          "Centrum/fitness",
          "Nieuw-West/fitness",
          "Zuid/equestrian",
          "West/fitness",
          "Oost/fitness",
          "Noord/fitness",
          "Zuid/fitness",
          "Zuidoost/fitness",
          "Zuidoost/dragon boat racing",
          "Noord/equestrian",
          "Noord/dance",
          "Oost/dance",
          "West/equestrian",
          "Zuid/dance",
          "Nieuw-West/equestrian",
          "West/dance",
          "Oost/gymnastics",
          "Noord/gymnastics",
          "Nieuw-West/gymnastics",
          "Zuid/futsal",
          "Zuidoost/golf",
          "Zuid/golf",
          "Noord/golf",
          "Nieuw-West/golf",
          "Centrum/go",
          "Nieuw-West/gaelic football",
          "Zuidoost/futsal",
          "Centrum/gymnastics",
          "Noord/futsal",
          "Nieuw-West/futsal",
          "Centrum/floorball",
          "Nieuw-West/football",
          "Oost/futsal",
          "Oost/football",
          "West/football",
          "Noord/football",
          "Zuidoost/football",
          "Nieuw-West/frisbee",
          "Oost/frisbee",
          "Centrum/futsal",
          "Zuid/football",
          "Zuid/hapkido",
          "Zuid/hiking",
          "Oost/hiking",
          "Centrum/hiking",
          "Oost/handball",
          "Zuid/handball",
          "Nieuw-West/handball",
          "Zuidoost/gymnastics",
          "Zuid/gymnastics",
          "West/gymnastics",
          "Noord/handball",
          "Zuid/hockey",
          "Nieuw-West/hockey",
          "Noord/hockey",
          "Oost/hockey",
          "Zuidoost/hockey",
          "Oost/ice hockey",
          "Centrum/judo",
          "Nieuw-West/climbing",
          "West/karate",
          "Noord/karate",
          "Nieuw-West/karate",
          "Centrum/karate",
          "Zuidoost/judo",
          "Zuid/judo",
          "Zuid/karate",
          "Zuidoost/karate",
          "Nieuw-West/lawn bowling",
          "Oost/lacrosse",
          "Noord/martial and strength sports",
          "Nieuw-West/martial and strength sports",
          "Oost/lawn bowling",
          "Oost/martial and strength sports",
          "Zuid/multisport",
          "Zuid/martial and strength sports",
          "Zuidoost/martial and strength sports",
          "Nieuw-West/kung-fu",
          "Oost/multisport",
          "Nieuw-West/padel",
          "West/martial and strength sports",
          "Zuidoost/korfball",
          "Noord/lawn bowling",
          "West/korfball",
          "Noord/kickboxing",
          "Oost/kickboxing",
          "West/kickboxing",
          "Zuidoost/kickboxing",
          "Nieuw-West/kickboxing",
          "Nieuw-West/korfball",
          "Noord/korfball",
          "Oost/korfball",
          "Centrum/korfball",
          "Zuid/korfball",
          "Oost/padel",
          "Nieuw-West/judo",
          "West/judo",
          "Oost/judo",
          "Noord/judo",
          "Zuid/padel",
          "Nieuw-West/pencak silat",
          "Oost/pencak silat",
          "Zuidoost/pencak silat",
          "Oost/pickleball",
          "Oost/running",
          "West/running",
          "Nieuw-West/running",
          "Noord/rugby",
          "Centrum/rowing",
          "Zuid/rowing",
          "Oost/rowing",
          "Nieuw-West/rugby",
          "Centrum/tennis",
          "West/target shooting",
          "Oost/target shooting",
          "Noord/target shooting",
          "Nieuw-West/target shooting",
          "Centrum/target shooting",
          "West/taekwondo",
          "Oost/taekwondo",
          "Noord/taekwondo",
          "Nieuw-West/taekwondo",
          "Zuidoost/table tennis",
          "Zuid/table tennis",
          "West/table tennis",
          "Zuid/tai chi",
          "Nieuw-West/tennis",
          "Oost/sloeproeien",
          "Oost/tennis",
          "West/tennis",
          "Zuid/tennis",
          "Zuidoost/tennis",
          "Nieuw-West/triathlon",
          "Zuidoost/triathlon",
          "Nieuw-West/underwater sports",
          "Noord/underwater sports",
          "Zuid/underwater sports",
          "Nieuw-West/urban sports",
          "Noord/urban sports",
          "Oost/urban sports",
          "West/urban sports",
          "Oost/table tennis",
          "Noord/tennis",
          "Noord/table tennis",
          "Centrum/skating",
          "Zuidoost/swimming",
          "Centrum/sailing",
          "Nieuw-West/sailing",
          "Noord/sailing",
          "Oost/sailing",
          "Zuid/sailing",
          "Nieuw-West/table tennis",
          "Centrum/screens",
          "Zuid/screens",
          "Noord/skating",
          "Oost/skating",
          "Centrum/sloeproeien",
          "Zuid/sloeproeien",
          "Centrum/squash",
          "Nieuw-West/squash",
          "Zuidoost/sailing",
          "Zuid/squash",
          "Oost/squash",
          "Zuid/swimming",
          "West/swimming",
          "Oost/swimming",
          "Noord/swimming",
          "Centrum/swimming",
          "Nieuw-West/swimming",
          "Zuidoost/surfing",
          "Oost/surfing",
          "Nieuw-West/surfing",
          "Zuid/sup",
          "Oost/sup",
          "Nieuw-West/survivalrun",
          "Zuid/volley-ball",
          "Noord/water polo",
          "Nieuw-West/water polo",
          "Zuidoost/volley-ball",
          "West/volley-ball",
          "Centrum/volley-ball",
          "Noord/volley-ball",
          "Nieuw-West/volley-ball",
          "Zuidoost/urban sports",
          "Zuid/urban sports",
          "Oost/volley-ball",
          "Zuid/water polo",
          "Centrum",
          "Westpoort",
          "West",
          "Oost",
          "Noord",
          "Nieuw-West",
          "Zuidoost/yoga",
          "Zuid",
          "Zuid/yoga",
          "Zuidoost",
          "West/yoga",
          "Noord/yoga",
          "Nieuw-West/yoga",
          "Centrum/yoga",
          "Zuidoost/water polo",
          "Westpoort/padel"
         ],
         "labels": [
          "adapted sports",
          "adapted sports",
          "adapted sports",
          "adapted sports",
          "adapted sports",
          "aerobics",
          "aerobics",
          "aikido",
          "aikido",
          "badminton",
          "badminton",
          "badminton",
          "badminton",
          "baseball / softball",
          "baseball / softball",
          "baseball / softball",
          "baseball / softball",
          "badminton",
          "badminton",
          "australian football",
          "athletics",
          "athletics",
          "athletics",
          "basketball",
          "athletics",
          "archery",
          "american football",
          "aikido",
          "aikido",
          "aikido",
          "aikido",
          "athletics",
          "basketball",
          "basketball",
          "basketball",
          "water polo",
          "basketball",
          "basketball",
          "beach volleyball",
          "beach volleyball",
          "beach volleyball",
          "beach volleyball",
          "beachhandbal",
          "bowling",
          "boxing",
          "bowls",
          "bowls",
          "bowling",
          "bowling",
          "bounce",
          "bootcamp",
          "bootcamp",
          "billiards",
          "billiards",
          "billiards",
          "billiards",
          "billiards",
          "bootcamp",
          "capoeira",
          "capoeira",
          "capoeira",
          "capoeira",
          "cheerleading",
          "canoeing",
          "cheerleading",
          "cheerleading",
          "chess",
          "chess",
          "cheerleading",
          "canoeing",
          "capoeira",
          "canoeing",
          "bridge",
          "bridge",
          "bridge",
          "bridge",
          "canoeing",
          "bridge",
          "bridge",
          "bridge",
          "boxing",
          "boxing",
          "boxing",
          "boxing",
          "climbing",
          "circus",
          "circus",
          "chess",
          "chess",
          "chess",
          "circus",
          "chess",
          "cycling",
          "dance",
          "dance",
          "dammen",
          "dammen",
          "cycling",
          "cycling",
          "climbing",
          "cricket",
          "cricket",
          "cricket",
          "climbing",
          "climbing",
          "climbing",
          "cricket",
          "fitness",
          "fitness",
          "equestrian",
          "fitness",
          "fitness",
          "fitness",
          "fitness",
          "fitness",
          "dragon boat racing",
          "equestrian",
          "dance",
          "dance",
          "equestrian",
          "dance",
          "equestrian",
          "dance",
          "gymnastics",
          "gymnastics",
          "gymnastics",
          "futsal",
          "golf",
          "golf",
          "golf",
          "golf",
          "go",
          "gaelic football",
          "futsal",
          "gymnastics",
          "futsal",
          "futsal",
          "floorball",
          "football",
          "futsal",
          "football",
          "football",
          "football",
          "football",
          "frisbee",
          "frisbee",
          "futsal",
          "football",
          "hapkido",
          "hiking",
          "hiking",
          "hiking",
          "handball",
          "handball",
          "handball",
          "gymnastics",
          "gymnastics",
          "gymnastics",
          "handball",
          "hockey",
          "hockey",
          "hockey",
          "hockey",
          "hockey",
          "ice hockey",
          "judo",
          "climbing",
          "karate",
          "karate",
          "karate",
          "karate",
          "judo",
          "judo",
          "karate",
          "karate",
          "lawn bowling",
          "lacrosse",
          "martial and strength sports",
          "martial and strength sports",
          "lawn bowling",
          "martial and strength sports",
          "multisport",
          "martial and strength sports",
          "martial and strength sports",
          "kung-fu",
          "multisport",
          "padel",
          "martial and strength sports",
          "korfball",
          "lawn bowling",
          "korfball",
          "kickboxing",
          "kickboxing",
          "kickboxing",
          "kickboxing",
          "kickboxing",
          "korfball",
          "korfball",
          "korfball",
          "korfball",
          "korfball",
          "padel",
          "judo",
          "judo",
          "judo",
          "judo",
          "padel",
          "pencak silat",
          "pencak silat",
          "pencak silat",
          "pickleball",
          "running",
          "running",
          "running",
          "rugby",
          "rowing",
          "rowing",
          "rowing",
          "rugby",
          "tennis",
          "target shooting",
          "target shooting",
          "target shooting",
          "target shooting",
          "target shooting",
          "taekwondo",
          "taekwondo",
          "taekwondo",
          "taekwondo",
          "table tennis",
          "table tennis",
          "table tennis",
          "tai chi",
          "tennis",
          "sloeproeien",
          "tennis",
          "tennis",
          "tennis",
          "tennis",
          "triathlon",
          "triathlon",
          "underwater sports",
          "underwater sports",
          "underwater sports",
          "urban sports",
          "urban sports",
          "urban sports",
          "urban sports",
          "table tennis",
          "tennis",
          "table tennis",
          "skating",
          "swimming",
          "sailing",
          "sailing",
          "sailing",
          "sailing",
          "sailing",
          "table tennis",
          "screens",
          "screens",
          "skating",
          "skating",
          "sloeproeien",
          "sloeproeien",
          "squash",
          "squash",
          "sailing",
          "squash",
          "squash",
          "swimming",
          "swimming",
          "swimming",
          "swimming",
          "swimming",
          "swimming",
          "surfing",
          "surfing",
          "surfing",
          "sup",
          "sup",
          "survivalrun",
          "volley-ball",
          "water polo",
          "water polo",
          "volley-ball",
          "volley-ball",
          "volley-ball",
          "volley-ball",
          "volley-ball",
          "urban sports",
          "urban sports",
          "volley-ball",
          "water polo",
          "Centrum",
          "Westpoort",
          "West",
          "Oost",
          "Noord",
          "Nieuw-West",
          "yoga",
          "Zuid",
          "yoga",
          "Zuidoost",
          "yoga",
          "yoga",
          "yoga",
          "yoga",
          "water polo",
          "padel"
         ],
         "marker": {
          "colors": [
           "#636efa",
           "#636efa",
           "#636efa",
           "#636efa",
           "#636efa",
           "#EF553B",
           "#EF553B",
           "#00cc96",
           "#00cc96",
           "#ab63fa",
           "#ab63fa",
           "#ab63fa",
           "#ab63fa",
           "#FFA15A",
           "#FFA15A",
           "#FFA15A",
           "#FFA15A",
           "#ab63fa",
           "#ab63fa",
           "#19d3f3",
           "#FF6692",
           "#FF6692",
           "#FF6692",
           "#B6E880",
           "#FF6692",
           "#FF97FF",
           "#FECB52",
           "#00cc96",
           "#00cc96",
           "#00cc96",
           "#00cc96",
           "#FF6692",
           "#B6E880",
           "#B6E880",
           "#B6E880",
           "#636efa",
           "#B6E880",
           "#B6E880",
           "#EF553B",
           "#EF553B",
           "#EF553B",
           "#EF553B",
           "#00cc96",
           "#ab63fa",
           "#FFA15A",
           "#19d3f3",
           "#19d3f3",
           "#ab63fa",
           "#ab63fa",
           "#FF6692",
           "#B6E880",
           "#B6E880",
           "#FF97FF",
           "#FF97FF",
           "#FF97FF",
           "#FF97FF",
           "#FF97FF",
           "#B6E880",
           "#FECB52",
           "#FECB52",
           "#FECB52",
           "#FECB52",
           "#636efa",
           "#EF553B",
           "#636efa",
           "#636efa",
           "#00cc96",
           "#00cc96",
           "#636efa",
           "#EF553B",
           "#FECB52",
           "#EF553B",
           "#ab63fa",
           "#ab63fa",
           "#ab63fa",
           "#ab63fa",
           "#EF553B",
           "#ab63fa",
           "#ab63fa",
           "#ab63fa",
           "#FFA15A",
           "#FFA15A",
           "#FFA15A",
           "#FFA15A",
           "#FFA15A",
           "#19d3f3",
           "#19d3f3",
           "#00cc96",
           "#00cc96",
           "#00cc96",
           "#19d3f3",
           "#00cc96",
           "#FF6692",
           "#B6E880",
           "#B6E880",
           "#FF97FF",
           "#FF97FF",
           "#FF6692",
           "#FF6692",
           "#FFA15A",
           "#FECB52",
           "#FECB52",
           "#FECB52",
           "#FFA15A",
           "#FFA15A",
           "#FFA15A",
           "#FECB52",
           "#636efa",
           "#636efa",
           "#EF553B",
           "#636efa",
           "#636efa",
           "#636efa",
           "#636efa",
           "#636efa",
           "#00cc96",
           "#EF553B",
           "#B6E880",
           "#B6E880",
           "#EF553B",
           "#B6E880",
           "#EF553B",
           "#B6E880",
           "#ab63fa",
           "#ab63fa",
           "#ab63fa",
           "#FFA15A",
           "#19d3f3",
           "#19d3f3",
           "#19d3f3",
           "#19d3f3",
           "#FF6692",
           "#B6E880",
           "#FFA15A",
           "#ab63fa",
           "#FFA15A",
           "#FFA15A",
           "#FF97FF",
           "#FECB52",
           "#FFA15A",
           "#FECB52",
           "#FECB52",
           "#FECB52",
           "#FECB52",
           "#636efa",
           "#636efa",
           "#FFA15A",
           "#FECB52",
           "#EF553B",
           "#00cc96",
           "#00cc96",
           "#00cc96",
           "#ab63fa",
           "#ab63fa",
           "#ab63fa",
           "#ab63fa",
           "#ab63fa",
           "#ab63fa",
           "#ab63fa",
           "#FFA15A",
           "#FFA15A",
           "#FFA15A",
           "#FFA15A",
           "#FFA15A",
           "#19d3f3",
           "#FF6692",
           "#FFA15A",
           "#B6E880",
           "#B6E880",
           "#B6E880",
           "#B6E880",
           "#FF6692",
           "#FF6692",
           "#B6E880",
           "#B6E880",
           "#FF97FF",
           "#FECB52",
           "#636efa",
           "#636efa",
           "#FF97FF",
           "#636efa",
           "#EF553B",
           "#636efa",
           "#636efa",
           "#00cc96",
           "#EF553B",
           "#ab63fa",
           "#636efa",
           "#FFA15A",
           "#FF97FF",
           "#FFA15A",
           "#19d3f3",
           "#19d3f3",
           "#19d3f3",
           "#19d3f3",
           "#19d3f3",
           "#FFA15A",
           "#FFA15A",
           "#FFA15A",
           "#FFA15A",
           "#FFA15A",
           "#ab63fa",
           "#FF6692",
           "#FF6692",
           "#FF6692",
           "#FF6692",
           "#ab63fa",
           "#FF6692",
           "#FF6692",
           "#FF6692",
           "#B6E880",
           "#FF97FF",
           "#FF97FF",
           "#FF97FF",
           "#FECB52",
           "#636efa",
           "#636efa",
           "#636efa",
           "#FECB52",
           "#EF553B",
           "#00cc96",
           "#00cc96",
           "#00cc96",
           "#00cc96",
           "#00cc96",
           "#ab63fa",
           "#ab63fa",
           "#ab63fa",
           "#ab63fa",
           "#FFA15A",
           "#FFA15A",
           "#FFA15A",
           "#19d3f3",
           "#EF553B",
           "#FF6692",
           "#EF553B",
           "#EF553B",
           "#EF553B",
           "#EF553B",
           "#B6E880",
           "#B6E880",
           "#FF97FF",
           "#FF97FF",
           "#FF97FF",
           "#FECB52",
           "#FECB52",
           "#FECB52",
           "#FECB52",
           "#FFA15A",
           "#EF553B",
           "#FFA15A",
           "#636efa",
           "#EF553B",
           "#00cc96",
           "#00cc96",
           "#00cc96",
           "#00cc96",
           "#00cc96",
           "#FFA15A",
           "#ab63fa",
           "#ab63fa",
           "#636efa",
           "#636efa",
           "#FF6692",
           "#FF6692",
           "#FFA15A",
           "#FFA15A",
           "#00cc96",
           "#FFA15A",
           "#FFA15A",
           "#EF553B",
           "#EF553B",
           "#EF553B",
           "#EF553B",
           "#EF553B",
           "#EF553B",
           "#19d3f3",
           "#19d3f3",
           "#19d3f3",
           "#FF6692",
           "#FF6692",
           "#B6E880",
           "#FF97FF",
           "#636efa",
           "#636efa",
           "#FF97FF",
           "#FF97FF",
           "#FF97FF",
           "#FF97FF",
           "#FF97FF",
           "#FECB52",
           "#FECB52",
           "#FF97FF",
           "#636efa",
           "#FECB52",
           "#ab63fa",
           "#FECB52",
           "#FECB52",
           "#FECB52",
           "#FECB52",
           "#636efa",
           "#FECB52",
           "#636efa",
           "#FECB52",
           "#636efa",
           "#636efa",
           "#636efa",
           "#636efa",
           "#636efa",
           "#ab63fa"
          ]
         },
         "name": "",
         "parents": [
          "Centrum",
          "Nieuw-West",
          "Noord",
          "West",
          "Zuidoost",
          "Nieuw-West",
          "Zuidoost",
          "Centrum",
          "Nieuw-West",
          "Noord",
          "Oost",
          "West",
          "Zuid",
          "Zuidoost",
          "Nieuw-West",
          "Noord",
          "Oost",
          "Nieuw-West",
          "Zuidoost",
          "Nieuw-West",
          "Noord",
          "Zuid",
          "Oost",
          "Nieuw-West",
          "Nieuw-West",
          "Nieuw-West",
          "Nieuw-West",
          "Zuid",
          "West",
          "Oost",
          "Noord",
          "Zuidoost",
          "Noord",
          "West",
          "Oost",
          "Oost",
          "Zuid",
          "Zuidoost",
          "Nieuw-West",
          "Oost",
          "Zuid",
          "Zuidoost",
          "Nieuw-West",
          "Centrum",
          "Centrum",
          "Zuidoost",
          "Nieuw-West",
          "Zuidoost",
          "Zuid",
          "Nieuw-West",
          "Noord",
          "Nieuw-West",
          "Zuid",
          "West",
          "Oost",
          "Noord",
          "Nieuw-West",
          "West",
          "Zuid",
          "Noord",
          "Oost",
          "West",
          "Nieuw-West",
          "Zuidoost",
          "Zuid",
          "Zuidoost",
          "Centrum",
          "Noord",
          "Oost",
          "Oost",
          "Zuidoost",
          "Nieuw-West",
          "Zuidoost",
          "Zuid",
          "West",
          "Oost",
          "Noord",
          "Noord",
          "Nieuw-West",
          "Centrum",
          "Zuidoost",
          "Zuid",
          "West",
          "Oost",
          "Centrum",
          "Oost",
          "Nieuw-West",
          "West",
          "Zuidoost",
          "Zuid",
          "Centrum",
          "Oost",
          "Noord",
          "Nieuw-West",
          "Centrum",
          "Zuid",
          "West",
          "Zuid",
          "Nieuw-West",
          "Noord",
          "Zuid",
          "Oost",
          "Nieuw-West",
          "Zuid",
          "West",
          "Oost",
          "Zuidoost",
          "Centrum",
          "Nieuw-West",
          "Zuid",
          "West",
          "Oost",
          "Noord",
          "Zuid",
          "Zuidoost",
          "Zuidoost",
          "Noord",
          "Noord",
          "Oost",
          "West",
          "Zuid",
          "Nieuw-West",
          "West",
          "Oost",
          "Noord",
          "Nieuw-West",
          "Zuid",
          "Zuidoost",
          "Zuid",
          "Noord",
          "Nieuw-West",
          "Centrum",
          "Nieuw-West",
          "Zuidoost",
          "Centrum",
          "Noord",
          "Nieuw-West",
          "Centrum",
          "Nieuw-West",
          "Oost",
          "Oost",
          "West",
          "Noord",
          "Zuidoost",
          "Nieuw-West",
          "Oost",
          "Centrum",
          "Zuid",
          "Zuid",
          "Zuid",
          "Oost",
          "Centrum",
          "Oost",
          "Zuid",
          "Nieuw-West",
          "Zuidoost",
          "Zuid",
          "West",
          "Noord",
          "Zuid",
          "Nieuw-West",
          "Noord",
          "Oost",
          "Zuidoost",
          "Oost",
          "Centrum",
          "Nieuw-West",
          "West",
          "Noord",
          "Nieuw-West",
          "Centrum",
          "Zuidoost",
          "Zuid",
          "Zuid",
          "Zuidoost",
          "Nieuw-West",
          "Oost",
          "Noord",
          "Nieuw-West",
          "Oost",
          "Oost",
          "Zuid",
          "Zuid",
          "Zuidoost",
          "Nieuw-West",
          "Oost",
          "Nieuw-West",
          "West",
          "Zuidoost",
          "Noord",
          "West",
          "Noord",
          "Oost",
          "West",
          "Zuidoost",
          "Nieuw-West",
          "Nieuw-West",
          "Noord",
          "Oost",
          "Centrum",
          "Zuid",
          "Oost",
          "Nieuw-West",
          "West",
          "Oost",
          "Noord",
          "Zuid",
          "Nieuw-West",
          "Oost",
          "Zuidoost",
          "Oost",
          "Oost",
          "West",
          "Nieuw-West",
          "Noord",
          "Centrum",
          "Zuid",
          "Oost",
          "Nieuw-West",
          "Centrum",
          "West",
          "Oost",
          "Noord",
          "Nieuw-West",
          "Centrum",
          "West",
          "Oost",
          "Noord",
          "Nieuw-West",
          "Zuidoost",
          "Zuid",
          "West",
          "Zuid",
          "Nieuw-West",
          "Oost",
          "Oost",
          "West",
          "Zuid",
          "Zuidoost",
          "Nieuw-West",
          "Zuidoost",
          "Nieuw-West",
          "Noord",
          "Zuid",
          "Nieuw-West",
          "Noord",
          "Oost",
          "West",
          "Oost",
          "Noord",
          "Noord",
          "Centrum",
          "Zuidoost",
          "Centrum",
          "Nieuw-West",
          "Noord",
          "Oost",
          "Zuid",
          "Nieuw-West",
          "Centrum",
          "Zuid",
          "Noord",
          "Oost",
          "Centrum",
          "Zuid",
          "Centrum",
          "Nieuw-West",
          "Zuidoost",
          "Zuid",
          "Oost",
          "Zuid",
          "West",
          "Oost",
          "Noord",
          "Centrum",
          "Nieuw-West",
          "Zuidoost",
          "Oost",
          "Nieuw-West",
          "Zuid",
          "Oost",
          "Nieuw-West",
          "Zuid",
          "Noord",
          "Nieuw-West",
          "Zuidoost",
          "West",
          "Centrum",
          "Noord",
          "Nieuw-West",
          "Zuidoost",
          "Zuid",
          "Oost",
          "Zuid",
          "",
          "",
          "",
          "",
          "",
          "",
          "Zuidoost",
          "",
          "Zuid",
          "",
          "West",
          "Noord",
          "Nieuw-West",
          "Centrum",
          "Zuidoost",
          "Westpoort"
         ],
         "type": "treemap",
         "values": [
          1,
          1,
          2,
          1,
          1,
          2,
          1,
          1,
          1,
          2,
          4,
          2,
          4,
          2,
          2,
          1,
          1,
          2,
          1,
          1,
          1,
          2,
          1,
          5,
          1,
          1,
          2,
          9,
          7,
          4,
          2,
          1,
          2,
          3,
          5,
          2,
          4,
          7,
          1,
          4,
          1,
          1,
          1,
          1,
          1,
          1,
          1,
          1,
          1,
          1,
          1,
          1,
          2,
          8,
          1,
          1,
          3,
          1,
          4,
          1,
          3,
          2,
          1,
          1,
          1,
          1,
          6,
          2,
          1,
          5,
          1,
          3,
          1,
          6,
          3,
          2,
          1,
          7,
          3,
          3,
          1,
          3,
          2,
          1,
          1,
          1,
          1,
          2,
          2,
          4,
          1,
          3,
          2,
          1,
          1,
          1,
          1,
          1,
          3,
          1,
          3,
          1,
          1,
          2,
          1,
          1,
          1,
          14,
          6,
          1,
          22,
          19,
          5,
          21,
          8,
          1,
          4,
          7,
          3,
          1,
          4,
          3,
          11,
          10,
          9,
          18,
          7,
          3,
          1,
          1,
          3,
          1,
          1,
          1,
          3,
          1,
          3,
          1,
          19,
          2,
          20,
          9,
          8,
          6,
          1,
          1,
          1,
          7,
          1,
          1,
          1,
          1,
          2,
          1,
          5,
          7,
          12,
          4,
          3,
          4,
          2,
          1,
          2,
          2,
          1,
          2,
          5,
          1,
          2,
          3,
          3,
          2,
          4,
          7,
          2,
          1,
          2,
          4,
          7,
          2,
          14,
          2,
          9,
          4,
          4,
          1,
          1,
          8,
          1,
          1,
          2,
          1,
          6,
          3,
          1,
          4,
          1,
          1,
          2,
          1,
          3,
          2,
          10,
          9,
          10,
          8,
          3,
          2,
          2,
          1,
          1,
          1,
          2,
          2,
          1,
          3,
          2,
          4,
          3,
          1,
          1,
          2,
          3,
          2,
          2,
          1,
          2,
          1,
          1,
          1,
          4,
          3,
          2,
          3,
          1,
          8,
          2,
          16,
          4,
          1,
          1,
          6,
          4,
          2,
          2,
          1,
          1,
          3,
          5,
          3,
          2,
          1,
          2,
          2,
          3,
          4,
          3,
          4,
          2,
          2,
          4,
          4,
          18,
          1,
          1,
          1,
          2,
          1,
          4,
          2,
          7,
          7,
          6,
          11,
          3,
          8,
          1,
          2,
          1,
          2,
          3,
          1,
          3,
          1,
          1,
          2,
          2,
          1,
          1,
          1,
          1,
          3,
          6,
          1,
          61,
          1,
          127,
          207,
          119,
          178,
          1,
          196,
          5,
          78,
          3,
          1,
          1,
          1,
          1,
          1
         ]
        }
       ],
       "layout": {
        "legend": {
         "tracegroupgap": 0
        },
        "margin": {
         "t": 60
        },
        "template": {
         "data": {
          "bar": [
           {
            "error_x": {
             "color": "#2a3f5f"
            },
            "error_y": {
             "color": "#2a3f5f"
            },
            "marker": {
             "line": {
              "color": "#E5ECF6",
              "width": 0.5
             }
            },
            "type": "bar"
           }
          ],
          "barpolar": [
           {
            "marker": {
             "line": {
              "color": "#E5ECF6",
              "width": 0.5
             }
            },
            "type": "barpolar"
           }
          ],
          "carpet": [
           {
            "aaxis": {
             "endlinecolor": "#2a3f5f",
             "gridcolor": "white",
             "linecolor": "white",
             "minorgridcolor": "white",
             "startlinecolor": "#2a3f5f"
            },
            "baxis": {
             "endlinecolor": "#2a3f5f",
             "gridcolor": "white",
             "linecolor": "white",
             "minorgridcolor": "white",
             "startlinecolor": "#2a3f5f"
            },
            "type": "carpet"
           }
          ],
          "choropleth": [
           {
            "colorbar": {
             "outlinewidth": 0,
             "ticks": ""
            },
            "type": "choropleth"
           }
          ],
          "contour": [
           {
            "colorbar": {
             "outlinewidth": 0,
             "ticks": ""
            },
            "colorscale": [
             [
              0,
              "#0d0887"
             ],
             [
              0.1111111111111111,
              "#46039f"
             ],
             [
              0.2222222222222222,
              "#7201a8"
             ],
             [
              0.3333333333333333,
              "#9c179e"
             ],
             [
              0.4444444444444444,
              "#bd3786"
             ],
             [
              0.5555555555555556,
              "#d8576b"
             ],
             [
              0.6666666666666666,
              "#ed7953"
             ],
             [
              0.7777777777777778,
              "#fb9f3a"
             ],
             [
              0.8888888888888888,
              "#fdca26"
             ],
             [
              1,
              "#f0f921"
             ]
            ],
            "type": "contour"
           }
          ],
          "contourcarpet": [
           {
            "colorbar": {
             "outlinewidth": 0,
             "ticks": ""
            },
            "type": "contourcarpet"
           }
          ],
          "heatmap": [
           {
            "colorbar": {
             "outlinewidth": 0,
             "ticks": ""
            },
            "colorscale": [
             [
              0,
              "#0d0887"
             ],
             [
              0.1111111111111111,
              "#46039f"
             ],
             [
              0.2222222222222222,
              "#7201a8"
             ],
             [
              0.3333333333333333,
              "#9c179e"
             ],
             [
              0.4444444444444444,
              "#bd3786"
             ],
             [
              0.5555555555555556,
              "#d8576b"
             ],
             [
              0.6666666666666666,
              "#ed7953"
             ],
             [
              0.7777777777777778,
              "#fb9f3a"
             ],
             [
              0.8888888888888888,
              "#fdca26"
             ],
             [
              1,
              "#f0f921"
             ]
            ],
            "type": "heatmap"
           }
          ],
          "heatmapgl": [
           {
            "colorbar": {
             "outlinewidth": 0,
             "ticks": ""
            },
            "colorscale": [
             [
              0,
              "#0d0887"
             ],
             [
              0.1111111111111111,
              "#46039f"
             ],
             [
              0.2222222222222222,
              "#7201a8"
             ],
             [
              0.3333333333333333,
              "#9c179e"
             ],
             [
              0.4444444444444444,
              "#bd3786"
             ],
             [
              0.5555555555555556,
              "#d8576b"
             ],
             [
              0.6666666666666666,
              "#ed7953"
             ],
             [
              0.7777777777777778,
              "#fb9f3a"
             ],
             [
              0.8888888888888888,
              "#fdca26"
             ],
             [
              1,
              "#f0f921"
             ]
            ],
            "type": "heatmapgl"
           }
          ],
          "histogram": [
           {
            "marker": {
             "colorbar": {
              "outlinewidth": 0,
              "ticks": ""
             }
            },
            "type": "histogram"
           }
          ],
          "histogram2d": [
           {
            "colorbar": {
             "outlinewidth": 0,
             "ticks": ""
            },
            "colorscale": [
             [
              0,
              "#0d0887"
             ],
             [
              0.1111111111111111,
              "#46039f"
             ],
             [
              0.2222222222222222,
              "#7201a8"
             ],
             [
              0.3333333333333333,
              "#9c179e"
             ],
             [
              0.4444444444444444,
              "#bd3786"
             ],
             [
              0.5555555555555556,
              "#d8576b"
             ],
             [
              0.6666666666666666,
              "#ed7953"
             ],
             [
              0.7777777777777778,
              "#fb9f3a"
             ],
             [
              0.8888888888888888,
              "#fdca26"
             ],
             [
              1,
              "#f0f921"
             ]
            ],
            "type": "histogram2d"
           }
          ],
          "histogram2dcontour": [
           {
            "colorbar": {
             "outlinewidth": 0,
             "ticks": ""
            },
            "colorscale": [
             [
              0,
              "#0d0887"
             ],
             [
              0.1111111111111111,
              "#46039f"
             ],
             [
              0.2222222222222222,
              "#7201a8"
             ],
             [
              0.3333333333333333,
              "#9c179e"
             ],
             [
              0.4444444444444444,
              "#bd3786"
             ],
             [
              0.5555555555555556,
              "#d8576b"
             ],
             [
              0.6666666666666666,
              "#ed7953"
             ],
             [
              0.7777777777777778,
              "#fb9f3a"
             ],
             [
              0.8888888888888888,
              "#fdca26"
             ],
             [
              1,
              "#f0f921"
             ]
            ],
            "type": "histogram2dcontour"
           }
          ],
          "mesh3d": [
           {
            "colorbar": {
             "outlinewidth": 0,
             "ticks": ""
            },
            "type": "mesh3d"
           }
          ],
          "parcoords": [
           {
            "line": {
             "colorbar": {
              "outlinewidth": 0,
              "ticks": ""
             }
            },
            "type": "parcoords"
           }
          ],
          "pie": [
           {
            "automargin": true,
            "type": "pie"
           }
          ],
          "scatter": [
           {
            "marker": {
             "colorbar": {
              "outlinewidth": 0,
              "ticks": ""
             }
            },
            "type": "scatter"
           }
          ],
          "scatter3d": [
           {
            "line": {
             "colorbar": {
              "outlinewidth": 0,
              "ticks": ""
             }
            },
            "marker": {
             "colorbar": {
              "outlinewidth": 0,
              "ticks": ""
             }
            },
            "type": "scatter3d"
           }
          ],
          "scattercarpet": [
           {
            "marker": {
             "colorbar": {
              "outlinewidth": 0,
              "ticks": ""
             }
            },
            "type": "scattercarpet"
           }
          ],
          "scattergeo": [
           {
            "marker": {
             "colorbar": {
              "outlinewidth": 0,
              "ticks": ""
             }
            },
            "type": "scattergeo"
           }
          ],
          "scattergl": [
           {
            "marker": {
             "colorbar": {
              "outlinewidth": 0,
              "ticks": ""
             }
            },
            "type": "scattergl"
           }
          ],
          "scattermapbox": [
           {
            "marker": {
             "colorbar": {
              "outlinewidth": 0,
              "ticks": ""
             }
            },
            "type": "scattermapbox"
           }
          ],
          "scatterpolar": [
           {
            "marker": {
             "colorbar": {
              "outlinewidth": 0,
              "ticks": ""
             }
            },
            "type": "scatterpolar"
           }
          ],
          "scatterpolargl": [
           {
            "marker": {
             "colorbar": {
              "outlinewidth": 0,
              "ticks": ""
             }
            },
            "type": "scatterpolargl"
           }
          ],
          "scatterternary": [
           {
            "marker": {
             "colorbar": {
              "outlinewidth": 0,
              "ticks": ""
             }
            },
            "type": "scatterternary"
           }
          ],
          "surface": [
           {
            "colorbar": {
             "outlinewidth": 0,
             "ticks": ""
            },
            "colorscale": [
             [
              0,
              "#0d0887"
             ],
             [
              0.1111111111111111,
              "#46039f"
             ],
             [
              0.2222222222222222,
              "#7201a8"
             ],
             [
              0.3333333333333333,
              "#9c179e"
             ],
             [
              0.4444444444444444,
              "#bd3786"
             ],
             [
              0.5555555555555556,
              "#d8576b"
             ],
             [
              0.6666666666666666,
              "#ed7953"
             ],
             [
              0.7777777777777778,
              "#fb9f3a"
             ],
             [
              0.8888888888888888,
              "#fdca26"
             ],
             [
              1,
              "#f0f921"
             ]
            ],
            "type": "surface"
           }
          ],
          "table": [
           {
            "cells": {
             "fill": {
              "color": "#EBF0F8"
             },
             "line": {
              "color": "white"
             }
            },
            "header": {
             "fill": {
              "color": "#C8D4E3"
             },
             "line": {
              "color": "white"
             }
            },
            "type": "table"
           }
          ]
         },
         "layout": {
          "annotationdefaults": {
           "arrowcolor": "#2a3f5f",
           "arrowhead": 0,
           "arrowwidth": 1
          },
          "autotypenumbers": "strict",
          "coloraxis": {
           "colorbar": {
            "outlinewidth": 0,
            "ticks": ""
           }
          },
          "colorscale": {
           "diverging": [
            [
             0,
             "#8e0152"
            ],
            [
             0.1,
             "#c51b7d"
            ],
            [
             0.2,
             "#de77ae"
            ],
            [
             0.3,
             "#f1b6da"
            ],
            [
             0.4,
             "#fde0ef"
            ],
            [
             0.5,
             "#f7f7f7"
            ],
            [
             0.6,
             "#e6f5d0"
            ],
            [
             0.7,
             "#b8e186"
            ],
            [
             0.8,
             "#7fbc41"
            ],
            [
             0.9,
             "#4d9221"
            ],
            [
             1,
             "#276419"
            ]
           ],
           "sequential": [
            [
             0,
             "#0d0887"
            ],
            [
             0.1111111111111111,
             "#46039f"
            ],
            [
             0.2222222222222222,
             "#7201a8"
            ],
            [
             0.3333333333333333,
             "#9c179e"
            ],
            [
             0.4444444444444444,
             "#bd3786"
            ],
            [
             0.5555555555555556,
             "#d8576b"
            ],
            [
             0.6666666666666666,
             "#ed7953"
            ],
            [
             0.7777777777777778,
             "#fb9f3a"
            ],
            [
             0.8888888888888888,
             "#fdca26"
            ],
            [
             1,
             "#f0f921"
            ]
           ],
           "sequentialminus": [
            [
             0,
             "#0d0887"
            ],
            [
             0.1111111111111111,
             "#46039f"
            ],
            [
             0.2222222222222222,
             "#7201a8"
            ],
            [
             0.3333333333333333,
             "#9c179e"
            ],
            [
             0.4444444444444444,
             "#bd3786"
            ],
            [
             0.5555555555555556,
             "#d8576b"
            ],
            [
             0.6666666666666666,
             "#ed7953"
            ],
            [
             0.7777777777777778,
             "#fb9f3a"
            ],
            [
             0.8888888888888888,
             "#fdca26"
            ],
            [
             1,
             "#f0f921"
            ]
           ]
          },
          "colorway": [
           "#636efa",
           "#EF553B",
           "#00cc96",
           "#ab63fa",
           "#FFA15A",
           "#19d3f3",
           "#FF6692",
           "#B6E880",
           "#FF97FF",
           "#FECB52"
          ],
          "font": {
           "color": "#2a3f5f"
          },
          "geo": {
           "bgcolor": "white",
           "lakecolor": "white",
           "landcolor": "#E5ECF6",
           "showlakes": true,
           "showland": true,
           "subunitcolor": "white"
          },
          "hoverlabel": {
           "align": "left"
          },
          "hovermode": "closest",
          "mapbox": {
           "style": "light"
          },
          "paper_bgcolor": "white",
          "plot_bgcolor": "#E5ECF6",
          "polar": {
           "angularaxis": {
            "gridcolor": "white",
            "linecolor": "white",
            "ticks": ""
           },
           "bgcolor": "#E5ECF6",
           "radialaxis": {
            "gridcolor": "white",
            "linecolor": "white",
            "ticks": ""
           }
          },
          "scene": {
           "xaxis": {
            "backgroundcolor": "#E5ECF6",
            "gridcolor": "white",
            "gridwidth": 2,
            "linecolor": "white",
            "showbackground": true,
            "ticks": "",
            "zerolinecolor": "white"
           },
           "yaxis": {
            "backgroundcolor": "#E5ECF6",
            "gridcolor": "white",
            "gridwidth": 2,
            "linecolor": "white",
            "showbackground": true,
            "ticks": "",
            "zerolinecolor": "white"
           },
           "zaxis": {
            "backgroundcolor": "#E5ECF6",
            "gridcolor": "white",
            "gridwidth": 2,
            "linecolor": "white",
            "showbackground": true,
            "ticks": "",
            "zerolinecolor": "white"
           }
          },
          "shapedefaults": {
           "line": {
            "color": "#2a3f5f"
           }
          },
          "ternary": {
           "aaxis": {
            "gridcolor": "white",
            "linecolor": "white",
            "ticks": ""
           },
           "baxis": {
            "gridcolor": "white",
            "linecolor": "white",
            "ticks": ""
           },
           "bgcolor": "#E5ECF6",
           "caxis": {
            "gridcolor": "white",
            "linecolor": "white",
            "ticks": ""
           }
          },
          "title": {
           "x": 0.05
          },
          "xaxis": {
           "automargin": true,
           "gridcolor": "white",
           "linecolor": "white",
           "ticks": "",
           "title": {
            "standoff": 15
           },
           "zerolinecolor": "white",
           "zerolinewidth": 2
          },
          "yaxis": {
           "automargin": true,
           "gridcolor": "white",
           "linecolor": "white",
           "ticks": "",
           "title": {
            "standoff": 15
           },
           "zerolinecolor": "white",
           "zerolinewidth": 2
          }
         }
        }
       }
      },
      "text/html": [
       "<div>                            <div id=\"b0ff6d82-d451-4f16-8a50-782b26b7632b\" class=\"plotly-graph-div\" style=\"height:525px; width:100%;\"></div>            <script type=\"text/javascript\">                require([\"plotly\"], function(Plotly) {                    window.PLOTLYENV=window.PLOTLYENV || {};                                    if (document.getElementById(\"b0ff6d82-d451-4f16-8a50-782b26b7632b\")) {                    Plotly.newPlot(                        \"b0ff6d82-d451-4f16-8a50-782b26b7632b\",                        [{\"branchvalues\": \"total\", \"customdata\": [[\"adapted sports\"], [\"adapted sports\"], [\"adapted sports\"], [\"adapted sports\"], [\"adapted sports\"], [\"aerobics\"], [\"aerobics\"], [\"aikido\"], [\"aikido\"], [\"badminton\"], [\"badminton\"], [\"badminton\"], [\"badminton\"], [\"baseball / softball\"], [\"baseball / softball\"], [\"baseball / softball\"], [\"baseball / softball\"], [\"badminton\"], [\"badminton\"], [\"australian football\"], [\"athletics\"], [\"athletics\"], [\"athletics\"], [\"basketball\"], [\"athletics\"], [\"archery\"], [\"american football\"], [\"aikido\"], [\"aikido\"], [\"aikido\"], [\"aikido\"], [\"athletics\"], [\"basketball\"], [\"basketball\"], [\"basketball\"], [\"water polo\"], [\"basketball\"], [\"basketball\"], [\"beach volleyball\"], [\"beach volleyball\"], [\"beach volleyball\"], [\"beach volleyball\"], [\"beachhandbal\"], [\"bowling\"], [\"boxing\"], [\"bowls\"], [\"bowls\"], [\"bowling\"], [\"bowling\"], [\"bounce\"], [\"bootcamp\"], [\"bootcamp\"], [\"billiards\"], [\"billiards\"], [\"billiards\"], [\"billiards\"], [\"billiards\"], [\"bootcamp\"], [\"capoeira\"], [\"capoeira\"], [\"capoeira\"], [\"capoeira\"], [\"cheerleading\"], [\"canoeing\"], [\"cheerleading\"], [\"cheerleading\"], [\"chess\"], [\"chess\"], [\"cheerleading\"], [\"canoeing\"], [\"capoeira\"], [\"canoeing\"], [\"bridge\"], [\"bridge\"], [\"bridge\"], [\"bridge\"], [\"canoeing\"], [\"bridge\"], [\"bridge\"], [\"bridge\"], [\"boxing\"], [\"boxing\"], [\"boxing\"], [\"boxing\"], [\"climbing\"], [\"circus\"], [\"circus\"], [\"chess\"], [\"chess\"], [\"chess\"], [\"circus\"], [\"chess\"], [\"cycling\"], [\"dance\"], [\"dance\"], [\"dammen\"], [\"dammen\"], [\"cycling\"], [\"cycling\"], [\"climbing\"], [\"cricket\"], [\"cricket\"], [\"cricket\"], [\"climbing\"], [\"climbing\"], [\"climbing\"], [\"cricket\"], [\"fitness\"], [\"fitness\"], [\"equestrian\"], [\"fitness\"], [\"fitness\"], [\"fitness\"], [\"fitness\"], [\"fitness\"], [\"dragon boat racing\"], [\"equestrian\"], [\"dance\"], [\"dance\"], [\"equestrian\"], [\"dance\"], [\"equestrian\"], [\"dance\"], [\"gymnastics\"], [\"gymnastics\"], [\"gymnastics\"], [\"futsal\"], [\"golf\"], [\"golf\"], [\"golf\"], [\"golf\"], [\"go\"], [\"gaelic football\"], [\"futsal\"], [\"gymnastics\"], [\"futsal\"], [\"futsal\"], [\"floorball\"], [\"football\"], [\"futsal\"], [\"football\"], [\"football\"], [\"football\"], [\"football\"], [\"frisbee\"], [\"frisbee\"], [\"futsal\"], [\"football\"], [\"hapkido\"], [\"hiking\"], [\"hiking\"], [\"hiking\"], [\"handball\"], [\"handball\"], [\"handball\"], [\"gymnastics\"], [\"gymnastics\"], [\"gymnastics\"], [\"handball\"], [\"hockey\"], [\"hockey\"], [\"hockey\"], [\"hockey\"], [\"hockey\"], [\"ice hockey\"], [\"judo\"], [\"climbing\"], [\"karate\"], [\"karate\"], [\"karate\"], [\"karate\"], [\"judo\"], [\"judo\"], [\"karate\"], [\"karate\"], [\"lawn bowling\"], [\"lacrosse\"], [\"martial and strength sports\"], [\"martial and strength sports\"], [\"lawn bowling\"], [\"martial and strength sports\"], [\"multisport\"], [\"martial and strength sports\"], [\"martial and strength sports\"], [\"kung-fu\"], [\"multisport\"], [\"padel\"], [\"martial and strength sports\"], [\"korfball\"], [\"lawn bowling\"], [\"korfball\"], [\"kickboxing\"], [\"kickboxing\"], [\"kickboxing\"], [\"kickboxing\"], [\"kickboxing\"], [\"korfball\"], [\"korfball\"], [\"korfball\"], [\"korfball\"], [\"korfball\"], [\"padel\"], [\"judo\"], [\"judo\"], [\"judo\"], [\"judo\"], [\"padel\"], [\"pencak silat\"], [\"pencak silat\"], [\"pencak silat\"], [\"pickleball\"], [\"running\"], [\"running\"], [\"running\"], [\"rugby\"], [\"rowing\"], [\"rowing\"], [\"rowing\"], [\"rugby\"], [\"tennis\"], [\"target shooting\"], [\"target shooting\"], [\"target shooting\"], [\"target shooting\"], [\"target shooting\"], [\"taekwondo\"], [\"taekwondo\"], [\"taekwondo\"], [\"taekwondo\"], [\"table tennis\"], [\"table tennis\"], [\"table tennis\"], [\"tai chi\"], [\"tennis\"], [\"sloeproeien\"], [\"tennis\"], [\"tennis\"], [\"tennis\"], [\"tennis\"], [\"triathlon\"], [\"triathlon\"], [\"underwater sports\"], [\"underwater sports\"], [\"underwater sports\"], [\"urban sports\"], [\"urban sports\"], [\"urban sports\"], [\"urban sports\"], [\"table tennis\"], [\"tennis\"], [\"table tennis\"], [\"skating\"], [\"swimming\"], [\"sailing\"], [\"sailing\"], [\"sailing\"], [\"sailing\"], [\"sailing\"], [\"table tennis\"], [\"screens\"], [\"screens\"], [\"skating\"], [\"skating\"], [\"sloeproeien\"], [\"sloeproeien\"], [\"squash\"], [\"squash\"], [\"sailing\"], [\"squash\"], [\"squash\"], [\"swimming\"], [\"swimming\"], [\"swimming\"], [\"swimming\"], [\"swimming\"], [\"swimming\"], [\"surfing\"], [\"surfing\"], [\"surfing\"], [\"sup\"], [\"sup\"], [\"survivalrun\"], [\"volley-ball\"], [\"water polo\"], [\"water polo\"], [\"volley-ball\"], [\"volley-ball\"], [\"volley-ball\"], [\"volley-ball\"], [\"volley-ball\"], [\"urban sports\"], [\"urban sports\"], [\"volley-ball\"], [\"water polo\"], [\"(?)\"], [\"padel\"], [\"(?)\"], [\"(?)\"], [\"(?)\"], [\"(?)\"], [\"yoga\"], [\"(?)\"], [\"yoga\"], [\"(?)\"], [\"yoga\"], [\"yoga\"], [\"yoga\"], [\"yoga\"], [\"water polo\"], [\"padel\"]], \"domain\": {\"x\": [0.0, 1.0], \"y\": [0.0, 1.0]}, \"hovertemplate\": \"labels=%{label}<br>count=%{value}<br>parent=%{parent}<br>id=%{id}<br>Sport_en=%{customdata[0]}<extra></extra>\", \"ids\": [\"Centrum/adapted sports\", \"Nieuw-West/adapted sports\", \"Noord/adapted sports\", \"West/adapted sports\", \"Zuidoost/adapted sports\", \"Nieuw-West/aerobics\", \"Zuidoost/aerobics\", \"Centrum/aikido\", \"Nieuw-West/aikido\", \"Noord/badminton\", \"Oost/badminton\", \"West/badminton\", \"Zuid/badminton\", \"Zuidoost/baseball / softball\", \"Nieuw-West/baseball / softball\", \"Noord/baseball / softball\", \"Oost/baseball / softball\", \"Nieuw-West/badminton\", \"Zuidoost/badminton\", \"Nieuw-West/australian football\", \"Noord/athletics\", \"Zuid/athletics\", \"Oost/athletics\", \"Nieuw-West/basketball\", \"Nieuw-West/athletics\", \"Nieuw-West/archery\", \"Nieuw-West/american football\", \"Zuid/aikido\", \"West/aikido\", \"Oost/aikido\", \"Noord/aikido\", \"Zuidoost/athletics\", \"Noord/basketball\", \"West/basketball\", \"Oost/basketball\", \"Oost/water polo\", \"Zuid/basketball\", \"Zuidoost/basketball\", \"Nieuw-West/beach volleyball\", \"Oost/beach volleyball\", \"Zuid/beach volleyball\", \"Zuidoost/beach volleyball\", \"Nieuw-West/beachhandbal\", \"Centrum/bowling\", \"Centrum/boxing\", \"Zuidoost/bowls\", \"Nieuw-West/bowls\", \"Zuidoost/bowling\", \"Zuid/bowling\", \"Nieuw-West/bounce\", \"Noord/bootcamp\", \"Nieuw-West/bootcamp\", \"Zuid/billiards\", \"West/billiards\", \"Oost/billiards\", \"Noord/billiards\", \"Nieuw-West/billiards\", \"West/bootcamp\", \"Zuid/capoeira\", \"Noord/capoeira\", \"Oost/capoeira\", \"West/capoeira\", \"Nieuw-West/cheerleading\", \"Zuidoost/canoeing\", \"Zuid/cheerleading\", \"Zuidoost/cheerleading\", \"Centrum/chess\", \"Noord/chess\", \"Oost/cheerleading\", \"Oost/canoeing\", \"Zuidoost/capoeira\", \"Nieuw-West/canoeing\", \"Zuidoost/bridge\", \"Zuid/bridge\", \"West/bridge\", \"Oost/bridge\", \"Noord/canoeing\", \"Noord/bridge\", \"Nieuw-West/bridge\", \"Centrum/bridge\", \"Zuidoost/boxing\", \"Zuid/boxing\", \"West/boxing\", \"Oost/boxing\", \"Centrum/climbing\", \"Oost/circus\", \"Nieuw-West/circus\", \"West/chess\", \"Zuidoost/chess\", \"Zuid/chess\", \"Centrum/circus\", \"Oost/chess\", \"Noord/cycling\", \"Nieuw-West/dance\", \"Centrum/dance\", \"Zuid/dammen\", \"West/dammen\", \"Zuid/cycling\", \"Nieuw-West/cycling\", \"Noord/climbing\", \"Zuid/cricket\", \"Oost/cricket\", \"Nieuw-West/cricket\", \"Zuid/climbing\", \"West/climbing\", \"Oost/climbing\", \"Zuidoost/cricket\", \"Centrum/fitness\", \"Nieuw-West/fitness\", \"Zuid/equestrian\", \"West/fitness\", \"Oost/fitness\", \"Noord/fitness\", \"Zuid/fitness\", \"Zuidoost/fitness\", \"Zuidoost/dragon boat racing\", \"Noord/equestrian\", \"Noord/dance\", \"Oost/dance\", \"West/equestrian\", \"Zuid/dance\", \"Nieuw-West/equestrian\", \"West/dance\", \"Oost/gymnastics\", \"Noord/gymnastics\", \"Nieuw-West/gymnastics\", \"Zuid/futsal\", \"Zuidoost/golf\", \"Zuid/golf\", \"Noord/golf\", \"Nieuw-West/golf\", \"Centrum/go\", \"Nieuw-West/gaelic football\", \"Zuidoost/futsal\", \"Centrum/gymnastics\", \"Noord/futsal\", \"Nieuw-West/futsal\", \"Centrum/floorball\", \"Nieuw-West/football\", \"Oost/futsal\", \"Oost/football\", \"West/football\", \"Noord/football\", \"Zuidoost/football\", \"Nieuw-West/frisbee\", \"Oost/frisbee\", \"Centrum/futsal\", \"Zuid/football\", \"Zuid/hapkido\", \"Zuid/hiking\", \"Oost/hiking\", \"Centrum/hiking\", \"Oost/handball\", \"Zuid/handball\", \"Nieuw-West/handball\", \"Zuidoost/gymnastics\", \"Zuid/gymnastics\", \"West/gymnastics\", \"Noord/handball\", \"Zuid/hockey\", \"Nieuw-West/hockey\", \"Noord/hockey\", \"Oost/hockey\", \"Zuidoost/hockey\", \"Oost/ice hockey\", \"Centrum/judo\", \"Nieuw-West/climbing\", \"West/karate\", \"Noord/karate\", \"Nieuw-West/karate\", \"Centrum/karate\", \"Zuidoost/judo\", \"Zuid/judo\", \"Zuid/karate\", \"Zuidoost/karate\", \"Nieuw-West/lawn bowling\", \"Oost/lacrosse\", \"Noord/martial and strength sports\", \"Nieuw-West/martial and strength sports\", \"Oost/lawn bowling\", \"Oost/martial and strength sports\", \"Zuid/multisport\", \"Zuid/martial and strength sports\", \"Zuidoost/martial and strength sports\", \"Nieuw-West/kung-fu\", \"Oost/multisport\", \"Nieuw-West/padel\", \"West/martial and strength sports\", \"Zuidoost/korfball\", \"Noord/lawn bowling\", \"West/korfball\", \"Noord/kickboxing\", \"Oost/kickboxing\", \"West/kickboxing\", \"Zuidoost/kickboxing\", \"Nieuw-West/kickboxing\", \"Nieuw-West/korfball\", \"Noord/korfball\", \"Oost/korfball\", \"Centrum/korfball\", \"Zuid/korfball\", \"Oost/padel\", \"Nieuw-West/judo\", \"West/judo\", \"Oost/judo\", \"Noord/judo\", \"Zuid/padel\", \"Nieuw-West/pencak silat\", \"Oost/pencak silat\", \"Zuidoost/pencak silat\", \"Oost/pickleball\", \"Oost/running\", \"West/running\", \"Nieuw-West/running\", \"Noord/rugby\", \"Centrum/rowing\", \"Zuid/rowing\", \"Oost/rowing\", \"Nieuw-West/rugby\", \"Centrum/tennis\", \"West/target shooting\", \"Oost/target shooting\", \"Noord/target shooting\", \"Nieuw-West/target shooting\", \"Centrum/target shooting\", \"West/taekwondo\", \"Oost/taekwondo\", \"Noord/taekwondo\", \"Nieuw-West/taekwondo\", \"Zuidoost/table tennis\", \"Zuid/table tennis\", \"West/table tennis\", \"Zuid/tai chi\", \"Nieuw-West/tennis\", \"Oost/sloeproeien\", \"Oost/tennis\", \"West/tennis\", \"Zuid/tennis\", \"Zuidoost/tennis\", \"Nieuw-West/triathlon\", \"Zuidoost/triathlon\", \"Nieuw-West/underwater sports\", \"Noord/underwater sports\", \"Zuid/underwater sports\", \"Nieuw-West/urban sports\", \"Noord/urban sports\", \"Oost/urban sports\", \"West/urban sports\", \"Oost/table tennis\", \"Noord/tennis\", \"Noord/table tennis\", \"Centrum/skating\", \"Zuidoost/swimming\", \"Centrum/sailing\", \"Nieuw-West/sailing\", \"Noord/sailing\", \"Oost/sailing\", \"Zuid/sailing\", \"Nieuw-West/table tennis\", \"Centrum/screens\", \"Zuid/screens\", \"Noord/skating\", \"Oost/skating\", \"Centrum/sloeproeien\", \"Zuid/sloeproeien\", \"Centrum/squash\", \"Nieuw-West/squash\", \"Zuidoost/sailing\", \"Zuid/squash\", \"Oost/squash\", \"Zuid/swimming\", \"West/swimming\", \"Oost/swimming\", \"Noord/swimming\", \"Centrum/swimming\", \"Nieuw-West/swimming\", \"Zuidoost/surfing\", \"Oost/surfing\", \"Nieuw-West/surfing\", \"Zuid/sup\", \"Oost/sup\", \"Nieuw-West/survivalrun\", \"Zuid/volley-ball\", \"Noord/water polo\", \"Nieuw-West/water polo\", \"Zuidoost/volley-ball\", \"West/volley-ball\", \"Centrum/volley-ball\", \"Noord/volley-ball\", \"Nieuw-West/volley-ball\", \"Zuidoost/urban sports\", \"Zuid/urban sports\", \"Oost/volley-ball\", \"Zuid/water polo\", \"Centrum\", \"Westpoort\", \"West\", \"Oost\", \"Noord\", \"Nieuw-West\", \"Zuidoost/yoga\", \"Zuid\", \"Zuid/yoga\", \"Zuidoost\", \"West/yoga\", \"Noord/yoga\", \"Nieuw-West/yoga\", \"Centrum/yoga\", \"Zuidoost/water polo\", \"Westpoort/padel\"], \"labels\": [\"adapted sports\", \"adapted sports\", \"adapted sports\", \"adapted sports\", \"adapted sports\", \"aerobics\", \"aerobics\", \"aikido\", \"aikido\", \"badminton\", \"badminton\", \"badminton\", \"badminton\", \"baseball / softball\", \"baseball / softball\", \"baseball / softball\", \"baseball / softball\", \"badminton\", \"badminton\", \"australian football\", \"athletics\", \"athletics\", \"athletics\", \"basketball\", \"athletics\", \"archery\", \"american football\", \"aikido\", \"aikido\", \"aikido\", \"aikido\", \"athletics\", \"basketball\", \"basketball\", \"basketball\", \"water polo\", \"basketball\", \"basketball\", \"beach volleyball\", \"beach volleyball\", \"beach volleyball\", \"beach volleyball\", \"beachhandbal\", \"bowling\", \"boxing\", \"bowls\", \"bowls\", \"bowling\", \"bowling\", \"bounce\", \"bootcamp\", \"bootcamp\", \"billiards\", \"billiards\", \"billiards\", \"billiards\", \"billiards\", \"bootcamp\", \"capoeira\", \"capoeira\", \"capoeira\", \"capoeira\", \"cheerleading\", \"canoeing\", \"cheerleading\", \"cheerleading\", \"chess\", \"chess\", \"cheerleading\", \"canoeing\", \"capoeira\", \"canoeing\", \"bridge\", \"bridge\", \"bridge\", \"bridge\", \"canoeing\", \"bridge\", \"bridge\", \"bridge\", \"boxing\", \"boxing\", \"boxing\", \"boxing\", \"climbing\", \"circus\", \"circus\", \"chess\", \"chess\", \"chess\", \"circus\", \"chess\", \"cycling\", \"dance\", \"dance\", \"dammen\", \"dammen\", \"cycling\", \"cycling\", \"climbing\", \"cricket\", \"cricket\", \"cricket\", \"climbing\", \"climbing\", \"climbing\", \"cricket\", \"fitness\", \"fitness\", \"equestrian\", \"fitness\", \"fitness\", \"fitness\", \"fitness\", \"fitness\", \"dragon boat racing\", \"equestrian\", \"dance\", \"dance\", \"equestrian\", \"dance\", \"equestrian\", \"dance\", \"gymnastics\", \"gymnastics\", \"gymnastics\", \"futsal\", \"golf\", \"golf\", \"golf\", \"golf\", \"go\", \"gaelic football\", \"futsal\", \"gymnastics\", \"futsal\", \"futsal\", \"floorball\", \"football\", \"futsal\", \"football\", \"football\", \"football\", \"football\", \"frisbee\", \"frisbee\", \"futsal\", \"football\", \"hapkido\", \"hiking\", \"hiking\", \"hiking\", \"handball\", \"handball\", \"handball\", \"gymnastics\", \"gymnastics\", \"gymnastics\", \"handball\", \"hockey\", \"hockey\", \"hockey\", \"hockey\", \"hockey\", \"ice hockey\", \"judo\", \"climbing\", \"karate\", \"karate\", \"karate\", \"karate\", \"judo\", \"judo\", \"karate\", \"karate\", \"lawn bowling\", \"lacrosse\", \"martial and strength sports\", \"martial and strength sports\", \"lawn bowling\", \"martial and strength sports\", \"multisport\", \"martial and strength sports\", \"martial and strength sports\", \"kung-fu\", \"multisport\", \"padel\", \"martial and strength sports\", \"korfball\", \"lawn bowling\", \"korfball\", \"kickboxing\", \"kickboxing\", \"kickboxing\", \"kickboxing\", \"kickboxing\", \"korfball\", \"korfball\", \"korfball\", \"korfball\", \"korfball\", \"padel\", \"judo\", \"judo\", \"judo\", \"judo\", \"padel\", \"pencak silat\", \"pencak silat\", \"pencak silat\", \"pickleball\", \"running\", \"running\", \"running\", \"rugby\", \"rowing\", \"rowing\", \"rowing\", \"rugby\", \"tennis\", \"target shooting\", \"target shooting\", \"target shooting\", \"target shooting\", \"target shooting\", \"taekwondo\", \"taekwondo\", \"taekwondo\", \"taekwondo\", \"table tennis\", \"table tennis\", \"table tennis\", \"tai chi\", \"tennis\", \"sloeproeien\", \"tennis\", \"tennis\", \"tennis\", \"tennis\", \"triathlon\", \"triathlon\", \"underwater sports\", \"underwater sports\", \"underwater sports\", \"urban sports\", \"urban sports\", \"urban sports\", \"urban sports\", \"table tennis\", \"tennis\", \"table tennis\", \"skating\", \"swimming\", \"sailing\", \"sailing\", \"sailing\", \"sailing\", \"sailing\", \"table tennis\", \"screens\", \"screens\", \"skating\", \"skating\", \"sloeproeien\", \"sloeproeien\", \"squash\", \"squash\", \"sailing\", \"squash\", \"squash\", \"swimming\", \"swimming\", \"swimming\", \"swimming\", \"swimming\", \"swimming\", \"surfing\", \"surfing\", \"surfing\", \"sup\", \"sup\", \"survivalrun\", \"volley-ball\", \"water polo\", \"water polo\", \"volley-ball\", \"volley-ball\", \"volley-ball\", \"volley-ball\", \"volley-ball\", \"urban sports\", \"urban sports\", \"volley-ball\", \"water polo\", \"Centrum\", \"Westpoort\", \"West\", \"Oost\", \"Noord\", \"Nieuw-West\", \"yoga\", \"Zuid\", \"yoga\", \"Zuidoost\", \"yoga\", \"yoga\", \"yoga\", \"yoga\", \"water polo\", \"padel\"], \"marker\": {\"colors\": [\"#636efa\", \"#636efa\", \"#636efa\", \"#636efa\", \"#636efa\", \"#EF553B\", \"#EF553B\", \"#00cc96\", \"#00cc96\", \"#ab63fa\", \"#ab63fa\", \"#ab63fa\", \"#ab63fa\", \"#FFA15A\", \"#FFA15A\", \"#FFA15A\", \"#FFA15A\", \"#ab63fa\", \"#ab63fa\", \"#19d3f3\", \"#FF6692\", \"#FF6692\", \"#FF6692\", \"#B6E880\", \"#FF6692\", \"#FF97FF\", \"#FECB52\", \"#00cc96\", \"#00cc96\", \"#00cc96\", \"#00cc96\", \"#FF6692\", \"#B6E880\", \"#B6E880\", \"#B6E880\", \"#636efa\", \"#B6E880\", \"#B6E880\", \"#EF553B\", \"#EF553B\", \"#EF553B\", \"#EF553B\", \"#00cc96\", \"#ab63fa\", \"#FFA15A\", \"#19d3f3\", \"#19d3f3\", \"#ab63fa\", \"#ab63fa\", \"#FF6692\", \"#B6E880\", \"#B6E880\", \"#FF97FF\", \"#FF97FF\", \"#FF97FF\", \"#FF97FF\", \"#FF97FF\", \"#B6E880\", \"#FECB52\", \"#FECB52\", \"#FECB52\", \"#FECB52\", \"#636efa\", \"#EF553B\", \"#636efa\", \"#636efa\", \"#00cc96\", \"#00cc96\", \"#636efa\", \"#EF553B\", \"#FECB52\", \"#EF553B\", \"#ab63fa\", \"#ab63fa\", \"#ab63fa\", \"#ab63fa\", \"#EF553B\", \"#ab63fa\", \"#ab63fa\", \"#ab63fa\", \"#FFA15A\", \"#FFA15A\", \"#FFA15A\", \"#FFA15A\", \"#FFA15A\", \"#19d3f3\", \"#19d3f3\", \"#00cc96\", \"#00cc96\", \"#00cc96\", \"#19d3f3\", \"#00cc96\", \"#FF6692\", \"#B6E880\", \"#B6E880\", \"#FF97FF\", \"#FF97FF\", \"#FF6692\", \"#FF6692\", \"#FFA15A\", \"#FECB52\", \"#FECB52\", \"#FECB52\", \"#FFA15A\", \"#FFA15A\", \"#FFA15A\", \"#FECB52\", \"#636efa\", \"#636efa\", \"#EF553B\", \"#636efa\", \"#636efa\", \"#636efa\", \"#636efa\", \"#636efa\", \"#00cc96\", \"#EF553B\", \"#B6E880\", \"#B6E880\", \"#EF553B\", \"#B6E880\", \"#EF553B\", \"#B6E880\", \"#ab63fa\", \"#ab63fa\", \"#ab63fa\", \"#FFA15A\", \"#19d3f3\", \"#19d3f3\", \"#19d3f3\", \"#19d3f3\", \"#FF6692\", \"#B6E880\", \"#FFA15A\", \"#ab63fa\", \"#FFA15A\", \"#FFA15A\", \"#FF97FF\", \"#FECB52\", \"#FFA15A\", \"#FECB52\", \"#FECB52\", \"#FECB52\", \"#FECB52\", \"#636efa\", \"#636efa\", \"#FFA15A\", \"#FECB52\", \"#EF553B\", \"#00cc96\", \"#00cc96\", \"#00cc96\", \"#ab63fa\", \"#ab63fa\", \"#ab63fa\", \"#ab63fa\", \"#ab63fa\", \"#ab63fa\", \"#ab63fa\", \"#FFA15A\", \"#FFA15A\", \"#FFA15A\", \"#FFA15A\", \"#FFA15A\", \"#19d3f3\", \"#FF6692\", \"#FFA15A\", \"#B6E880\", \"#B6E880\", \"#B6E880\", \"#B6E880\", \"#FF6692\", \"#FF6692\", \"#B6E880\", \"#B6E880\", \"#FF97FF\", \"#FECB52\", \"#636efa\", \"#636efa\", \"#FF97FF\", \"#636efa\", \"#EF553B\", \"#636efa\", \"#636efa\", \"#00cc96\", \"#EF553B\", \"#ab63fa\", \"#636efa\", \"#FFA15A\", \"#FF97FF\", \"#FFA15A\", \"#19d3f3\", \"#19d3f3\", \"#19d3f3\", \"#19d3f3\", \"#19d3f3\", \"#FFA15A\", \"#FFA15A\", \"#FFA15A\", \"#FFA15A\", \"#FFA15A\", \"#ab63fa\", \"#FF6692\", \"#FF6692\", \"#FF6692\", \"#FF6692\", \"#ab63fa\", \"#FF6692\", \"#FF6692\", \"#FF6692\", \"#B6E880\", \"#FF97FF\", \"#FF97FF\", \"#FF97FF\", \"#FECB52\", \"#636efa\", \"#636efa\", \"#636efa\", \"#FECB52\", \"#EF553B\", \"#00cc96\", \"#00cc96\", \"#00cc96\", \"#00cc96\", \"#00cc96\", \"#ab63fa\", \"#ab63fa\", \"#ab63fa\", \"#ab63fa\", \"#FFA15A\", \"#FFA15A\", \"#FFA15A\", \"#19d3f3\", \"#EF553B\", \"#FF6692\", \"#EF553B\", \"#EF553B\", \"#EF553B\", \"#EF553B\", \"#B6E880\", \"#B6E880\", \"#FF97FF\", \"#FF97FF\", \"#FF97FF\", \"#FECB52\", \"#FECB52\", \"#FECB52\", \"#FECB52\", \"#FFA15A\", \"#EF553B\", \"#FFA15A\", \"#636efa\", \"#EF553B\", \"#00cc96\", \"#00cc96\", \"#00cc96\", \"#00cc96\", \"#00cc96\", \"#FFA15A\", \"#ab63fa\", \"#ab63fa\", \"#636efa\", \"#636efa\", \"#FF6692\", \"#FF6692\", \"#FFA15A\", \"#FFA15A\", \"#00cc96\", \"#FFA15A\", \"#FFA15A\", \"#EF553B\", \"#EF553B\", \"#EF553B\", \"#EF553B\", \"#EF553B\", \"#EF553B\", \"#19d3f3\", \"#19d3f3\", \"#19d3f3\", \"#FF6692\", \"#FF6692\", \"#B6E880\", \"#FF97FF\", \"#636efa\", \"#636efa\", \"#FF97FF\", \"#FF97FF\", \"#FF97FF\", \"#FF97FF\", \"#FF97FF\", \"#FECB52\", \"#FECB52\", \"#FF97FF\", \"#636efa\", \"#FECB52\", \"#ab63fa\", \"#FECB52\", \"#FECB52\", \"#FECB52\", \"#FECB52\", \"#636efa\", \"#FECB52\", \"#636efa\", \"#FECB52\", \"#636efa\", \"#636efa\", \"#636efa\", \"#636efa\", \"#636efa\", \"#ab63fa\"]}, \"name\": \"\", \"parents\": [\"Centrum\", \"Nieuw-West\", \"Noord\", \"West\", \"Zuidoost\", \"Nieuw-West\", \"Zuidoost\", \"Centrum\", \"Nieuw-West\", \"Noord\", \"Oost\", \"West\", \"Zuid\", \"Zuidoost\", \"Nieuw-West\", \"Noord\", \"Oost\", \"Nieuw-West\", \"Zuidoost\", \"Nieuw-West\", \"Noord\", \"Zuid\", \"Oost\", \"Nieuw-West\", \"Nieuw-West\", \"Nieuw-West\", \"Nieuw-West\", \"Zuid\", \"West\", \"Oost\", \"Noord\", \"Zuidoost\", \"Noord\", \"West\", \"Oost\", \"Oost\", \"Zuid\", \"Zuidoost\", \"Nieuw-West\", \"Oost\", \"Zuid\", \"Zuidoost\", \"Nieuw-West\", \"Centrum\", \"Centrum\", \"Zuidoost\", \"Nieuw-West\", \"Zuidoost\", \"Zuid\", \"Nieuw-West\", \"Noord\", \"Nieuw-West\", \"Zuid\", \"West\", \"Oost\", \"Noord\", \"Nieuw-West\", \"West\", \"Zuid\", \"Noord\", \"Oost\", \"West\", \"Nieuw-West\", \"Zuidoost\", \"Zuid\", \"Zuidoost\", \"Centrum\", \"Noord\", \"Oost\", \"Oost\", \"Zuidoost\", \"Nieuw-West\", \"Zuidoost\", \"Zuid\", \"West\", \"Oost\", \"Noord\", \"Noord\", \"Nieuw-West\", \"Centrum\", \"Zuidoost\", \"Zuid\", \"West\", \"Oost\", \"Centrum\", \"Oost\", \"Nieuw-West\", \"West\", \"Zuidoost\", \"Zuid\", \"Centrum\", \"Oost\", \"Noord\", \"Nieuw-West\", \"Centrum\", \"Zuid\", \"West\", \"Zuid\", \"Nieuw-West\", \"Noord\", \"Zuid\", \"Oost\", \"Nieuw-West\", \"Zuid\", \"West\", \"Oost\", \"Zuidoost\", \"Centrum\", \"Nieuw-West\", \"Zuid\", \"West\", \"Oost\", \"Noord\", \"Zuid\", \"Zuidoost\", \"Zuidoost\", \"Noord\", \"Noord\", \"Oost\", \"West\", \"Zuid\", \"Nieuw-West\", \"West\", \"Oost\", \"Noord\", \"Nieuw-West\", \"Zuid\", \"Zuidoost\", \"Zuid\", \"Noord\", \"Nieuw-West\", \"Centrum\", \"Nieuw-West\", \"Zuidoost\", \"Centrum\", \"Noord\", \"Nieuw-West\", \"Centrum\", \"Nieuw-West\", \"Oost\", \"Oost\", \"West\", \"Noord\", \"Zuidoost\", \"Nieuw-West\", \"Oost\", \"Centrum\", \"Zuid\", \"Zuid\", \"Zuid\", \"Oost\", \"Centrum\", \"Oost\", \"Zuid\", \"Nieuw-West\", \"Zuidoost\", \"Zuid\", \"West\", \"Noord\", \"Zuid\", \"Nieuw-West\", \"Noord\", \"Oost\", \"Zuidoost\", \"Oost\", \"Centrum\", \"Nieuw-West\", \"West\", \"Noord\", \"Nieuw-West\", \"Centrum\", \"Zuidoost\", \"Zuid\", \"Zuid\", \"Zuidoost\", \"Nieuw-West\", \"Oost\", \"Noord\", \"Nieuw-West\", \"Oost\", \"Oost\", \"Zuid\", \"Zuid\", \"Zuidoost\", \"Nieuw-West\", \"Oost\", \"Nieuw-West\", \"West\", \"Zuidoost\", \"Noord\", \"West\", \"Noord\", \"Oost\", \"West\", \"Zuidoost\", \"Nieuw-West\", \"Nieuw-West\", \"Noord\", \"Oost\", \"Centrum\", \"Zuid\", \"Oost\", \"Nieuw-West\", \"West\", \"Oost\", \"Noord\", \"Zuid\", \"Nieuw-West\", \"Oost\", \"Zuidoost\", \"Oost\", \"Oost\", \"West\", \"Nieuw-West\", \"Noord\", \"Centrum\", \"Zuid\", \"Oost\", \"Nieuw-West\", \"Centrum\", \"West\", \"Oost\", \"Noord\", \"Nieuw-West\", \"Centrum\", \"West\", \"Oost\", \"Noord\", \"Nieuw-West\", \"Zuidoost\", \"Zuid\", \"West\", \"Zuid\", \"Nieuw-West\", \"Oost\", \"Oost\", \"West\", \"Zuid\", \"Zuidoost\", \"Nieuw-West\", \"Zuidoost\", \"Nieuw-West\", \"Noord\", \"Zuid\", \"Nieuw-West\", \"Noord\", \"Oost\", \"West\", \"Oost\", \"Noord\", \"Noord\", \"Centrum\", \"Zuidoost\", \"Centrum\", \"Nieuw-West\", \"Noord\", \"Oost\", \"Zuid\", \"Nieuw-West\", \"Centrum\", \"Zuid\", \"Noord\", \"Oost\", \"Centrum\", \"Zuid\", \"Centrum\", \"Nieuw-West\", \"Zuidoost\", \"Zuid\", \"Oost\", \"Zuid\", \"West\", \"Oost\", \"Noord\", \"Centrum\", \"Nieuw-West\", \"Zuidoost\", \"Oost\", \"Nieuw-West\", \"Zuid\", \"Oost\", \"Nieuw-West\", \"Zuid\", \"Noord\", \"Nieuw-West\", \"Zuidoost\", \"West\", \"Centrum\", \"Noord\", \"Nieuw-West\", \"Zuidoost\", \"Zuid\", \"Oost\", \"Zuid\", \"\", \"\", \"\", \"\", \"\", \"\", \"Zuidoost\", \"\", \"Zuid\", \"\", \"West\", \"Noord\", \"Nieuw-West\", \"Centrum\", \"Zuidoost\", \"Westpoort\"], \"type\": \"treemap\", \"values\": [1, 1, 2, 1, 1, 2, 1, 1, 1, 2, 4, 2, 4, 2, 2, 1, 1, 2, 1, 1, 1, 2, 1, 5, 1, 1, 2, 9, 7, 4, 2, 1, 2, 3, 5, 2, 4, 7, 1, 4, 1, 1, 1, 1, 1, 1, 1, 1, 1, 1, 1, 1, 2, 8, 1, 1, 3, 1, 4, 1, 3, 2, 1, 1, 1, 1, 6, 2, 1, 5, 1, 3, 1, 6, 3, 2, 1, 7, 3, 3, 1, 3, 2, 1, 1, 1, 1, 2, 2, 4, 1, 3, 2, 1, 1, 1, 1, 1, 3, 1, 3, 1, 1, 2, 1, 1, 1, 14, 6, 1, 22, 19, 5, 21, 8, 1, 4, 7, 3, 1, 4, 3, 11, 10, 9, 18, 7, 3, 1, 1, 3, 1, 1, 1, 3, 1, 3, 1, 19, 2, 20, 9, 8, 6, 1, 1, 1, 7, 1, 1, 1, 1, 2, 1, 5, 7, 12, 4, 3, 4, 2, 1, 2, 2, 1, 2, 5, 1, 2, 3, 3, 2, 4, 7, 2, 1, 2, 4, 7, 2, 14, 2, 9, 4, 4, 1, 1, 8, 1, 1, 2, 1, 6, 3, 1, 4, 1, 1, 2, 1, 3, 2, 10, 9, 10, 8, 3, 2, 2, 1, 1, 1, 2, 2, 1, 3, 2, 4, 3, 1, 1, 2, 3, 2, 2, 1, 2, 1, 1, 1, 4, 3, 2, 3, 1, 8, 2, 16, 4, 1, 1, 6, 4, 2, 2, 1, 1, 3, 5, 3, 2, 1, 2, 2, 3, 4, 3, 4, 2, 2, 4, 4, 18, 1, 1, 1, 2, 1, 4, 2, 7, 7, 6, 11, 3, 8, 1, 2, 1, 2, 3, 1, 3, 1, 1, 2, 2, 1, 1, 1, 1, 3, 6, 1, 61, 1, 127, 207, 119, 178, 1, 196, 5, 78, 3, 1, 1, 1, 1, 1]}],                        {\"legend\": {\"tracegroupgap\": 0}, \"margin\": {\"t\": 60}, \"template\": {\"data\": {\"bar\": [{\"error_x\": {\"color\": \"#2a3f5f\"}, \"error_y\": {\"color\": \"#2a3f5f\"}, \"marker\": {\"line\": {\"color\": \"#E5ECF6\", \"width\": 0.5}}, \"type\": \"bar\"}], \"barpolar\": [{\"marker\": {\"line\": {\"color\": \"#E5ECF6\", \"width\": 0.5}}, \"type\": \"barpolar\"}], \"carpet\": [{\"aaxis\": {\"endlinecolor\": \"#2a3f5f\", \"gridcolor\": \"white\", \"linecolor\": \"white\", \"minorgridcolor\": \"white\", \"startlinecolor\": \"#2a3f5f\"}, \"baxis\": {\"endlinecolor\": \"#2a3f5f\", \"gridcolor\": \"white\", \"linecolor\": \"white\", \"minorgridcolor\": \"white\", \"startlinecolor\": \"#2a3f5f\"}, \"type\": \"carpet\"}], \"choropleth\": [{\"colorbar\": {\"outlinewidth\": 0, \"ticks\": \"\"}, \"type\": \"choropleth\"}], \"contour\": [{\"colorbar\": {\"outlinewidth\": 0, \"ticks\": \"\"}, \"colorscale\": [[0.0, \"#0d0887\"], [0.1111111111111111, \"#46039f\"], [0.2222222222222222, \"#7201a8\"], [0.3333333333333333, \"#9c179e\"], [0.4444444444444444, \"#bd3786\"], [0.5555555555555556, \"#d8576b\"], [0.6666666666666666, \"#ed7953\"], [0.7777777777777778, \"#fb9f3a\"], [0.8888888888888888, \"#fdca26\"], [1.0, \"#f0f921\"]], \"type\": \"contour\"}], \"contourcarpet\": [{\"colorbar\": {\"outlinewidth\": 0, \"ticks\": \"\"}, \"type\": \"contourcarpet\"}], \"heatmap\": [{\"colorbar\": {\"outlinewidth\": 0, \"ticks\": \"\"}, \"colorscale\": [[0.0, \"#0d0887\"], [0.1111111111111111, \"#46039f\"], [0.2222222222222222, \"#7201a8\"], [0.3333333333333333, \"#9c179e\"], [0.4444444444444444, \"#bd3786\"], [0.5555555555555556, \"#d8576b\"], [0.6666666666666666, \"#ed7953\"], [0.7777777777777778, \"#fb9f3a\"], [0.8888888888888888, \"#fdca26\"], [1.0, \"#f0f921\"]], \"type\": \"heatmap\"}], \"heatmapgl\": [{\"colorbar\": {\"outlinewidth\": 0, \"ticks\": \"\"}, \"colorscale\": [[0.0, \"#0d0887\"], [0.1111111111111111, \"#46039f\"], [0.2222222222222222, \"#7201a8\"], [0.3333333333333333, \"#9c179e\"], [0.4444444444444444, \"#bd3786\"], [0.5555555555555556, \"#d8576b\"], [0.6666666666666666, \"#ed7953\"], [0.7777777777777778, \"#fb9f3a\"], [0.8888888888888888, \"#fdca26\"], [1.0, \"#f0f921\"]], \"type\": \"heatmapgl\"}], \"histogram\": [{\"marker\": {\"colorbar\": {\"outlinewidth\": 0, \"ticks\": \"\"}}, \"type\": \"histogram\"}], \"histogram2d\": [{\"colorbar\": {\"outlinewidth\": 0, \"ticks\": \"\"}, \"colorscale\": [[0.0, \"#0d0887\"], [0.1111111111111111, \"#46039f\"], [0.2222222222222222, \"#7201a8\"], [0.3333333333333333, \"#9c179e\"], [0.4444444444444444, \"#bd3786\"], [0.5555555555555556, \"#d8576b\"], [0.6666666666666666, \"#ed7953\"], [0.7777777777777778, \"#fb9f3a\"], [0.8888888888888888, \"#fdca26\"], [1.0, \"#f0f921\"]], \"type\": \"histogram2d\"}], \"histogram2dcontour\": [{\"colorbar\": {\"outlinewidth\": 0, \"ticks\": \"\"}, \"colorscale\": [[0.0, \"#0d0887\"], [0.1111111111111111, \"#46039f\"], [0.2222222222222222, \"#7201a8\"], [0.3333333333333333, \"#9c179e\"], [0.4444444444444444, \"#bd3786\"], [0.5555555555555556, \"#d8576b\"], [0.6666666666666666, \"#ed7953\"], [0.7777777777777778, \"#fb9f3a\"], [0.8888888888888888, \"#fdca26\"], [1.0, \"#f0f921\"]], \"type\": \"histogram2dcontour\"}], \"mesh3d\": [{\"colorbar\": {\"outlinewidth\": 0, \"ticks\": \"\"}, \"type\": \"mesh3d\"}], \"parcoords\": [{\"line\": {\"colorbar\": {\"outlinewidth\": 0, \"ticks\": \"\"}}, \"type\": \"parcoords\"}], \"pie\": [{\"automargin\": true, \"type\": \"pie\"}], \"scatter\": [{\"marker\": {\"colorbar\": {\"outlinewidth\": 0, \"ticks\": \"\"}}, \"type\": \"scatter\"}], \"scatter3d\": [{\"line\": {\"colorbar\": {\"outlinewidth\": 0, \"ticks\": \"\"}}, \"marker\": {\"colorbar\": {\"outlinewidth\": 0, \"ticks\": \"\"}}, \"type\": \"scatter3d\"}], \"scattercarpet\": [{\"marker\": {\"colorbar\": {\"outlinewidth\": 0, \"ticks\": \"\"}}, \"type\": \"scattercarpet\"}], \"scattergeo\": [{\"marker\": {\"colorbar\": {\"outlinewidth\": 0, \"ticks\": \"\"}}, \"type\": \"scattergeo\"}], \"scattergl\": [{\"marker\": {\"colorbar\": {\"outlinewidth\": 0, \"ticks\": \"\"}}, \"type\": \"scattergl\"}], \"scattermapbox\": [{\"marker\": {\"colorbar\": {\"outlinewidth\": 0, \"ticks\": \"\"}}, \"type\": \"scattermapbox\"}], \"scatterpolar\": [{\"marker\": {\"colorbar\": {\"outlinewidth\": 0, \"ticks\": \"\"}}, \"type\": \"scatterpolar\"}], \"scatterpolargl\": [{\"marker\": {\"colorbar\": {\"outlinewidth\": 0, \"ticks\": \"\"}}, \"type\": \"scatterpolargl\"}], \"scatterternary\": [{\"marker\": {\"colorbar\": {\"outlinewidth\": 0, \"ticks\": \"\"}}, \"type\": \"scatterternary\"}], \"surface\": [{\"colorbar\": {\"outlinewidth\": 0, \"ticks\": \"\"}, \"colorscale\": [[0.0, \"#0d0887\"], [0.1111111111111111, \"#46039f\"], [0.2222222222222222, \"#7201a8\"], [0.3333333333333333, \"#9c179e\"], [0.4444444444444444, \"#bd3786\"], [0.5555555555555556, \"#d8576b\"], [0.6666666666666666, \"#ed7953\"], [0.7777777777777778, \"#fb9f3a\"], [0.8888888888888888, \"#fdca26\"], [1.0, \"#f0f921\"]], \"type\": \"surface\"}], \"table\": [{\"cells\": {\"fill\": {\"color\": \"#EBF0F8\"}, \"line\": {\"color\": \"white\"}}, \"header\": {\"fill\": {\"color\": \"#C8D4E3\"}, \"line\": {\"color\": \"white\"}}, \"type\": \"table\"}]}, \"layout\": {\"annotationdefaults\": {\"arrowcolor\": \"#2a3f5f\", \"arrowhead\": 0, \"arrowwidth\": 1}, \"autotypenumbers\": \"strict\", \"coloraxis\": {\"colorbar\": {\"outlinewidth\": 0, \"ticks\": \"\"}}, \"colorscale\": {\"diverging\": [[0, \"#8e0152\"], [0.1, \"#c51b7d\"], [0.2, \"#de77ae\"], [0.3, \"#f1b6da\"], [0.4, \"#fde0ef\"], [0.5, \"#f7f7f7\"], [0.6, \"#e6f5d0\"], [0.7, \"#b8e186\"], [0.8, \"#7fbc41\"], [0.9, \"#4d9221\"], [1, \"#276419\"]], \"sequential\": [[0.0, \"#0d0887\"], [0.1111111111111111, \"#46039f\"], [0.2222222222222222, \"#7201a8\"], [0.3333333333333333, \"#9c179e\"], [0.4444444444444444, \"#bd3786\"], [0.5555555555555556, \"#d8576b\"], [0.6666666666666666, \"#ed7953\"], [0.7777777777777778, \"#fb9f3a\"], [0.8888888888888888, \"#fdca26\"], [1.0, \"#f0f921\"]], \"sequentialminus\": [[0.0, \"#0d0887\"], [0.1111111111111111, \"#46039f\"], [0.2222222222222222, \"#7201a8\"], [0.3333333333333333, \"#9c179e\"], [0.4444444444444444, \"#bd3786\"], [0.5555555555555556, \"#d8576b\"], [0.6666666666666666, \"#ed7953\"], [0.7777777777777778, \"#fb9f3a\"], [0.8888888888888888, \"#fdca26\"], [1.0, \"#f0f921\"]]}, \"colorway\": [\"#636efa\", \"#EF553B\", \"#00cc96\", \"#ab63fa\", \"#FFA15A\", \"#19d3f3\", \"#FF6692\", \"#B6E880\", \"#FF97FF\", \"#FECB52\"], \"font\": {\"color\": \"#2a3f5f\"}, \"geo\": {\"bgcolor\": \"white\", \"lakecolor\": \"white\", \"landcolor\": \"#E5ECF6\", \"showlakes\": true, \"showland\": true, \"subunitcolor\": \"white\"}, \"hoverlabel\": {\"align\": \"left\"}, \"hovermode\": \"closest\", \"mapbox\": {\"style\": \"light\"}, \"paper_bgcolor\": \"white\", \"plot_bgcolor\": \"#E5ECF6\", \"polar\": {\"angularaxis\": {\"gridcolor\": \"white\", \"linecolor\": \"white\", \"ticks\": \"\"}, \"bgcolor\": \"#E5ECF6\", \"radialaxis\": {\"gridcolor\": \"white\", \"linecolor\": \"white\", \"ticks\": \"\"}}, \"scene\": {\"xaxis\": {\"backgroundcolor\": \"#E5ECF6\", \"gridcolor\": \"white\", \"gridwidth\": 2, \"linecolor\": \"white\", \"showbackground\": true, \"ticks\": \"\", \"zerolinecolor\": \"white\"}, \"yaxis\": {\"backgroundcolor\": \"#E5ECF6\", \"gridcolor\": \"white\", \"gridwidth\": 2, \"linecolor\": \"white\", \"showbackground\": true, \"ticks\": \"\", \"zerolinecolor\": \"white\"}, \"zaxis\": {\"backgroundcolor\": \"#E5ECF6\", \"gridcolor\": \"white\", \"gridwidth\": 2, \"linecolor\": \"white\", \"showbackground\": true, \"ticks\": \"\", \"zerolinecolor\": \"white\"}}, \"shapedefaults\": {\"line\": {\"color\": \"#2a3f5f\"}}, \"ternary\": {\"aaxis\": {\"gridcolor\": \"white\", \"linecolor\": \"white\", \"ticks\": \"\"}, \"baxis\": {\"gridcolor\": \"white\", \"linecolor\": \"white\", \"ticks\": \"\"}, \"bgcolor\": \"#E5ECF6\", \"caxis\": {\"gridcolor\": \"white\", \"linecolor\": \"white\", \"ticks\": \"\"}}, \"title\": {\"x\": 0.05}, \"xaxis\": {\"automargin\": true, \"gridcolor\": \"white\", \"linecolor\": \"white\", \"ticks\": \"\", \"title\": {\"standoff\": 15}, \"zerolinecolor\": \"white\", \"zerolinewidth\": 2}, \"yaxis\": {\"automargin\": true, \"gridcolor\": \"white\", \"linecolor\": \"white\", \"ticks\": \"\", \"title\": {\"standoff\": 15}, \"zerolinecolor\": \"white\", \"zerolinewidth\": 2}}}},                        {\"responsive\": true}                    ).then(function(){\n",
       "                            \n",
       "var gd = document.getElementById('b0ff6d82-d451-4f16-8a50-782b26b7632b');\n",
       "var x = new MutationObserver(function (mutations, observer) {{\n",
       "        var display = window.getComputedStyle(gd).display;\n",
       "        if (!display || display === 'none') {{\n",
       "            console.log([gd, 'removed!']);\n",
       "            Plotly.purge(gd);\n",
       "            observer.disconnect();\n",
       "        }}\n",
       "}});\n",
       "\n",
       "// Listen for the removal of the full notebook cells\n",
       "var notebookContainer = gd.closest('#notebook-container');\n",
       "if (notebookContainer) {{\n",
       "    x.observe(notebookContainer, {childList: true});\n",
       "}}\n",
       "\n",
       "// Listen for the clearing of the current output cell\n",
       "var outputEl = gd.closest('.output');\n",
       "if (outputEl) {{\n",
       "    x.observe(outputEl, {childList: true});\n",
       "}}\n",
       "\n",
       "                        })                };                });            </script>        </div>"
      ]
     },
     "metadata": {},
     "output_type": "display_data"
    }
   ],
   "source": [
    "import plotly.express as px\n",
    "fig = px.treemap(df, \n",
    "                 color=\"Sport_en\",\n",
    "                 path = [\"Stadsdeel\", \"Sport_en\"],\n",
    "                 color_continuous_scale=\"RdBu\"\n",
    "                 )\n",
    "fig.show()"
   ]
  },
  {
   "cell_type": "code",
   "execution_count": 197,
   "id": "legislative-establishment",
   "metadata": {},
   "outputs": [
    {
     "data": {
      "application/vnd.plotly.v1+json": {
       "config": {
        "plotlyServerURL": "https://plot.ly"
       },
       "data": [
        {
         "branchvalues": "total",
         "domain": {
          "x": [
           0,
           1
          ],
          "y": [
           0,
           1
          ]
         },
         "hovertemplate": "labels=%{label}<br>count=%{value}<br>parent=%{parent}<br>id=%{id}<extra></extra>",
         "ids": [
          "adapted sports",
          "aerobics",
          "aikido",
          "american football",
          "archery",
          "athletics",
          "australian football",
          "badminton",
          "baseball / softball",
          "basketball",
          "beach volleyball",
          "beachhandbal",
          "billiards",
          "bootcamp",
          "bounce",
          "bowling",
          "bowls",
          "boxing",
          "bridge",
          "canoeing",
          "capoeira",
          "cheerleading",
          "chess",
          "circus",
          "climbing",
          "cricket",
          "cycling",
          "dammen",
          "dance",
          "dragon boat racing",
          "equestrian",
          "fencing",
          "fitness",
          "floorball",
          "football",
          "frisbee",
          "futsal",
          "gaelic football",
          "go",
          "golf",
          "gymnastics",
          "handball",
          "hapkido",
          "hiking",
          "hockey",
          "ice hockey",
          "judo",
          "karate",
          "kickboxing",
          "korfball",
          "kung-fu",
          "lacrosse",
          "martial and strength sports",
          "multisport",
          "padel",
          "pencak silat",
          "pickleball",
          "rowing",
          "rugby",
          "running",
          "sailing",
          "skating",
          "sloeproeien",
          "squash",
          "sup",
          "surfing",
          "survivalrun",
          "swimming",
          "table tennis",
          "taekwondo",
          "tai chi",
          "target shooting",
          "tennis",
          "triathlon",
          "underwater sports",
          "urban sports",
          "volley-ball",
          "water polo",
          "yoga"
         ],
         "labels": [
          "adapted sports",
          "aerobics",
          "aikido",
          "american football",
          "archery",
          "athletics",
          "australian football",
          "badminton",
          "baseball / softball",
          "basketball",
          "beach volleyball",
          "beachhandbal",
          "billiards",
          "bootcamp",
          "bounce",
          "bowling",
          "bowls",
          "boxing",
          "bridge",
          "canoeing",
          "capoeira",
          "cheerleading",
          "chess",
          "circus",
          "climbing",
          "cricket",
          "cycling",
          "dammen",
          "dance",
          "dragon boat racing",
          "equestrian",
          "fencing",
          "fitness",
          "floorball",
          "football",
          "frisbee",
          "futsal",
          "gaelic football",
          "go",
          "golf",
          "gymnastics",
          "handball",
          "hapkido",
          "hiking",
          "hockey",
          "ice hockey",
          "judo",
          "karate",
          "kickboxing",
          "korfball",
          "kung-fu",
          "lacrosse",
          "martial and strength sports",
          "multisport",
          "padel",
          "pencak silat",
          "pickleball",
          "rowing",
          "rugby",
          "running",
          "sailing",
          "skating",
          "sloeproeien",
          "squash",
          "sup",
          "surfing",
          "survivalrun",
          "swimming",
          "table tennis",
          "taekwondo",
          "tai chi",
          "target shooting",
          "tennis",
          "triathlon",
          "underwater sports",
          "urban sports",
          "volley-ball",
          "water polo",
          "yoga"
         ],
         "name": "",
         "parents": [
          "",
          "",
          "",
          "",
          "",
          "",
          "",
          "",
          "",
          "",
          "",
          "",
          "",
          "",
          "",
          "",
          "",
          "",
          "",
          "",
          "",
          "",
          "",
          "",
          "",
          "",
          "",
          "",
          "",
          "",
          "",
          "",
          "",
          "",
          "",
          "",
          "",
          "",
          "",
          "",
          "",
          "",
          "",
          "",
          "",
          "",
          "",
          "",
          "",
          "",
          "",
          "",
          "",
          "",
          "",
          "",
          "",
          "",
          "",
          "",
          "",
          "",
          "",
          "",
          "",
          "",
          "",
          "",
          "",
          "",
          "",
          "",
          "",
          "",
          "",
          "",
          "",
          "",
          ""
         ],
         "type": "treemap",
         "values": [
          6,
          3,
          24,
          2,
          1,
          6,
          1,
          15,
          6,
          26,
          7,
          1,
          15,
          3,
          1,
          3,
          6,
          8,
          25,
          10,
          11,
          4,
          19,
          3,
          11,
          6,
          6,
          2,
          27,
          1,
          9,
          6,
          95,
          1,
          69,
          2,
          15,
          1,
          1,
          8,
          63,
          11,
          1,
          3,
          11,
          1,
          45,
          18,
          15,
          11,
          4,
          2,
          46,
          3,
          7,
          5,
          1,
          9,
          4,
          5,
          17,
          23,
          3,
          9,
          5,
          4,
          1,
          44,
          17,
          5,
          2,
          10,
          37,
          2,
          12,
          11,
          16,
          6,
          12
         ]
        }
       ],
       "layout": {
        "legend": {
         "tracegroupgap": 0
        },
        "margin": {
         "t": 60
        },
        "template": {
         "data": {
          "bar": [
           {
            "error_x": {
             "color": "#2a3f5f"
            },
            "error_y": {
             "color": "#2a3f5f"
            },
            "marker": {
             "line": {
              "color": "#E5ECF6",
              "width": 0.5
             }
            },
            "type": "bar"
           }
          ],
          "barpolar": [
           {
            "marker": {
             "line": {
              "color": "#E5ECF6",
              "width": 0.5
             }
            },
            "type": "barpolar"
           }
          ],
          "carpet": [
           {
            "aaxis": {
             "endlinecolor": "#2a3f5f",
             "gridcolor": "white",
             "linecolor": "white",
             "minorgridcolor": "white",
             "startlinecolor": "#2a3f5f"
            },
            "baxis": {
             "endlinecolor": "#2a3f5f",
             "gridcolor": "white",
             "linecolor": "white",
             "minorgridcolor": "white",
             "startlinecolor": "#2a3f5f"
            },
            "type": "carpet"
           }
          ],
          "choropleth": [
           {
            "colorbar": {
             "outlinewidth": 0,
             "ticks": ""
            },
            "type": "choropleth"
           }
          ],
          "contour": [
           {
            "colorbar": {
             "outlinewidth": 0,
             "ticks": ""
            },
            "colorscale": [
             [
              0,
              "#0d0887"
             ],
             [
              0.1111111111111111,
              "#46039f"
             ],
             [
              0.2222222222222222,
              "#7201a8"
             ],
             [
              0.3333333333333333,
              "#9c179e"
             ],
             [
              0.4444444444444444,
              "#bd3786"
             ],
             [
              0.5555555555555556,
              "#d8576b"
             ],
             [
              0.6666666666666666,
              "#ed7953"
             ],
             [
              0.7777777777777778,
              "#fb9f3a"
             ],
             [
              0.8888888888888888,
              "#fdca26"
             ],
             [
              1,
              "#f0f921"
             ]
            ],
            "type": "contour"
           }
          ],
          "contourcarpet": [
           {
            "colorbar": {
             "outlinewidth": 0,
             "ticks": ""
            },
            "type": "contourcarpet"
           }
          ],
          "heatmap": [
           {
            "colorbar": {
             "outlinewidth": 0,
             "ticks": ""
            },
            "colorscale": [
             [
              0,
              "#0d0887"
             ],
             [
              0.1111111111111111,
              "#46039f"
             ],
             [
              0.2222222222222222,
              "#7201a8"
             ],
             [
              0.3333333333333333,
              "#9c179e"
             ],
             [
              0.4444444444444444,
              "#bd3786"
             ],
             [
              0.5555555555555556,
              "#d8576b"
             ],
             [
              0.6666666666666666,
              "#ed7953"
             ],
             [
              0.7777777777777778,
              "#fb9f3a"
             ],
             [
              0.8888888888888888,
              "#fdca26"
             ],
             [
              1,
              "#f0f921"
             ]
            ],
            "type": "heatmap"
           }
          ],
          "heatmapgl": [
           {
            "colorbar": {
             "outlinewidth": 0,
             "ticks": ""
            },
            "colorscale": [
             [
              0,
              "#0d0887"
             ],
             [
              0.1111111111111111,
              "#46039f"
             ],
             [
              0.2222222222222222,
              "#7201a8"
             ],
             [
              0.3333333333333333,
              "#9c179e"
             ],
             [
              0.4444444444444444,
              "#bd3786"
             ],
             [
              0.5555555555555556,
              "#d8576b"
             ],
             [
              0.6666666666666666,
              "#ed7953"
             ],
             [
              0.7777777777777778,
              "#fb9f3a"
             ],
             [
              0.8888888888888888,
              "#fdca26"
             ],
             [
              1,
              "#f0f921"
             ]
            ],
            "type": "heatmapgl"
           }
          ],
          "histogram": [
           {
            "marker": {
             "colorbar": {
              "outlinewidth": 0,
              "ticks": ""
             }
            },
            "type": "histogram"
           }
          ],
          "histogram2d": [
           {
            "colorbar": {
             "outlinewidth": 0,
             "ticks": ""
            },
            "colorscale": [
             [
              0,
              "#0d0887"
             ],
             [
              0.1111111111111111,
              "#46039f"
             ],
             [
              0.2222222222222222,
              "#7201a8"
             ],
             [
              0.3333333333333333,
              "#9c179e"
             ],
             [
              0.4444444444444444,
              "#bd3786"
             ],
             [
              0.5555555555555556,
              "#d8576b"
             ],
             [
              0.6666666666666666,
              "#ed7953"
             ],
             [
              0.7777777777777778,
              "#fb9f3a"
             ],
             [
              0.8888888888888888,
              "#fdca26"
             ],
             [
              1,
              "#f0f921"
             ]
            ],
            "type": "histogram2d"
           }
          ],
          "histogram2dcontour": [
           {
            "colorbar": {
             "outlinewidth": 0,
             "ticks": ""
            },
            "colorscale": [
             [
              0,
              "#0d0887"
             ],
             [
              0.1111111111111111,
              "#46039f"
             ],
             [
              0.2222222222222222,
              "#7201a8"
             ],
             [
              0.3333333333333333,
              "#9c179e"
             ],
             [
              0.4444444444444444,
              "#bd3786"
             ],
             [
              0.5555555555555556,
              "#d8576b"
             ],
             [
              0.6666666666666666,
              "#ed7953"
             ],
             [
              0.7777777777777778,
              "#fb9f3a"
             ],
             [
              0.8888888888888888,
              "#fdca26"
             ],
             [
              1,
              "#f0f921"
             ]
            ],
            "type": "histogram2dcontour"
           }
          ],
          "mesh3d": [
           {
            "colorbar": {
             "outlinewidth": 0,
             "ticks": ""
            },
            "type": "mesh3d"
           }
          ],
          "parcoords": [
           {
            "line": {
             "colorbar": {
              "outlinewidth": 0,
              "ticks": ""
             }
            },
            "type": "parcoords"
           }
          ],
          "pie": [
           {
            "automargin": true,
            "type": "pie"
           }
          ],
          "scatter": [
           {
            "marker": {
             "colorbar": {
              "outlinewidth": 0,
              "ticks": ""
             }
            },
            "type": "scatter"
           }
          ],
          "scatter3d": [
           {
            "line": {
             "colorbar": {
              "outlinewidth": 0,
              "ticks": ""
             }
            },
            "marker": {
             "colorbar": {
              "outlinewidth": 0,
              "ticks": ""
             }
            },
            "type": "scatter3d"
           }
          ],
          "scattercarpet": [
           {
            "marker": {
             "colorbar": {
              "outlinewidth": 0,
              "ticks": ""
             }
            },
            "type": "scattercarpet"
           }
          ],
          "scattergeo": [
           {
            "marker": {
             "colorbar": {
              "outlinewidth": 0,
              "ticks": ""
             }
            },
            "type": "scattergeo"
           }
          ],
          "scattergl": [
           {
            "marker": {
             "colorbar": {
              "outlinewidth": 0,
              "ticks": ""
             }
            },
            "type": "scattergl"
           }
          ],
          "scattermapbox": [
           {
            "marker": {
             "colorbar": {
              "outlinewidth": 0,
              "ticks": ""
             }
            },
            "type": "scattermapbox"
           }
          ],
          "scatterpolar": [
           {
            "marker": {
             "colorbar": {
              "outlinewidth": 0,
              "ticks": ""
             }
            },
            "type": "scatterpolar"
           }
          ],
          "scatterpolargl": [
           {
            "marker": {
             "colorbar": {
              "outlinewidth": 0,
              "ticks": ""
             }
            },
            "type": "scatterpolargl"
           }
          ],
          "scatterternary": [
           {
            "marker": {
             "colorbar": {
              "outlinewidth": 0,
              "ticks": ""
             }
            },
            "type": "scatterternary"
           }
          ],
          "surface": [
           {
            "colorbar": {
             "outlinewidth": 0,
             "ticks": ""
            },
            "colorscale": [
             [
              0,
              "#0d0887"
             ],
             [
              0.1111111111111111,
              "#46039f"
             ],
             [
              0.2222222222222222,
              "#7201a8"
             ],
             [
              0.3333333333333333,
              "#9c179e"
             ],
             [
              0.4444444444444444,
              "#bd3786"
             ],
             [
              0.5555555555555556,
              "#d8576b"
             ],
             [
              0.6666666666666666,
              "#ed7953"
             ],
             [
              0.7777777777777778,
              "#fb9f3a"
             ],
             [
              0.8888888888888888,
              "#fdca26"
             ],
             [
              1,
              "#f0f921"
             ]
            ],
            "type": "surface"
           }
          ],
          "table": [
           {
            "cells": {
             "fill": {
              "color": "#EBF0F8"
             },
             "line": {
              "color": "white"
             }
            },
            "header": {
             "fill": {
              "color": "#C8D4E3"
             },
             "line": {
              "color": "white"
             }
            },
            "type": "table"
           }
          ]
         },
         "layout": {
          "annotationdefaults": {
           "arrowcolor": "#2a3f5f",
           "arrowhead": 0,
           "arrowwidth": 1
          },
          "autotypenumbers": "strict",
          "coloraxis": {
           "colorbar": {
            "outlinewidth": 0,
            "ticks": ""
           }
          },
          "colorscale": {
           "diverging": [
            [
             0,
             "#8e0152"
            ],
            [
             0.1,
             "#c51b7d"
            ],
            [
             0.2,
             "#de77ae"
            ],
            [
             0.3,
             "#f1b6da"
            ],
            [
             0.4,
             "#fde0ef"
            ],
            [
             0.5,
             "#f7f7f7"
            ],
            [
             0.6,
             "#e6f5d0"
            ],
            [
             0.7,
             "#b8e186"
            ],
            [
             0.8,
             "#7fbc41"
            ],
            [
             0.9,
             "#4d9221"
            ],
            [
             1,
             "#276419"
            ]
           ],
           "sequential": [
            [
             0,
             "#0d0887"
            ],
            [
             0.1111111111111111,
             "#46039f"
            ],
            [
             0.2222222222222222,
             "#7201a8"
            ],
            [
             0.3333333333333333,
             "#9c179e"
            ],
            [
             0.4444444444444444,
             "#bd3786"
            ],
            [
             0.5555555555555556,
             "#d8576b"
            ],
            [
             0.6666666666666666,
             "#ed7953"
            ],
            [
             0.7777777777777778,
             "#fb9f3a"
            ],
            [
             0.8888888888888888,
             "#fdca26"
            ],
            [
             1,
             "#f0f921"
            ]
           ],
           "sequentialminus": [
            [
             0,
             "#0d0887"
            ],
            [
             0.1111111111111111,
             "#46039f"
            ],
            [
             0.2222222222222222,
             "#7201a8"
            ],
            [
             0.3333333333333333,
             "#9c179e"
            ],
            [
             0.4444444444444444,
             "#bd3786"
            ],
            [
             0.5555555555555556,
             "#d8576b"
            ],
            [
             0.6666666666666666,
             "#ed7953"
            ],
            [
             0.7777777777777778,
             "#fb9f3a"
            ],
            [
             0.8888888888888888,
             "#fdca26"
            ],
            [
             1,
             "#f0f921"
            ]
           ]
          },
          "colorway": [
           "#636efa",
           "#EF553B",
           "#00cc96",
           "#ab63fa",
           "#FFA15A",
           "#19d3f3",
           "#FF6692",
           "#B6E880",
           "#FF97FF",
           "#FECB52"
          ],
          "font": {
           "color": "#2a3f5f"
          },
          "geo": {
           "bgcolor": "white",
           "lakecolor": "white",
           "landcolor": "#E5ECF6",
           "showlakes": true,
           "showland": true,
           "subunitcolor": "white"
          },
          "hoverlabel": {
           "align": "left"
          },
          "hovermode": "closest",
          "mapbox": {
           "style": "light"
          },
          "paper_bgcolor": "white",
          "plot_bgcolor": "#E5ECF6",
          "polar": {
           "angularaxis": {
            "gridcolor": "white",
            "linecolor": "white",
            "ticks": ""
           },
           "bgcolor": "#E5ECF6",
           "radialaxis": {
            "gridcolor": "white",
            "linecolor": "white",
            "ticks": ""
           }
          },
          "scene": {
           "xaxis": {
            "backgroundcolor": "#E5ECF6",
            "gridcolor": "white",
            "gridwidth": 2,
            "linecolor": "white",
            "showbackground": true,
            "ticks": "",
            "zerolinecolor": "white"
           },
           "yaxis": {
            "backgroundcolor": "#E5ECF6",
            "gridcolor": "white",
            "gridwidth": 2,
            "linecolor": "white",
            "showbackground": true,
            "ticks": "",
            "zerolinecolor": "white"
           },
           "zaxis": {
            "backgroundcolor": "#E5ECF6",
            "gridcolor": "white",
            "gridwidth": 2,
            "linecolor": "white",
            "showbackground": true,
            "ticks": "",
            "zerolinecolor": "white"
           }
          },
          "shapedefaults": {
           "line": {
            "color": "#2a3f5f"
           }
          },
          "ternary": {
           "aaxis": {
            "gridcolor": "white",
            "linecolor": "white",
            "ticks": ""
           },
           "baxis": {
            "gridcolor": "white",
            "linecolor": "white",
            "ticks": ""
           },
           "bgcolor": "#E5ECF6",
           "caxis": {
            "gridcolor": "white",
            "linecolor": "white",
            "ticks": ""
           }
          },
          "title": {
           "x": 0.05
          },
          "xaxis": {
           "automargin": true,
           "gridcolor": "white",
           "linecolor": "white",
           "ticks": "",
           "title": {
            "standoff": 15
           },
           "zerolinecolor": "white",
           "zerolinewidth": 2
          },
          "yaxis": {
           "automargin": true,
           "gridcolor": "white",
           "linecolor": "white",
           "ticks": "",
           "title": {
            "standoff": 15
           },
           "zerolinecolor": "white",
           "zerolinewidth": 2
          }
         }
        }
       }
      },
      "text/html": [
       "<div>                            <div id=\"723842d3-88be-4ad7-85fe-eda4125441c4\" class=\"plotly-graph-div\" style=\"height:525px; width:100%;\"></div>            <script type=\"text/javascript\">                require([\"plotly\"], function(Plotly) {                    window.PLOTLYENV=window.PLOTLYENV || {};                                    if (document.getElementById(\"723842d3-88be-4ad7-85fe-eda4125441c4\")) {                    Plotly.newPlot(                        \"723842d3-88be-4ad7-85fe-eda4125441c4\",                        [{\"branchvalues\": \"total\", \"domain\": {\"x\": [0.0, 1.0], \"y\": [0.0, 1.0]}, \"hovertemplate\": \"labels=%{label}<br>count=%{value}<br>parent=%{parent}<br>id=%{id}<extra></extra>\", \"ids\": [\"adapted sports\", \"aerobics\", \"aikido\", \"american football\", \"archery\", \"athletics\", \"australian football\", \"badminton\", \"baseball / softball\", \"basketball\", \"beach volleyball\", \"beachhandbal\", \"billiards\", \"bootcamp\", \"bounce\", \"bowling\", \"bowls\", \"boxing\", \"bridge\", \"canoeing\", \"capoeira\", \"cheerleading\", \"chess\", \"circus\", \"climbing\", \"cricket\", \"cycling\", \"dammen\", \"dance\", \"dragon boat racing\", \"equestrian\", \"fencing\", \"fitness\", \"floorball\", \"football\", \"frisbee\", \"futsal\", \"gaelic football\", \"go\", \"golf\", \"gymnastics\", \"handball\", \"hapkido\", \"hiking\", \"hockey\", \"ice hockey\", \"judo\", \"karate\", \"kickboxing\", \"korfball\", \"kung-fu\", \"lacrosse\", \"martial and strength sports\", \"multisport\", \"padel\", \"pencak silat\", \"pickleball\", \"rowing\", \"rugby\", \"running\", \"sailing\", \"skating\", \"sloeproeien\", \"squash\", \"sup\", \"surfing\", \"survivalrun\", \"swimming\", \"table tennis\", \"taekwondo\", \"tai chi\", \"target shooting\", \"tennis\", \"triathlon\", \"underwater sports\", \"urban sports\", \"volley-ball\", \"water polo\", \"yoga\"], \"labels\": [\"adapted sports\", \"aerobics\", \"aikido\", \"american football\", \"archery\", \"athletics\", \"australian football\", \"badminton\", \"baseball / softball\", \"basketball\", \"beach volleyball\", \"beachhandbal\", \"billiards\", \"bootcamp\", \"bounce\", \"bowling\", \"bowls\", \"boxing\", \"bridge\", \"canoeing\", \"capoeira\", \"cheerleading\", \"chess\", \"circus\", \"climbing\", \"cricket\", \"cycling\", \"dammen\", \"dance\", \"dragon boat racing\", \"equestrian\", \"fencing\", \"fitness\", \"floorball\", \"football\", \"frisbee\", \"futsal\", \"gaelic football\", \"go\", \"golf\", \"gymnastics\", \"handball\", \"hapkido\", \"hiking\", \"hockey\", \"ice hockey\", \"judo\", \"karate\", \"kickboxing\", \"korfball\", \"kung-fu\", \"lacrosse\", \"martial and strength sports\", \"multisport\", \"padel\", \"pencak silat\", \"pickleball\", \"rowing\", \"rugby\", \"running\", \"sailing\", \"skating\", \"sloeproeien\", \"squash\", \"sup\", \"surfing\", \"survivalrun\", \"swimming\", \"table tennis\", \"taekwondo\", \"tai chi\", \"target shooting\", \"tennis\", \"triathlon\", \"underwater sports\", \"urban sports\", \"volley-ball\", \"water polo\", \"yoga\"], \"name\": \"\", \"parents\": [\"\", \"\", \"\", \"\", \"\", \"\", \"\", \"\", \"\", \"\", \"\", \"\", \"\", \"\", \"\", \"\", \"\", \"\", \"\", \"\", \"\", \"\", \"\", \"\", \"\", \"\", \"\", \"\", \"\", \"\", \"\", \"\", \"\", \"\", \"\", \"\", \"\", \"\", \"\", \"\", \"\", \"\", \"\", \"\", \"\", \"\", \"\", \"\", \"\", \"\", \"\", \"\", \"\", \"\", \"\", \"\", \"\", \"\", \"\", \"\", \"\", \"\", \"\", \"\", \"\", \"\", \"\", \"\", \"\", \"\", \"\", \"\", \"\", \"\", \"\", \"\", \"\", \"\", \"\"], \"type\": \"treemap\", \"values\": [6, 3, 24, 2, 1, 6, 1, 15, 6, 26, 7, 1, 15, 3, 1, 3, 6, 8, 25, 10, 11, 4, 19, 3, 11, 6, 6, 2, 27, 1, 9, 6, 95, 1, 69, 2, 15, 1, 1, 8, 63, 11, 1, 3, 11, 1, 45, 18, 15, 11, 4, 2, 46, 3, 7, 5, 1, 9, 4, 5, 17, 23, 3, 9, 5, 4, 1, 44, 17, 5, 2, 10, 37, 2, 12, 11, 16, 6, 12]}],                        {\"legend\": {\"tracegroupgap\": 0}, \"margin\": {\"t\": 60}, \"template\": {\"data\": {\"bar\": [{\"error_x\": {\"color\": \"#2a3f5f\"}, \"error_y\": {\"color\": \"#2a3f5f\"}, \"marker\": {\"line\": {\"color\": \"#E5ECF6\", \"width\": 0.5}}, \"type\": \"bar\"}], \"barpolar\": [{\"marker\": {\"line\": {\"color\": \"#E5ECF6\", \"width\": 0.5}}, \"type\": \"barpolar\"}], \"carpet\": [{\"aaxis\": {\"endlinecolor\": \"#2a3f5f\", \"gridcolor\": \"white\", \"linecolor\": \"white\", \"minorgridcolor\": \"white\", \"startlinecolor\": \"#2a3f5f\"}, \"baxis\": {\"endlinecolor\": \"#2a3f5f\", \"gridcolor\": \"white\", \"linecolor\": \"white\", \"minorgridcolor\": \"white\", \"startlinecolor\": \"#2a3f5f\"}, \"type\": \"carpet\"}], \"choropleth\": [{\"colorbar\": {\"outlinewidth\": 0, \"ticks\": \"\"}, \"type\": \"choropleth\"}], \"contour\": [{\"colorbar\": {\"outlinewidth\": 0, \"ticks\": \"\"}, \"colorscale\": [[0.0, \"#0d0887\"], [0.1111111111111111, \"#46039f\"], [0.2222222222222222, \"#7201a8\"], [0.3333333333333333, \"#9c179e\"], [0.4444444444444444, \"#bd3786\"], [0.5555555555555556, \"#d8576b\"], [0.6666666666666666, \"#ed7953\"], [0.7777777777777778, \"#fb9f3a\"], [0.8888888888888888, \"#fdca26\"], [1.0, \"#f0f921\"]], \"type\": \"contour\"}], \"contourcarpet\": [{\"colorbar\": {\"outlinewidth\": 0, \"ticks\": \"\"}, \"type\": \"contourcarpet\"}], \"heatmap\": [{\"colorbar\": {\"outlinewidth\": 0, \"ticks\": \"\"}, \"colorscale\": [[0.0, \"#0d0887\"], [0.1111111111111111, \"#46039f\"], [0.2222222222222222, \"#7201a8\"], [0.3333333333333333, \"#9c179e\"], [0.4444444444444444, \"#bd3786\"], [0.5555555555555556, \"#d8576b\"], [0.6666666666666666, \"#ed7953\"], [0.7777777777777778, \"#fb9f3a\"], [0.8888888888888888, \"#fdca26\"], [1.0, \"#f0f921\"]], \"type\": \"heatmap\"}], \"heatmapgl\": [{\"colorbar\": {\"outlinewidth\": 0, \"ticks\": \"\"}, \"colorscale\": [[0.0, \"#0d0887\"], [0.1111111111111111, \"#46039f\"], [0.2222222222222222, \"#7201a8\"], [0.3333333333333333, \"#9c179e\"], [0.4444444444444444, \"#bd3786\"], [0.5555555555555556, \"#d8576b\"], [0.6666666666666666, \"#ed7953\"], [0.7777777777777778, \"#fb9f3a\"], [0.8888888888888888, \"#fdca26\"], [1.0, \"#f0f921\"]], \"type\": \"heatmapgl\"}], \"histogram\": [{\"marker\": {\"colorbar\": {\"outlinewidth\": 0, \"ticks\": \"\"}}, \"type\": \"histogram\"}], \"histogram2d\": [{\"colorbar\": {\"outlinewidth\": 0, \"ticks\": \"\"}, \"colorscale\": [[0.0, \"#0d0887\"], [0.1111111111111111, \"#46039f\"], [0.2222222222222222, \"#7201a8\"], [0.3333333333333333, \"#9c179e\"], [0.4444444444444444, \"#bd3786\"], [0.5555555555555556, \"#d8576b\"], [0.6666666666666666, \"#ed7953\"], [0.7777777777777778, \"#fb9f3a\"], [0.8888888888888888, \"#fdca26\"], [1.0, \"#f0f921\"]], \"type\": \"histogram2d\"}], \"histogram2dcontour\": [{\"colorbar\": {\"outlinewidth\": 0, \"ticks\": \"\"}, \"colorscale\": [[0.0, \"#0d0887\"], [0.1111111111111111, \"#46039f\"], [0.2222222222222222, \"#7201a8\"], [0.3333333333333333, \"#9c179e\"], [0.4444444444444444, \"#bd3786\"], [0.5555555555555556, \"#d8576b\"], [0.6666666666666666, \"#ed7953\"], [0.7777777777777778, \"#fb9f3a\"], [0.8888888888888888, \"#fdca26\"], [1.0, \"#f0f921\"]], \"type\": \"histogram2dcontour\"}], \"mesh3d\": [{\"colorbar\": {\"outlinewidth\": 0, \"ticks\": \"\"}, \"type\": \"mesh3d\"}], \"parcoords\": [{\"line\": {\"colorbar\": {\"outlinewidth\": 0, \"ticks\": \"\"}}, \"type\": \"parcoords\"}], \"pie\": [{\"automargin\": true, \"type\": \"pie\"}], \"scatter\": [{\"marker\": {\"colorbar\": {\"outlinewidth\": 0, \"ticks\": \"\"}}, \"type\": \"scatter\"}], \"scatter3d\": [{\"line\": {\"colorbar\": {\"outlinewidth\": 0, \"ticks\": \"\"}}, \"marker\": {\"colorbar\": {\"outlinewidth\": 0, \"ticks\": \"\"}}, \"type\": \"scatter3d\"}], \"scattercarpet\": [{\"marker\": {\"colorbar\": {\"outlinewidth\": 0, \"ticks\": \"\"}}, \"type\": \"scattercarpet\"}], \"scattergeo\": [{\"marker\": {\"colorbar\": {\"outlinewidth\": 0, \"ticks\": \"\"}}, \"type\": \"scattergeo\"}], \"scattergl\": [{\"marker\": {\"colorbar\": {\"outlinewidth\": 0, \"ticks\": \"\"}}, \"type\": \"scattergl\"}], \"scattermapbox\": [{\"marker\": {\"colorbar\": {\"outlinewidth\": 0, \"ticks\": \"\"}}, \"type\": \"scattermapbox\"}], \"scatterpolar\": [{\"marker\": {\"colorbar\": {\"outlinewidth\": 0, \"ticks\": \"\"}}, \"type\": \"scatterpolar\"}], \"scatterpolargl\": [{\"marker\": {\"colorbar\": {\"outlinewidth\": 0, \"ticks\": \"\"}}, \"type\": \"scatterpolargl\"}], \"scatterternary\": [{\"marker\": {\"colorbar\": {\"outlinewidth\": 0, \"ticks\": \"\"}}, \"type\": \"scatterternary\"}], \"surface\": [{\"colorbar\": {\"outlinewidth\": 0, \"ticks\": \"\"}, \"colorscale\": [[0.0, \"#0d0887\"], [0.1111111111111111, \"#46039f\"], [0.2222222222222222, \"#7201a8\"], [0.3333333333333333, \"#9c179e\"], [0.4444444444444444, \"#bd3786\"], [0.5555555555555556, \"#d8576b\"], [0.6666666666666666, \"#ed7953\"], [0.7777777777777778, \"#fb9f3a\"], [0.8888888888888888, \"#fdca26\"], [1.0, \"#f0f921\"]], \"type\": \"surface\"}], \"table\": [{\"cells\": {\"fill\": {\"color\": \"#EBF0F8\"}, \"line\": {\"color\": \"white\"}}, \"header\": {\"fill\": {\"color\": \"#C8D4E3\"}, \"line\": {\"color\": \"white\"}}, \"type\": \"table\"}]}, \"layout\": {\"annotationdefaults\": {\"arrowcolor\": \"#2a3f5f\", \"arrowhead\": 0, \"arrowwidth\": 1}, \"autotypenumbers\": \"strict\", \"coloraxis\": {\"colorbar\": {\"outlinewidth\": 0, \"ticks\": \"\"}}, \"colorscale\": {\"diverging\": [[0, \"#8e0152\"], [0.1, \"#c51b7d\"], [0.2, \"#de77ae\"], [0.3, \"#f1b6da\"], [0.4, \"#fde0ef\"], [0.5, \"#f7f7f7\"], [0.6, \"#e6f5d0\"], [0.7, \"#b8e186\"], [0.8, \"#7fbc41\"], [0.9, \"#4d9221\"], [1, \"#276419\"]], \"sequential\": [[0.0, \"#0d0887\"], [0.1111111111111111, \"#46039f\"], [0.2222222222222222, \"#7201a8\"], [0.3333333333333333, \"#9c179e\"], [0.4444444444444444, \"#bd3786\"], [0.5555555555555556, \"#d8576b\"], [0.6666666666666666, \"#ed7953\"], [0.7777777777777778, \"#fb9f3a\"], [0.8888888888888888, \"#fdca26\"], [1.0, \"#f0f921\"]], \"sequentialminus\": [[0.0, \"#0d0887\"], [0.1111111111111111, \"#46039f\"], [0.2222222222222222, \"#7201a8\"], [0.3333333333333333, \"#9c179e\"], [0.4444444444444444, \"#bd3786\"], [0.5555555555555556, \"#d8576b\"], [0.6666666666666666, \"#ed7953\"], [0.7777777777777778, \"#fb9f3a\"], [0.8888888888888888, \"#fdca26\"], [1.0, \"#f0f921\"]]}, \"colorway\": [\"#636efa\", \"#EF553B\", \"#00cc96\", \"#ab63fa\", \"#FFA15A\", \"#19d3f3\", \"#FF6692\", \"#B6E880\", \"#FF97FF\", \"#FECB52\"], \"font\": {\"color\": \"#2a3f5f\"}, \"geo\": {\"bgcolor\": \"white\", \"lakecolor\": \"white\", \"landcolor\": \"#E5ECF6\", \"showlakes\": true, \"showland\": true, \"subunitcolor\": \"white\"}, \"hoverlabel\": {\"align\": \"left\"}, \"hovermode\": \"closest\", \"mapbox\": {\"style\": \"light\"}, \"paper_bgcolor\": \"white\", \"plot_bgcolor\": \"#E5ECF6\", \"polar\": {\"angularaxis\": {\"gridcolor\": \"white\", \"linecolor\": \"white\", \"ticks\": \"\"}, \"bgcolor\": \"#E5ECF6\", \"radialaxis\": {\"gridcolor\": \"white\", \"linecolor\": \"white\", \"ticks\": \"\"}}, \"scene\": {\"xaxis\": {\"backgroundcolor\": \"#E5ECF6\", \"gridcolor\": \"white\", \"gridwidth\": 2, \"linecolor\": \"white\", \"showbackground\": true, \"ticks\": \"\", \"zerolinecolor\": \"white\"}, \"yaxis\": {\"backgroundcolor\": \"#E5ECF6\", \"gridcolor\": \"white\", \"gridwidth\": 2, \"linecolor\": \"white\", \"showbackground\": true, \"ticks\": \"\", \"zerolinecolor\": \"white\"}, \"zaxis\": {\"backgroundcolor\": \"#E5ECF6\", \"gridcolor\": \"white\", \"gridwidth\": 2, \"linecolor\": \"white\", \"showbackground\": true, \"ticks\": \"\", \"zerolinecolor\": \"white\"}}, \"shapedefaults\": {\"line\": {\"color\": \"#2a3f5f\"}}, \"ternary\": {\"aaxis\": {\"gridcolor\": \"white\", \"linecolor\": \"white\", \"ticks\": \"\"}, \"baxis\": {\"gridcolor\": \"white\", \"linecolor\": \"white\", \"ticks\": \"\"}, \"bgcolor\": \"#E5ECF6\", \"caxis\": {\"gridcolor\": \"white\", \"linecolor\": \"white\", \"ticks\": \"\"}}, \"title\": {\"x\": 0.05}, \"xaxis\": {\"automargin\": true, \"gridcolor\": \"white\", \"linecolor\": \"white\", \"ticks\": \"\", \"title\": {\"standoff\": 15}, \"zerolinecolor\": \"white\", \"zerolinewidth\": 2}, \"yaxis\": {\"automargin\": true, \"gridcolor\": \"white\", \"linecolor\": \"white\", \"ticks\": \"\", \"title\": {\"standoff\": 15}, \"zerolinecolor\": \"white\", \"zerolinewidth\": 2}}}},                        {\"responsive\": true}                    ).then(function(){\n",
       "                            \n",
       "var gd = document.getElementById('723842d3-88be-4ad7-85fe-eda4125441c4');\n",
       "var x = new MutationObserver(function (mutations, observer) {{\n",
       "        var display = window.getComputedStyle(gd).display;\n",
       "        if (!display || display === 'none') {{\n",
       "            console.log([gd, 'removed!']);\n",
       "            Plotly.purge(gd);\n",
       "            observer.disconnect();\n",
       "        }}\n",
       "}});\n",
       "\n",
       "// Listen for the removal of the full notebook cells\n",
       "var notebookContainer = gd.closest('#notebook-container');\n",
       "if (notebookContainer) {{\n",
       "    x.observe(notebookContainer, {childList: true});\n",
       "}}\n",
       "\n",
       "// Listen for the clearing of the current output cell\n",
       "var outputEl = gd.closest('.output');\n",
       "if (outputEl) {{\n",
       "    x.observe(outputEl, {childList: true});\n",
       "}}\n",
       "\n",
       "                        })                };                });            </script>        </div>"
      ]
     },
     "metadata": {},
     "output_type": "display_data"
    }
   ],
   "source": [
    "fig = px.treemap(df, \n",
    "                 path = [\"Sport_en\"],\n",
    "                )\n",
    "fig.show()\n"
   ]
  },
  {
   "cell_type": "code",
   "execution_count": 198,
   "id": "creative-keeping",
   "metadata": {},
   "outputs": [],
   "source": [
    "fig.write_html(\"../plots/all_sports.html\")"
   ]
  },
  {
   "cell_type": "code",
   "execution_count": 74,
   "id": "decent-orleans",
   "metadata": {
    "scrolled": true
   },
   "outputs": [
    {
     "data": {
      "application/vnd.plotly.v1+json": {
       "config": {
        "plotlyServerURL": "https://plot.ly"
       },
       "data": [
        {
         "branchvalues": "total",
         "domain": {
          "x": [
           0,
           1
          ],
          "y": [
           0,
           1
          ]
         },
         "hovertemplate": "labels=%{label}<br>count=%{value}<br>parent=%{parent}<br>id=%{id}<extra></extra>",
         "ids": [
          "adapted sports/Centrum",
          "aikido/Centrum",
          "bowling/Centrum",
          "boxing/Centrum",
          "bridge/Centrum",
          "chess/Centrum",
          "circus/Centrum",
          "climbing/Centrum",
          "dance/Centrum",
          "fitness/Centrum",
          "floorball/Centrum",
          "futsal/Centrum",
          "go/Centrum",
          "gymnastics/Centrum",
          "hiking/Centrum",
          "judo/Centrum",
          "karate/Centrum",
          "korfball/Centrum",
          "rowing/Centrum",
          "sailing/Centrum",
          "screens/Centrum",
          "skating/Centrum",
          "sloeproeien/Centrum",
          "squash/Centrum",
          "swimming/Centrum",
          "target shooting/Centrum",
          "tennis/Centrum",
          "volley-ball/Centrum",
          "yoga/Centrum",
          "adapted sports/Nieuw-West",
          "aerobics/Nieuw-West",
          "aikido/Nieuw-West",
          "american football/Nieuw-West",
          "archery/Nieuw-West",
          "athletics/Nieuw-West",
          "australian football/Nieuw-West",
          "badminton/Nieuw-West",
          "baseball / softball/Nieuw-West",
          "basketball/Nieuw-West",
          "beach volleyball/Nieuw-West",
          "beachhandbal/Nieuw-West",
          "billiards/Nieuw-West",
          "bootcamp/Nieuw-West",
          "bounce/Nieuw-West",
          "bowls/Nieuw-West",
          "bridge/Nieuw-West",
          "canoeing/Nieuw-West",
          "cheerleading/Nieuw-West",
          "circus/Nieuw-West",
          "climbing/Nieuw-West",
          "cricket/Nieuw-West",
          "cycling/Nieuw-West",
          "dance/Nieuw-West",
          "equestrian/Nieuw-West",
          "fitness/Nieuw-West",
          "football/Nieuw-West",
          "frisbee/Nieuw-West",
          "futsal/Nieuw-West",
          "gaelic football/Nieuw-West",
          "golf/Nieuw-West",
          "gymnastics/Nieuw-West",
          "handball/Nieuw-West",
          "hockey/Nieuw-West",
          "judo/Nieuw-West",
          "karate/Nieuw-West",
          "kickboxing/Nieuw-West",
          "korfball/Nieuw-West",
          "kung-fu/Nieuw-West",
          "lawn bowling/Nieuw-West",
          "martial and strength sports/Nieuw-West",
          "padel/Nieuw-West",
          "pencak silat/Nieuw-West",
          "rugby/Nieuw-West",
          "running/Nieuw-West",
          "sailing/Nieuw-West",
          "squash/Nieuw-West",
          "surfing/Nieuw-West",
          "survivalrun/Nieuw-West",
          "swimming/Nieuw-West",
          "table tennis/Nieuw-West",
          "taekwondo/Nieuw-West",
          "target shooting/Nieuw-West",
          "tennis/Nieuw-West",
          "triathlon/Nieuw-West",
          "underwater sports/Nieuw-West",
          "urban sports/Nieuw-West",
          "volley-ball/Nieuw-West",
          "water polo/Nieuw-West",
          "yoga/Nieuw-West",
          "adapted sports/Noord",
          "aikido/Noord",
          "athletics/Noord",
          "badminton/Noord",
          "baseball / softball/Noord",
          "basketball/Noord",
          "billiards/Noord",
          "bootcamp/Noord",
          "bridge/Noord",
          "canoeing/Noord",
          "capoeira/Noord",
          "chess/Noord",
          "climbing/Noord",
          "cycling/Noord",
          "dance/Noord",
          "equestrian/Noord",
          "fitness/Noord",
          "football/Noord",
          "futsal/Noord",
          "golf/Noord",
          "gymnastics/Noord",
          "handball/Noord",
          "hockey/Noord",
          "judo/Noord",
          "karate/Noord",
          "kickboxing/Noord",
          "korfball/Noord",
          "lawn bowling/Noord",
          "martial and strength sports/Noord",
          "rugby/Noord",
          "sailing/Noord",
          "skating/Noord",
          "swimming/Noord",
          "table tennis/Noord",
          "taekwondo/Noord",
          "target shooting/Noord",
          "tennis/Noord",
          "underwater sports/Noord",
          "urban sports/Noord",
          "volley-ball/Noord",
          "water polo/Noord",
          "yoga/Noord",
          "aikido/Oost",
          "athletics/Oost",
          "badminton/Oost",
          "baseball / softball/Oost",
          "basketball/Oost",
          "beach volleyball/Oost",
          "billiards/Oost",
          "boxing/Oost",
          "bridge/Oost",
          "canoeing/Oost",
          "capoeira/Oost",
          "cheerleading/Oost",
          "chess/Oost",
          "circus/Oost",
          "climbing/Oost",
          "cricket/Oost",
          "dance/Oost",
          "fitness/Oost",
          "football/Oost",
          "frisbee/Oost",
          "futsal/Oost",
          "gymnastics/Oost",
          "handball/Oost",
          "hiking/Oost",
          "hockey/Oost",
          "ice hockey/Oost",
          "judo/Oost",
          "kickboxing/Oost",
          "korfball/Oost",
          "lacrosse/Oost",
          "lawn bowling/Oost",
          "martial and strength sports/Oost",
          "multisport/Oost",
          "padel/Oost",
          "pencak silat/Oost",
          "pickleball/Oost",
          "rowing/Oost",
          "running/Oost",
          "sailing/Oost",
          "skating/Oost",
          "sloeproeien/Oost",
          "squash/Oost",
          "sup/Oost",
          "surfing/Oost",
          "swimming/Oost",
          "table tennis/Oost",
          "taekwondo/Oost",
          "target shooting/Oost",
          "tennis/Oost",
          "urban sports/Oost",
          "volley-ball/Oost",
          "water polo/Oost",
          "adapted sports/West",
          "aikido/West",
          "badminton/West",
          "basketball/West",
          "billiards/West",
          "bootcamp/West",
          "boxing/West",
          "bridge/West",
          "capoeira/West",
          "chess/West",
          "climbing/West",
          "dammen/West",
          "dance/West",
          "equestrian/West",
          "fitness/West",
          "football/West",
          "gymnastics/West",
          "judo/West",
          "karate/West",
          "kickboxing/West",
          "korfball/West",
          "martial and strength sports/West",
          "running/West",
          "swimming/West",
          "table tennis/West",
          "taekwondo/West",
          "target shooting/West",
          "tennis/West",
          "urban sports/West",
          "volley-ball/West",
          "yoga/West",
          "padel/Westpoort",
          "aikido/Zuid",
          "athletics/Zuid",
          "badminton/Zuid",
          "basketball/Zuid",
          "beach volleyball/Zuid",
          "billiards/Zuid",
          "bowling/Zuid",
          "boxing/Zuid",
          "bridge/Zuid",
          "capoeira/Zuid",
          "cheerleading/Zuid",
          "chess/Zuid",
          "climbing/Zuid",
          "cricket/Zuid",
          "cycling/Zuid",
          "dammen/Zuid",
          "dance/Zuid",
          "equestrian/Zuid",
          "fitness/Zuid",
          "football/Zuid",
          "futsal/Zuid",
          "golf/Zuid",
          "gymnastics/Zuid",
          "handball/Zuid",
          "hapkido/Zuid",
          "hiking/Zuid",
          "hockey/Zuid",
          "judo/Zuid",
          "karate/Zuid",
          "korfball/Zuid",
          "martial and strength sports/Zuid",
          "multisport/Zuid",
          "padel/Zuid",
          "rowing/Zuid",
          "sailing/Zuid",
          "screens/Zuid",
          "sloeproeien/Zuid",
          "squash/Zuid",
          "sup/Zuid",
          "swimming/Zuid",
          "table tennis/Zuid",
          "tai chi/Zuid",
          "tennis/Zuid",
          "underwater sports/Zuid",
          "urban sports/Zuid",
          "volley-ball/Zuid",
          "water polo/Zuid",
          "yoga/Zuid",
          "adapted sports/Zuidoost",
          "aerobics/Zuidoost",
          "athletics/Zuidoost",
          "badminton/Zuidoost",
          "baseball / softball/Zuidoost",
          "basketball/Zuidoost",
          "beach volleyball/Zuidoost",
          "bowling/Zuidoost",
          "bowls/Zuidoost",
          "boxing/Zuidoost",
          "bridge/Zuidoost",
          "canoeing/Zuidoost",
          "capoeira/Zuidoost",
          "cheerleading/Zuidoost",
          "chess/Zuidoost",
          "cricket/Zuidoost",
          "dragon boat racing/Zuidoost",
          "fitness/Zuidoost",
          "football/Zuidoost",
          "futsal/Zuidoost",
          "golf/Zuidoost",
          "gymnastics/Zuidoost",
          "hockey/Zuidoost",
          "judo/Zuidoost",
          "karate/Zuidoost",
          "kickboxing/Zuidoost",
          "korfball/Zuidoost",
          "martial and strength sports/Zuidoost",
          "pencak silat/Zuidoost",
          "sailing/Zuidoost",
          "surfing/Zuidoost",
          "swimming/Zuidoost",
          "table tennis/Zuidoost",
          "tennis/Zuidoost",
          "triathlon/Zuidoost",
          "urban sports/Zuidoost",
          "volley-ball/Zuidoost",
          "water polo/Zuidoost",
          "yoga/Zuidoost",
          "adapted sports",
          "aerobics",
          "aikido",
          "american football",
          "archery",
          "athletics",
          "australian football",
          "badminton",
          "baseball / softball",
          "basketball",
          "beach volleyball",
          "beachhandbal",
          "billiards",
          "bootcamp",
          "bounce",
          "bowling",
          "bowls",
          "boxing",
          "bridge",
          "canoeing",
          "capoeira",
          "cheerleading",
          "chess",
          "circus",
          "climbing",
          "cricket",
          "cycling",
          "dammen",
          "dance",
          "dragon boat racing",
          "equestrian",
          "fitness",
          "floorball",
          "football",
          "frisbee",
          "futsal",
          "gaelic football",
          "go",
          "golf",
          "gymnastics",
          "handball",
          "hapkido",
          "hiking",
          "hockey",
          "ice hockey",
          "judo",
          "karate",
          "kickboxing",
          "korfball",
          "kung-fu",
          "lacrosse",
          "lawn bowling",
          "martial and strength sports",
          "multisport",
          "padel",
          "pencak silat",
          "pickleball",
          "rowing",
          "rugby",
          "running",
          "sailing",
          "screens",
          "skating",
          "sloeproeien",
          "squash",
          "sup",
          "surfing",
          "survivalrun",
          "swimming",
          "table tennis",
          "taekwondo",
          "tai chi",
          "target shooting",
          "tennis",
          "triathlon",
          "underwater sports",
          "urban sports",
          "volley-ball",
          "water polo",
          "yoga"
         ],
         "labels": [
          "Centrum",
          "Centrum",
          "Centrum",
          "Centrum",
          "Centrum",
          "Centrum",
          "Centrum",
          "Centrum",
          "Centrum",
          "Centrum",
          "Centrum",
          "Centrum",
          "Centrum",
          "Centrum",
          "Centrum",
          "Centrum",
          "Centrum",
          "Centrum",
          "Centrum",
          "Centrum",
          "Centrum",
          "Centrum",
          "Centrum",
          "Centrum",
          "Centrum",
          "Centrum",
          "Centrum",
          "Centrum",
          "Centrum",
          "Nieuw-West",
          "Nieuw-West",
          "Nieuw-West",
          "Nieuw-West",
          "Nieuw-West",
          "Nieuw-West",
          "Nieuw-West",
          "Nieuw-West",
          "Nieuw-West",
          "Nieuw-West",
          "Nieuw-West",
          "Nieuw-West",
          "Nieuw-West",
          "Nieuw-West",
          "Nieuw-West",
          "Nieuw-West",
          "Nieuw-West",
          "Nieuw-West",
          "Nieuw-West",
          "Nieuw-West",
          "Nieuw-West",
          "Nieuw-West",
          "Nieuw-West",
          "Nieuw-West",
          "Nieuw-West",
          "Nieuw-West",
          "Nieuw-West",
          "Nieuw-West",
          "Nieuw-West",
          "Nieuw-West",
          "Nieuw-West",
          "Nieuw-West",
          "Nieuw-West",
          "Nieuw-West",
          "Nieuw-West",
          "Nieuw-West",
          "Nieuw-West",
          "Nieuw-West",
          "Nieuw-West",
          "Nieuw-West",
          "Nieuw-West",
          "Nieuw-West",
          "Nieuw-West",
          "Nieuw-West",
          "Nieuw-West",
          "Nieuw-West",
          "Nieuw-West",
          "Nieuw-West",
          "Nieuw-West",
          "Nieuw-West",
          "Nieuw-West",
          "Nieuw-West",
          "Nieuw-West",
          "Nieuw-West",
          "Nieuw-West",
          "Nieuw-West",
          "Nieuw-West",
          "Nieuw-West",
          "Nieuw-West",
          "Nieuw-West",
          "Noord",
          "Noord",
          "Noord",
          "Noord",
          "Noord",
          "Noord",
          "Noord",
          "Noord",
          "Noord",
          "Noord",
          "Noord",
          "Noord",
          "Noord",
          "Noord",
          "Noord",
          "Noord",
          "Noord",
          "Noord",
          "Noord",
          "Noord",
          "Noord",
          "Noord",
          "Noord",
          "Noord",
          "Noord",
          "Noord",
          "Noord",
          "Noord",
          "Noord",
          "Noord",
          "Noord",
          "Noord",
          "Noord",
          "Noord",
          "Noord",
          "Noord",
          "Noord",
          "Noord",
          "Noord",
          "Noord",
          "Noord",
          "Noord",
          "Oost",
          "Oost",
          "Oost",
          "Oost",
          "Oost",
          "Oost",
          "Oost",
          "Oost",
          "Oost",
          "Oost",
          "Oost",
          "Oost",
          "Oost",
          "Oost",
          "Oost",
          "Oost",
          "Oost",
          "Oost",
          "Oost",
          "Oost",
          "Oost",
          "Oost",
          "Oost",
          "Oost",
          "Oost",
          "Oost",
          "Oost",
          "Oost",
          "Oost",
          "Oost",
          "Oost",
          "Oost",
          "Oost",
          "Oost",
          "Oost",
          "Oost",
          "Oost",
          "Oost",
          "Oost",
          "Oost",
          "Oost",
          "Oost",
          "Oost",
          "Oost",
          "Oost",
          "Oost",
          "Oost",
          "Oost",
          "Oost",
          "Oost",
          "Oost",
          "Oost",
          "West",
          "West",
          "West",
          "West",
          "West",
          "West",
          "West",
          "West",
          "West",
          "West",
          "West",
          "West",
          "West",
          "West",
          "West",
          "West",
          "West",
          "West",
          "West",
          "West",
          "West",
          "West",
          "West",
          "West",
          "West",
          "West",
          "West",
          "West",
          "West",
          "West",
          "West",
          "Westpoort",
          "Zuid",
          "Zuid",
          "Zuid",
          "Zuid",
          "Zuid",
          "Zuid",
          "Zuid",
          "Zuid",
          "Zuid",
          "Zuid",
          "Zuid",
          "Zuid",
          "Zuid",
          "Zuid",
          "Zuid",
          "Zuid",
          "Zuid",
          "Zuid",
          "Zuid",
          "Zuid",
          "Zuid",
          "Zuid",
          "Zuid",
          "Zuid",
          "Zuid",
          "Zuid",
          "Zuid",
          "Zuid",
          "Zuid",
          "Zuid",
          "Zuid",
          "Zuid",
          "Zuid",
          "Zuid",
          "Zuid",
          "Zuid",
          "Zuid",
          "Zuid",
          "Zuid",
          "Zuid",
          "Zuid",
          "Zuid",
          "Zuid",
          "Zuid",
          "Zuid",
          "Zuid",
          "Zuid",
          "Zuid",
          "Zuidoost",
          "Zuidoost",
          "Zuidoost",
          "Zuidoost",
          "Zuidoost",
          "Zuidoost",
          "Zuidoost",
          "Zuidoost",
          "Zuidoost",
          "Zuidoost",
          "Zuidoost",
          "Zuidoost",
          "Zuidoost",
          "Zuidoost",
          "Zuidoost",
          "Zuidoost",
          "Zuidoost",
          "Zuidoost",
          "Zuidoost",
          "Zuidoost",
          "Zuidoost",
          "Zuidoost",
          "Zuidoost",
          "Zuidoost",
          "Zuidoost",
          "Zuidoost",
          "Zuidoost",
          "Zuidoost",
          "Zuidoost",
          "Zuidoost",
          "Zuidoost",
          "Zuidoost",
          "Zuidoost",
          "Zuidoost",
          "Zuidoost",
          "Zuidoost",
          "Zuidoost",
          "Zuidoost",
          "Zuidoost",
          "adapted sports",
          "aerobics",
          "aikido",
          "american football",
          "archery",
          "athletics",
          "australian football",
          "badminton",
          "baseball / softball",
          "basketball",
          "beach volleyball",
          "beachhandbal",
          "billiards",
          "bootcamp",
          "bounce",
          "bowling",
          "bowls",
          "boxing",
          "bridge",
          "canoeing",
          "capoeira",
          "cheerleading",
          "chess",
          "circus",
          "climbing",
          "cricket",
          "cycling",
          "dammen",
          "dance",
          "dragon boat racing",
          "equestrian",
          "fitness",
          "floorball",
          "football",
          "frisbee",
          "futsal",
          "gaelic football",
          "go",
          "golf",
          "gymnastics",
          "handball",
          "hapkido",
          "hiking",
          "hockey",
          "ice hockey",
          "judo",
          "karate",
          "kickboxing",
          "korfball",
          "kung-fu",
          "lacrosse",
          "lawn bowling",
          "martial and strength sports",
          "multisport",
          "padel",
          "pencak silat",
          "pickleball",
          "rowing",
          "rugby",
          "running",
          "sailing",
          "screens",
          "skating",
          "sloeproeien",
          "squash",
          "sup",
          "surfing",
          "survivalrun",
          "swimming",
          "table tennis",
          "taekwondo",
          "tai chi",
          "target shooting",
          "tennis",
          "triathlon",
          "underwater sports",
          "urban sports",
          "volley-ball",
          "water polo",
          "yoga"
         ],
         "maxdepth": 1,
         "name": "",
         "parents": [
          "adapted sports",
          "aikido",
          "bowling",
          "boxing",
          "bridge",
          "chess",
          "circus",
          "climbing",
          "dance",
          "fitness",
          "floorball",
          "futsal",
          "go",
          "gymnastics",
          "hiking",
          "judo",
          "karate",
          "korfball",
          "rowing",
          "sailing",
          "screens",
          "skating",
          "sloeproeien",
          "squash",
          "swimming",
          "target shooting",
          "tennis",
          "volley-ball",
          "yoga",
          "adapted sports",
          "aerobics",
          "aikido",
          "american football",
          "archery",
          "athletics",
          "australian football",
          "badminton",
          "baseball / softball",
          "basketball",
          "beach volleyball",
          "beachhandbal",
          "billiards",
          "bootcamp",
          "bounce",
          "bowls",
          "bridge",
          "canoeing",
          "cheerleading",
          "circus",
          "climbing",
          "cricket",
          "cycling",
          "dance",
          "equestrian",
          "fitness",
          "football",
          "frisbee",
          "futsal",
          "gaelic football",
          "golf",
          "gymnastics",
          "handball",
          "hockey",
          "judo",
          "karate",
          "kickboxing",
          "korfball",
          "kung-fu",
          "lawn bowling",
          "martial and strength sports",
          "padel",
          "pencak silat",
          "rugby",
          "running",
          "sailing",
          "squash",
          "surfing",
          "survivalrun",
          "swimming",
          "table tennis",
          "taekwondo",
          "target shooting",
          "tennis",
          "triathlon",
          "underwater sports",
          "urban sports",
          "volley-ball",
          "water polo",
          "yoga",
          "adapted sports",
          "aikido",
          "athletics",
          "badminton",
          "baseball / softball",
          "basketball",
          "billiards",
          "bootcamp",
          "bridge",
          "canoeing",
          "capoeira",
          "chess",
          "climbing",
          "cycling",
          "dance",
          "equestrian",
          "fitness",
          "football",
          "futsal",
          "golf",
          "gymnastics",
          "handball",
          "hockey",
          "judo",
          "karate",
          "kickboxing",
          "korfball",
          "lawn bowling",
          "martial and strength sports",
          "rugby",
          "sailing",
          "skating",
          "swimming",
          "table tennis",
          "taekwondo",
          "target shooting",
          "tennis",
          "underwater sports",
          "urban sports",
          "volley-ball",
          "water polo",
          "yoga",
          "aikido",
          "athletics",
          "badminton",
          "baseball / softball",
          "basketball",
          "beach volleyball",
          "billiards",
          "boxing",
          "bridge",
          "canoeing",
          "capoeira",
          "cheerleading",
          "chess",
          "circus",
          "climbing",
          "cricket",
          "dance",
          "fitness",
          "football",
          "frisbee",
          "futsal",
          "gymnastics",
          "handball",
          "hiking",
          "hockey",
          "ice hockey",
          "judo",
          "kickboxing",
          "korfball",
          "lacrosse",
          "lawn bowling",
          "martial and strength sports",
          "multisport",
          "padel",
          "pencak silat",
          "pickleball",
          "rowing",
          "running",
          "sailing",
          "skating",
          "sloeproeien",
          "squash",
          "sup",
          "surfing",
          "swimming",
          "table tennis",
          "taekwondo",
          "target shooting",
          "tennis",
          "urban sports",
          "volley-ball",
          "water polo",
          "adapted sports",
          "aikido",
          "badminton",
          "basketball",
          "billiards",
          "bootcamp",
          "boxing",
          "bridge",
          "capoeira",
          "chess",
          "climbing",
          "dammen",
          "dance",
          "equestrian",
          "fitness",
          "football",
          "gymnastics",
          "judo",
          "karate",
          "kickboxing",
          "korfball",
          "martial and strength sports",
          "running",
          "swimming",
          "table tennis",
          "taekwondo",
          "target shooting",
          "tennis",
          "urban sports",
          "volley-ball",
          "yoga",
          "padel",
          "aikido",
          "athletics",
          "badminton",
          "basketball",
          "beach volleyball",
          "billiards",
          "bowling",
          "boxing",
          "bridge",
          "capoeira",
          "cheerleading",
          "chess",
          "climbing",
          "cricket",
          "cycling",
          "dammen",
          "dance",
          "equestrian",
          "fitness",
          "football",
          "futsal",
          "golf",
          "gymnastics",
          "handball",
          "hapkido",
          "hiking",
          "hockey",
          "judo",
          "karate",
          "korfball",
          "martial and strength sports",
          "multisport",
          "padel",
          "rowing",
          "sailing",
          "screens",
          "sloeproeien",
          "squash",
          "sup",
          "swimming",
          "table tennis",
          "tai chi",
          "tennis",
          "underwater sports",
          "urban sports",
          "volley-ball",
          "water polo",
          "yoga",
          "adapted sports",
          "aerobics",
          "athletics",
          "badminton",
          "baseball / softball",
          "basketball",
          "beach volleyball",
          "bowling",
          "bowls",
          "boxing",
          "bridge",
          "canoeing",
          "capoeira",
          "cheerleading",
          "chess",
          "cricket",
          "dragon boat racing",
          "fitness",
          "football",
          "futsal",
          "golf",
          "gymnastics",
          "hockey",
          "judo",
          "karate",
          "kickboxing",
          "korfball",
          "martial and strength sports",
          "pencak silat",
          "sailing",
          "surfing",
          "swimming",
          "table tennis",
          "tennis",
          "triathlon",
          "urban sports",
          "volley-ball",
          "water polo",
          "yoga",
          "",
          "",
          "",
          "",
          "",
          "",
          "",
          "",
          "",
          "",
          "",
          "",
          "",
          "",
          "",
          "",
          "",
          "",
          "",
          "",
          "",
          "",
          "",
          "",
          "",
          "",
          "",
          "",
          "",
          "",
          "",
          "",
          "",
          "",
          "",
          "",
          "",
          "",
          "",
          "",
          "",
          "",
          "",
          "",
          "",
          "",
          "",
          "",
          "",
          "",
          "",
          "",
          "",
          "",
          "",
          "",
          "",
          "",
          "",
          "",
          "",
          "",
          "",
          "",
          "",
          "",
          "",
          "",
          "",
          "",
          "",
          "",
          "",
          "",
          "",
          "",
          "",
          "",
          "",
          ""
         ],
         "type": "treemap",
         "values": [
          1,
          1,
          1,
          1,
          3,
          6,
          1,
          1,
          1,
          14,
          1,
          1,
          1,
          3,
          1,
          2,
          3,
          1,
          3,
          2,
          2,
          1,
          1,
          1,
          3,
          2,
          1,
          1,
          1,
          1,
          2,
          1,
          2,
          1,
          1,
          1,
          2,
          2,
          5,
          1,
          1,
          3,
          1,
          1,
          1,
          3,
          3,
          1,
          1,
          5,
          1,
          3,
          1,
          3,
          6,
          19,
          1,
          3,
          1,
          3,
          18,
          5,
          2,
          10,
          3,
          4,
          1,
          4,
          1,
          7,
          1,
          2,
          3,
          2,
          3,
          2,
          1,
          1,
          8,
          2,
          1,
          2,
          3,
          1,
          6,
          2,
          1,
          1,
          1,
          2,
          2,
          1,
          2,
          1,
          2,
          1,
          1,
          7,
          1,
          1,
          2,
          1,
          2,
          7,
          4,
          5,
          8,
          1,
          1,
          9,
          3,
          1,
          8,
          2,
          1,
          1,
          1,
          4,
          1,
          4,
          4,
          11,
          2,
          1,
          3,
          3,
          4,
          1,
          1,
          1,
          1,
          4,
          1,
          4,
          1,
          5,
          4,
          1,
          1,
          2,
          5,
          3,
          1,
          3,
          1,
          1,
          1,
          3,
          19,
          20,
          1,
          2,
          10,
          2,
          1,
          2,
          1,
          10,
          6,
          2,
          2,
          2,
          14,
          1,
          2,
          2,
          1,
          4,
          1,
          3,
          18,
          1,
          2,
          3,
          2,
          6,
          5,
          2,
          2,
          8,
          1,
          6,
          2,
          1,
          7,
          2,
          3,
          8,
          1,
          2,
          3,
          2,
          2,
          1,
          1,
          11,
          1,
          22,
          9,
          4,
          9,
          1,
          3,
          2,
          8,
          2,
          7,
          3,
          1,
          1,
          2,
          3,
          2,
          3,
          1,
          9,
          2,
          4,
          4,
          1,
          2,
          1,
          3,
          6,
          4,
          1,
          4,
          2,
          3,
          1,
          1,
          4,
          1,
          21,
          7,
          7,
          1,
          12,
          1,
          1,
          1,
          4,
          4,
          7,
          3,
          9,
          2,
          3,
          2,
          4,
          4,
          1,
          4,
          2,
          7,
          4,
          2,
          16,
          2,
          3,
          3,
          1,
          5,
          1,
          1,
          1,
          1,
          2,
          7,
          1,
          1,
          1,
          1,
          1,
          1,
          1,
          1,
          2,
          1,
          1,
          8,
          6,
          1,
          3,
          7,
          2,
          2,
          2,
          1,
          1,
          4,
          1,
          1,
          1,
          2,
          1,
          4,
          1,
          1,
          2,
          1,
          1,
          6,
          3,
          24,
          2,
          1,
          6,
          1,
          15,
          6,
          26,
          7,
          1,
          15,
          3,
          1,
          3,
          2,
          8,
          25,
          10,
          11,
          4,
          19,
          3,
          11,
          6,
          6,
          2,
          27,
          1,
          9,
          95,
          1,
          69,
          2,
          15,
          1,
          1,
          8,
          63,
          11,
          1,
          3,
          11,
          1,
          45,
          18,
          15,
          11,
          4,
          2,
          4,
          46,
          3,
          7,
          5,
          1,
          9,
          4,
          5,
          17,
          6,
          23,
          3,
          9,
          5,
          4,
          1,
          44,
          17,
          5,
          2,
          10,
          37,
          2,
          12,
          11,
          16,
          6,
          12
         ]
        }
       ],
       "layout": {
        "legend": {
         "tracegroupgap": 0
        },
        "margin": {
         "t": 60
        },
        "template": {
         "data": {
          "bar": [
           {
            "error_x": {
             "color": "#2a3f5f"
            },
            "error_y": {
             "color": "#2a3f5f"
            },
            "marker": {
             "line": {
              "color": "#E5ECF6",
              "width": 0.5
             }
            },
            "type": "bar"
           }
          ],
          "barpolar": [
           {
            "marker": {
             "line": {
              "color": "#E5ECF6",
              "width": 0.5
             }
            },
            "type": "barpolar"
           }
          ],
          "carpet": [
           {
            "aaxis": {
             "endlinecolor": "#2a3f5f",
             "gridcolor": "white",
             "linecolor": "white",
             "minorgridcolor": "white",
             "startlinecolor": "#2a3f5f"
            },
            "baxis": {
             "endlinecolor": "#2a3f5f",
             "gridcolor": "white",
             "linecolor": "white",
             "minorgridcolor": "white",
             "startlinecolor": "#2a3f5f"
            },
            "type": "carpet"
           }
          ],
          "choropleth": [
           {
            "colorbar": {
             "outlinewidth": 0,
             "ticks": ""
            },
            "type": "choropleth"
           }
          ],
          "contour": [
           {
            "colorbar": {
             "outlinewidth": 0,
             "ticks": ""
            },
            "colorscale": [
             [
              0,
              "#0d0887"
             ],
             [
              0.1111111111111111,
              "#46039f"
             ],
             [
              0.2222222222222222,
              "#7201a8"
             ],
             [
              0.3333333333333333,
              "#9c179e"
             ],
             [
              0.4444444444444444,
              "#bd3786"
             ],
             [
              0.5555555555555556,
              "#d8576b"
             ],
             [
              0.6666666666666666,
              "#ed7953"
             ],
             [
              0.7777777777777778,
              "#fb9f3a"
             ],
             [
              0.8888888888888888,
              "#fdca26"
             ],
             [
              1,
              "#f0f921"
             ]
            ],
            "type": "contour"
           }
          ],
          "contourcarpet": [
           {
            "colorbar": {
             "outlinewidth": 0,
             "ticks": ""
            },
            "type": "contourcarpet"
           }
          ],
          "heatmap": [
           {
            "colorbar": {
             "outlinewidth": 0,
             "ticks": ""
            },
            "colorscale": [
             [
              0,
              "#0d0887"
             ],
             [
              0.1111111111111111,
              "#46039f"
             ],
             [
              0.2222222222222222,
              "#7201a8"
             ],
             [
              0.3333333333333333,
              "#9c179e"
             ],
             [
              0.4444444444444444,
              "#bd3786"
             ],
             [
              0.5555555555555556,
              "#d8576b"
             ],
             [
              0.6666666666666666,
              "#ed7953"
             ],
             [
              0.7777777777777778,
              "#fb9f3a"
             ],
             [
              0.8888888888888888,
              "#fdca26"
             ],
             [
              1,
              "#f0f921"
             ]
            ],
            "type": "heatmap"
           }
          ],
          "heatmapgl": [
           {
            "colorbar": {
             "outlinewidth": 0,
             "ticks": ""
            },
            "colorscale": [
             [
              0,
              "#0d0887"
             ],
             [
              0.1111111111111111,
              "#46039f"
             ],
             [
              0.2222222222222222,
              "#7201a8"
             ],
             [
              0.3333333333333333,
              "#9c179e"
             ],
             [
              0.4444444444444444,
              "#bd3786"
             ],
             [
              0.5555555555555556,
              "#d8576b"
             ],
             [
              0.6666666666666666,
              "#ed7953"
             ],
             [
              0.7777777777777778,
              "#fb9f3a"
             ],
             [
              0.8888888888888888,
              "#fdca26"
             ],
             [
              1,
              "#f0f921"
             ]
            ],
            "type": "heatmapgl"
           }
          ],
          "histogram": [
           {
            "marker": {
             "colorbar": {
              "outlinewidth": 0,
              "ticks": ""
             }
            },
            "type": "histogram"
           }
          ],
          "histogram2d": [
           {
            "colorbar": {
             "outlinewidth": 0,
             "ticks": ""
            },
            "colorscale": [
             [
              0,
              "#0d0887"
             ],
             [
              0.1111111111111111,
              "#46039f"
             ],
             [
              0.2222222222222222,
              "#7201a8"
             ],
             [
              0.3333333333333333,
              "#9c179e"
             ],
             [
              0.4444444444444444,
              "#bd3786"
             ],
             [
              0.5555555555555556,
              "#d8576b"
             ],
             [
              0.6666666666666666,
              "#ed7953"
             ],
             [
              0.7777777777777778,
              "#fb9f3a"
             ],
             [
              0.8888888888888888,
              "#fdca26"
             ],
             [
              1,
              "#f0f921"
             ]
            ],
            "type": "histogram2d"
           }
          ],
          "histogram2dcontour": [
           {
            "colorbar": {
             "outlinewidth": 0,
             "ticks": ""
            },
            "colorscale": [
             [
              0,
              "#0d0887"
             ],
             [
              0.1111111111111111,
              "#46039f"
             ],
             [
              0.2222222222222222,
              "#7201a8"
             ],
             [
              0.3333333333333333,
              "#9c179e"
             ],
             [
              0.4444444444444444,
              "#bd3786"
             ],
             [
              0.5555555555555556,
              "#d8576b"
             ],
             [
              0.6666666666666666,
              "#ed7953"
             ],
             [
              0.7777777777777778,
              "#fb9f3a"
             ],
             [
              0.8888888888888888,
              "#fdca26"
             ],
             [
              1,
              "#f0f921"
             ]
            ],
            "type": "histogram2dcontour"
           }
          ],
          "mesh3d": [
           {
            "colorbar": {
             "outlinewidth": 0,
             "ticks": ""
            },
            "type": "mesh3d"
           }
          ],
          "parcoords": [
           {
            "line": {
             "colorbar": {
              "outlinewidth": 0,
              "ticks": ""
             }
            },
            "type": "parcoords"
           }
          ],
          "pie": [
           {
            "automargin": true,
            "type": "pie"
           }
          ],
          "scatter": [
           {
            "marker": {
             "colorbar": {
              "outlinewidth": 0,
              "ticks": ""
             }
            },
            "type": "scatter"
           }
          ],
          "scatter3d": [
           {
            "line": {
             "colorbar": {
              "outlinewidth": 0,
              "ticks": ""
             }
            },
            "marker": {
             "colorbar": {
              "outlinewidth": 0,
              "ticks": ""
             }
            },
            "type": "scatter3d"
           }
          ],
          "scattercarpet": [
           {
            "marker": {
             "colorbar": {
              "outlinewidth": 0,
              "ticks": ""
             }
            },
            "type": "scattercarpet"
           }
          ],
          "scattergeo": [
           {
            "marker": {
             "colorbar": {
              "outlinewidth": 0,
              "ticks": ""
             }
            },
            "type": "scattergeo"
           }
          ],
          "scattergl": [
           {
            "marker": {
             "colorbar": {
              "outlinewidth": 0,
              "ticks": ""
             }
            },
            "type": "scattergl"
           }
          ],
          "scattermapbox": [
           {
            "marker": {
             "colorbar": {
              "outlinewidth": 0,
              "ticks": ""
             }
            },
            "type": "scattermapbox"
           }
          ],
          "scatterpolar": [
           {
            "marker": {
             "colorbar": {
              "outlinewidth": 0,
              "ticks": ""
             }
            },
            "type": "scatterpolar"
           }
          ],
          "scatterpolargl": [
           {
            "marker": {
             "colorbar": {
              "outlinewidth": 0,
              "ticks": ""
             }
            },
            "type": "scatterpolargl"
           }
          ],
          "scatterternary": [
           {
            "marker": {
             "colorbar": {
              "outlinewidth": 0,
              "ticks": ""
             }
            },
            "type": "scatterternary"
           }
          ],
          "surface": [
           {
            "colorbar": {
             "outlinewidth": 0,
             "ticks": ""
            },
            "colorscale": [
             [
              0,
              "#0d0887"
             ],
             [
              0.1111111111111111,
              "#46039f"
             ],
             [
              0.2222222222222222,
              "#7201a8"
             ],
             [
              0.3333333333333333,
              "#9c179e"
             ],
             [
              0.4444444444444444,
              "#bd3786"
             ],
             [
              0.5555555555555556,
              "#d8576b"
             ],
             [
              0.6666666666666666,
              "#ed7953"
             ],
             [
              0.7777777777777778,
              "#fb9f3a"
             ],
             [
              0.8888888888888888,
              "#fdca26"
             ],
             [
              1,
              "#f0f921"
             ]
            ],
            "type": "surface"
           }
          ],
          "table": [
           {
            "cells": {
             "fill": {
              "color": "#EBF0F8"
             },
             "line": {
              "color": "white"
             }
            },
            "header": {
             "fill": {
              "color": "#C8D4E3"
             },
             "line": {
              "color": "white"
             }
            },
            "type": "table"
           }
          ]
         },
         "layout": {
          "annotationdefaults": {
           "arrowcolor": "#2a3f5f",
           "arrowhead": 0,
           "arrowwidth": 1
          },
          "autotypenumbers": "strict",
          "coloraxis": {
           "colorbar": {
            "outlinewidth": 0,
            "ticks": ""
           }
          },
          "colorscale": {
           "diverging": [
            [
             0,
             "#8e0152"
            ],
            [
             0.1,
             "#c51b7d"
            ],
            [
             0.2,
             "#de77ae"
            ],
            [
             0.3,
             "#f1b6da"
            ],
            [
             0.4,
             "#fde0ef"
            ],
            [
             0.5,
             "#f7f7f7"
            ],
            [
             0.6,
             "#e6f5d0"
            ],
            [
             0.7,
             "#b8e186"
            ],
            [
             0.8,
             "#7fbc41"
            ],
            [
             0.9,
             "#4d9221"
            ],
            [
             1,
             "#276419"
            ]
           ],
           "sequential": [
            [
             0,
             "#0d0887"
            ],
            [
             0.1111111111111111,
             "#46039f"
            ],
            [
             0.2222222222222222,
             "#7201a8"
            ],
            [
             0.3333333333333333,
             "#9c179e"
            ],
            [
             0.4444444444444444,
             "#bd3786"
            ],
            [
             0.5555555555555556,
             "#d8576b"
            ],
            [
             0.6666666666666666,
             "#ed7953"
            ],
            [
             0.7777777777777778,
             "#fb9f3a"
            ],
            [
             0.8888888888888888,
             "#fdca26"
            ],
            [
             1,
             "#f0f921"
            ]
           ],
           "sequentialminus": [
            [
             0,
             "#0d0887"
            ],
            [
             0.1111111111111111,
             "#46039f"
            ],
            [
             0.2222222222222222,
             "#7201a8"
            ],
            [
             0.3333333333333333,
             "#9c179e"
            ],
            [
             0.4444444444444444,
             "#bd3786"
            ],
            [
             0.5555555555555556,
             "#d8576b"
            ],
            [
             0.6666666666666666,
             "#ed7953"
            ],
            [
             0.7777777777777778,
             "#fb9f3a"
            ],
            [
             0.8888888888888888,
             "#fdca26"
            ],
            [
             1,
             "#f0f921"
            ]
           ]
          },
          "colorway": [
           "#636efa",
           "#EF553B",
           "#00cc96",
           "#ab63fa",
           "#FFA15A",
           "#19d3f3",
           "#FF6692",
           "#B6E880",
           "#FF97FF",
           "#FECB52"
          ],
          "font": {
           "color": "#2a3f5f"
          },
          "geo": {
           "bgcolor": "white",
           "lakecolor": "white",
           "landcolor": "#E5ECF6",
           "showlakes": true,
           "showland": true,
           "subunitcolor": "white"
          },
          "hoverlabel": {
           "align": "left"
          },
          "hovermode": "closest",
          "mapbox": {
           "style": "light"
          },
          "paper_bgcolor": "white",
          "plot_bgcolor": "#E5ECF6",
          "polar": {
           "angularaxis": {
            "gridcolor": "white",
            "linecolor": "white",
            "ticks": ""
           },
           "bgcolor": "#E5ECF6",
           "radialaxis": {
            "gridcolor": "white",
            "linecolor": "white",
            "ticks": ""
           }
          },
          "scene": {
           "xaxis": {
            "backgroundcolor": "#E5ECF6",
            "gridcolor": "white",
            "gridwidth": 2,
            "linecolor": "white",
            "showbackground": true,
            "ticks": "",
            "zerolinecolor": "white"
           },
           "yaxis": {
            "backgroundcolor": "#E5ECF6",
            "gridcolor": "white",
            "gridwidth": 2,
            "linecolor": "white",
            "showbackground": true,
            "ticks": "",
            "zerolinecolor": "white"
           },
           "zaxis": {
            "backgroundcolor": "#E5ECF6",
            "gridcolor": "white",
            "gridwidth": 2,
            "linecolor": "white",
            "showbackground": true,
            "ticks": "",
            "zerolinecolor": "white"
           }
          },
          "shapedefaults": {
           "line": {
            "color": "#2a3f5f"
           }
          },
          "ternary": {
           "aaxis": {
            "gridcolor": "white",
            "linecolor": "white",
            "ticks": ""
           },
           "baxis": {
            "gridcolor": "white",
            "linecolor": "white",
            "ticks": ""
           },
           "bgcolor": "#E5ECF6",
           "caxis": {
            "gridcolor": "white",
            "linecolor": "white",
            "ticks": ""
           }
          },
          "title": {
           "x": 0.05
          },
          "xaxis": {
           "automargin": true,
           "gridcolor": "white",
           "linecolor": "white",
           "ticks": "",
           "title": {
            "standoff": 15
           },
           "zerolinecolor": "white",
           "zerolinewidth": 2
          },
          "yaxis": {
           "automargin": true,
           "gridcolor": "white",
           "linecolor": "white",
           "ticks": "",
           "title": {
            "standoff": 15
           },
           "zerolinecolor": "white",
           "zerolinewidth": 2
          }
         }
        }
       }
      },
      "text/html": [
       "<div>                            <div id=\"d9fbcfb5-6c57-47ea-b543-15b5be63a2bd\" class=\"plotly-graph-div\" style=\"height:525px; width:100%;\"></div>            <script type=\"text/javascript\">                require([\"plotly\"], function(Plotly) {                    window.PLOTLYENV=window.PLOTLYENV || {};                                    if (document.getElementById(\"d9fbcfb5-6c57-47ea-b543-15b5be63a2bd\")) {                    Plotly.newPlot(                        \"d9fbcfb5-6c57-47ea-b543-15b5be63a2bd\",                        [{\"branchvalues\": \"total\", \"domain\": {\"x\": [0.0, 1.0], \"y\": [0.0, 1.0]}, \"hovertemplate\": \"labels=%{label}<br>count=%{value}<br>parent=%{parent}<br>id=%{id}<extra></extra>\", \"ids\": [\"adapted sports/Centrum\", \"aikido/Centrum\", \"bowling/Centrum\", \"boxing/Centrum\", \"bridge/Centrum\", \"chess/Centrum\", \"circus/Centrum\", \"climbing/Centrum\", \"dance/Centrum\", \"fitness/Centrum\", \"floorball/Centrum\", \"futsal/Centrum\", \"go/Centrum\", \"gymnastics/Centrum\", \"hiking/Centrum\", \"judo/Centrum\", \"karate/Centrum\", \"korfball/Centrum\", \"rowing/Centrum\", \"sailing/Centrum\", \"screens/Centrum\", \"skating/Centrum\", \"sloeproeien/Centrum\", \"squash/Centrum\", \"swimming/Centrum\", \"target shooting/Centrum\", \"tennis/Centrum\", \"volley-ball/Centrum\", \"yoga/Centrum\", \"adapted sports/Nieuw-West\", \"aerobics/Nieuw-West\", \"aikido/Nieuw-West\", \"american football/Nieuw-West\", \"archery/Nieuw-West\", \"athletics/Nieuw-West\", \"australian football/Nieuw-West\", \"badminton/Nieuw-West\", \"baseball / softball/Nieuw-West\", \"basketball/Nieuw-West\", \"beach volleyball/Nieuw-West\", \"beachhandbal/Nieuw-West\", \"billiards/Nieuw-West\", \"bootcamp/Nieuw-West\", \"bounce/Nieuw-West\", \"bowls/Nieuw-West\", \"bridge/Nieuw-West\", \"canoeing/Nieuw-West\", \"cheerleading/Nieuw-West\", \"circus/Nieuw-West\", \"climbing/Nieuw-West\", \"cricket/Nieuw-West\", \"cycling/Nieuw-West\", \"dance/Nieuw-West\", \"equestrian/Nieuw-West\", \"fitness/Nieuw-West\", \"football/Nieuw-West\", \"frisbee/Nieuw-West\", \"futsal/Nieuw-West\", \"gaelic football/Nieuw-West\", \"golf/Nieuw-West\", \"gymnastics/Nieuw-West\", \"handball/Nieuw-West\", \"hockey/Nieuw-West\", \"judo/Nieuw-West\", \"karate/Nieuw-West\", \"kickboxing/Nieuw-West\", \"korfball/Nieuw-West\", \"kung-fu/Nieuw-West\", \"lawn bowling/Nieuw-West\", \"martial and strength sports/Nieuw-West\", \"padel/Nieuw-West\", \"pencak silat/Nieuw-West\", \"rugby/Nieuw-West\", \"running/Nieuw-West\", \"sailing/Nieuw-West\", \"squash/Nieuw-West\", \"surfing/Nieuw-West\", \"survivalrun/Nieuw-West\", \"swimming/Nieuw-West\", \"table tennis/Nieuw-West\", \"taekwondo/Nieuw-West\", \"target shooting/Nieuw-West\", \"tennis/Nieuw-West\", \"triathlon/Nieuw-West\", \"underwater sports/Nieuw-West\", \"urban sports/Nieuw-West\", \"volley-ball/Nieuw-West\", \"water polo/Nieuw-West\", \"yoga/Nieuw-West\", \"adapted sports/Noord\", \"aikido/Noord\", \"athletics/Noord\", \"badminton/Noord\", \"baseball / softball/Noord\", \"basketball/Noord\", \"billiards/Noord\", \"bootcamp/Noord\", \"bridge/Noord\", \"canoeing/Noord\", \"capoeira/Noord\", \"chess/Noord\", \"climbing/Noord\", \"cycling/Noord\", \"dance/Noord\", \"equestrian/Noord\", \"fitness/Noord\", \"football/Noord\", \"futsal/Noord\", \"golf/Noord\", \"gymnastics/Noord\", \"handball/Noord\", \"hockey/Noord\", \"judo/Noord\", \"karate/Noord\", \"kickboxing/Noord\", \"korfball/Noord\", \"lawn bowling/Noord\", \"martial and strength sports/Noord\", \"rugby/Noord\", \"sailing/Noord\", \"skating/Noord\", \"swimming/Noord\", \"table tennis/Noord\", \"taekwondo/Noord\", \"target shooting/Noord\", \"tennis/Noord\", \"underwater sports/Noord\", \"urban sports/Noord\", \"volley-ball/Noord\", \"water polo/Noord\", \"yoga/Noord\", \"aikido/Oost\", \"athletics/Oost\", \"badminton/Oost\", \"baseball / softball/Oost\", \"basketball/Oost\", \"beach volleyball/Oost\", \"billiards/Oost\", \"boxing/Oost\", \"bridge/Oost\", \"canoeing/Oost\", \"capoeira/Oost\", \"cheerleading/Oost\", \"chess/Oost\", \"circus/Oost\", \"climbing/Oost\", \"cricket/Oost\", \"dance/Oost\", \"fitness/Oost\", \"football/Oost\", \"frisbee/Oost\", \"futsal/Oost\", \"gymnastics/Oost\", \"handball/Oost\", \"hiking/Oost\", \"hockey/Oost\", \"ice hockey/Oost\", \"judo/Oost\", \"kickboxing/Oost\", \"korfball/Oost\", \"lacrosse/Oost\", \"lawn bowling/Oost\", \"martial and strength sports/Oost\", \"multisport/Oost\", \"padel/Oost\", \"pencak silat/Oost\", \"pickleball/Oost\", \"rowing/Oost\", \"running/Oost\", \"sailing/Oost\", \"skating/Oost\", \"sloeproeien/Oost\", \"squash/Oost\", \"sup/Oost\", \"surfing/Oost\", \"swimming/Oost\", \"table tennis/Oost\", \"taekwondo/Oost\", \"target shooting/Oost\", \"tennis/Oost\", \"urban sports/Oost\", \"volley-ball/Oost\", \"water polo/Oost\", \"adapted sports/West\", \"aikido/West\", \"badminton/West\", \"basketball/West\", \"billiards/West\", \"bootcamp/West\", \"boxing/West\", \"bridge/West\", \"capoeira/West\", \"chess/West\", \"climbing/West\", \"dammen/West\", \"dance/West\", \"equestrian/West\", \"fitness/West\", \"football/West\", \"gymnastics/West\", \"judo/West\", \"karate/West\", \"kickboxing/West\", \"korfball/West\", \"martial and strength sports/West\", \"running/West\", \"swimming/West\", \"table tennis/West\", \"taekwondo/West\", \"target shooting/West\", \"tennis/West\", \"urban sports/West\", \"volley-ball/West\", \"yoga/West\", \"padel/Westpoort\", \"aikido/Zuid\", \"athletics/Zuid\", \"badminton/Zuid\", \"basketball/Zuid\", \"beach volleyball/Zuid\", \"billiards/Zuid\", \"bowling/Zuid\", \"boxing/Zuid\", \"bridge/Zuid\", \"capoeira/Zuid\", \"cheerleading/Zuid\", \"chess/Zuid\", \"climbing/Zuid\", \"cricket/Zuid\", \"cycling/Zuid\", \"dammen/Zuid\", \"dance/Zuid\", \"equestrian/Zuid\", \"fitness/Zuid\", \"football/Zuid\", \"futsal/Zuid\", \"golf/Zuid\", \"gymnastics/Zuid\", \"handball/Zuid\", \"hapkido/Zuid\", \"hiking/Zuid\", \"hockey/Zuid\", \"judo/Zuid\", \"karate/Zuid\", \"korfball/Zuid\", \"martial and strength sports/Zuid\", \"multisport/Zuid\", \"padel/Zuid\", \"rowing/Zuid\", \"sailing/Zuid\", \"screens/Zuid\", \"sloeproeien/Zuid\", \"squash/Zuid\", \"sup/Zuid\", \"swimming/Zuid\", \"table tennis/Zuid\", \"tai chi/Zuid\", \"tennis/Zuid\", \"underwater sports/Zuid\", \"urban sports/Zuid\", \"volley-ball/Zuid\", \"water polo/Zuid\", \"yoga/Zuid\", \"adapted sports/Zuidoost\", \"aerobics/Zuidoost\", \"athletics/Zuidoost\", \"badminton/Zuidoost\", \"baseball / softball/Zuidoost\", \"basketball/Zuidoost\", \"beach volleyball/Zuidoost\", \"bowling/Zuidoost\", \"bowls/Zuidoost\", \"boxing/Zuidoost\", \"bridge/Zuidoost\", \"canoeing/Zuidoost\", \"capoeira/Zuidoost\", \"cheerleading/Zuidoost\", \"chess/Zuidoost\", \"cricket/Zuidoost\", \"dragon boat racing/Zuidoost\", \"fitness/Zuidoost\", \"football/Zuidoost\", \"futsal/Zuidoost\", \"golf/Zuidoost\", \"gymnastics/Zuidoost\", \"hockey/Zuidoost\", \"judo/Zuidoost\", \"karate/Zuidoost\", \"kickboxing/Zuidoost\", \"korfball/Zuidoost\", \"martial and strength sports/Zuidoost\", \"pencak silat/Zuidoost\", \"sailing/Zuidoost\", \"surfing/Zuidoost\", \"swimming/Zuidoost\", \"table tennis/Zuidoost\", \"tennis/Zuidoost\", \"triathlon/Zuidoost\", \"urban sports/Zuidoost\", \"volley-ball/Zuidoost\", \"water polo/Zuidoost\", \"yoga/Zuidoost\", \"adapted sports\", \"aerobics\", \"aikido\", \"american football\", \"archery\", \"athletics\", \"australian football\", \"badminton\", \"baseball / softball\", \"basketball\", \"beach volleyball\", \"beachhandbal\", \"billiards\", \"bootcamp\", \"bounce\", \"bowling\", \"bowls\", \"boxing\", \"bridge\", \"canoeing\", \"capoeira\", \"cheerleading\", \"chess\", \"circus\", \"climbing\", \"cricket\", \"cycling\", \"dammen\", \"dance\", \"dragon boat racing\", \"equestrian\", \"fitness\", \"floorball\", \"football\", \"frisbee\", \"futsal\", \"gaelic football\", \"go\", \"golf\", \"gymnastics\", \"handball\", \"hapkido\", \"hiking\", \"hockey\", \"ice hockey\", \"judo\", \"karate\", \"kickboxing\", \"korfball\", \"kung-fu\", \"lacrosse\", \"lawn bowling\", \"martial and strength sports\", \"multisport\", \"padel\", \"pencak silat\", \"pickleball\", \"rowing\", \"rugby\", \"running\", \"sailing\", \"screens\", \"skating\", \"sloeproeien\", \"squash\", \"sup\", \"surfing\", \"survivalrun\", \"swimming\", \"table tennis\", \"taekwondo\", \"tai chi\", \"target shooting\", \"tennis\", \"triathlon\", \"underwater sports\", \"urban sports\", \"volley-ball\", \"water polo\", \"yoga\"], \"labels\": [\"Centrum\", \"Centrum\", \"Centrum\", \"Centrum\", \"Centrum\", \"Centrum\", \"Centrum\", \"Centrum\", \"Centrum\", \"Centrum\", \"Centrum\", \"Centrum\", \"Centrum\", \"Centrum\", \"Centrum\", \"Centrum\", \"Centrum\", \"Centrum\", \"Centrum\", \"Centrum\", \"Centrum\", \"Centrum\", \"Centrum\", \"Centrum\", \"Centrum\", \"Centrum\", \"Centrum\", \"Centrum\", \"Centrum\", \"Nieuw-West\", \"Nieuw-West\", \"Nieuw-West\", \"Nieuw-West\", \"Nieuw-West\", \"Nieuw-West\", \"Nieuw-West\", \"Nieuw-West\", \"Nieuw-West\", \"Nieuw-West\", \"Nieuw-West\", \"Nieuw-West\", \"Nieuw-West\", \"Nieuw-West\", \"Nieuw-West\", \"Nieuw-West\", \"Nieuw-West\", \"Nieuw-West\", \"Nieuw-West\", \"Nieuw-West\", \"Nieuw-West\", \"Nieuw-West\", \"Nieuw-West\", \"Nieuw-West\", \"Nieuw-West\", \"Nieuw-West\", \"Nieuw-West\", \"Nieuw-West\", \"Nieuw-West\", \"Nieuw-West\", \"Nieuw-West\", \"Nieuw-West\", \"Nieuw-West\", \"Nieuw-West\", \"Nieuw-West\", \"Nieuw-West\", \"Nieuw-West\", \"Nieuw-West\", \"Nieuw-West\", \"Nieuw-West\", \"Nieuw-West\", \"Nieuw-West\", \"Nieuw-West\", \"Nieuw-West\", \"Nieuw-West\", \"Nieuw-West\", \"Nieuw-West\", \"Nieuw-West\", \"Nieuw-West\", \"Nieuw-West\", \"Nieuw-West\", \"Nieuw-West\", \"Nieuw-West\", \"Nieuw-West\", \"Nieuw-West\", \"Nieuw-West\", \"Nieuw-West\", \"Nieuw-West\", \"Nieuw-West\", \"Nieuw-West\", \"Noord\", \"Noord\", \"Noord\", \"Noord\", \"Noord\", \"Noord\", \"Noord\", \"Noord\", \"Noord\", \"Noord\", \"Noord\", \"Noord\", \"Noord\", \"Noord\", \"Noord\", \"Noord\", \"Noord\", \"Noord\", \"Noord\", \"Noord\", \"Noord\", \"Noord\", \"Noord\", \"Noord\", \"Noord\", \"Noord\", \"Noord\", \"Noord\", \"Noord\", \"Noord\", \"Noord\", \"Noord\", \"Noord\", \"Noord\", \"Noord\", \"Noord\", \"Noord\", \"Noord\", \"Noord\", \"Noord\", \"Noord\", \"Noord\", \"Oost\", \"Oost\", \"Oost\", \"Oost\", \"Oost\", \"Oost\", \"Oost\", \"Oost\", \"Oost\", \"Oost\", \"Oost\", \"Oost\", \"Oost\", \"Oost\", \"Oost\", \"Oost\", \"Oost\", \"Oost\", \"Oost\", \"Oost\", \"Oost\", \"Oost\", \"Oost\", \"Oost\", \"Oost\", \"Oost\", \"Oost\", \"Oost\", \"Oost\", \"Oost\", \"Oost\", \"Oost\", \"Oost\", \"Oost\", \"Oost\", \"Oost\", \"Oost\", \"Oost\", \"Oost\", \"Oost\", \"Oost\", \"Oost\", \"Oost\", \"Oost\", \"Oost\", \"Oost\", \"Oost\", \"Oost\", \"Oost\", \"Oost\", \"Oost\", \"Oost\", \"West\", \"West\", \"West\", \"West\", \"West\", \"West\", \"West\", \"West\", \"West\", \"West\", \"West\", \"West\", \"West\", \"West\", \"West\", \"West\", \"West\", \"West\", \"West\", \"West\", \"West\", \"West\", \"West\", \"West\", \"West\", \"West\", \"West\", \"West\", \"West\", \"West\", \"West\", \"Westpoort\", \"Zuid\", \"Zuid\", \"Zuid\", \"Zuid\", \"Zuid\", \"Zuid\", \"Zuid\", \"Zuid\", \"Zuid\", \"Zuid\", \"Zuid\", \"Zuid\", \"Zuid\", \"Zuid\", \"Zuid\", \"Zuid\", \"Zuid\", \"Zuid\", \"Zuid\", \"Zuid\", \"Zuid\", \"Zuid\", \"Zuid\", \"Zuid\", \"Zuid\", \"Zuid\", \"Zuid\", \"Zuid\", \"Zuid\", \"Zuid\", \"Zuid\", \"Zuid\", \"Zuid\", \"Zuid\", \"Zuid\", \"Zuid\", \"Zuid\", \"Zuid\", \"Zuid\", \"Zuid\", \"Zuid\", \"Zuid\", \"Zuid\", \"Zuid\", \"Zuid\", \"Zuid\", \"Zuid\", \"Zuid\", \"Zuidoost\", \"Zuidoost\", \"Zuidoost\", \"Zuidoost\", \"Zuidoost\", \"Zuidoost\", \"Zuidoost\", \"Zuidoost\", \"Zuidoost\", \"Zuidoost\", \"Zuidoost\", \"Zuidoost\", \"Zuidoost\", \"Zuidoost\", \"Zuidoost\", \"Zuidoost\", \"Zuidoost\", \"Zuidoost\", \"Zuidoost\", \"Zuidoost\", \"Zuidoost\", \"Zuidoost\", \"Zuidoost\", \"Zuidoost\", \"Zuidoost\", \"Zuidoost\", \"Zuidoost\", \"Zuidoost\", \"Zuidoost\", \"Zuidoost\", \"Zuidoost\", \"Zuidoost\", \"Zuidoost\", \"Zuidoost\", \"Zuidoost\", \"Zuidoost\", \"Zuidoost\", \"Zuidoost\", \"Zuidoost\", \"adapted sports\", \"aerobics\", \"aikido\", \"american football\", \"archery\", \"athletics\", \"australian football\", \"badminton\", \"baseball / softball\", \"basketball\", \"beach volleyball\", \"beachhandbal\", \"billiards\", \"bootcamp\", \"bounce\", \"bowling\", \"bowls\", \"boxing\", \"bridge\", \"canoeing\", \"capoeira\", \"cheerleading\", \"chess\", \"circus\", \"climbing\", \"cricket\", \"cycling\", \"dammen\", \"dance\", \"dragon boat racing\", \"equestrian\", \"fitness\", \"floorball\", \"football\", \"frisbee\", \"futsal\", \"gaelic football\", \"go\", \"golf\", \"gymnastics\", \"handball\", \"hapkido\", \"hiking\", \"hockey\", \"ice hockey\", \"judo\", \"karate\", \"kickboxing\", \"korfball\", \"kung-fu\", \"lacrosse\", \"lawn bowling\", \"martial and strength sports\", \"multisport\", \"padel\", \"pencak silat\", \"pickleball\", \"rowing\", \"rugby\", \"running\", \"sailing\", \"screens\", \"skating\", \"sloeproeien\", \"squash\", \"sup\", \"surfing\", \"survivalrun\", \"swimming\", \"table tennis\", \"taekwondo\", \"tai chi\", \"target shooting\", \"tennis\", \"triathlon\", \"underwater sports\", \"urban sports\", \"volley-ball\", \"water polo\", \"yoga\"], \"maxdepth\": 1, \"name\": \"\", \"parents\": [\"adapted sports\", \"aikido\", \"bowling\", \"boxing\", \"bridge\", \"chess\", \"circus\", \"climbing\", \"dance\", \"fitness\", \"floorball\", \"futsal\", \"go\", \"gymnastics\", \"hiking\", \"judo\", \"karate\", \"korfball\", \"rowing\", \"sailing\", \"screens\", \"skating\", \"sloeproeien\", \"squash\", \"swimming\", \"target shooting\", \"tennis\", \"volley-ball\", \"yoga\", \"adapted sports\", \"aerobics\", \"aikido\", \"american football\", \"archery\", \"athletics\", \"australian football\", \"badminton\", \"baseball / softball\", \"basketball\", \"beach volleyball\", \"beachhandbal\", \"billiards\", \"bootcamp\", \"bounce\", \"bowls\", \"bridge\", \"canoeing\", \"cheerleading\", \"circus\", \"climbing\", \"cricket\", \"cycling\", \"dance\", \"equestrian\", \"fitness\", \"football\", \"frisbee\", \"futsal\", \"gaelic football\", \"golf\", \"gymnastics\", \"handball\", \"hockey\", \"judo\", \"karate\", \"kickboxing\", \"korfball\", \"kung-fu\", \"lawn bowling\", \"martial and strength sports\", \"padel\", \"pencak silat\", \"rugby\", \"running\", \"sailing\", \"squash\", \"surfing\", \"survivalrun\", \"swimming\", \"table tennis\", \"taekwondo\", \"target shooting\", \"tennis\", \"triathlon\", \"underwater sports\", \"urban sports\", \"volley-ball\", \"water polo\", \"yoga\", \"adapted sports\", \"aikido\", \"athletics\", \"badminton\", \"baseball / softball\", \"basketball\", \"billiards\", \"bootcamp\", \"bridge\", \"canoeing\", \"capoeira\", \"chess\", \"climbing\", \"cycling\", \"dance\", \"equestrian\", \"fitness\", \"football\", \"futsal\", \"golf\", \"gymnastics\", \"handball\", \"hockey\", \"judo\", \"karate\", \"kickboxing\", \"korfball\", \"lawn bowling\", \"martial and strength sports\", \"rugby\", \"sailing\", \"skating\", \"swimming\", \"table tennis\", \"taekwondo\", \"target shooting\", \"tennis\", \"underwater sports\", \"urban sports\", \"volley-ball\", \"water polo\", \"yoga\", \"aikido\", \"athletics\", \"badminton\", \"baseball / softball\", \"basketball\", \"beach volleyball\", \"billiards\", \"boxing\", \"bridge\", \"canoeing\", \"capoeira\", \"cheerleading\", \"chess\", \"circus\", \"climbing\", \"cricket\", \"dance\", \"fitness\", \"football\", \"frisbee\", \"futsal\", \"gymnastics\", \"handball\", \"hiking\", \"hockey\", \"ice hockey\", \"judo\", \"kickboxing\", \"korfball\", \"lacrosse\", \"lawn bowling\", \"martial and strength sports\", \"multisport\", \"padel\", \"pencak silat\", \"pickleball\", \"rowing\", \"running\", \"sailing\", \"skating\", \"sloeproeien\", \"squash\", \"sup\", \"surfing\", \"swimming\", \"table tennis\", \"taekwondo\", \"target shooting\", \"tennis\", \"urban sports\", \"volley-ball\", \"water polo\", \"adapted sports\", \"aikido\", \"badminton\", \"basketball\", \"billiards\", \"bootcamp\", \"boxing\", \"bridge\", \"capoeira\", \"chess\", \"climbing\", \"dammen\", \"dance\", \"equestrian\", \"fitness\", \"football\", \"gymnastics\", \"judo\", \"karate\", \"kickboxing\", \"korfball\", \"martial and strength sports\", \"running\", \"swimming\", \"table tennis\", \"taekwondo\", \"target shooting\", \"tennis\", \"urban sports\", \"volley-ball\", \"yoga\", \"padel\", \"aikido\", \"athletics\", \"badminton\", \"basketball\", \"beach volleyball\", \"billiards\", \"bowling\", \"boxing\", \"bridge\", \"capoeira\", \"cheerleading\", \"chess\", \"climbing\", \"cricket\", \"cycling\", \"dammen\", \"dance\", \"equestrian\", \"fitness\", \"football\", \"futsal\", \"golf\", \"gymnastics\", \"handball\", \"hapkido\", \"hiking\", \"hockey\", \"judo\", \"karate\", \"korfball\", \"martial and strength sports\", \"multisport\", \"padel\", \"rowing\", \"sailing\", \"screens\", \"sloeproeien\", \"squash\", \"sup\", \"swimming\", \"table tennis\", \"tai chi\", \"tennis\", \"underwater sports\", \"urban sports\", \"volley-ball\", \"water polo\", \"yoga\", \"adapted sports\", \"aerobics\", \"athletics\", \"badminton\", \"baseball / softball\", \"basketball\", \"beach volleyball\", \"bowling\", \"bowls\", \"boxing\", \"bridge\", \"canoeing\", \"capoeira\", \"cheerleading\", \"chess\", \"cricket\", \"dragon boat racing\", \"fitness\", \"football\", \"futsal\", \"golf\", \"gymnastics\", \"hockey\", \"judo\", \"karate\", \"kickboxing\", \"korfball\", \"martial and strength sports\", \"pencak silat\", \"sailing\", \"surfing\", \"swimming\", \"table tennis\", \"tennis\", \"triathlon\", \"urban sports\", \"volley-ball\", \"water polo\", \"yoga\", \"\", \"\", \"\", \"\", \"\", \"\", \"\", \"\", \"\", \"\", \"\", \"\", \"\", \"\", \"\", \"\", \"\", \"\", \"\", \"\", \"\", \"\", \"\", \"\", \"\", \"\", \"\", \"\", \"\", \"\", \"\", \"\", \"\", \"\", \"\", \"\", \"\", \"\", \"\", \"\", \"\", \"\", \"\", \"\", \"\", \"\", \"\", \"\", \"\", \"\", \"\", \"\", \"\", \"\", \"\", \"\", \"\", \"\", \"\", \"\", \"\", \"\", \"\", \"\", \"\", \"\", \"\", \"\", \"\", \"\", \"\", \"\", \"\", \"\", \"\", \"\", \"\", \"\", \"\", \"\"], \"type\": \"treemap\", \"values\": [1, 1, 1, 1, 3, 6, 1, 1, 1, 14, 1, 1, 1, 3, 1, 2, 3, 1, 3, 2, 2, 1, 1, 1, 3, 2, 1, 1, 1, 1, 2, 1, 2, 1, 1, 1, 2, 2, 5, 1, 1, 3, 1, 1, 1, 3, 3, 1, 1, 5, 1, 3, 1, 3, 6, 19, 1, 3, 1, 3, 18, 5, 2, 10, 3, 4, 1, 4, 1, 7, 1, 2, 3, 2, 3, 2, 1, 1, 8, 2, 1, 2, 3, 1, 6, 2, 1, 1, 1, 2, 2, 1, 2, 1, 2, 1, 1, 7, 1, 1, 2, 1, 2, 7, 4, 5, 8, 1, 1, 9, 3, 1, 8, 2, 1, 1, 1, 4, 1, 4, 4, 11, 2, 1, 3, 3, 4, 1, 1, 1, 1, 4, 1, 4, 1, 5, 4, 1, 1, 2, 5, 3, 1, 3, 1, 1, 1, 3, 19, 20, 1, 2, 10, 2, 1, 2, 1, 10, 6, 2, 2, 2, 14, 1, 2, 2, 1, 4, 1, 3, 18, 1, 2, 3, 2, 6, 5, 2, 2, 8, 1, 6, 2, 1, 7, 2, 3, 8, 1, 2, 3, 2, 2, 1, 1, 11, 1, 22, 9, 4, 9, 1, 3, 2, 8, 2, 7, 3, 1, 1, 2, 3, 2, 3, 1, 9, 2, 4, 4, 1, 2, 1, 3, 6, 4, 1, 4, 2, 3, 1, 1, 4, 1, 21, 7, 7, 1, 12, 1, 1, 1, 4, 4, 7, 3, 9, 2, 3, 2, 4, 4, 1, 4, 2, 7, 4, 2, 16, 2, 3, 3, 1, 5, 1, 1, 1, 1, 2, 7, 1, 1, 1, 1, 1, 1, 1, 1, 2, 1, 1, 8, 6, 1, 3, 7, 2, 2, 2, 1, 1, 4, 1, 1, 1, 2, 1, 4, 1, 1, 2, 1, 1, 6, 3, 24, 2, 1, 6, 1, 15, 6, 26, 7, 1, 15, 3, 1, 3, 2, 8, 25, 10, 11, 4, 19, 3, 11, 6, 6, 2, 27, 1, 9, 95, 1, 69, 2, 15, 1, 1, 8, 63, 11, 1, 3, 11, 1, 45, 18, 15, 11, 4, 2, 4, 46, 3, 7, 5, 1, 9, 4, 5, 17, 6, 23, 3, 9, 5, 4, 1, 44, 17, 5, 2, 10, 37, 2, 12, 11, 16, 6, 12]}],                        {\"legend\": {\"tracegroupgap\": 0}, \"margin\": {\"t\": 60}, \"template\": {\"data\": {\"bar\": [{\"error_x\": {\"color\": \"#2a3f5f\"}, \"error_y\": {\"color\": \"#2a3f5f\"}, \"marker\": {\"line\": {\"color\": \"#E5ECF6\", \"width\": 0.5}}, \"type\": \"bar\"}], \"barpolar\": [{\"marker\": {\"line\": {\"color\": \"#E5ECF6\", \"width\": 0.5}}, \"type\": \"barpolar\"}], \"carpet\": [{\"aaxis\": {\"endlinecolor\": \"#2a3f5f\", \"gridcolor\": \"white\", \"linecolor\": \"white\", \"minorgridcolor\": \"white\", \"startlinecolor\": \"#2a3f5f\"}, \"baxis\": {\"endlinecolor\": \"#2a3f5f\", \"gridcolor\": \"white\", \"linecolor\": \"white\", \"minorgridcolor\": \"white\", \"startlinecolor\": \"#2a3f5f\"}, \"type\": \"carpet\"}], \"choropleth\": [{\"colorbar\": {\"outlinewidth\": 0, \"ticks\": \"\"}, \"type\": \"choropleth\"}], \"contour\": [{\"colorbar\": {\"outlinewidth\": 0, \"ticks\": \"\"}, \"colorscale\": [[0.0, \"#0d0887\"], [0.1111111111111111, \"#46039f\"], [0.2222222222222222, \"#7201a8\"], [0.3333333333333333, \"#9c179e\"], [0.4444444444444444, \"#bd3786\"], [0.5555555555555556, \"#d8576b\"], [0.6666666666666666, \"#ed7953\"], [0.7777777777777778, \"#fb9f3a\"], [0.8888888888888888, \"#fdca26\"], [1.0, \"#f0f921\"]], \"type\": \"contour\"}], \"contourcarpet\": [{\"colorbar\": {\"outlinewidth\": 0, \"ticks\": \"\"}, \"type\": \"contourcarpet\"}], \"heatmap\": [{\"colorbar\": {\"outlinewidth\": 0, \"ticks\": \"\"}, \"colorscale\": [[0.0, \"#0d0887\"], [0.1111111111111111, \"#46039f\"], [0.2222222222222222, \"#7201a8\"], [0.3333333333333333, \"#9c179e\"], [0.4444444444444444, \"#bd3786\"], [0.5555555555555556, \"#d8576b\"], [0.6666666666666666, \"#ed7953\"], [0.7777777777777778, \"#fb9f3a\"], [0.8888888888888888, \"#fdca26\"], [1.0, \"#f0f921\"]], \"type\": \"heatmap\"}], \"heatmapgl\": [{\"colorbar\": {\"outlinewidth\": 0, \"ticks\": \"\"}, \"colorscale\": [[0.0, \"#0d0887\"], [0.1111111111111111, \"#46039f\"], [0.2222222222222222, \"#7201a8\"], [0.3333333333333333, \"#9c179e\"], [0.4444444444444444, \"#bd3786\"], [0.5555555555555556, \"#d8576b\"], [0.6666666666666666, \"#ed7953\"], [0.7777777777777778, \"#fb9f3a\"], [0.8888888888888888, \"#fdca26\"], [1.0, \"#f0f921\"]], \"type\": \"heatmapgl\"}], \"histogram\": [{\"marker\": {\"colorbar\": {\"outlinewidth\": 0, \"ticks\": \"\"}}, \"type\": \"histogram\"}], \"histogram2d\": [{\"colorbar\": {\"outlinewidth\": 0, \"ticks\": \"\"}, \"colorscale\": [[0.0, \"#0d0887\"], [0.1111111111111111, \"#46039f\"], [0.2222222222222222, \"#7201a8\"], [0.3333333333333333, \"#9c179e\"], [0.4444444444444444, \"#bd3786\"], [0.5555555555555556, \"#d8576b\"], [0.6666666666666666, \"#ed7953\"], [0.7777777777777778, \"#fb9f3a\"], [0.8888888888888888, \"#fdca26\"], [1.0, \"#f0f921\"]], \"type\": \"histogram2d\"}], \"histogram2dcontour\": [{\"colorbar\": {\"outlinewidth\": 0, \"ticks\": \"\"}, \"colorscale\": [[0.0, \"#0d0887\"], [0.1111111111111111, \"#46039f\"], [0.2222222222222222, \"#7201a8\"], [0.3333333333333333, \"#9c179e\"], [0.4444444444444444, \"#bd3786\"], [0.5555555555555556, \"#d8576b\"], [0.6666666666666666, \"#ed7953\"], [0.7777777777777778, \"#fb9f3a\"], [0.8888888888888888, \"#fdca26\"], [1.0, \"#f0f921\"]], \"type\": \"histogram2dcontour\"}], \"mesh3d\": [{\"colorbar\": {\"outlinewidth\": 0, \"ticks\": \"\"}, \"type\": \"mesh3d\"}], \"parcoords\": [{\"line\": {\"colorbar\": {\"outlinewidth\": 0, \"ticks\": \"\"}}, \"type\": \"parcoords\"}], \"pie\": [{\"automargin\": true, \"type\": \"pie\"}], \"scatter\": [{\"marker\": {\"colorbar\": {\"outlinewidth\": 0, \"ticks\": \"\"}}, \"type\": \"scatter\"}], \"scatter3d\": [{\"line\": {\"colorbar\": {\"outlinewidth\": 0, \"ticks\": \"\"}}, \"marker\": {\"colorbar\": {\"outlinewidth\": 0, \"ticks\": \"\"}}, \"type\": \"scatter3d\"}], \"scattercarpet\": [{\"marker\": {\"colorbar\": {\"outlinewidth\": 0, \"ticks\": \"\"}}, \"type\": \"scattercarpet\"}], \"scattergeo\": [{\"marker\": {\"colorbar\": {\"outlinewidth\": 0, \"ticks\": \"\"}}, \"type\": \"scattergeo\"}], \"scattergl\": [{\"marker\": {\"colorbar\": {\"outlinewidth\": 0, \"ticks\": \"\"}}, \"type\": \"scattergl\"}], \"scattermapbox\": [{\"marker\": {\"colorbar\": {\"outlinewidth\": 0, \"ticks\": \"\"}}, \"type\": \"scattermapbox\"}], \"scatterpolar\": [{\"marker\": {\"colorbar\": {\"outlinewidth\": 0, \"ticks\": \"\"}}, \"type\": \"scatterpolar\"}], \"scatterpolargl\": [{\"marker\": {\"colorbar\": {\"outlinewidth\": 0, \"ticks\": \"\"}}, \"type\": \"scatterpolargl\"}], \"scatterternary\": [{\"marker\": {\"colorbar\": {\"outlinewidth\": 0, \"ticks\": \"\"}}, \"type\": \"scatterternary\"}], \"surface\": [{\"colorbar\": {\"outlinewidth\": 0, \"ticks\": \"\"}, \"colorscale\": [[0.0, \"#0d0887\"], [0.1111111111111111, \"#46039f\"], [0.2222222222222222, \"#7201a8\"], [0.3333333333333333, \"#9c179e\"], [0.4444444444444444, \"#bd3786\"], [0.5555555555555556, \"#d8576b\"], [0.6666666666666666, \"#ed7953\"], [0.7777777777777778, \"#fb9f3a\"], [0.8888888888888888, \"#fdca26\"], [1.0, \"#f0f921\"]], \"type\": \"surface\"}], \"table\": [{\"cells\": {\"fill\": {\"color\": \"#EBF0F8\"}, \"line\": {\"color\": \"white\"}}, \"header\": {\"fill\": {\"color\": \"#C8D4E3\"}, \"line\": {\"color\": \"white\"}}, \"type\": \"table\"}]}, \"layout\": {\"annotationdefaults\": {\"arrowcolor\": \"#2a3f5f\", \"arrowhead\": 0, \"arrowwidth\": 1}, \"autotypenumbers\": \"strict\", \"coloraxis\": {\"colorbar\": {\"outlinewidth\": 0, \"ticks\": \"\"}}, \"colorscale\": {\"diverging\": [[0, \"#8e0152\"], [0.1, \"#c51b7d\"], [0.2, \"#de77ae\"], [0.3, \"#f1b6da\"], [0.4, \"#fde0ef\"], [0.5, \"#f7f7f7\"], [0.6, \"#e6f5d0\"], [0.7, \"#b8e186\"], [0.8, \"#7fbc41\"], [0.9, \"#4d9221\"], [1, \"#276419\"]], \"sequential\": [[0.0, \"#0d0887\"], [0.1111111111111111, \"#46039f\"], [0.2222222222222222, \"#7201a8\"], [0.3333333333333333, \"#9c179e\"], [0.4444444444444444, \"#bd3786\"], [0.5555555555555556, \"#d8576b\"], [0.6666666666666666, \"#ed7953\"], [0.7777777777777778, \"#fb9f3a\"], [0.8888888888888888, \"#fdca26\"], [1.0, \"#f0f921\"]], \"sequentialminus\": [[0.0, \"#0d0887\"], [0.1111111111111111, \"#46039f\"], [0.2222222222222222, \"#7201a8\"], [0.3333333333333333, \"#9c179e\"], [0.4444444444444444, \"#bd3786\"], [0.5555555555555556, \"#d8576b\"], [0.6666666666666666, \"#ed7953\"], [0.7777777777777778, \"#fb9f3a\"], [0.8888888888888888, \"#fdca26\"], [1.0, \"#f0f921\"]]}, \"colorway\": [\"#636efa\", \"#EF553B\", \"#00cc96\", \"#ab63fa\", \"#FFA15A\", \"#19d3f3\", \"#FF6692\", \"#B6E880\", \"#FF97FF\", \"#FECB52\"], \"font\": {\"color\": \"#2a3f5f\"}, \"geo\": {\"bgcolor\": \"white\", \"lakecolor\": \"white\", \"landcolor\": \"#E5ECF6\", \"showlakes\": true, \"showland\": true, \"subunitcolor\": \"white\"}, \"hoverlabel\": {\"align\": \"left\"}, \"hovermode\": \"closest\", \"mapbox\": {\"style\": \"light\"}, \"paper_bgcolor\": \"white\", \"plot_bgcolor\": \"#E5ECF6\", \"polar\": {\"angularaxis\": {\"gridcolor\": \"white\", \"linecolor\": \"white\", \"ticks\": \"\"}, \"bgcolor\": \"#E5ECF6\", \"radialaxis\": {\"gridcolor\": \"white\", \"linecolor\": \"white\", \"ticks\": \"\"}}, \"scene\": {\"xaxis\": {\"backgroundcolor\": \"#E5ECF6\", \"gridcolor\": \"white\", \"gridwidth\": 2, \"linecolor\": \"white\", \"showbackground\": true, \"ticks\": \"\", \"zerolinecolor\": \"white\"}, \"yaxis\": {\"backgroundcolor\": \"#E5ECF6\", \"gridcolor\": \"white\", \"gridwidth\": 2, \"linecolor\": \"white\", \"showbackground\": true, \"ticks\": \"\", \"zerolinecolor\": \"white\"}, \"zaxis\": {\"backgroundcolor\": \"#E5ECF6\", \"gridcolor\": \"white\", \"gridwidth\": 2, \"linecolor\": \"white\", \"showbackground\": true, \"ticks\": \"\", \"zerolinecolor\": \"white\"}}, \"shapedefaults\": {\"line\": {\"color\": \"#2a3f5f\"}}, \"ternary\": {\"aaxis\": {\"gridcolor\": \"white\", \"linecolor\": \"white\", \"ticks\": \"\"}, \"baxis\": {\"gridcolor\": \"white\", \"linecolor\": \"white\", \"ticks\": \"\"}, \"bgcolor\": \"#E5ECF6\", \"caxis\": {\"gridcolor\": \"white\", \"linecolor\": \"white\", \"ticks\": \"\"}}, \"title\": {\"x\": 0.05}, \"xaxis\": {\"automargin\": true, \"gridcolor\": \"white\", \"linecolor\": \"white\", \"ticks\": \"\", \"title\": {\"standoff\": 15}, \"zerolinecolor\": \"white\", \"zerolinewidth\": 2}, \"yaxis\": {\"automargin\": true, \"gridcolor\": \"white\", \"linecolor\": \"white\", \"ticks\": \"\", \"title\": {\"standoff\": 15}, \"zerolinecolor\": \"white\", \"zerolinewidth\": 2}}}},                        {\"responsive\": true}                    ).then(function(){\n",
       "                            \n",
       "var gd = document.getElementById('d9fbcfb5-6c57-47ea-b543-15b5be63a2bd');\n",
       "var x = new MutationObserver(function (mutations, observer) {{\n",
       "        var display = window.getComputedStyle(gd).display;\n",
       "        if (!display || display === 'none') {{\n",
       "            console.log([gd, 'removed!']);\n",
       "            Plotly.purge(gd);\n",
       "            observer.disconnect();\n",
       "        }}\n",
       "}});\n",
       "\n",
       "// Listen for the removal of the full notebook cells\n",
       "var notebookContainer = gd.closest('#notebook-container');\n",
       "if (notebookContainer) {{\n",
       "    x.observe(notebookContainer, {childList: true});\n",
       "}}\n",
       "\n",
       "// Listen for the clearing of the current output cell\n",
       "var outputEl = gd.closest('.output');\n",
       "if (outputEl) {{\n",
       "    x.observe(outputEl, {childList: true});\n",
       "}}\n",
       "\n",
       "                        })                };                });            </script>        </div>"
      ]
     },
     "metadata": {},
     "output_type": "display_data"
    }
   ],
   "source": [
    "\n",
    "fig = px.treemap(df, \n",
    "                 path = [\"Sport_en\", \"Stadsdeel\"],\n",
    "                 range_color=\"pinks\",\n",
    "                 maxdepth=1)\n",
    "fig.show()"
   ]
  },
  {
   "cell_type": "markdown",
   "id": "empirical-texture",
   "metadata": {
    "heading_collapsed": true
   },
   "source": [
    "### Categorization"
   ]
  },
  {
   "cell_type": "code",
   "execution_count": 201,
   "id": "defined-federal",
   "metadata": {
    "hidden": true,
    "scrolled": false
   },
   "outputs": [
    {
     "data": {
      "application/vnd.plotly.v1+json": {
       "config": {
        "plotlyServerURL": "https://plot.ly"
       },
       "data": [
        {
         "branchvalues": "total",
         "domain": {
          "x": [
           0,
           1
          ],
          "y": [
           0,
           1
          ]
         },
         "hovertemplate": "labels=%{label}<br>count=%{value}<br>parent=%{parent}<br>id=%{id}<extra></extra>",
         "ids": [
          "All/others/adapted sports",
          "All/gym sports/aerobics",
          "All/combat sports and martial arts/aikido",
          "All/football family/american football",
          "All/target sports/archery",
          "All/others/athletics",
          "All/football family/australian football",
          "All/ball-over-net games/badminton",
          "All/bat-and-ball/baseball / softball",
          "All/basketball family/basketball",
          "All/ball-over-net games/beach volleyball",
          "All/handball family/beachhandbal",
          "All/stick and ball games/billiards",
          "All/gym sports/bootcamp",
          "All/acro sports/bounce",
          "All/target sports/bowling",
          "All/target sports/bowls",
          "All/combat sports and martial arts/boxing",
          "All/board games/bridge",
          "All/aquatic & paddle sports/canoeing",
          "All/combat sports and martial arts/capoeira",
          "All/acro sports/cheerleading",
          "All/board games/chess",
          "All/others/circus",
          "All/climbing/climbing",
          "All/bat-and-ball/cricket",
          "All/endurance sports/cycling",
          "All/board games/dammen",
          "All/gym sports/dance",
          "All/aquatic & paddle sports/dragon boat racing",
          "All/others/equestrian",
          "All/combat sports and martial arts/fencing",
          "All/gym sports/fitness",
          "All/stick and ball games/floorball",
          "All/football family/football",
          "All/others/frisbee",
          "All/football family/futsal",
          "All/football family/gaelic football",
          "All/board games/go",
          "All/target sports/golf",
          "All/acro sports/gymnastics",
          "All/handball family/handball",
          "All/combat sports and martial arts/hapkido",
          "All/climbing/hiking",
          "All/stick and ball games/hockey",
          "All/ice sports/ice hockey",
          "All/combat sports and martial arts/judo",
          "All/combat sports and martial arts/karate",
          "All/combat sports and martial arts/kickboxing",
          "All/basketball family/korfball",
          "All/combat sports and martial arts/kung-fu",
          "All/stick and ball games/lacrosse",
          "All/combat sports and martial arts/martial and strength sports",
          "All/others/multisport",
          "All/ball-over-net games/padel",
          "All/combat sports and martial arts/pencak silat",
          "All/ball-over-net games/pickleball",
          "All/aquatic & paddle sports/rowing",
          "All/football family/rugby",
          "All/endurance sports/running",
          "All/aquatic & paddle sports/sailing",
          "All/ice sports/skating",
          "All/aquatic & paddle sports/sloeproeien",
          "All/racket sports/squash",
          "All/aquatic & paddle sports/sup",
          "All/aquatic & paddle sports/surfing",
          "All/endurance sports/survivalrun",
          "All/aquatic & paddle sports/swimming",
          "All/racket sports/table tennis",
          "All/combat sports and martial arts/taekwondo",
          "All/combat sports and martial arts/tai chi",
          "All/target sports/target shooting",
          "All/ball-over-net games/tennis",
          "All/endurance sports/triathlon",
          "All/aquatic & paddle sports/underwater sports",
          "All/others/urban sports",
          "All/ball-over-net games/volley-ball",
          "All/handball family/water polo",
          "All/gym sports/yoga",
          "All/acro sports",
          "All/aquatic & paddle sports",
          "All/ball-over-net games",
          "All/basketball family",
          "All/bat-and-ball",
          "All/board games",
          "All/climbing",
          "All/combat sports and martial arts",
          "All/endurance sports",
          "All/football family",
          "All/gym sports",
          "All/handball family",
          "All/ice sports",
          "All/others",
          "All/racket sports",
          "All/stick and ball games",
          "All/target sports",
          "All"
         ],
         "labels": [
          "adapted sports",
          "aerobics",
          "aikido",
          "american football",
          "archery",
          "athletics",
          "australian football",
          "badminton",
          "baseball / softball",
          "basketball",
          "beach volleyball",
          "beachhandbal",
          "billiards",
          "bootcamp",
          "bounce",
          "bowling",
          "bowls",
          "boxing",
          "bridge",
          "canoeing",
          "capoeira",
          "cheerleading",
          "chess",
          "circus",
          "climbing",
          "cricket",
          "cycling",
          "dammen",
          "dance",
          "dragon boat racing",
          "equestrian",
          "fencing",
          "fitness",
          "floorball",
          "football",
          "frisbee",
          "futsal",
          "gaelic football",
          "go",
          "golf",
          "gymnastics",
          "handball",
          "hapkido",
          "hiking",
          "hockey",
          "ice hockey",
          "judo",
          "karate",
          "kickboxing",
          "korfball",
          "kung-fu",
          "lacrosse",
          "martial and strength sports",
          "multisport",
          "padel",
          "pencak silat",
          "pickleball",
          "rowing",
          "rugby",
          "running",
          "sailing",
          "skating",
          "sloeproeien",
          "squash",
          "sup",
          "surfing",
          "survivalrun",
          "swimming",
          "table tennis",
          "taekwondo",
          "tai chi",
          "target shooting",
          "tennis",
          "triathlon",
          "underwater sports",
          "urban sports",
          "volley-ball",
          "water polo",
          "yoga",
          "acro sports",
          "aquatic & paddle sports",
          "ball-over-net games",
          "basketball family",
          "bat-and-ball",
          "board games",
          "climbing",
          "combat sports and martial arts",
          "endurance sports",
          "football family",
          "gym sports",
          "handball family",
          "ice sports",
          "others",
          "racket sports",
          "stick and ball games",
          "target sports",
          "All"
         ],
         "name": "",
         "parents": [
          "All/others",
          "All/gym sports",
          "All/combat sports and martial arts",
          "All/football family",
          "All/target sports",
          "All/others",
          "All/football family",
          "All/ball-over-net games",
          "All/bat-and-ball",
          "All/basketball family",
          "All/ball-over-net games",
          "All/handball family",
          "All/stick and ball games",
          "All/gym sports",
          "All/acro sports",
          "All/target sports",
          "All/target sports",
          "All/combat sports and martial arts",
          "All/board games",
          "All/aquatic & paddle sports",
          "All/combat sports and martial arts",
          "All/acro sports",
          "All/board games",
          "All/others",
          "All/climbing",
          "All/bat-and-ball",
          "All/endurance sports",
          "All/board games",
          "All/gym sports",
          "All/aquatic & paddle sports",
          "All/others",
          "All/combat sports and martial arts",
          "All/gym sports",
          "All/stick and ball games",
          "All/football family",
          "All/others",
          "All/football family",
          "All/football family",
          "All/board games",
          "All/target sports",
          "All/acro sports",
          "All/handball family",
          "All/combat sports and martial arts",
          "All/climbing",
          "All/stick and ball games",
          "All/ice sports",
          "All/combat sports and martial arts",
          "All/combat sports and martial arts",
          "All/combat sports and martial arts",
          "All/basketball family",
          "All/combat sports and martial arts",
          "All/stick and ball games",
          "All/combat sports and martial arts",
          "All/others",
          "All/ball-over-net games",
          "All/combat sports and martial arts",
          "All/ball-over-net games",
          "All/aquatic & paddle sports",
          "All/football family",
          "All/endurance sports",
          "All/aquatic & paddle sports",
          "All/ice sports",
          "All/aquatic & paddle sports",
          "All/racket sports",
          "All/aquatic & paddle sports",
          "All/aquatic & paddle sports",
          "All/endurance sports",
          "All/aquatic & paddle sports",
          "All/racket sports",
          "All/combat sports and martial arts",
          "All/combat sports and martial arts",
          "All/target sports",
          "All/ball-over-net games",
          "All/endurance sports",
          "All/aquatic & paddle sports",
          "All/others",
          "All/ball-over-net games",
          "All/handball family",
          "All/gym sports",
          "All",
          "All",
          "All",
          "All",
          "All",
          "All",
          "All",
          "All",
          "All",
          "All",
          "All",
          "All",
          "All",
          "All",
          "All",
          "All",
          "All",
          ""
         ],
         "type": "treemap",
         "values": [
          6,
          3,
          24,
          2,
          1,
          6,
          1,
          15,
          6,
          26,
          7,
          1,
          15,
          3,
          1,
          3,
          6,
          8,
          25,
          10,
          11,
          4,
          19,
          3,
          11,
          6,
          6,
          2,
          27,
          1,
          9,
          6,
          95,
          1,
          69,
          2,
          15,
          1,
          1,
          8,
          63,
          11,
          1,
          3,
          11,
          1,
          45,
          18,
          15,
          11,
          4,
          2,
          46,
          3,
          7,
          5,
          1,
          9,
          4,
          5,
          17,
          23,
          3,
          9,
          5,
          4,
          1,
          44,
          17,
          5,
          2,
          10,
          37,
          2,
          12,
          11,
          16,
          6,
          12,
          68,
          105,
          83,
          37,
          12,
          47,
          14,
          190,
          14,
          92,
          140,
          18,
          24,
          40,
          26,
          29,
          28,
          967
         ]
        }
       ],
       "layout": {
        "legend": {
         "tracegroupgap": 0
        },
        "margin": {
         "t": 60
        },
        "template": {
         "data": {
          "bar": [
           {
            "error_x": {
             "color": "#2a3f5f"
            },
            "error_y": {
             "color": "#2a3f5f"
            },
            "marker": {
             "line": {
              "color": "#E5ECF6",
              "width": 0.5
             }
            },
            "type": "bar"
           }
          ],
          "barpolar": [
           {
            "marker": {
             "line": {
              "color": "#E5ECF6",
              "width": 0.5
             }
            },
            "type": "barpolar"
           }
          ],
          "carpet": [
           {
            "aaxis": {
             "endlinecolor": "#2a3f5f",
             "gridcolor": "white",
             "linecolor": "white",
             "minorgridcolor": "white",
             "startlinecolor": "#2a3f5f"
            },
            "baxis": {
             "endlinecolor": "#2a3f5f",
             "gridcolor": "white",
             "linecolor": "white",
             "minorgridcolor": "white",
             "startlinecolor": "#2a3f5f"
            },
            "type": "carpet"
           }
          ],
          "choropleth": [
           {
            "colorbar": {
             "outlinewidth": 0,
             "ticks": ""
            },
            "type": "choropleth"
           }
          ],
          "contour": [
           {
            "colorbar": {
             "outlinewidth": 0,
             "ticks": ""
            },
            "colorscale": [
             [
              0,
              "#0d0887"
             ],
             [
              0.1111111111111111,
              "#46039f"
             ],
             [
              0.2222222222222222,
              "#7201a8"
             ],
             [
              0.3333333333333333,
              "#9c179e"
             ],
             [
              0.4444444444444444,
              "#bd3786"
             ],
             [
              0.5555555555555556,
              "#d8576b"
             ],
             [
              0.6666666666666666,
              "#ed7953"
             ],
             [
              0.7777777777777778,
              "#fb9f3a"
             ],
             [
              0.8888888888888888,
              "#fdca26"
             ],
             [
              1,
              "#f0f921"
             ]
            ],
            "type": "contour"
           }
          ],
          "contourcarpet": [
           {
            "colorbar": {
             "outlinewidth": 0,
             "ticks": ""
            },
            "type": "contourcarpet"
           }
          ],
          "heatmap": [
           {
            "colorbar": {
             "outlinewidth": 0,
             "ticks": ""
            },
            "colorscale": [
             [
              0,
              "#0d0887"
             ],
             [
              0.1111111111111111,
              "#46039f"
             ],
             [
              0.2222222222222222,
              "#7201a8"
             ],
             [
              0.3333333333333333,
              "#9c179e"
             ],
             [
              0.4444444444444444,
              "#bd3786"
             ],
             [
              0.5555555555555556,
              "#d8576b"
             ],
             [
              0.6666666666666666,
              "#ed7953"
             ],
             [
              0.7777777777777778,
              "#fb9f3a"
             ],
             [
              0.8888888888888888,
              "#fdca26"
             ],
             [
              1,
              "#f0f921"
             ]
            ],
            "type": "heatmap"
           }
          ],
          "heatmapgl": [
           {
            "colorbar": {
             "outlinewidth": 0,
             "ticks": ""
            },
            "colorscale": [
             [
              0,
              "#0d0887"
             ],
             [
              0.1111111111111111,
              "#46039f"
             ],
             [
              0.2222222222222222,
              "#7201a8"
             ],
             [
              0.3333333333333333,
              "#9c179e"
             ],
             [
              0.4444444444444444,
              "#bd3786"
             ],
             [
              0.5555555555555556,
              "#d8576b"
             ],
             [
              0.6666666666666666,
              "#ed7953"
             ],
             [
              0.7777777777777778,
              "#fb9f3a"
             ],
             [
              0.8888888888888888,
              "#fdca26"
             ],
             [
              1,
              "#f0f921"
             ]
            ],
            "type": "heatmapgl"
           }
          ],
          "histogram": [
           {
            "marker": {
             "colorbar": {
              "outlinewidth": 0,
              "ticks": ""
             }
            },
            "type": "histogram"
           }
          ],
          "histogram2d": [
           {
            "colorbar": {
             "outlinewidth": 0,
             "ticks": ""
            },
            "colorscale": [
             [
              0,
              "#0d0887"
             ],
             [
              0.1111111111111111,
              "#46039f"
             ],
             [
              0.2222222222222222,
              "#7201a8"
             ],
             [
              0.3333333333333333,
              "#9c179e"
             ],
             [
              0.4444444444444444,
              "#bd3786"
             ],
             [
              0.5555555555555556,
              "#d8576b"
             ],
             [
              0.6666666666666666,
              "#ed7953"
             ],
             [
              0.7777777777777778,
              "#fb9f3a"
             ],
             [
              0.8888888888888888,
              "#fdca26"
             ],
             [
              1,
              "#f0f921"
             ]
            ],
            "type": "histogram2d"
           }
          ],
          "histogram2dcontour": [
           {
            "colorbar": {
             "outlinewidth": 0,
             "ticks": ""
            },
            "colorscale": [
             [
              0,
              "#0d0887"
             ],
             [
              0.1111111111111111,
              "#46039f"
             ],
             [
              0.2222222222222222,
              "#7201a8"
             ],
             [
              0.3333333333333333,
              "#9c179e"
             ],
             [
              0.4444444444444444,
              "#bd3786"
             ],
             [
              0.5555555555555556,
              "#d8576b"
             ],
             [
              0.6666666666666666,
              "#ed7953"
             ],
             [
              0.7777777777777778,
              "#fb9f3a"
             ],
             [
              0.8888888888888888,
              "#fdca26"
             ],
             [
              1,
              "#f0f921"
             ]
            ],
            "type": "histogram2dcontour"
           }
          ],
          "mesh3d": [
           {
            "colorbar": {
             "outlinewidth": 0,
             "ticks": ""
            },
            "type": "mesh3d"
           }
          ],
          "parcoords": [
           {
            "line": {
             "colorbar": {
              "outlinewidth": 0,
              "ticks": ""
             }
            },
            "type": "parcoords"
           }
          ],
          "pie": [
           {
            "automargin": true,
            "type": "pie"
           }
          ],
          "scatter": [
           {
            "marker": {
             "colorbar": {
              "outlinewidth": 0,
              "ticks": ""
             }
            },
            "type": "scatter"
           }
          ],
          "scatter3d": [
           {
            "line": {
             "colorbar": {
              "outlinewidth": 0,
              "ticks": ""
             }
            },
            "marker": {
             "colorbar": {
              "outlinewidth": 0,
              "ticks": ""
             }
            },
            "type": "scatter3d"
           }
          ],
          "scattercarpet": [
           {
            "marker": {
             "colorbar": {
              "outlinewidth": 0,
              "ticks": ""
             }
            },
            "type": "scattercarpet"
           }
          ],
          "scattergeo": [
           {
            "marker": {
             "colorbar": {
              "outlinewidth": 0,
              "ticks": ""
             }
            },
            "type": "scattergeo"
           }
          ],
          "scattergl": [
           {
            "marker": {
             "colorbar": {
              "outlinewidth": 0,
              "ticks": ""
             }
            },
            "type": "scattergl"
           }
          ],
          "scattermapbox": [
           {
            "marker": {
             "colorbar": {
              "outlinewidth": 0,
              "ticks": ""
             }
            },
            "type": "scattermapbox"
           }
          ],
          "scatterpolar": [
           {
            "marker": {
             "colorbar": {
              "outlinewidth": 0,
              "ticks": ""
             }
            },
            "type": "scatterpolar"
           }
          ],
          "scatterpolargl": [
           {
            "marker": {
             "colorbar": {
              "outlinewidth": 0,
              "ticks": ""
             }
            },
            "type": "scatterpolargl"
           }
          ],
          "scatterternary": [
           {
            "marker": {
             "colorbar": {
              "outlinewidth": 0,
              "ticks": ""
             }
            },
            "type": "scatterternary"
           }
          ],
          "surface": [
           {
            "colorbar": {
             "outlinewidth": 0,
             "ticks": ""
            },
            "colorscale": [
             [
              0,
              "#0d0887"
             ],
             [
              0.1111111111111111,
              "#46039f"
             ],
             [
              0.2222222222222222,
              "#7201a8"
             ],
             [
              0.3333333333333333,
              "#9c179e"
             ],
             [
              0.4444444444444444,
              "#bd3786"
             ],
             [
              0.5555555555555556,
              "#d8576b"
             ],
             [
              0.6666666666666666,
              "#ed7953"
             ],
             [
              0.7777777777777778,
              "#fb9f3a"
             ],
             [
              0.8888888888888888,
              "#fdca26"
             ],
             [
              1,
              "#f0f921"
             ]
            ],
            "type": "surface"
           }
          ],
          "table": [
           {
            "cells": {
             "fill": {
              "color": "#EBF0F8"
             },
             "line": {
              "color": "white"
             }
            },
            "header": {
             "fill": {
              "color": "#C8D4E3"
             },
             "line": {
              "color": "white"
             }
            },
            "type": "table"
           }
          ]
         },
         "layout": {
          "annotationdefaults": {
           "arrowcolor": "#2a3f5f",
           "arrowhead": 0,
           "arrowwidth": 1
          },
          "autotypenumbers": "strict",
          "coloraxis": {
           "colorbar": {
            "outlinewidth": 0,
            "ticks": ""
           }
          },
          "colorscale": {
           "diverging": [
            [
             0,
             "#8e0152"
            ],
            [
             0.1,
             "#c51b7d"
            ],
            [
             0.2,
             "#de77ae"
            ],
            [
             0.3,
             "#f1b6da"
            ],
            [
             0.4,
             "#fde0ef"
            ],
            [
             0.5,
             "#f7f7f7"
            ],
            [
             0.6,
             "#e6f5d0"
            ],
            [
             0.7,
             "#b8e186"
            ],
            [
             0.8,
             "#7fbc41"
            ],
            [
             0.9,
             "#4d9221"
            ],
            [
             1,
             "#276419"
            ]
           ],
           "sequential": [
            [
             0,
             "#0d0887"
            ],
            [
             0.1111111111111111,
             "#46039f"
            ],
            [
             0.2222222222222222,
             "#7201a8"
            ],
            [
             0.3333333333333333,
             "#9c179e"
            ],
            [
             0.4444444444444444,
             "#bd3786"
            ],
            [
             0.5555555555555556,
             "#d8576b"
            ],
            [
             0.6666666666666666,
             "#ed7953"
            ],
            [
             0.7777777777777778,
             "#fb9f3a"
            ],
            [
             0.8888888888888888,
             "#fdca26"
            ],
            [
             1,
             "#f0f921"
            ]
           ],
           "sequentialminus": [
            [
             0,
             "#0d0887"
            ],
            [
             0.1111111111111111,
             "#46039f"
            ],
            [
             0.2222222222222222,
             "#7201a8"
            ],
            [
             0.3333333333333333,
             "#9c179e"
            ],
            [
             0.4444444444444444,
             "#bd3786"
            ],
            [
             0.5555555555555556,
             "#d8576b"
            ],
            [
             0.6666666666666666,
             "#ed7953"
            ],
            [
             0.7777777777777778,
             "#fb9f3a"
            ],
            [
             0.8888888888888888,
             "#fdca26"
            ],
            [
             1,
             "#f0f921"
            ]
           ]
          },
          "colorway": [
           "#636efa",
           "#EF553B",
           "#00cc96",
           "#ab63fa",
           "#FFA15A",
           "#19d3f3",
           "#FF6692",
           "#B6E880",
           "#FF97FF",
           "#FECB52"
          ],
          "font": {
           "color": "#2a3f5f"
          },
          "geo": {
           "bgcolor": "white",
           "lakecolor": "white",
           "landcolor": "#E5ECF6",
           "showlakes": true,
           "showland": true,
           "subunitcolor": "white"
          },
          "hoverlabel": {
           "align": "left"
          },
          "hovermode": "closest",
          "mapbox": {
           "style": "light"
          },
          "paper_bgcolor": "white",
          "plot_bgcolor": "#E5ECF6",
          "polar": {
           "angularaxis": {
            "gridcolor": "white",
            "linecolor": "white",
            "ticks": ""
           },
           "bgcolor": "#E5ECF6",
           "radialaxis": {
            "gridcolor": "white",
            "linecolor": "white",
            "ticks": ""
           }
          },
          "scene": {
           "xaxis": {
            "backgroundcolor": "#E5ECF6",
            "gridcolor": "white",
            "gridwidth": 2,
            "linecolor": "white",
            "showbackground": true,
            "ticks": "",
            "zerolinecolor": "white"
           },
           "yaxis": {
            "backgroundcolor": "#E5ECF6",
            "gridcolor": "white",
            "gridwidth": 2,
            "linecolor": "white",
            "showbackground": true,
            "ticks": "",
            "zerolinecolor": "white"
           },
           "zaxis": {
            "backgroundcolor": "#E5ECF6",
            "gridcolor": "white",
            "gridwidth": 2,
            "linecolor": "white",
            "showbackground": true,
            "ticks": "",
            "zerolinecolor": "white"
           }
          },
          "shapedefaults": {
           "line": {
            "color": "#2a3f5f"
           }
          },
          "ternary": {
           "aaxis": {
            "gridcolor": "white",
            "linecolor": "white",
            "ticks": ""
           },
           "baxis": {
            "gridcolor": "white",
            "linecolor": "white",
            "ticks": ""
           },
           "bgcolor": "#E5ECF6",
           "caxis": {
            "gridcolor": "white",
            "linecolor": "white",
            "ticks": ""
           }
          },
          "title": {
           "x": 0.05
          },
          "xaxis": {
           "automargin": true,
           "gridcolor": "white",
           "linecolor": "white",
           "ticks": "",
           "title": {
            "standoff": 15
           },
           "zerolinecolor": "white",
           "zerolinewidth": 2
          },
          "yaxis": {
           "automargin": true,
           "gridcolor": "white",
           "linecolor": "white",
           "ticks": "",
           "title": {
            "standoff": 15
           },
           "zerolinecolor": "white",
           "zerolinewidth": 2
          }
         }
        }
       }
      },
      "text/html": [
       "<div>                            <div id=\"7173b55f-f341-46c8-b999-6148df564589\" class=\"plotly-graph-div\" style=\"height:525px; width:100%;\"></div>            <script type=\"text/javascript\">                require([\"plotly\"], function(Plotly) {                    window.PLOTLYENV=window.PLOTLYENV || {};                                    if (document.getElementById(\"7173b55f-f341-46c8-b999-6148df564589\")) {                    Plotly.newPlot(                        \"7173b55f-f341-46c8-b999-6148df564589\",                        [{\"branchvalues\": \"total\", \"domain\": {\"x\": [0.0, 1.0], \"y\": [0.0, 1.0]}, \"hovertemplate\": \"labels=%{label}<br>count=%{value}<br>parent=%{parent}<br>id=%{id}<extra></extra>\", \"ids\": [\"All/others/adapted sports\", \"All/gym sports/aerobics\", \"All/combat sports and martial arts/aikido\", \"All/football family/american football\", \"All/target sports/archery\", \"All/others/athletics\", \"All/football family/australian football\", \"All/ball-over-net games/badminton\", \"All/bat-and-ball/baseball / softball\", \"All/basketball family/basketball\", \"All/ball-over-net games/beach volleyball\", \"All/handball family/beachhandbal\", \"All/stick and ball games/billiards\", \"All/gym sports/bootcamp\", \"All/acro sports/bounce\", \"All/target sports/bowling\", \"All/target sports/bowls\", \"All/combat sports and martial arts/boxing\", \"All/board games/bridge\", \"All/aquatic & paddle sports/canoeing\", \"All/combat sports and martial arts/capoeira\", \"All/acro sports/cheerleading\", \"All/board games/chess\", \"All/others/circus\", \"All/climbing/climbing\", \"All/bat-and-ball/cricket\", \"All/endurance sports/cycling\", \"All/board games/dammen\", \"All/gym sports/dance\", \"All/aquatic & paddle sports/dragon boat racing\", \"All/others/equestrian\", \"All/combat sports and martial arts/fencing\", \"All/gym sports/fitness\", \"All/stick and ball games/floorball\", \"All/football family/football\", \"All/others/frisbee\", \"All/football family/futsal\", \"All/football family/gaelic football\", \"All/board games/go\", \"All/target sports/golf\", \"All/acro sports/gymnastics\", \"All/handball family/handball\", \"All/combat sports and martial arts/hapkido\", \"All/climbing/hiking\", \"All/stick and ball games/hockey\", \"All/ice sports/ice hockey\", \"All/combat sports and martial arts/judo\", \"All/combat sports and martial arts/karate\", \"All/combat sports and martial arts/kickboxing\", \"All/basketball family/korfball\", \"All/combat sports and martial arts/kung-fu\", \"All/stick and ball games/lacrosse\", \"All/combat sports and martial arts/martial and strength sports\", \"All/others/multisport\", \"All/ball-over-net games/padel\", \"All/combat sports and martial arts/pencak silat\", \"All/ball-over-net games/pickleball\", \"All/aquatic & paddle sports/rowing\", \"All/football family/rugby\", \"All/endurance sports/running\", \"All/aquatic & paddle sports/sailing\", \"All/ice sports/skating\", \"All/aquatic & paddle sports/sloeproeien\", \"All/racket sports/squash\", \"All/aquatic & paddle sports/sup\", \"All/aquatic & paddle sports/surfing\", \"All/endurance sports/survivalrun\", \"All/aquatic & paddle sports/swimming\", \"All/racket sports/table tennis\", \"All/combat sports and martial arts/taekwondo\", \"All/combat sports and martial arts/tai chi\", \"All/target sports/target shooting\", \"All/ball-over-net games/tennis\", \"All/endurance sports/triathlon\", \"All/aquatic & paddle sports/underwater sports\", \"All/others/urban sports\", \"All/ball-over-net games/volley-ball\", \"All/handball family/water polo\", \"All/gym sports/yoga\", \"All/acro sports\", \"All/aquatic & paddle sports\", \"All/ball-over-net games\", \"All/basketball family\", \"All/bat-and-ball\", \"All/board games\", \"All/climbing\", \"All/combat sports and martial arts\", \"All/endurance sports\", \"All/football family\", \"All/gym sports\", \"All/handball family\", \"All/ice sports\", \"All/others\", \"All/racket sports\", \"All/stick and ball games\", \"All/target sports\", \"All\"], \"labels\": [\"adapted sports\", \"aerobics\", \"aikido\", \"american football\", \"archery\", \"athletics\", \"australian football\", \"badminton\", \"baseball / softball\", \"basketball\", \"beach volleyball\", \"beachhandbal\", \"billiards\", \"bootcamp\", \"bounce\", \"bowling\", \"bowls\", \"boxing\", \"bridge\", \"canoeing\", \"capoeira\", \"cheerleading\", \"chess\", \"circus\", \"climbing\", \"cricket\", \"cycling\", \"dammen\", \"dance\", \"dragon boat racing\", \"equestrian\", \"fencing\", \"fitness\", \"floorball\", \"football\", \"frisbee\", \"futsal\", \"gaelic football\", \"go\", \"golf\", \"gymnastics\", \"handball\", \"hapkido\", \"hiking\", \"hockey\", \"ice hockey\", \"judo\", \"karate\", \"kickboxing\", \"korfball\", \"kung-fu\", \"lacrosse\", \"martial and strength sports\", \"multisport\", \"padel\", \"pencak silat\", \"pickleball\", \"rowing\", \"rugby\", \"running\", \"sailing\", \"skating\", \"sloeproeien\", \"squash\", \"sup\", \"surfing\", \"survivalrun\", \"swimming\", \"table tennis\", \"taekwondo\", \"tai chi\", \"target shooting\", \"tennis\", \"triathlon\", \"underwater sports\", \"urban sports\", \"volley-ball\", \"water polo\", \"yoga\", \"acro sports\", \"aquatic & paddle sports\", \"ball-over-net games\", \"basketball family\", \"bat-and-ball\", \"board games\", \"climbing\", \"combat sports and martial arts\", \"endurance sports\", \"football family\", \"gym sports\", \"handball family\", \"ice sports\", \"others\", \"racket sports\", \"stick and ball games\", \"target sports\", \"All\"], \"name\": \"\", \"parents\": [\"All/others\", \"All/gym sports\", \"All/combat sports and martial arts\", \"All/football family\", \"All/target sports\", \"All/others\", \"All/football family\", \"All/ball-over-net games\", \"All/bat-and-ball\", \"All/basketball family\", \"All/ball-over-net games\", \"All/handball family\", \"All/stick and ball games\", \"All/gym sports\", \"All/acro sports\", \"All/target sports\", \"All/target sports\", \"All/combat sports and martial arts\", \"All/board games\", \"All/aquatic & paddle sports\", \"All/combat sports and martial arts\", \"All/acro sports\", \"All/board games\", \"All/others\", \"All/climbing\", \"All/bat-and-ball\", \"All/endurance sports\", \"All/board games\", \"All/gym sports\", \"All/aquatic & paddle sports\", \"All/others\", \"All/combat sports and martial arts\", \"All/gym sports\", \"All/stick and ball games\", \"All/football family\", \"All/others\", \"All/football family\", \"All/football family\", \"All/board games\", \"All/target sports\", \"All/acro sports\", \"All/handball family\", \"All/combat sports and martial arts\", \"All/climbing\", \"All/stick and ball games\", \"All/ice sports\", \"All/combat sports and martial arts\", \"All/combat sports and martial arts\", \"All/combat sports and martial arts\", \"All/basketball family\", \"All/combat sports and martial arts\", \"All/stick and ball games\", \"All/combat sports and martial arts\", \"All/others\", \"All/ball-over-net games\", \"All/combat sports and martial arts\", \"All/ball-over-net games\", \"All/aquatic & paddle sports\", \"All/football family\", \"All/endurance sports\", \"All/aquatic & paddle sports\", \"All/ice sports\", \"All/aquatic & paddle sports\", \"All/racket sports\", \"All/aquatic & paddle sports\", \"All/aquatic & paddle sports\", \"All/endurance sports\", \"All/aquatic & paddle sports\", \"All/racket sports\", \"All/combat sports and martial arts\", \"All/combat sports and martial arts\", \"All/target sports\", \"All/ball-over-net games\", \"All/endurance sports\", \"All/aquatic & paddle sports\", \"All/others\", \"All/ball-over-net games\", \"All/handball family\", \"All/gym sports\", \"All\", \"All\", \"All\", \"All\", \"All\", \"All\", \"All\", \"All\", \"All\", \"All\", \"All\", \"All\", \"All\", \"All\", \"All\", \"All\", \"All\", \"\"], \"type\": \"treemap\", \"values\": [6, 3, 24, 2, 1, 6, 1, 15, 6, 26, 7, 1, 15, 3, 1, 3, 6, 8, 25, 10, 11, 4, 19, 3, 11, 6, 6, 2, 27, 1, 9, 6, 95, 1, 69, 2, 15, 1, 1, 8, 63, 11, 1, 3, 11, 1, 45, 18, 15, 11, 4, 2, 46, 3, 7, 5, 1, 9, 4, 5, 17, 23, 3, 9, 5, 4, 1, 44, 17, 5, 2, 10, 37, 2, 12, 11, 16, 6, 12, 68, 105, 83, 37, 12, 47, 14, 190, 14, 92, 140, 18, 24, 40, 26, 29, 28, 967]}],                        {\"legend\": {\"tracegroupgap\": 0}, \"margin\": {\"t\": 60}, \"template\": {\"data\": {\"bar\": [{\"error_x\": {\"color\": \"#2a3f5f\"}, \"error_y\": {\"color\": \"#2a3f5f\"}, \"marker\": {\"line\": {\"color\": \"#E5ECF6\", \"width\": 0.5}}, \"type\": \"bar\"}], \"barpolar\": [{\"marker\": {\"line\": {\"color\": \"#E5ECF6\", \"width\": 0.5}}, \"type\": \"barpolar\"}], \"carpet\": [{\"aaxis\": {\"endlinecolor\": \"#2a3f5f\", \"gridcolor\": \"white\", \"linecolor\": \"white\", \"minorgridcolor\": \"white\", \"startlinecolor\": \"#2a3f5f\"}, \"baxis\": {\"endlinecolor\": \"#2a3f5f\", \"gridcolor\": \"white\", \"linecolor\": \"white\", \"minorgridcolor\": \"white\", \"startlinecolor\": \"#2a3f5f\"}, \"type\": \"carpet\"}], \"choropleth\": [{\"colorbar\": {\"outlinewidth\": 0, \"ticks\": \"\"}, \"type\": \"choropleth\"}], \"contour\": [{\"colorbar\": {\"outlinewidth\": 0, \"ticks\": \"\"}, \"colorscale\": [[0.0, \"#0d0887\"], [0.1111111111111111, \"#46039f\"], [0.2222222222222222, \"#7201a8\"], [0.3333333333333333, \"#9c179e\"], [0.4444444444444444, \"#bd3786\"], [0.5555555555555556, \"#d8576b\"], [0.6666666666666666, \"#ed7953\"], [0.7777777777777778, \"#fb9f3a\"], [0.8888888888888888, \"#fdca26\"], [1.0, \"#f0f921\"]], \"type\": \"contour\"}], \"contourcarpet\": [{\"colorbar\": {\"outlinewidth\": 0, \"ticks\": \"\"}, \"type\": \"contourcarpet\"}], \"heatmap\": [{\"colorbar\": {\"outlinewidth\": 0, \"ticks\": \"\"}, \"colorscale\": [[0.0, \"#0d0887\"], [0.1111111111111111, \"#46039f\"], [0.2222222222222222, \"#7201a8\"], [0.3333333333333333, \"#9c179e\"], [0.4444444444444444, \"#bd3786\"], [0.5555555555555556, \"#d8576b\"], [0.6666666666666666, \"#ed7953\"], [0.7777777777777778, \"#fb9f3a\"], [0.8888888888888888, \"#fdca26\"], [1.0, \"#f0f921\"]], \"type\": \"heatmap\"}], \"heatmapgl\": [{\"colorbar\": {\"outlinewidth\": 0, \"ticks\": \"\"}, \"colorscale\": [[0.0, \"#0d0887\"], [0.1111111111111111, \"#46039f\"], [0.2222222222222222, \"#7201a8\"], [0.3333333333333333, \"#9c179e\"], [0.4444444444444444, \"#bd3786\"], [0.5555555555555556, \"#d8576b\"], [0.6666666666666666, \"#ed7953\"], [0.7777777777777778, \"#fb9f3a\"], [0.8888888888888888, \"#fdca26\"], [1.0, \"#f0f921\"]], \"type\": \"heatmapgl\"}], \"histogram\": [{\"marker\": {\"colorbar\": {\"outlinewidth\": 0, \"ticks\": \"\"}}, \"type\": \"histogram\"}], \"histogram2d\": [{\"colorbar\": {\"outlinewidth\": 0, \"ticks\": \"\"}, \"colorscale\": [[0.0, \"#0d0887\"], [0.1111111111111111, \"#46039f\"], [0.2222222222222222, \"#7201a8\"], [0.3333333333333333, \"#9c179e\"], [0.4444444444444444, \"#bd3786\"], [0.5555555555555556, \"#d8576b\"], [0.6666666666666666, \"#ed7953\"], [0.7777777777777778, \"#fb9f3a\"], [0.8888888888888888, \"#fdca26\"], [1.0, \"#f0f921\"]], \"type\": \"histogram2d\"}], \"histogram2dcontour\": [{\"colorbar\": {\"outlinewidth\": 0, \"ticks\": \"\"}, \"colorscale\": [[0.0, \"#0d0887\"], [0.1111111111111111, \"#46039f\"], [0.2222222222222222, \"#7201a8\"], [0.3333333333333333, \"#9c179e\"], [0.4444444444444444, \"#bd3786\"], [0.5555555555555556, \"#d8576b\"], [0.6666666666666666, \"#ed7953\"], [0.7777777777777778, \"#fb9f3a\"], [0.8888888888888888, \"#fdca26\"], [1.0, \"#f0f921\"]], \"type\": \"histogram2dcontour\"}], \"mesh3d\": [{\"colorbar\": {\"outlinewidth\": 0, \"ticks\": \"\"}, \"type\": \"mesh3d\"}], \"parcoords\": [{\"line\": {\"colorbar\": {\"outlinewidth\": 0, \"ticks\": \"\"}}, \"type\": \"parcoords\"}], \"pie\": [{\"automargin\": true, \"type\": \"pie\"}], \"scatter\": [{\"marker\": {\"colorbar\": {\"outlinewidth\": 0, \"ticks\": \"\"}}, \"type\": \"scatter\"}], \"scatter3d\": [{\"line\": {\"colorbar\": {\"outlinewidth\": 0, \"ticks\": \"\"}}, \"marker\": {\"colorbar\": {\"outlinewidth\": 0, \"ticks\": \"\"}}, \"type\": \"scatter3d\"}], \"scattercarpet\": [{\"marker\": {\"colorbar\": {\"outlinewidth\": 0, \"ticks\": \"\"}}, \"type\": \"scattercarpet\"}], \"scattergeo\": [{\"marker\": {\"colorbar\": {\"outlinewidth\": 0, \"ticks\": \"\"}}, \"type\": \"scattergeo\"}], \"scattergl\": [{\"marker\": {\"colorbar\": {\"outlinewidth\": 0, \"ticks\": \"\"}}, \"type\": \"scattergl\"}], \"scattermapbox\": [{\"marker\": {\"colorbar\": {\"outlinewidth\": 0, \"ticks\": \"\"}}, \"type\": \"scattermapbox\"}], \"scatterpolar\": [{\"marker\": {\"colorbar\": {\"outlinewidth\": 0, \"ticks\": \"\"}}, \"type\": \"scatterpolar\"}], \"scatterpolargl\": [{\"marker\": {\"colorbar\": {\"outlinewidth\": 0, \"ticks\": \"\"}}, \"type\": \"scatterpolargl\"}], \"scatterternary\": [{\"marker\": {\"colorbar\": {\"outlinewidth\": 0, \"ticks\": \"\"}}, \"type\": \"scatterternary\"}], \"surface\": [{\"colorbar\": {\"outlinewidth\": 0, \"ticks\": \"\"}, \"colorscale\": [[0.0, \"#0d0887\"], [0.1111111111111111, \"#46039f\"], [0.2222222222222222, \"#7201a8\"], [0.3333333333333333, \"#9c179e\"], [0.4444444444444444, \"#bd3786\"], [0.5555555555555556, \"#d8576b\"], [0.6666666666666666, \"#ed7953\"], [0.7777777777777778, \"#fb9f3a\"], [0.8888888888888888, \"#fdca26\"], [1.0, \"#f0f921\"]], \"type\": \"surface\"}], \"table\": [{\"cells\": {\"fill\": {\"color\": \"#EBF0F8\"}, \"line\": {\"color\": \"white\"}}, \"header\": {\"fill\": {\"color\": \"#C8D4E3\"}, \"line\": {\"color\": \"white\"}}, \"type\": \"table\"}]}, \"layout\": {\"annotationdefaults\": {\"arrowcolor\": \"#2a3f5f\", \"arrowhead\": 0, \"arrowwidth\": 1}, \"autotypenumbers\": \"strict\", \"coloraxis\": {\"colorbar\": {\"outlinewidth\": 0, \"ticks\": \"\"}}, \"colorscale\": {\"diverging\": [[0, \"#8e0152\"], [0.1, \"#c51b7d\"], [0.2, \"#de77ae\"], [0.3, \"#f1b6da\"], [0.4, \"#fde0ef\"], [0.5, \"#f7f7f7\"], [0.6, \"#e6f5d0\"], [0.7, \"#b8e186\"], [0.8, \"#7fbc41\"], [0.9, \"#4d9221\"], [1, \"#276419\"]], \"sequential\": [[0.0, \"#0d0887\"], [0.1111111111111111, \"#46039f\"], [0.2222222222222222, \"#7201a8\"], [0.3333333333333333, \"#9c179e\"], [0.4444444444444444, \"#bd3786\"], [0.5555555555555556, \"#d8576b\"], [0.6666666666666666, \"#ed7953\"], [0.7777777777777778, \"#fb9f3a\"], [0.8888888888888888, \"#fdca26\"], [1.0, \"#f0f921\"]], \"sequentialminus\": [[0.0, \"#0d0887\"], [0.1111111111111111, \"#46039f\"], [0.2222222222222222, \"#7201a8\"], [0.3333333333333333, \"#9c179e\"], [0.4444444444444444, \"#bd3786\"], [0.5555555555555556, \"#d8576b\"], [0.6666666666666666, \"#ed7953\"], [0.7777777777777778, \"#fb9f3a\"], [0.8888888888888888, \"#fdca26\"], [1.0, \"#f0f921\"]]}, \"colorway\": [\"#636efa\", \"#EF553B\", \"#00cc96\", \"#ab63fa\", \"#FFA15A\", \"#19d3f3\", \"#FF6692\", \"#B6E880\", \"#FF97FF\", \"#FECB52\"], \"font\": {\"color\": \"#2a3f5f\"}, \"geo\": {\"bgcolor\": \"white\", \"lakecolor\": \"white\", \"landcolor\": \"#E5ECF6\", \"showlakes\": true, \"showland\": true, \"subunitcolor\": \"white\"}, \"hoverlabel\": {\"align\": \"left\"}, \"hovermode\": \"closest\", \"mapbox\": {\"style\": \"light\"}, \"paper_bgcolor\": \"white\", \"plot_bgcolor\": \"#E5ECF6\", \"polar\": {\"angularaxis\": {\"gridcolor\": \"white\", \"linecolor\": \"white\", \"ticks\": \"\"}, \"bgcolor\": \"#E5ECF6\", \"radialaxis\": {\"gridcolor\": \"white\", \"linecolor\": \"white\", \"ticks\": \"\"}}, \"scene\": {\"xaxis\": {\"backgroundcolor\": \"#E5ECF6\", \"gridcolor\": \"white\", \"gridwidth\": 2, \"linecolor\": \"white\", \"showbackground\": true, \"ticks\": \"\", \"zerolinecolor\": \"white\"}, \"yaxis\": {\"backgroundcolor\": \"#E5ECF6\", \"gridcolor\": \"white\", \"gridwidth\": 2, \"linecolor\": \"white\", \"showbackground\": true, \"ticks\": \"\", \"zerolinecolor\": \"white\"}, \"zaxis\": {\"backgroundcolor\": \"#E5ECF6\", \"gridcolor\": \"white\", \"gridwidth\": 2, \"linecolor\": \"white\", \"showbackground\": true, \"ticks\": \"\", \"zerolinecolor\": \"white\"}}, \"shapedefaults\": {\"line\": {\"color\": \"#2a3f5f\"}}, \"ternary\": {\"aaxis\": {\"gridcolor\": \"white\", \"linecolor\": \"white\", \"ticks\": \"\"}, \"baxis\": {\"gridcolor\": \"white\", \"linecolor\": \"white\", \"ticks\": \"\"}, \"bgcolor\": \"#E5ECF6\", \"caxis\": {\"gridcolor\": \"white\", \"linecolor\": \"white\", \"ticks\": \"\"}}, \"title\": {\"x\": 0.05}, \"xaxis\": {\"automargin\": true, \"gridcolor\": \"white\", \"linecolor\": \"white\", \"ticks\": \"\", \"title\": {\"standoff\": 15}, \"zerolinecolor\": \"white\", \"zerolinewidth\": 2}, \"yaxis\": {\"automargin\": true, \"gridcolor\": \"white\", \"linecolor\": \"white\", \"ticks\": \"\", \"title\": {\"standoff\": 15}, \"zerolinecolor\": \"white\", \"zerolinewidth\": 2}}}},                        {\"responsive\": true}                    ).then(function(){\n",
       "                            \n",
       "var gd = document.getElementById('7173b55f-f341-46c8-b999-6148df564589');\n",
       "var x = new MutationObserver(function (mutations, observer) {{\n",
       "        var display = window.getComputedStyle(gd).display;\n",
       "        if (!display || display === 'none') {{\n",
       "            console.log([gd, 'removed!']);\n",
       "            Plotly.purge(gd);\n",
       "            observer.disconnect();\n",
       "        }}\n",
       "}});\n",
       "\n",
       "// Listen for the removal of the full notebook cells\n",
       "var notebookContainer = gd.closest('#notebook-container');\n",
       "if (notebookContainer) {{\n",
       "    x.observe(notebookContainer, {childList: true});\n",
       "}}\n",
       "\n",
       "// Listen for the clearing of the current output cell\n",
       "var outputEl = gd.closest('.output');\n",
       "if (outputEl) {{\n",
       "    x.observe(outputEl, {childList: true});\n",
       "}}\n",
       "\n",
       "                        })                };                });            </script>        </div>"
      ]
     },
     "metadata": {},
     "output_type": "display_data"
    }
   ],
   "source": [
    "fig = px.treemap(df, \n",
    "                 path = [\"All\", \"Sub_Cat\", \"Sport_en\"]\n",
    "                 )\n",
    "fig.show()"
   ]
  },
  {
   "cell_type": "code",
   "execution_count": 196,
   "id": "timely-tractor",
   "metadata": {
    "hidden": true
   },
   "outputs": [],
   "source": [
    "fig.write_html(\"../plots/sports_subcat.html\")"
   ]
  },
  {
   "cell_type": "markdown",
   "id": "undefined-franklin",
   "metadata": {},
   "source": [
    "### update-layout\n",
    "\n",
    "- [ ] unify fontsize and only show certain\n",
    "- [ ] infotext template\n",
    "- [ ] havor info format"
   ]
  },
  {
   "cell_type": "code",
   "execution_count": 2,
   "id": "broadband-marker",
   "metadata": {},
   "outputs": [
    {
     "data": {
      "text/html": [
       "<div>\n",
       "<style scoped>\n",
       "    .dataframe tbody tr th:only-of-type {\n",
       "        vertical-align: middle;\n",
       "    }\n",
       "\n",
       "    .dataframe tbody tr th {\n",
       "        vertical-align: top;\n",
       "    }\n",
       "\n",
       "    .dataframe thead th {\n",
       "        text-align: right;\n",
       "    }\n",
       "</style>\n",
       "<table border=\"1\" class=\"dataframe\">\n",
       "  <thead>\n",
       "    <tr style=\"text-align: right;\">\n",
       "      <th></th>\n",
       "      <th>Sport</th>\n",
       "      <th>Naam</th>\n",
       "      <th>Website</th>\n",
       "      <th>Naam accommodatie</th>\n",
       "      <th>Adres accommodatie</th>\n",
       "      <th>Postcode accommodatie</th>\n",
       "      <th>Plaats accommodatie</th>\n",
       "      <th>Stadsdeel</th>\n",
       "      <th>Aangepast sporten</th>\n",
       "      <th>KvK</th>\n",
       "      <th>Stadspas</th>\n",
       "      <th>x</th>\n",
       "      <th>y</th>\n",
       "      <th>Sport_en</th>\n",
       "      <th>district_code</th>\n",
       "      <th>Count</th>\n",
       "      <th>Meta_Cat</th>\n",
       "      <th>Sub_Cat</th>\n",
       "      <th>All</th>\n",
       "    </tr>\n",
       "  </thead>\n",
       "  <tbody>\n",
       "    <tr>\n",
       "      <th>0</th>\n",
       "      <td>aangepast sporten</td>\n",
       "      <td>Reade</td>\n",
       "      <td>www.reade.nl</td>\n",
       "      <td>Jan van Breemen instituut</td>\n",
       "      <td>Admiraal Helfrichstraat 1</td>\n",
       "      <td>1056AA</td>\n",
       "      <td>Amsterdam</td>\n",
       "      <td>Nieuw-West</td>\n",
       "      <td>ja</td>\n",
       "      <td>NaN</td>\n",
       "      <td>NaN</td>\n",
       "      <td>4.844408</td>\n",
       "      <td>52.370740</td>\n",
       "      <td>adapted sports</td>\n",
       "      <td>F</td>\n",
       "      <td>1</td>\n",
       "      <td>physical sports</td>\n",
       "      <td>others</td>\n",
       "      <td>All</td>\n",
       "    </tr>\n",
       "    <tr>\n",
       "      <th>1</th>\n",
       "      <td>aangepast sporten</td>\n",
       "      <td>Friendship Sports Centre</td>\n",
       "      <td>www.friendshipsportscentre.nl</td>\n",
       "      <td>Friendship Sports Centre</td>\n",
       "      <td>Beemsterstraat 652</td>\n",
       "      <td>1027ED</td>\n",
       "      <td>Amsterdam</td>\n",
       "      <td>Noord</td>\n",
       "      <td>ja</td>\n",
       "      <td>34152839.0</td>\n",
       "      <td>NaN</td>\n",
       "      <td>4.959847</td>\n",
       "      <td>52.400252</td>\n",
       "      <td>adapted sports</td>\n",
       "      <td>N</td>\n",
       "      <td>1</td>\n",
       "      <td>physical sports</td>\n",
       "      <td>others</td>\n",
       "      <td>All</td>\n",
       "    </tr>\n",
       "    <tr>\n",
       "      <th>2</th>\n",
       "      <td>aangepast sporten</td>\n",
       "      <td>Only Friends</td>\n",
       "      <td>www.onlyfriends.nl</td>\n",
       "      <td>Sportpark De Weeren</td>\n",
       "      <td>Beemsterstraat 652</td>\n",
       "      <td>1027ED</td>\n",
       "      <td>Amsterdam</td>\n",
       "      <td>Noord</td>\n",
       "      <td>ja</td>\n",
       "      <td>50538063.0</td>\n",
       "      <td>ja</td>\n",
       "      <td>4.959847</td>\n",
       "      <td>52.400252</td>\n",
       "      <td>adapted sports</td>\n",
       "      <td>N</td>\n",
       "      <td>1</td>\n",
       "      <td>physical sports</td>\n",
       "      <td>others</td>\n",
       "      <td>All</td>\n",
       "    </tr>\n",
       "    <tr>\n",
       "      <th>3</th>\n",
       "      <td>aangepast sporten</td>\n",
       "      <td>PWA Manege | Vereniging Paardrijden Gehandicapten</td>\n",
       "      <td>www.pwamanege.nl</td>\n",
       "      <td>Prins Willem-Alexander manege</td>\n",
       "      <td>Loosdrechtdreef 9</td>\n",
       "      <td>1108AZ</td>\n",
       "      <td>Amsterdam</td>\n",
       "      <td>Zuidoost</td>\n",
       "      <td>ja</td>\n",
       "      <td>40533448.0</td>\n",
       "      <td>NaN</td>\n",
       "      <td>4.993231</td>\n",
       "      <td>52.314257</td>\n",
       "      <td>adapted sports</td>\n",
       "      <td>T</td>\n",
       "      <td>1</td>\n",
       "      <td>physical sports</td>\n",
       "      <td>others</td>\n",
       "      <td>All</td>\n",
       "    </tr>\n",
       "    <tr>\n",
       "      <th>4</th>\n",
       "      <td>aangepast sporten</td>\n",
       "      <td>Terminators</td>\n",
       "      <td>www.amsterdamterminators.nl</td>\n",
       "      <td>Reade sporthal</td>\n",
       "      <td>Overtoom 283</td>\n",
       "      <td>1054HW</td>\n",
       "      <td>Amsterdam</td>\n",
       "      <td>West</td>\n",
       "      <td>ja</td>\n",
       "      <td>40539513.0</td>\n",
       "      <td>NaN</td>\n",
       "      <td>4.866849</td>\n",
       "      <td>52.360379</td>\n",
       "      <td>adapted sports</td>\n",
       "      <td>E</td>\n",
       "      <td>1</td>\n",
       "      <td>physical sports</td>\n",
       "      <td>others</td>\n",
       "      <td>All</td>\n",
       "    </tr>\n",
       "  </tbody>\n",
       "</table>\n",
       "</div>"
      ],
      "text/plain": [
       "               Sport                                               Naam  \\\n",
       "0  aangepast sporten                                              Reade   \n",
       "1  aangepast sporten                           Friendship Sports Centre   \n",
       "2  aangepast sporten                                       Only Friends   \n",
       "3  aangepast sporten  PWA Manege | Vereniging Paardrijden Gehandicapten   \n",
       "4  aangepast sporten                                        Terminators   \n",
       "\n",
       "                         Website              Naam accommodatie  \\\n",
       "0                   www.reade.nl      Jan van Breemen instituut   \n",
       "1  www.friendshipsportscentre.nl       Friendship Sports Centre   \n",
       "2             www.onlyfriends.nl            Sportpark De Weeren   \n",
       "3               www.pwamanege.nl  Prins Willem-Alexander manege   \n",
       "4    www.amsterdamterminators.nl                 Reade sporthal   \n",
       "\n",
       "          Adres accommodatie Postcode accommodatie Plaats accommodatie  \\\n",
       "0  Admiraal Helfrichstraat 1                1056AA           Amsterdam   \n",
       "1         Beemsterstraat 652                1027ED           Amsterdam   \n",
       "2         Beemsterstraat 652                1027ED           Amsterdam   \n",
       "3          Loosdrechtdreef 9                1108AZ           Amsterdam   \n",
       "4               Overtoom 283                1054HW           Amsterdam   \n",
       "\n",
       "    Stadsdeel Aangepast sporten         KvK Stadspas         x          y  \\\n",
       "0  Nieuw-West                ja         NaN      NaN  4.844408  52.370740   \n",
       "1       Noord                ja  34152839.0      NaN  4.959847  52.400252   \n",
       "2       Noord                ja  50538063.0       ja  4.959847  52.400252   \n",
       "3    Zuidoost                ja  40533448.0      NaN  4.993231  52.314257   \n",
       "4        West                ja  40539513.0      NaN  4.866849  52.360379   \n",
       "\n",
       "         Sport_en district_code  Count         Meta_Cat Sub_Cat  All  \n",
       "0  adapted sports             F      1  physical sports  others  All  \n",
       "1  adapted sports             N      1  physical sports  others  All  \n",
       "2  adapted sports             N      1  physical sports  others  All  \n",
       "3  adapted sports             T      1  physical sports  others  All  \n",
       "4  adapted sports             E      1  physical sports  others  All  "
      ]
     },
     "execution_count": 2,
     "metadata": {},
     "output_type": "execute_result"
    }
   ],
   "source": [
    "df = pd.read_csv(\"../data/sports_provider_Amsterdam.csv\")\n",
    "df.head()"
   ]
  },
  {
   "cell_type": "markdown",
   "id": "pleased-buddy",
   "metadata": {},
   "source": [
    "- [ ] change color theme\n",
    "    - Continous color vs. discrete"
   ]
  },
  {
   "cell_type": "markdown",
   "id": "exceptional-barrel",
   "metadata": {},
   "source": [
    "> - **Available color scales:**\n",
    "aggrnyl     agsunset    blackbody   bluered     blues       blugrn      bluyl       brwnyl\n",
    "bugn        bupu        burg        burgyl      cividis     darkmint    electric    emrld\n",
    "gnbu        greens      greys       hot         inferno     jet         magenta     magma\n",
    "mint        orrd        oranges     oryel       peach       pinkyl      plasma      plotly3\n",
    "pubu        pubugn      purd        purp        purples     purpor      rainbow     rdbu\n",
    "rdpu        redor       reds        sunset      sunsetdark  teal        tealgrn     turbo\n",
    "viridis     ylgn        ylgnbu      ylorbr      ylorrd      algae       amp         deep\n",
    "dense       gray        haline      ice         matter      solar       speed       tempo\n",
    "thermal     turbid      armyrose    brbg        earth       fall        geyser      prgn\n",
    "piyg        picnic      portland    puor        rdgy        rdylbu      rdylgn      spectral\n",
    "tealrose    temps       tropic      balance     curl        delta       oxy         edge\n",
    "hsv         icefire     phase       twilight    mrybm       mygbm\n"
   ]
  },
  {
   "cell_type": "code",
   "execution_count": 5,
   "id": "general-shield",
   "metadata": {},
   "outputs": [],
   "source": [
    "num = df.groupby(by=\"Sport_en\").count()[\"Naam\"]\n",
    "df.loc[:, \"Sport_count\"] = df.Sport_en.map(num)"
   ]
  },
  {
   "cell_type": "code",
   "execution_count": 227,
   "id": "earlier-plenty",
   "metadata": {
    "scrolled": false
   },
   "outputs": [
    {
     "data": {
      "application/vnd.plotly.v1+json": {
       "config": {
        "plotlyServerURL": "https://plot.ly"
       },
       "data": [
        {
         "branchvalues": "total",
         "customdata": [
          [
           6
          ],
          [
           3
          ],
          [
           24
          ],
          [
           2
          ],
          [
           1
          ],
          [
           6
          ],
          [
           1
          ],
          [
           15
          ],
          [
           6
          ],
          [
           26
          ],
          [
           7
          ],
          [
           1
          ],
          [
           15
          ],
          [
           3
          ],
          [
           1
          ],
          [
           3
          ],
          [
           6
          ],
          [
           8
          ],
          [
           25
          ],
          [
           10
          ],
          [
           11
          ],
          [
           4
          ],
          [
           19
          ],
          [
           3
          ],
          [
           11
          ],
          [
           6
          ],
          [
           6
          ],
          [
           2
          ],
          [
           27
          ],
          [
           1
          ],
          [
           9
          ],
          [
           6
          ],
          [
           95
          ],
          [
           1
          ],
          [
           69
          ],
          [
           2
          ],
          [
           15
          ],
          [
           1
          ],
          [
           1
          ],
          [
           8
          ],
          [
           63
          ],
          [
           11
          ],
          [
           1
          ],
          [
           3
          ],
          [
           11
          ],
          [
           1
          ],
          [
           45
          ],
          [
           18
          ],
          [
           15
          ],
          [
           11
          ],
          [
           4
          ],
          [
           2
          ],
          [
           46
          ],
          [
           3
          ],
          [
           7
          ],
          [
           5
          ],
          [
           1
          ],
          [
           9
          ],
          [
           4
          ],
          [
           5
          ],
          [
           17
          ],
          [
           23
          ],
          [
           3
          ],
          [
           9
          ],
          [
           5
          ],
          [
           4
          ],
          [
           1
          ],
          [
           44
          ],
          [
           17
          ],
          [
           5
          ],
          [
           2
          ],
          [
           10
          ],
          [
           37
          ],
          [
           2
          ],
          [
           12
          ],
          [
           11
          ],
          [
           16
          ],
          [
           6
          ],
          [
           12
          ],
          [
           34.11478800413651
          ]
         ],
         "domain": {
          "x": [
           0,
           1
          ],
          "y": [
           0,
           1
          ]
         },
         "hovertemplate": "  %{label}  ",
         "hovertext": [
          "Adapted Sports",
          "Aerobics",
          "Aikido",
          "American Football",
          "Archery",
          "Athletics",
          "Australian Football",
          "Badminton",
          "Baseball / Softball",
          "Basketball",
          "Beach Volleyball",
          "Beachhandbal",
          "Billiards",
          "Bootcamp",
          "Bounce",
          "Bowling",
          "Bowls",
          "Boxing",
          "Bridge",
          "Canoeing",
          "Capoeira",
          "Cheerleading",
          "Chess",
          "Circus",
          "Climbing",
          "Cricket",
          "Cycling",
          "Dammen",
          "Dance",
          "Dragon Boat Racing",
          "Equestrian",
          "Fencing",
          "Fitness",
          "Floorball",
          "Football",
          "Frisbee",
          "Futsal",
          "Gaelic Football",
          "Go",
          "Golf",
          "Gymnastics",
          "Handball",
          "Hapkido",
          "Hiking",
          "Hockey",
          "Ice Hockey",
          "Judo",
          "Karate",
          "Kickboxing",
          "Korfball",
          "Kung-fu",
          "Lacrosse",
          "Martial And Strength Sports",
          "Multisport",
          "Padel",
          "Pencak Silat",
          "Pickleball",
          "Rowing",
          "Rugby",
          "Running",
          "Sailing",
          "Skating",
          "Sloeproeien",
          "Squash",
          "Sup",
          "Surfing",
          "Survivalrun",
          "Swimming",
          "Table Tennis",
          "Taekwondo",
          "Tai Chi",
          "Target Shooting",
          "Tennis",
          "Triathlon",
          "Underwater Sports",
          "Urban Sports",
          "Volley-ball",
          "Water Polo",
          "Yoga",
          "(?)"
         ],
         "ids": [
          "All Sports/Adapted Sports",
          "All Sports/Aerobics",
          "All Sports/Aikido",
          "All Sports/American Football",
          "All Sports/Archery",
          "All Sports/Athletics",
          "All Sports/Australian Football",
          "All Sports/Badminton",
          "All Sports/Baseball / Softball",
          "All Sports/Basketball",
          "All Sports/Beach Volleyball",
          "All Sports/Beachhandbal",
          "All Sports/Billiards",
          "All Sports/Bootcamp",
          "All Sports/Bounce",
          "All Sports/Bowling",
          "All Sports/Bowls",
          "All Sports/Boxing",
          "All Sports/Bridge",
          "All Sports/Canoeing",
          "All Sports/Capoeira",
          "All Sports/Cheerleading",
          "All Sports/Chess",
          "All Sports/Circus",
          "All Sports/Climbing",
          "All Sports/Cricket",
          "All Sports/Cycling",
          "All Sports/Dammen",
          "All Sports/Dance",
          "All Sports/Dragon Boat Racing",
          "All Sports/Equestrian",
          "All Sports/Fencing",
          "All Sports/Fitness",
          "All Sports/Floorball",
          "All Sports/Football",
          "All Sports/Frisbee",
          "All Sports/Futsal",
          "All Sports/Gaelic Football",
          "All Sports/Go",
          "All Sports/Golf",
          "All Sports/Gymnastics",
          "All Sports/Handball",
          "All Sports/Hapkido",
          "All Sports/Hiking",
          "All Sports/Hockey",
          "All Sports/Ice Hockey",
          "All Sports/Judo",
          "All Sports/Karate",
          "All Sports/Kickboxing",
          "All Sports/Korfball",
          "All Sports/Kung-fu",
          "All Sports/Lacrosse",
          "All Sports/Martial And Strength Sports",
          "All Sports/Multisport",
          "All Sports/Padel",
          "All Sports/Pencak Silat",
          "All Sports/Pickleball",
          "All Sports/Rowing",
          "All Sports/Rugby",
          "All Sports/Running",
          "All Sports/Sailing",
          "All Sports/Skating",
          "All Sports/Sloeproeien",
          "All Sports/Squash",
          "All Sports/Sup",
          "All Sports/Surfing",
          "All Sports/Survivalrun",
          "All Sports/Swimming",
          "All Sports/Table Tennis",
          "All Sports/Taekwondo",
          "All Sports/Tai Chi",
          "All Sports/Target Shooting",
          "All Sports/Tennis",
          "All Sports/Triathlon",
          "All Sports/Underwater Sports",
          "All Sports/Urban Sports",
          "All Sports/Volley-ball",
          "All Sports/Water Polo",
          "All Sports/Yoga",
          "All Sports"
         ],
         "labels": [
          "Adapted Sports",
          "Aerobics",
          "Aikido",
          "American Football",
          "Archery",
          "Athletics",
          "Australian Football",
          "Badminton",
          "Baseball / Softball",
          "Basketball",
          "Beach Volleyball",
          "Beachhandbal",
          "Billiards",
          "Bootcamp",
          "Bounce",
          "Bowling",
          "Bowls",
          "Boxing",
          "Bridge",
          "Canoeing",
          "Capoeira",
          "Cheerleading",
          "Chess",
          "Circus",
          "Climbing",
          "Cricket",
          "Cycling",
          "Dammen",
          "Dance",
          "Dragon Boat Racing",
          "Equestrian",
          "Fencing",
          "Fitness",
          "Floorball",
          "Football",
          "Frisbee",
          "Futsal",
          "Gaelic Football",
          "Go",
          "Golf",
          "Gymnastics",
          "Handball",
          "Hapkido",
          "Hiking",
          "Hockey",
          "Ice Hockey",
          "Judo",
          "Karate",
          "Kickboxing",
          "Korfball",
          "Kung-fu",
          "Lacrosse",
          "Martial And Strength Sports",
          "Multisport",
          "Padel",
          "Pencak Silat",
          "Pickleball",
          "Rowing",
          "Rugby",
          "Running",
          "Sailing",
          "Skating",
          "Sloeproeien",
          "Squash",
          "Sup",
          "Surfing",
          "Survivalrun",
          "Swimming",
          "Table Tennis",
          "Taekwondo",
          "Tai Chi",
          "Target Shooting",
          "Tennis",
          "Triathlon",
          "Underwater Sports",
          "Urban Sports",
          "Volley-ball",
          "Water Polo",
          "Yoga",
          "All Sports"
         ],
         "marker": {
          "coloraxis": "coloraxis",
          "colors": [
           6,
           3,
           24,
           2,
           1,
           6,
           1,
           15,
           6,
           26,
           7,
           1,
           15,
           3,
           1,
           3,
           6,
           8,
           25,
           10,
           11,
           4,
           19,
           3,
           11,
           6,
           6,
           2,
           27,
           1,
           9,
           6,
           95,
           1,
           69,
           2,
           15,
           1,
           1,
           8,
           63,
           11,
           1,
           3,
           11,
           1,
           45,
           18,
           15,
           11,
           4,
           2,
           46,
           3,
           7,
           5,
           1,
           9,
           4,
           5,
           17,
           23,
           3,
           9,
           5,
           4,
           1,
           44,
           17,
           5,
           2,
           10,
           37,
           2,
           12,
           11,
           16,
           6,
           12,
           34.11478800413651
          ]
         },
         "maxdepth": 3,
         "name": "",
         "outsidetextfont": {
          "color": "darkblue",
          "size": 20
         },
         "parents": [
          "All Sports",
          "All Sports",
          "All Sports",
          "All Sports",
          "All Sports",
          "All Sports",
          "All Sports",
          "All Sports",
          "All Sports",
          "All Sports",
          "All Sports",
          "All Sports",
          "All Sports",
          "All Sports",
          "All Sports",
          "All Sports",
          "All Sports",
          "All Sports",
          "All Sports",
          "All Sports",
          "All Sports",
          "All Sports",
          "All Sports",
          "All Sports",
          "All Sports",
          "All Sports",
          "All Sports",
          "All Sports",
          "All Sports",
          "All Sports",
          "All Sports",
          "All Sports",
          "All Sports",
          "All Sports",
          "All Sports",
          "All Sports",
          "All Sports",
          "All Sports",
          "All Sports",
          "All Sports",
          "All Sports",
          "All Sports",
          "All Sports",
          "All Sports",
          "All Sports",
          "All Sports",
          "All Sports",
          "All Sports",
          "All Sports",
          "All Sports",
          "All Sports",
          "All Sports",
          "All Sports",
          "All Sports",
          "All Sports",
          "All Sports",
          "All Sports",
          "All Sports",
          "All Sports",
          "All Sports",
          "All Sports",
          "All Sports",
          "All Sports",
          "All Sports",
          "All Sports",
          "All Sports",
          "All Sports",
          "All Sports",
          "All Sports",
          "All Sports",
          "All Sports",
          "All Sports",
          "All Sports",
          "All Sports",
          "All Sports",
          "All Sports",
          "All Sports",
          "All Sports",
          "All Sports",
          ""
         ],
         "textinfo": "label",
         "texttemplate": "%{label}<br><br>Count: %{value}<br>Percentage: %{percentParent:.1%}",
         "type": "treemap",
         "values": [
          6,
          3,
          24,
          2,
          1,
          6,
          1,
          15,
          6,
          26,
          7,
          1,
          15,
          3,
          1,
          3,
          6,
          8,
          25,
          10,
          11,
          4,
          19,
          3,
          11,
          6,
          6,
          2,
          27,
          1,
          9,
          6,
          95,
          1,
          69,
          2,
          15,
          1,
          1,
          8,
          63,
          11,
          1,
          3,
          11,
          1,
          45,
          18,
          15,
          11,
          4,
          2,
          46,
          3,
          7,
          5,
          1,
          9,
          4,
          5,
          17,
          23,
          3,
          9,
          5,
          4,
          1,
          44,
          17,
          5,
          2,
          10,
          37,
          2,
          12,
          11,
          16,
          6,
          12,
          967
         ]
        }
       ],
       "layout": {
        "coloraxis": {
         "cmax": 75,
         "cmid": 34.11478800413651,
         "cmin": 1,
         "colorbar": {
          "tickvals": [
           10,
           30,
           50,
           70
          ],
          "title": {
           "text": "Counts"
          }
         },
         "colorscale": [
          [
           0,
           "rgb(20, 29, 67)"
          ],
          [
           0.09090909090909091,
           "rgb(28, 72, 93)"
          ],
          [
           0.18181818181818182,
           "rgb(18, 115, 117)"
          ],
          [
           0.2727272727272727,
           "rgb(63, 156, 129)"
          ],
          [
           0.36363636363636365,
           "rgb(153, 189, 156)"
          ],
          [
           0.45454545454545453,
           "rgb(223, 225, 211)"
          ],
          [
           0.5454545454545454,
           "rgb(241, 218, 206)"
          ],
          [
           0.6363636363636364,
           "rgb(224, 160, 137)"
          ],
          [
           0.7272727272727273,
           "rgb(203, 101, 99)"
          ],
          [
           0.8181818181818182,
           "rgb(164, 54, 96)"
          ],
          [
           0.9090909090909091,
           "rgb(111, 23, 91)"
          ],
          [
           1,
           "rgb(51, 13, 53)"
          ]
         ]
        },
        "height": 600,
        "legend": {
         "tracegroupgap": 0
        },
        "margin": {
         "t": 60
        },
        "template": {
         "data": {
          "bar": [
           {
            "error_x": {
             "color": "#2a3f5f"
            },
            "error_y": {
             "color": "#2a3f5f"
            },
            "marker": {
             "line": {
              "color": "#E5ECF6",
              "width": 0.5
             }
            },
            "type": "bar"
           }
          ],
          "barpolar": [
           {
            "marker": {
             "line": {
              "color": "#E5ECF6",
              "width": 0.5
             }
            },
            "type": "barpolar"
           }
          ],
          "carpet": [
           {
            "aaxis": {
             "endlinecolor": "#2a3f5f",
             "gridcolor": "white",
             "linecolor": "white",
             "minorgridcolor": "white",
             "startlinecolor": "#2a3f5f"
            },
            "baxis": {
             "endlinecolor": "#2a3f5f",
             "gridcolor": "white",
             "linecolor": "white",
             "minorgridcolor": "white",
             "startlinecolor": "#2a3f5f"
            },
            "type": "carpet"
           }
          ],
          "choropleth": [
           {
            "colorbar": {
             "outlinewidth": 0,
             "ticks": ""
            },
            "type": "choropleth"
           }
          ],
          "contour": [
           {
            "colorbar": {
             "outlinewidth": 0,
             "ticks": ""
            },
            "colorscale": [
             [
              0,
              "#0d0887"
             ],
             [
              0.1111111111111111,
              "#46039f"
             ],
             [
              0.2222222222222222,
              "#7201a8"
             ],
             [
              0.3333333333333333,
              "#9c179e"
             ],
             [
              0.4444444444444444,
              "#bd3786"
             ],
             [
              0.5555555555555556,
              "#d8576b"
             ],
             [
              0.6666666666666666,
              "#ed7953"
             ],
             [
              0.7777777777777778,
              "#fb9f3a"
             ],
             [
              0.8888888888888888,
              "#fdca26"
             ],
             [
              1,
              "#f0f921"
             ]
            ],
            "type": "contour"
           }
          ],
          "contourcarpet": [
           {
            "colorbar": {
             "outlinewidth": 0,
             "ticks": ""
            },
            "type": "contourcarpet"
           }
          ],
          "heatmap": [
           {
            "colorbar": {
             "outlinewidth": 0,
             "ticks": ""
            },
            "colorscale": [
             [
              0,
              "#0d0887"
             ],
             [
              0.1111111111111111,
              "#46039f"
             ],
             [
              0.2222222222222222,
              "#7201a8"
             ],
             [
              0.3333333333333333,
              "#9c179e"
             ],
             [
              0.4444444444444444,
              "#bd3786"
             ],
             [
              0.5555555555555556,
              "#d8576b"
             ],
             [
              0.6666666666666666,
              "#ed7953"
             ],
             [
              0.7777777777777778,
              "#fb9f3a"
             ],
             [
              0.8888888888888888,
              "#fdca26"
             ],
             [
              1,
              "#f0f921"
             ]
            ],
            "type": "heatmap"
           }
          ],
          "heatmapgl": [
           {
            "colorbar": {
             "outlinewidth": 0,
             "ticks": ""
            },
            "colorscale": [
             [
              0,
              "#0d0887"
             ],
             [
              0.1111111111111111,
              "#46039f"
             ],
             [
              0.2222222222222222,
              "#7201a8"
             ],
             [
              0.3333333333333333,
              "#9c179e"
             ],
             [
              0.4444444444444444,
              "#bd3786"
             ],
             [
              0.5555555555555556,
              "#d8576b"
             ],
             [
              0.6666666666666666,
              "#ed7953"
             ],
             [
              0.7777777777777778,
              "#fb9f3a"
             ],
             [
              0.8888888888888888,
              "#fdca26"
             ],
             [
              1,
              "#f0f921"
             ]
            ],
            "type": "heatmapgl"
           }
          ],
          "histogram": [
           {
            "marker": {
             "colorbar": {
              "outlinewidth": 0,
              "ticks": ""
             }
            },
            "type": "histogram"
           }
          ],
          "histogram2d": [
           {
            "colorbar": {
             "outlinewidth": 0,
             "ticks": ""
            },
            "colorscale": [
             [
              0,
              "#0d0887"
             ],
             [
              0.1111111111111111,
              "#46039f"
             ],
             [
              0.2222222222222222,
              "#7201a8"
             ],
             [
              0.3333333333333333,
              "#9c179e"
             ],
             [
              0.4444444444444444,
              "#bd3786"
             ],
             [
              0.5555555555555556,
              "#d8576b"
             ],
             [
              0.6666666666666666,
              "#ed7953"
             ],
             [
              0.7777777777777778,
              "#fb9f3a"
             ],
             [
              0.8888888888888888,
              "#fdca26"
             ],
             [
              1,
              "#f0f921"
             ]
            ],
            "type": "histogram2d"
           }
          ],
          "histogram2dcontour": [
           {
            "colorbar": {
             "outlinewidth": 0,
             "ticks": ""
            },
            "colorscale": [
             [
              0,
              "#0d0887"
             ],
             [
              0.1111111111111111,
              "#46039f"
             ],
             [
              0.2222222222222222,
              "#7201a8"
             ],
             [
              0.3333333333333333,
              "#9c179e"
             ],
             [
              0.4444444444444444,
              "#bd3786"
             ],
             [
              0.5555555555555556,
              "#d8576b"
             ],
             [
              0.6666666666666666,
              "#ed7953"
             ],
             [
              0.7777777777777778,
              "#fb9f3a"
             ],
             [
              0.8888888888888888,
              "#fdca26"
             ],
             [
              1,
              "#f0f921"
             ]
            ],
            "type": "histogram2dcontour"
           }
          ],
          "mesh3d": [
           {
            "colorbar": {
             "outlinewidth": 0,
             "ticks": ""
            },
            "type": "mesh3d"
           }
          ],
          "parcoords": [
           {
            "line": {
             "colorbar": {
              "outlinewidth": 0,
              "ticks": ""
             }
            },
            "type": "parcoords"
           }
          ],
          "pie": [
           {
            "automargin": true,
            "type": "pie"
           }
          ],
          "scatter": [
           {
            "marker": {
             "colorbar": {
              "outlinewidth": 0,
              "ticks": ""
             }
            },
            "type": "scatter"
           }
          ],
          "scatter3d": [
           {
            "line": {
             "colorbar": {
              "outlinewidth": 0,
              "ticks": ""
             }
            },
            "marker": {
             "colorbar": {
              "outlinewidth": 0,
              "ticks": ""
             }
            },
            "type": "scatter3d"
           }
          ],
          "scattercarpet": [
           {
            "marker": {
             "colorbar": {
              "outlinewidth": 0,
              "ticks": ""
             }
            },
            "type": "scattercarpet"
           }
          ],
          "scattergeo": [
           {
            "marker": {
             "colorbar": {
              "outlinewidth": 0,
              "ticks": ""
             }
            },
            "type": "scattergeo"
           }
          ],
          "scattergl": [
           {
            "marker": {
             "colorbar": {
              "outlinewidth": 0,
              "ticks": ""
             }
            },
            "type": "scattergl"
           }
          ],
          "scattermapbox": [
           {
            "marker": {
             "colorbar": {
              "outlinewidth": 0,
              "ticks": ""
             }
            },
            "type": "scattermapbox"
           }
          ],
          "scatterpolar": [
           {
            "marker": {
             "colorbar": {
              "outlinewidth": 0,
              "ticks": ""
             }
            },
            "type": "scatterpolar"
           }
          ],
          "scatterpolargl": [
           {
            "marker": {
             "colorbar": {
              "outlinewidth": 0,
              "ticks": ""
             }
            },
            "type": "scatterpolargl"
           }
          ],
          "scatterternary": [
           {
            "marker": {
             "colorbar": {
              "outlinewidth": 0,
              "ticks": ""
             }
            },
            "type": "scatterternary"
           }
          ],
          "surface": [
           {
            "colorbar": {
             "outlinewidth": 0,
             "ticks": ""
            },
            "colorscale": [
             [
              0,
              "#0d0887"
             ],
             [
              0.1111111111111111,
              "#46039f"
             ],
             [
              0.2222222222222222,
              "#7201a8"
             ],
             [
              0.3333333333333333,
              "#9c179e"
             ],
             [
              0.4444444444444444,
              "#bd3786"
             ],
             [
              0.5555555555555556,
              "#d8576b"
             ],
             [
              0.6666666666666666,
              "#ed7953"
             ],
             [
              0.7777777777777778,
              "#fb9f3a"
             ],
             [
              0.8888888888888888,
              "#fdca26"
             ],
             [
              1,
              "#f0f921"
             ]
            ],
            "type": "surface"
           }
          ],
          "table": [
           {
            "cells": {
             "fill": {
              "color": "#EBF0F8"
             },
             "line": {
              "color": "white"
             }
            },
            "header": {
             "fill": {
              "color": "#C8D4E3"
             },
             "line": {
              "color": "white"
             }
            },
            "type": "table"
           }
          ]
         },
         "layout": {
          "coloraxis": {
           "colorbar": {
            "outlinewidth": 0
           }
          },
          "font": {
           "family": "Old Standard TT"
          },
          "hoverlabel": {
           "bgcolor": "white",
           "bordercolor": "black",
           "font": {
            "family": "Rockwell",
            "size": 15
           }
          },
          "paper_bgcolor": "white",
          "title": {
           "font": {
            "size": 24
           },
           "xanchor": "center",
           "yanchor": "top",
           "yref": "paper"
          }
         }
        },
        "title": {
         "text": "Different Kinds of Sport"
        }
       }
      },
      "text/html": [
       "<div>                            <div id=\"e7f4978d-fafd-4aa3-96d5-1c231a0869bf\" class=\"plotly-graph-div\" style=\"height:600px; width:100%;\"></div>            <script type=\"text/javascript\">                require([\"plotly\"], function(Plotly) {                    window.PLOTLYENV=window.PLOTLYENV || {};                                    if (document.getElementById(\"e7f4978d-fafd-4aa3-96d5-1c231a0869bf\")) {                    Plotly.newPlot(                        \"e7f4978d-fafd-4aa3-96d5-1c231a0869bf\",                        [{\"branchvalues\": \"total\", \"customdata\": [[6.0], [3.0], [24.0], [2.0], [1.0], [6.0], [1.0], [15.0], [6.0], [26.0], [7.0], [1.0], [15.0], [3.0], [1.0], [3.0], [6.0], [8.0], [25.0], [10.0], [11.0], [4.0], [19.0], [3.0], [11.0], [6.0], [6.0], [2.0], [27.0], [1.0], [9.0], [6.0], [95.0], [1.0], [69.0], [2.0], [15.0], [1.0], [1.0], [8.0], [63.0], [11.0], [1.0], [3.0], [11.0], [1.0], [45.0], [18.0], [15.0], [11.0], [4.0], [2.0], [46.0], [3.0], [7.0], [5.0], [1.0], [9.0], [4.0], [5.0], [17.0], [23.0], [3.0], [9.0], [5.0], [4.0], [1.0], [44.0], [17.0], [5.0], [2.0], [10.0], [37.0], [2.0], [12.0], [11.0], [16.0], [6.0], [12.0], [34.11478800413651]], \"domain\": {\"x\": [0.0, 1.0], \"y\": [0.0, 1.0]}, \"hovertemplate\": \"  %{label}  \", \"hovertext\": [\"Adapted Sports\", \"Aerobics\", \"Aikido\", \"American Football\", \"Archery\", \"Athletics\", \"Australian Football\", \"Badminton\", \"Baseball / Softball\", \"Basketball\", \"Beach Volleyball\", \"Beachhandbal\", \"Billiards\", \"Bootcamp\", \"Bounce\", \"Bowling\", \"Bowls\", \"Boxing\", \"Bridge\", \"Canoeing\", \"Capoeira\", \"Cheerleading\", \"Chess\", \"Circus\", \"Climbing\", \"Cricket\", \"Cycling\", \"Dammen\", \"Dance\", \"Dragon Boat Racing\", \"Equestrian\", \"Fencing\", \"Fitness\", \"Floorball\", \"Football\", \"Frisbee\", \"Futsal\", \"Gaelic Football\", \"Go\", \"Golf\", \"Gymnastics\", \"Handball\", \"Hapkido\", \"Hiking\", \"Hockey\", \"Ice Hockey\", \"Judo\", \"Karate\", \"Kickboxing\", \"Korfball\", \"Kung-fu\", \"Lacrosse\", \"Martial And Strength Sports\", \"Multisport\", \"Padel\", \"Pencak Silat\", \"Pickleball\", \"Rowing\", \"Rugby\", \"Running\", \"Sailing\", \"Skating\", \"Sloeproeien\", \"Squash\", \"Sup\", \"Surfing\", \"Survivalrun\", \"Swimming\", \"Table Tennis\", \"Taekwondo\", \"Tai Chi\", \"Target Shooting\", \"Tennis\", \"Triathlon\", \"Underwater Sports\", \"Urban Sports\", \"Volley-ball\", \"Water Polo\", \"Yoga\", \"(?)\"], \"ids\": [\"All Sports/Adapted Sports\", \"All Sports/Aerobics\", \"All Sports/Aikido\", \"All Sports/American Football\", \"All Sports/Archery\", \"All Sports/Athletics\", \"All Sports/Australian Football\", \"All Sports/Badminton\", \"All Sports/Baseball / Softball\", \"All Sports/Basketball\", \"All Sports/Beach Volleyball\", \"All Sports/Beachhandbal\", \"All Sports/Billiards\", \"All Sports/Bootcamp\", \"All Sports/Bounce\", \"All Sports/Bowling\", \"All Sports/Bowls\", \"All Sports/Boxing\", \"All Sports/Bridge\", \"All Sports/Canoeing\", \"All Sports/Capoeira\", \"All Sports/Cheerleading\", \"All Sports/Chess\", \"All Sports/Circus\", \"All Sports/Climbing\", \"All Sports/Cricket\", \"All Sports/Cycling\", \"All Sports/Dammen\", \"All Sports/Dance\", \"All Sports/Dragon Boat Racing\", \"All Sports/Equestrian\", \"All Sports/Fencing\", \"All Sports/Fitness\", \"All Sports/Floorball\", \"All Sports/Football\", \"All Sports/Frisbee\", \"All Sports/Futsal\", \"All Sports/Gaelic Football\", \"All Sports/Go\", \"All Sports/Golf\", \"All Sports/Gymnastics\", \"All Sports/Handball\", \"All Sports/Hapkido\", \"All Sports/Hiking\", \"All Sports/Hockey\", \"All Sports/Ice Hockey\", \"All Sports/Judo\", \"All Sports/Karate\", \"All Sports/Kickboxing\", \"All Sports/Korfball\", \"All Sports/Kung-fu\", \"All Sports/Lacrosse\", \"All Sports/Martial And Strength Sports\", \"All Sports/Multisport\", \"All Sports/Padel\", \"All Sports/Pencak Silat\", \"All Sports/Pickleball\", \"All Sports/Rowing\", \"All Sports/Rugby\", \"All Sports/Running\", \"All Sports/Sailing\", \"All Sports/Skating\", \"All Sports/Sloeproeien\", \"All Sports/Squash\", \"All Sports/Sup\", \"All Sports/Surfing\", \"All Sports/Survivalrun\", \"All Sports/Swimming\", \"All Sports/Table Tennis\", \"All Sports/Taekwondo\", \"All Sports/Tai Chi\", \"All Sports/Target Shooting\", \"All Sports/Tennis\", \"All Sports/Triathlon\", \"All Sports/Underwater Sports\", \"All Sports/Urban Sports\", \"All Sports/Volley-ball\", \"All Sports/Water Polo\", \"All Sports/Yoga\", \"All Sports\"], \"labels\": [\"Adapted Sports\", \"Aerobics\", \"Aikido\", \"American Football\", \"Archery\", \"Athletics\", \"Australian Football\", \"Badminton\", \"Baseball / Softball\", \"Basketball\", \"Beach Volleyball\", \"Beachhandbal\", \"Billiards\", \"Bootcamp\", \"Bounce\", \"Bowling\", \"Bowls\", \"Boxing\", \"Bridge\", \"Canoeing\", \"Capoeira\", \"Cheerleading\", \"Chess\", \"Circus\", \"Climbing\", \"Cricket\", \"Cycling\", \"Dammen\", \"Dance\", \"Dragon Boat Racing\", \"Equestrian\", \"Fencing\", \"Fitness\", \"Floorball\", \"Football\", \"Frisbee\", \"Futsal\", \"Gaelic Football\", \"Go\", \"Golf\", \"Gymnastics\", \"Handball\", \"Hapkido\", \"Hiking\", \"Hockey\", \"Ice Hockey\", \"Judo\", \"Karate\", \"Kickboxing\", \"Korfball\", \"Kung-fu\", \"Lacrosse\", \"Martial And Strength Sports\", \"Multisport\", \"Padel\", \"Pencak Silat\", \"Pickleball\", \"Rowing\", \"Rugby\", \"Running\", \"Sailing\", \"Skating\", \"Sloeproeien\", \"Squash\", \"Sup\", \"Surfing\", \"Survivalrun\", \"Swimming\", \"Table Tennis\", \"Taekwondo\", \"Tai Chi\", \"Target Shooting\", \"Tennis\", \"Triathlon\", \"Underwater Sports\", \"Urban Sports\", \"Volley-ball\", \"Water Polo\", \"Yoga\", \"All Sports\"], \"marker\": {\"coloraxis\": \"coloraxis\", \"colors\": [6.0, 3.0, 24.0, 2.0, 1.0, 6.0, 1.0, 15.0, 6.0, 26.0, 7.0, 1.0, 15.0, 3.0, 1.0, 3.0, 6.0, 8.0, 25.0, 10.0, 11.0, 4.0, 19.0, 3.0, 11.0, 6.0, 6.0, 2.0, 27.0, 1.0, 9.0, 6.0, 95.0, 1.0, 69.0, 2.0, 15.0, 1.0, 1.0, 8.0, 63.0, 11.0, 1.0, 3.0, 11.0, 1.0, 45.0, 18.0, 15.0, 11.0, 4.0, 2.0, 46.0, 3.0, 7.0, 5.0, 1.0, 9.0, 4.0, 5.0, 17.0, 23.0, 3.0, 9.0, 5.0, 4.0, 1.0, 44.0, 17.0, 5.0, 2.0, 10.0, 37.0, 2.0, 12.0, 11.0, 16.0, 6.0, 12.0, 34.11478800413651]}, \"maxdepth\": 3, \"name\": \"\", \"outsidetextfont\": {\"color\": \"darkblue\", \"size\": 20}, \"parents\": [\"All Sports\", \"All Sports\", \"All Sports\", \"All Sports\", \"All Sports\", \"All Sports\", \"All Sports\", \"All Sports\", \"All Sports\", \"All Sports\", \"All Sports\", \"All Sports\", \"All Sports\", \"All Sports\", \"All Sports\", \"All Sports\", \"All Sports\", \"All Sports\", \"All Sports\", \"All Sports\", \"All Sports\", \"All Sports\", \"All Sports\", \"All Sports\", \"All Sports\", \"All Sports\", \"All Sports\", \"All Sports\", \"All Sports\", \"All Sports\", \"All Sports\", \"All Sports\", \"All Sports\", \"All Sports\", \"All Sports\", \"All Sports\", \"All Sports\", \"All Sports\", \"All Sports\", \"All Sports\", \"All Sports\", \"All Sports\", \"All Sports\", \"All Sports\", \"All Sports\", \"All Sports\", \"All Sports\", \"All Sports\", \"All Sports\", \"All Sports\", \"All Sports\", \"All Sports\", \"All Sports\", \"All Sports\", \"All Sports\", \"All Sports\", \"All Sports\", \"All Sports\", \"All Sports\", \"All Sports\", \"All Sports\", \"All Sports\", \"All Sports\", \"All Sports\", \"All Sports\", \"All Sports\", \"All Sports\", \"All Sports\", \"All Sports\", \"All Sports\", \"All Sports\", \"All Sports\", \"All Sports\", \"All Sports\", \"All Sports\", \"All Sports\", \"All Sports\", \"All Sports\", \"All Sports\", \"\"], \"textinfo\": \"label\", \"texttemplate\": \"%{label}<br><br>Count: %{value}<br>Percentage: %{percentParent:.1%}\", \"type\": \"treemap\", \"values\": [6, 3, 24, 2, 1, 6, 1, 15, 6, 26, 7, 1, 15, 3, 1, 3, 6, 8, 25, 10, 11, 4, 19, 3, 11, 6, 6, 2, 27, 1, 9, 6, 95, 1, 69, 2, 15, 1, 1, 8, 63, 11, 1, 3, 11, 1, 45, 18, 15, 11, 4, 2, 46, 3, 7, 5, 1, 9, 4, 5, 17, 23, 3, 9, 5, 4, 1, 44, 17, 5, 2, 10, 37, 2, 12, 11, 16, 6, 12, 967]}],                        {\"coloraxis\": {\"cmax\": 75, \"cmid\": 34.11478800413651, \"cmin\": 1, \"colorbar\": {\"tickvals\": [10, 30, 50, 70], \"title\": {\"text\": \"Counts\"}}, \"colorscale\": [[0.0, \"rgb(20, 29, 67)\"], [0.09090909090909091, \"rgb(28, 72, 93)\"], [0.18181818181818182, \"rgb(18, 115, 117)\"], [0.2727272727272727, \"rgb(63, 156, 129)\"], [0.36363636363636365, \"rgb(153, 189, 156)\"], [0.45454545454545453, \"rgb(223, 225, 211)\"], [0.5454545454545454, \"rgb(241, 218, 206)\"], [0.6363636363636364, \"rgb(224, 160, 137)\"], [0.7272727272727273, \"rgb(203, 101, 99)\"], [0.8181818181818182, \"rgb(164, 54, 96)\"], [0.9090909090909091, \"rgb(111, 23, 91)\"], [1.0, \"rgb(51, 13, 53)\"]]}, \"height\": 600, \"legend\": {\"tracegroupgap\": 0}, \"margin\": {\"t\": 60}, \"template\": {\"data\": {\"bar\": [{\"error_x\": {\"color\": \"#2a3f5f\"}, \"error_y\": {\"color\": \"#2a3f5f\"}, \"marker\": {\"line\": {\"color\": \"#E5ECF6\", \"width\": 0.5}}, \"type\": \"bar\"}], \"barpolar\": [{\"marker\": {\"line\": {\"color\": \"#E5ECF6\", \"width\": 0.5}}, \"type\": \"barpolar\"}], \"carpet\": [{\"aaxis\": {\"endlinecolor\": \"#2a3f5f\", \"gridcolor\": \"white\", \"linecolor\": \"white\", \"minorgridcolor\": \"white\", \"startlinecolor\": \"#2a3f5f\"}, \"baxis\": {\"endlinecolor\": \"#2a3f5f\", \"gridcolor\": \"white\", \"linecolor\": \"white\", \"minorgridcolor\": \"white\", \"startlinecolor\": \"#2a3f5f\"}, \"type\": \"carpet\"}], \"choropleth\": [{\"colorbar\": {\"outlinewidth\": 0, \"ticks\": \"\"}, \"type\": \"choropleth\"}], \"contour\": [{\"colorbar\": {\"outlinewidth\": 0, \"ticks\": \"\"}, \"colorscale\": [[0.0, \"#0d0887\"], [0.1111111111111111, \"#46039f\"], [0.2222222222222222, \"#7201a8\"], [0.3333333333333333, \"#9c179e\"], [0.4444444444444444, \"#bd3786\"], [0.5555555555555556, \"#d8576b\"], [0.6666666666666666, \"#ed7953\"], [0.7777777777777778, \"#fb9f3a\"], [0.8888888888888888, \"#fdca26\"], [1.0, \"#f0f921\"]], \"type\": \"contour\"}], \"contourcarpet\": [{\"colorbar\": {\"outlinewidth\": 0, \"ticks\": \"\"}, \"type\": \"contourcarpet\"}], \"heatmap\": [{\"colorbar\": {\"outlinewidth\": 0, \"ticks\": \"\"}, \"colorscale\": [[0.0, \"#0d0887\"], [0.1111111111111111, \"#46039f\"], [0.2222222222222222, \"#7201a8\"], [0.3333333333333333, \"#9c179e\"], [0.4444444444444444, \"#bd3786\"], [0.5555555555555556, \"#d8576b\"], [0.6666666666666666, \"#ed7953\"], [0.7777777777777778, \"#fb9f3a\"], [0.8888888888888888, \"#fdca26\"], [1.0, \"#f0f921\"]], \"type\": \"heatmap\"}], \"heatmapgl\": [{\"colorbar\": {\"outlinewidth\": 0, \"ticks\": \"\"}, \"colorscale\": [[0.0, \"#0d0887\"], [0.1111111111111111, \"#46039f\"], [0.2222222222222222, \"#7201a8\"], [0.3333333333333333, \"#9c179e\"], [0.4444444444444444, \"#bd3786\"], [0.5555555555555556, \"#d8576b\"], [0.6666666666666666, \"#ed7953\"], [0.7777777777777778, \"#fb9f3a\"], [0.8888888888888888, \"#fdca26\"], [1.0, \"#f0f921\"]], \"type\": \"heatmapgl\"}], \"histogram\": [{\"marker\": {\"colorbar\": {\"outlinewidth\": 0, \"ticks\": \"\"}}, \"type\": \"histogram\"}], \"histogram2d\": [{\"colorbar\": {\"outlinewidth\": 0, \"ticks\": \"\"}, \"colorscale\": [[0.0, \"#0d0887\"], [0.1111111111111111, \"#46039f\"], [0.2222222222222222, \"#7201a8\"], [0.3333333333333333, \"#9c179e\"], [0.4444444444444444, \"#bd3786\"], [0.5555555555555556, \"#d8576b\"], [0.6666666666666666, \"#ed7953\"], [0.7777777777777778, \"#fb9f3a\"], [0.8888888888888888, \"#fdca26\"], [1.0, \"#f0f921\"]], \"type\": \"histogram2d\"}], \"histogram2dcontour\": [{\"colorbar\": {\"outlinewidth\": 0, \"ticks\": \"\"}, \"colorscale\": [[0.0, \"#0d0887\"], [0.1111111111111111, \"#46039f\"], [0.2222222222222222, \"#7201a8\"], [0.3333333333333333, \"#9c179e\"], [0.4444444444444444, \"#bd3786\"], [0.5555555555555556, \"#d8576b\"], [0.6666666666666666, \"#ed7953\"], [0.7777777777777778, \"#fb9f3a\"], [0.8888888888888888, \"#fdca26\"], [1.0, \"#f0f921\"]], \"type\": \"histogram2dcontour\"}], \"mesh3d\": [{\"colorbar\": {\"outlinewidth\": 0, \"ticks\": \"\"}, \"type\": \"mesh3d\"}], \"parcoords\": [{\"line\": {\"colorbar\": {\"outlinewidth\": 0, \"ticks\": \"\"}}, \"type\": \"parcoords\"}], \"pie\": [{\"automargin\": true, \"type\": \"pie\"}], \"scatter\": [{\"marker\": {\"colorbar\": {\"outlinewidth\": 0, \"ticks\": \"\"}}, \"type\": \"scatter\"}], \"scatter3d\": [{\"line\": {\"colorbar\": {\"outlinewidth\": 0, \"ticks\": \"\"}}, \"marker\": {\"colorbar\": {\"outlinewidth\": 0, \"ticks\": \"\"}}, \"type\": \"scatter3d\"}], \"scattercarpet\": [{\"marker\": {\"colorbar\": {\"outlinewidth\": 0, \"ticks\": \"\"}}, \"type\": \"scattercarpet\"}], \"scattergeo\": [{\"marker\": {\"colorbar\": {\"outlinewidth\": 0, \"ticks\": \"\"}}, \"type\": \"scattergeo\"}], \"scattergl\": [{\"marker\": {\"colorbar\": {\"outlinewidth\": 0, \"ticks\": \"\"}}, \"type\": \"scattergl\"}], \"scattermapbox\": [{\"marker\": {\"colorbar\": {\"outlinewidth\": 0, \"ticks\": \"\"}}, \"type\": \"scattermapbox\"}], \"scatterpolar\": [{\"marker\": {\"colorbar\": {\"outlinewidth\": 0, \"ticks\": \"\"}}, \"type\": \"scatterpolar\"}], \"scatterpolargl\": [{\"marker\": {\"colorbar\": {\"outlinewidth\": 0, \"ticks\": \"\"}}, \"type\": \"scatterpolargl\"}], \"scatterternary\": [{\"marker\": {\"colorbar\": {\"outlinewidth\": 0, \"ticks\": \"\"}}, \"type\": \"scatterternary\"}], \"surface\": [{\"colorbar\": {\"outlinewidth\": 0, \"ticks\": \"\"}, \"colorscale\": [[0.0, \"#0d0887\"], [0.1111111111111111, \"#46039f\"], [0.2222222222222222, \"#7201a8\"], [0.3333333333333333, \"#9c179e\"], [0.4444444444444444, \"#bd3786\"], [0.5555555555555556, \"#d8576b\"], [0.6666666666666666, \"#ed7953\"], [0.7777777777777778, \"#fb9f3a\"], [0.8888888888888888, \"#fdca26\"], [1.0, \"#f0f921\"]], \"type\": \"surface\"}], \"table\": [{\"cells\": {\"fill\": {\"color\": \"#EBF0F8\"}, \"line\": {\"color\": \"white\"}}, \"header\": {\"fill\": {\"color\": \"#C8D4E3\"}, \"line\": {\"color\": \"white\"}}, \"type\": \"table\"}]}, \"layout\": {\"coloraxis\": {\"colorbar\": {\"outlinewidth\": 0}}, \"font\": {\"family\": \"Old Standard TT\"}, \"hoverlabel\": {\"bgcolor\": \"white\", \"bordercolor\": \"black\", \"font\": {\"family\": \"Rockwell\", \"size\": 15}}, \"paper_bgcolor\": \"white\", \"title\": {\"font\": {\"size\": 24}, \"xanchor\": \"center\", \"yanchor\": \"top\", \"yref\": \"paper\"}}}, \"title\": {\"text\": \"Different Kinds of Sport\"}},                        {\"responsive\": true}                    ).then(function(){\n",
       "                            \n",
       "var gd = document.getElementById('e7f4978d-fafd-4aa3-96d5-1c231a0869bf');\n",
       "var x = new MutationObserver(function (mutations, observer) {{\n",
       "        var display = window.getComputedStyle(gd).display;\n",
       "        if (!display || display === 'none') {{\n",
       "            console.log([gd, 'removed!']);\n",
       "            Plotly.purge(gd);\n",
       "            observer.disconnect();\n",
       "        }}\n",
       "}});\n",
       "\n",
       "// Listen for the removal of the full notebook cells\n",
       "var notebookContainer = gd.closest('#notebook-container');\n",
       "if (notebookContainer) {{\n",
       "    x.observe(notebookContainer, {childList: true});\n",
       "}}\n",
       "\n",
       "// Listen for the clearing of the current output cell\n",
       "var outputEl = gd.closest('.output');\n",
       "if (outputEl) {{\n",
       "    x.observe(outputEl, {childList: true});\n",
       "}}\n",
       "\n",
       "                        })                };                });            </script>        </div>"
      ]
     },
     "metadata": {},
     "output_type": "display_data"
    }
   ],
   "source": [
    "import plotly.express as px\n",
    "import plotly.graph_objects as go\n",
    "\n",
    "import numpy as np\n",
    "\n",
    "sport_template = dict(\n",
    "    layout = go.Layout(font=dict(\n",
    "                            family=\"Old Standard TT\",\n",
    "                            ),\n",
    "                       paper_bgcolor=\"white\",\n",
    "                       hoverlabel=dict(\n",
    "                                   bordercolor=\"black\",\n",
    "                                   bgcolor =\"white\",\n",
    "                                   font_size=15,\n",
    "                                   font_family=\"Rockwell\"),\n",
    "\n",
    "                       title=dict(xanchor=\"center\",\n",
    "                                  yanchor=\"top\",\n",
    "                                  yref=\"paper\",\n",
    "                                  font_size=24),\n",
    "                       coloraxis_colorbar=dict(\n",
    "                                  outlinewidth = 0)\n",
    "                      ))\n",
    "\n",
    "\n",
    "fig = px.treemap(df,\n",
    "                 path = [\"All\", \"Sport_en\"],\n",
    "                 color = \"Sport_count\",\n",
    "                 color_continuous_scale=\"curl\",\n",
    "#                  color_continuous_scale=\"earth\",\n",
    "                 range_color = [1, 75],\n",
    "                 hover_name = \"Sport_en\",\n",
    "                 color_continuous_midpoint=np.average(df[\"Sport_count\"]),\n",
    "                 maxdepth=3\n",
    "                )\n",
    "\n",
    "fig.update_traces(go.Treemap(\n",
    "    textinfo = \"label\",\n",
    "    texttemplate = \"%{label}<br><br>Count: %{value}<br>Percentage: %{percentParent:.1%}\",\n",
    "    hovertemplate = \"  %{label}  \",\n",
    "    outsidetextfont = {\"size\": 20, \"color\": \"darkblue\"},\n",
    "#     hovertemplate = \"%{label}\"\n",
    ")\n",
    "                 )\n",
    "\n",
    "fig.update_layout(\n",
    "    title = dict(\n",
    "        text = \"Different Kinds of Sport\"),\n",
    "    coloraxis_colorbar=dict(\n",
    "        title=\"Counts\",\n",
    "        tickvals=[10,30, 50, 70]),\n",
    "#     uniformtext = dict(minsize=10,\n",
    "#                       mode=\"hide\"),\n",
    "    template=sport_template,\n",
    "    height=600\n",
    ")\n",
    "\n",
    "fig.show()\n",
    "                        \n",
    "    "
   ]
  },
  {
   "cell_type": "code",
   "execution_count": 139,
   "id": "diagnostic-phone",
   "metadata": {},
   "outputs": [],
   "source": [
    "num = df.groupby(by=[\"Stadsdeel\",\"Sport_en\"]).count()[\"Naam\"]\n",
    "# df.loc[:, \"Sport_count\"] = df.Sport_en.map(num)"
   ]
  },
  {
   "cell_type": "code",
   "execution_count": 148,
   "id": "recovered-radiation",
   "metadata": {},
   "outputs": [
    {
     "data": {
      "text/html": [
       "<div>\n",
       "<style scoped>\n",
       "    .dataframe tbody tr th:only-of-type {\n",
       "        vertical-align: middle;\n",
       "    }\n",
       "\n",
       "    .dataframe tbody tr th {\n",
       "        vertical-align: top;\n",
       "    }\n",
       "\n",
       "    .dataframe thead th {\n",
       "        text-align: right;\n",
       "    }\n",
       "</style>\n",
       "<table border=\"1\" class=\"dataframe\">\n",
       "  <thead>\n",
       "    <tr style=\"text-align: right;\">\n",
       "      <th></th>\n",
       "      <th>Stadsdeel</th>\n",
       "      <th>Sport_en</th>\n",
       "      <th>sport_count_in_district</th>\n",
       "    </tr>\n",
       "  </thead>\n",
       "  <tbody>\n",
       "    <tr>\n",
       "      <th>0</th>\n",
       "      <td>Centrum</td>\n",
       "      <td>adapted sports</td>\n",
       "      <td>1</td>\n",
       "    </tr>\n",
       "    <tr>\n",
       "      <th>1</th>\n",
       "      <td>Centrum</td>\n",
       "      <td>aikido</td>\n",
       "      <td>1</td>\n",
       "    </tr>\n",
       "    <tr>\n",
       "      <th>2</th>\n",
       "      <td>Centrum</td>\n",
       "      <td>bowling</td>\n",
       "      <td>1</td>\n",
       "    </tr>\n",
       "    <tr>\n",
       "      <th>3</th>\n",
       "      <td>Centrum</td>\n",
       "      <td>boxing</td>\n",
       "      <td>1</td>\n",
       "    </tr>\n",
       "    <tr>\n",
       "      <th>4</th>\n",
       "      <td>Centrum</td>\n",
       "      <td>bridge</td>\n",
       "      <td>3</td>\n",
       "    </tr>\n",
       "  </tbody>\n",
       "</table>\n",
       "</div>"
      ],
      "text/plain": [
       "  Stadsdeel        Sport_en  sport_count_in_district\n",
       "0   Centrum  adapted sports                        1\n",
       "1   Centrum          aikido                        1\n",
       "2   Centrum         bowling                        1\n",
       "3   Centrum          boxing                        1\n",
       "4   Centrum          bridge                        3"
      ]
     },
     "execution_count": 148,
     "metadata": {},
     "output_type": "execute_result"
    }
   ],
   "source": [
    "num = pd.DataFrame(num).reset_index().rename(columns={\"Naam\":\"sport_count_in_district\"})\n",
    "num.head()"
   ]
  },
  {
   "cell_type": "code",
   "execution_count": 150,
   "id": "sensitive-lighter",
   "metadata": {},
   "outputs": [],
   "source": [
    "df = df.merge(num, how=\"left\")"
   ]
  },
  {
   "cell_type": "markdown",
   "id": "proud-belgium",
   "metadata": {},
   "source": [
    "> - **Available color scales:**\n",
    "aggrnyl     agsunset    blackbody   bluered     blues       blugrn      bluyl       brwnyl\n",
    "bugn        bupu        burg        burgyl      cividis     darkmint    electric    emrld\n",
    "gnbu        greens      greys       hot         inferno     jet         magenta     magma\n",
    "mint        orrd        oranges     oryel       peach       pinkyl      plasma      plotly3\n",
    "pubu        pubugn      purd        purp        purples     purpor      rainbow     rdbu\n",
    "rdpu        redor       reds        sunset      sunsetdark  teal        tealgrn     turbo\n",
    "viridis     ylgn        ylgnbu      ylorbr      ylorrd      algae       amp         deep\n",
    "dense       gray        haline      ice         matter      solar       speed       tempo\n",
    "thermal     turbid      armyrose    brbg        earth       fall        geyser      prgn\n",
    "piyg        picnic      portland    puor        rdgy        rdylbu      rdylgn      spectral\n",
    "tealrose    temps       tropic      balance     curl        delta       oxy         edge\n",
    "hsv         icefire     phase       twilight    mrybm       mygbm\n"
   ]
  },
  {
   "cell_type": "code",
   "execution_count": 228,
   "id": "colonial-saturn",
   "metadata": {
    "scrolled": false
   },
   "outputs": [
    {
     "data": {
      "application/vnd.plotly.v1+json": {
       "config": {
        "plotlyServerURL": "https://plot.ly"
       },
       "data": [
        {
         "branchvalues": "total",
         "customdata": [
          [
           1
          ],
          [
           1
          ],
          [
           2
          ],
          [
           1
          ],
          [
           1
          ],
          [
           2
          ],
          [
           1
          ],
          [
           1
          ],
          [
           1
          ],
          [
           2
          ],
          [
           4
          ],
          [
           7
          ],
          [
           9
          ],
          [
           2
          ],
          [
           1
          ],
          [
           1
          ],
          [
           1
          ],
          [
           1
          ],
          [
           2
          ],
          [
           1
          ],
          [
           1
          ],
          [
           2
          ],
          [
           2
          ],
          [
           4
          ],
          [
           2
          ],
          [
           4
          ],
          [
           1
          ],
          [
           2
          ],
          [
           1
          ],
          [
           1
          ],
          [
           2
          ],
          [
           5
          ],
          [
           2
          ],
          [
           5
          ],
          [
           3
          ],
          [
           4
          ],
          [
           7
          ],
          [
           1
          ],
          [
           4
          ],
          [
           1
          ],
          [
           1
          ],
          [
           1
          ],
          [
           3
          ],
          [
           1
          ],
          [
           1
          ],
          [
           8
          ],
          [
           2
          ],
          [
           1
          ],
          [
           1
          ],
          [
           1
          ],
          [
           1
          ],
          [
           1
          ],
          [
           1
          ],
          [
           1
          ],
          [
           2
          ],
          [
           1
          ],
          [
           2
          ],
          [
           1
          ],
          [
           1
          ],
          [
           1
          ],
          [
           2
          ],
          [
           3
          ],
          [
           1
          ],
          [
           3
          ],
          [
           3
          ],
          [
           7
          ],
          [
           2
          ],
          [
           3
          ],
          [
           6
          ],
          [
           1
          ],
          [
           3
          ],
          [
           1
          ],
          [
           5
          ],
          [
           1
          ],
          [
           1
          ],
          [
           3
          ],
          [
           2
          ],
          [
           4
          ],
          [
           1
          ],
          [
           1
          ],
          [
           1
          ],
          [
           1
          ],
          [
           1
          ],
          [
           6
          ],
          [
           2
          ],
          [
           3
          ],
          [
           2
          ],
          [
           4
          ],
          [
           2
          ],
          [
           1
          ],
          [
           1
          ],
          [
           1
          ],
          [
           1
          ],
          [
           5
          ],
          [
           1
          ],
          [
           1
          ],
          [
           1
          ],
          [
           2
          ],
          [
           1
          ],
          [
           1
          ],
          [
           3
          ],
          [
           1
          ],
          [
           3
          ],
          [
           2
          ],
          [
           1
          ],
          [
           1
          ],
          [
           1
          ],
          [
           1
          ],
          [
           1
          ],
          [
           7
          ],
          [
           3
          ],
          [
           11
          ],
          [
           4
          ],
          [
           1
          ],
          [
           3
          ],
          [
           4
          ],
          [
           1
          ],
          [
           1
          ],
          [
           2
          ],
          [
           4
          ],
          [
           14
          ],
          [
           6
          ],
          [
           5
          ],
          [
           19
          ],
          [
           22
          ],
          [
           21
          ],
          [
           8
          ],
          [
           1
          ],
          [
           19
          ],
          [
           8
          ],
          [
           20
          ],
          [
           9
          ],
          [
           7
          ],
          [
           6
          ],
          [
           1
          ],
          [
           1
          ],
          [
           1
          ],
          [
           3
          ],
          [
           1
          ],
          [
           2
          ],
          [
           7
          ],
          [
           1
          ],
          [
           1
          ],
          [
           1
          ],
          [
           3
          ],
          [
           1
          ],
          [
           1
          ],
          [
           3
          ],
          [
           3
          ],
          [
           18
          ],
          [
           9
          ],
          [
           10
          ],
          [
           4
          ],
          [
           12
          ],
          [
           7
          ],
          [
           5
          ],
          [
           3
          ],
          [
           2
          ],
          [
           1
          ],
          [
           1
          ],
          [
           1
          ],
          [
           1
          ],
          [
           1
          ],
          [
           2
          ],
          [
           1
          ],
          [
           2
          ],
          [
           4
          ],
          [
           2
          ],
          [
           1
          ],
          [
           2
          ],
          [
           10
          ],
          [
           8
          ],
          [
           10
          ],
          [
           9
          ],
          [
           4
          ],
          [
           2
          ],
          [
           3
          ],
          [
           3
          ],
          [
           2
          ],
          [
           1
          ],
          [
           7
          ],
          [
           2
          ],
          [
           4
          ],
          [
           1
          ],
          [
           6
          ],
          [
           3
          ],
          [
           1
          ],
          [
           1
          ],
          [
           1
          ],
          [
           1
          ],
          [
           2
          ],
          [
           2
          ],
          [
           3
          ],
          [
           1
          ],
          [
           4
          ],
          [
           2
          ],
          [
           7
          ],
          [
           4
          ],
          [
           14
          ],
          [
           8
          ],
          [
           9
          ],
          [
           4
          ],
          [
           1
          ],
          [
           2
          ],
          [
           1
          ],
          [
           2
          ],
          [
           1
          ],
          [
           3
          ],
          [
           2
          ],
          [
           2
          ],
          [
           1
          ],
          [
           1
          ],
          [
           3
          ],
          [
           4
          ],
          [
           2
          ],
          [
           3
          ],
          [
           1
          ],
          [
           2
          ],
          [
           1
          ],
          [
           2
          ],
          [
           2
          ],
          [
           3
          ],
          [
           4
          ],
          [
           3
          ],
          [
           4
          ],
          [
           1
          ],
          [
           1
          ],
          [
           4
          ],
          [
           18
          ],
          [
           1
          ],
          [
           1
          ],
          [
           1
          ],
          [
           1
          ],
          [
           2
          ],
          [
           2
          ],
          [
           4
          ],
          [
           3
          ],
          [
           2
          ],
          [
           1
          ],
          [
           2
          ],
          [
           1
          ],
          [
           1
          ],
          [
           3
          ],
          [
           8
          ],
          [
           11
          ],
          [
           6
          ],
          [
           7
          ],
          [
           7
          ],
          [
           2
          ],
          [
           2
          ],
          [
           2
          ],
          [
           5
          ],
          [
           3
          ],
          [
           4
          ],
          [
           1
          ],
          [
           1
          ],
          [
           1
          ],
          [
           2
          ],
          [
           1
          ],
          [
           2
          ],
          [
           2
          ],
          [
           2
          ],
          [
           3
          ],
          [
           2
          ],
          [
           1
          ],
          [
           1
          ],
          [
           3
          ],
          [
           3
          ],
          [
           8
          ],
          [
           2
          ],
          [
           16
          ],
          [
           4
          ],
          [
           1
          ],
          [
           1
          ],
          [
           6
          ],
          [
           4
          ],
          [
           2
          ],
          [
           2
          ],
          [
           1
          ],
          [
           1
          ],
          [
           3
          ],
          [
           3
          ],
          [
           1
          ],
          [
           1
          ],
          [
           1
          ],
          [
           1
          ],
          [
           6
          ],
          [
           2
          ],
          [
           3
          ],
          [
           2
          ],
          [
           1
          ],
          [
           1
          ],
          [
           2
          ],
          [
           1
          ],
          [
           1
          ],
          [
           1
          ],
          [
           1
          ],
          [
           1
          ],
          [
           3
          ],
          [
           5
          ],
          [
           1
          ],
          [
           5.098360655737705
          ],
          [
           7.01123595505618
          ],
          [
           5.1344537815126055
          ],
          [
           9.222222222222221
          ],
          [
           8.68503937007874
          ],
          [
           1
          ],
          [
           7.826530612244898
          ],
          [
           3.7435897435897436
          ],
          [
           7.2481902792140644
          ]
         ],
         "domain": {
          "x": [
           0,
           1
          ],
          "y": [
           0,
           1
          ]
         },
         "hovertemplate": "%{label}<br>Count: %{value}",
         "hovertext": [
          "Adapted Sports",
          "Adapted Sports",
          "Adapted Sports",
          "Adapted Sports",
          "Adapted Sports",
          "Aerobics",
          "Aerobics",
          "Aikido",
          "Aikido",
          "Aikido",
          "Aikido",
          "Aikido",
          "Aikido",
          "American Football",
          "Archery",
          "Athletics",
          "Athletics",
          "Athletics",
          "Athletics",
          "Athletics",
          "Australian Football",
          "Badminton",
          "Badminton",
          "Badminton",
          "Badminton",
          "Badminton",
          "Badminton",
          "Baseball / Softball",
          "Baseball / Softball",
          "Baseball / Softball",
          "Baseball / Softball",
          "Basketball",
          "Basketball",
          "Basketball",
          "Basketball",
          "Basketball",
          "Basketball",
          "Beach Volleyball",
          "Beach Volleyball",
          "Beach Volleyball",
          "Beach Volleyball",
          "Beachhandbal",
          "Billiards",
          "Billiards",
          "Billiards",
          "Billiards",
          "Billiards",
          "Bootcamp",
          "Bootcamp",
          "Bootcamp",
          "Bounce",
          "Bowling",
          "Bowling",
          "Bowling",
          "Bowls",
          "Bowls",
          "Bowls",
          "Bowls",
          "Boxing",
          "Boxing",
          "Boxing",
          "Boxing",
          "Boxing",
          "Bridge",
          "Bridge",
          "Bridge",
          "Bridge",
          "Bridge",
          "Bridge",
          "Bridge",
          "Canoeing",
          "Canoeing",
          "Canoeing",
          "Canoeing",
          "Capoeira",
          "Capoeira",
          "Capoeira",
          "Capoeira",
          "Capoeira",
          "Cheerleading",
          "Cheerleading",
          "Cheerleading",
          "Cheerleading",
          "Chess",
          "Chess",
          "Chess",
          "Chess",
          "Chess",
          "Chess",
          "Circus",
          "Circus",
          "Circus",
          "Climbing",
          "Climbing",
          "Climbing",
          "Climbing",
          "Climbing",
          "Climbing",
          "Cricket",
          "Cricket",
          "Cricket",
          "Cricket",
          "Cycling",
          "Cycling",
          "Cycling",
          "Dammen",
          "Dammen",
          "Dance",
          "Dance",
          "Dance",
          "Dance",
          "Dance",
          "Dance",
          "Dragon Boat Racing",
          "Equestrian",
          "Equestrian",
          "Equestrian",
          "Equestrian",
          "Fencing",
          "Fencing",
          "Fitness",
          "Fitness",
          "Fitness",
          "Fitness",
          "Fitness",
          "Fitness",
          "Fitness",
          "Floorball",
          "Football",
          "Football",
          "Football",
          "Football",
          "Football",
          "Football",
          "Frisbee",
          "Frisbee",
          "Futsal",
          "Futsal",
          "Futsal",
          "Futsal",
          "Futsal",
          "Futsal",
          "Gaelic Football",
          "Go",
          "Golf",
          "Golf",
          "Golf",
          "Golf",
          "Gymnastics",
          "Gymnastics",
          "Gymnastics",
          "Gymnastics",
          "Gymnastics",
          "Gymnastics",
          "Gymnastics",
          "Handball",
          "Handball",
          "Handball",
          "Handball",
          "Hapkido",
          "Hiking",
          "Hiking",
          "Hiking",
          "Hockey",
          "Hockey",
          "Hockey",
          "Hockey",
          "Hockey",
          "Ice Hockey",
          "Judo",
          "Judo",
          "Judo",
          "Judo",
          "Judo",
          "Judo",
          "Judo",
          "Karate",
          "Karate",
          "Karate",
          "Karate",
          "Karate",
          "Karate",
          "Kickboxing",
          "Kickboxing",
          "Kickboxing",
          "Kickboxing",
          "Kickboxing",
          "Korfball",
          "Korfball",
          "Korfball",
          "Korfball",
          "Korfball",
          "Korfball",
          "Korfball",
          "Kung-fu",
          "Lacrosse",
          "Martial And Strength Sports",
          "Martial And Strength Sports",
          "Martial And Strength Sports",
          "Martial And Strength Sports",
          "Martial And Strength Sports",
          "Martial And Strength Sports",
          "Multisport",
          "Multisport",
          "Padel",
          "Padel",
          "Padel",
          "Padel",
          "Pencak Silat",
          "Pencak Silat",
          "Pencak Silat",
          "Pickleball",
          "Rowing",
          "Rowing",
          "Rowing",
          "Rugby",
          "Rugby",
          "Running",
          "Running",
          "Running",
          "Sailing",
          "Sailing",
          "Sailing",
          "Sailing",
          "Sailing",
          "Sailing",
          "Skating",
          "Skating",
          "Skating",
          "Sloeproeien",
          "Sloeproeien",
          "Sloeproeien",
          "Squash",
          "Squash",
          "Squash",
          "Squash",
          "Sup",
          "Sup",
          "Surfing",
          "Surfing",
          "Surfing",
          "Survivalrun",
          "Swimming",
          "Swimming",
          "Swimming",
          "Swimming",
          "Swimming",
          "Swimming",
          "Swimming",
          "Table Tennis",
          "Table Tennis",
          "Table Tennis",
          "Table Tennis",
          "Table Tennis",
          "Table Tennis",
          "Taekwondo",
          "Taekwondo",
          "Taekwondo",
          "Taekwondo",
          "Tai Chi",
          "Target Shooting",
          "Target Shooting",
          "Target Shooting",
          "Target Shooting",
          "Target Shooting",
          "Tennis",
          "Tennis",
          "Tennis",
          "Tennis",
          "Tennis",
          "Tennis",
          "Tennis",
          "Triathlon",
          "Triathlon",
          "Underwater Sports",
          "Underwater Sports",
          "Underwater Sports",
          "Urban Sports",
          "Urban Sports",
          "Urban Sports",
          "Urban Sports",
          "Urban Sports",
          "Urban Sports",
          "Volley-ball",
          "Volley-ball",
          "Volley-ball",
          "Volley-ball",
          "Volley-ball",
          "Volley-ball",
          "Volley-ball",
          "Water Polo",
          "Water Polo",
          "Water Polo",
          "Water Polo",
          "Water Polo",
          "Yoga",
          "Yoga",
          "Yoga",
          "Yoga",
          "Yoga",
          "Yoga",
          "(?)",
          "(?)",
          "(?)",
          "(?)",
          "(?)",
          "Padel",
          "(?)",
          "(?)",
          "(?)"
         ],
         "ids": [
          "All Sports/Centrum/Adapted Sports",
          "All Sports/Nieuw-West/Adapted Sports",
          "All Sports/Noord/Adapted Sports",
          "All Sports/West/Adapted Sports",
          "All Sports/Zuidoost/Adapted Sports",
          "All Sports/Nieuw-West/Aerobics",
          "All Sports/Zuidoost/Aerobics",
          "All Sports/Centrum/Aikido",
          "All Sports/Nieuw-West/Aikido",
          "All Sports/Noord/Aikido",
          "All Sports/Oost/Aikido",
          "All Sports/West/Aikido",
          "All Sports/Zuid/Aikido",
          "All Sports/Nieuw-West/American Football",
          "All Sports/Nieuw-West/Archery",
          "All Sports/Nieuw-West/Athletics",
          "All Sports/Noord/Athletics",
          "All Sports/Oost/Athletics",
          "All Sports/Zuid/Athletics",
          "All Sports/Zuidoost/Athletics",
          "All Sports/Nieuw-West/Australian Football",
          "All Sports/Nieuw-West/Badminton",
          "All Sports/Noord/Badminton",
          "All Sports/Oost/Badminton",
          "All Sports/West/Badminton",
          "All Sports/Zuid/Badminton",
          "All Sports/Zuidoost/Badminton",
          "All Sports/Nieuw-West/Baseball / Softball",
          "All Sports/Noord/Baseball / Softball",
          "All Sports/Oost/Baseball / Softball",
          "All Sports/Zuidoost/Baseball / Softball",
          "All Sports/Nieuw-West/Basketball",
          "All Sports/Noord/Basketball",
          "All Sports/Oost/Basketball",
          "All Sports/West/Basketball",
          "All Sports/Zuid/Basketball",
          "All Sports/Zuidoost/Basketball",
          "All Sports/Nieuw-West/Beach Volleyball",
          "All Sports/Oost/Beach Volleyball",
          "All Sports/Zuid/Beach Volleyball",
          "All Sports/Zuidoost/Beach Volleyball",
          "All Sports/Nieuw-West/Beachhandbal",
          "All Sports/Nieuw-West/Billiards",
          "All Sports/Noord/Billiards",
          "All Sports/Oost/Billiards",
          "All Sports/West/Billiards",
          "All Sports/Zuid/Billiards",
          "All Sports/Nieuw-West/Bootcamp",
          "All Sports/Noord/Bootcamp",
          "All Sports/West/Bootcamp",
          "All Sports/Nieuw-West/Bounce",
          "All Sports/Centrum/Bowling",
          "All Sports/Zuid/Bowling",
          "All Sports/Zuidoost/Bowling",
          "All Sports/Nieuw-West/Bowls",
          "All Sports/Noord/Bowls",
          "All Sports/Oost/Bowls",
          "All Sports/Zuidoost/Bowls",
          "All Sports/Centrum/Boxing",
          "All Sports/Oost/Boxing",
          "All Sports/West/Boxing",
          "All Sports/Zuid/Boxing",
          "All Sports/Zuidoost/Boxing",
          "All Sports/Centrum/Bridge",
          "All Sports/Nieuw-West/Bridge",
          "All Sports/Noord/Bridge",
          "All Sports/Oost/Bridge",
          "All Sports/West/Bridge",
          "All Sports/Zuid/Bridge",
          "All Sports/Zuidoost/Bridge",
          "All Sports/Nieuw-West/Canoeing",
          "All Sports/Noord/Canoeing",
          "All Sports/Oost/Canoeing",
          "All Sports/Zuidoost/Canoeing",
          "All Sports/Noord/Capoeira",
          "All Sports/Oost/Capoeira",
          "All Sports/West/Capoeira",
          "All Sports/Zuid/Capoeira",
          "All Sports/Zuidoost/Capoeira",
          "All Sports/Nieuw-West/Cheerleading",
          "All Sports/Oost/Cheerleading",
          "All Sports/Zuid/Cheerleading",
          "All Sports/Zuidoost/Cheerleading",
          "All Sports/Centrum/Chess",
          "All Sports/Noord/Chess",
          "All Sports/Oost/Chess",
          "All Sports/West/Chess",
          "All Sports/Zuid/Chess",
          "All Sports/Zuidoost/Chess",
          "All Sports/Centrum/Circus",
          "All Sports/Nieuw-West/Circus",
          "All Sports/Oost/Circus",
          "All Sports/Centrum/Climbing",
          "All Sports/Nieuw-West/Climbing",
          "All Sports/Noord/Climbing",
          "All Sports/Oost/Climbing",
          "All Sports/West/Climbing",
          "All Sports/Zuid/Climbing",
          "All Sports/Nieuw-West/Cricket",
          "All Sports/Oost/Cricket",
          "All Sports/Zuid/Cricket",
          "All Sports/Zuidoost/Cricket",
          "All Sports/Nieuw-West/Cycling",
          "All Sports/Noord/Cycling",
          "All Sports/Zuid/Cycling",
          "All Sports/West/Dammen",
          "All Sports/Zuid/Dammen",
          "All Sports/Centrum/Dance",
          "All Sports/Nieuw-West/Dance",
          "All Sports/Noord/Dance",
          "All Sports/Oost/Dance",
          "All Sports/West/Dance",
          "All Sports/Zuid/Dance",
          "All Sports/Zuidoost/Dragon Boat Racing",
          "All Sports/Nieuw-West/Equestrian",
          "All Sports/Noord/Equestrian",
          "All Sports/West/Equestrian",
          "All Sports/Zuid/Equestrian",
          "All Sports/Centrum/Fencing",
          "All Sports/Zuid/Fencing",
          "All Sports/Centrum/Fitness",
          "All Sports/Nieuw-West/Fitness",
          "All Sports/Noord/Fitness",
          "All Sports/Oost/Fitness",
          "All Sports/West/Fitness",
          "All Sports/Zuid/Fitness",
          "All Sports/Zuidoost/Fitness",
          "All Sports/Centrum/Floorball",
          "All Sports/Nieuw-West/Football",
          "All Sports/Noord/Football",
          "All Sports/Oost/Football",
          "All Sports/West/Football",
          "All Sports/Zuid/Football",
          "All Sports/Zuidoost/Football",
          "All Sports/Nieuw-West/Frisbee",
          "All Sports/Oost/Frisbee",
          "All Sports/Centrum/Futsal",
          "All Sports/Nieuw-West/Futsal",
          "All Sports/Noord/Futsal",
          "All Sports/Oost/Futsal",
          "All Sports/Zuid/Futsal",
          "All Sports/Zuidoost/Futsal",
          "All Sports/Nieuw-West/Gaelic Football",
          "All Sports/Centrum/Go",
          "All Sports/Nieuw-West/Golf",
          "All Sports/Noord/Golf",
          "All Sports/Zuid/Golf",
          "All Sports/Zuidoost/Golf",
          "All Sports/Centrum/Gymnastics",
          "All Sports/Nieuw-West/Gymnastics",
          "All Sports/Noord/Gymnastics",
          "All Sports/Oost/Gymnastics",
          "All Sports/West/Gymnastics",
          "All Sports/Zuid/Gymnastics",
          "All Sports/Zuidoost/Gymnastics",
          "All Sports/Nieuw-West/Handball",
          "All Sports/Noord/Handball",
          "All Sports/Oost/Handball",
          "All Sports/Zuid/Handball",
          "All Sports/Zuid/Hapkido",
          "All Sports/Centrum/Hiking",
          "All Sports/Oost/Hiking",
          "All Sports/Zuid/Hiking",
          "All Sports/Nieuw-West/Hockey",
          "All Sports/Noord/Hockey",
          "All Sports/Oost/Hockey",
          "All Sports/Zuid/Hockey",
          "All Sports/Zuidoost/Hockey",
          "All Sports/Oost/Ice Hockey",
          "All Sports/Centrum/Judo",
          "All Sports/Nieuw-West/Judo",
          "All Sports/Noord/Judo",
          "All Sports/Oost/Judo",
          "All Sports/West/Judo",
          "All Sports/Zuid/Judo",
          "All Sports/Zuidoost/Judo",
          "All Sports/Centrum/Karate",
          "All Sports/Nieuw-West/Karate",
          "All Sports/Noord/Karate",
          "All Sports/West/Karate",
          "All Sports/Zuid/Karate",
          "All Sports/Zuidoost/Karate",
          "All Sports/Nieuw-West/Kickboxing",
          "All Sports/Noord/Kickboxing",
          "All Sports/Oost/Kickboxing",
          "All Sports/West/Kickboxing",
          "All Sports/Zuidoost/Kickboxing",
          "All Sports/Centrum/Korfball",
          "All Sports/Nieuw-West/Korfball",
          "All Sports/Noord/Korfball",
          "All Sports/Oost/Korfball",
          "All Sports/West/Korfball",
          "All Sports/Zuid/Korfball",
          "All Sports/Zuidoost/Korfball",
          "All Sports/Nieuw-West/Kung-fu",
          "All Sports/Oost/Lacrosse",
          "All Sports/Nieuw-West/Martial And Strength Sports",
          "All Sports/Noord/Martial And Strength Sports",
          "All Sports/Oost/Martial And Strength Sports",
          "All Sports/West/Martial And Strength Sports",
          "All Sports/Zuid/Martial And Strength Sports",
          "All Sports/Zuidoost/Martial And Strength Sports",
          "All Sports/Oost/Multisport",
          "All Sports/Zuid/Multisport",
          "All Sports/Nieuw-West/Padel",
          "All Sports/Oost/Padel",
          "All Sports/Westpoort/Padel",
          "All Sports/Zuid/Padel",
          "All Sports/Nieuw-West/Pencak Silat",
          "All Sports/Oost/Pencak Silat",
          "All Sports/Zuidoost/Pencak Silat",
          "All Sports/Oost/Pickleball",
          "All Sports/Centrum/Rowing",
          "All Sports/Oost/Rowing",
          "All Sports/Zuid/Rowing",
          "All Sports/Nieuw-West/Rugby",
          "All Sports/Noord/Rugby",
          "All Sports/Nieuw-West/Running",
          "All Sports/Oost/Running",
          "All Sports/West/Running",
          "All Sports/Centrum/Sailing",
          "All Sports/Nieuw-West/Sailing",
          "All Sports/Noord/Sailing",
          "All Sports/Oost/Sailing",
          "All Sports/Zuid/Sailing",
          "All Sports/Zuidoost/Sailing",
          "All Sports/Centrum/Skating",
          "All Sports/Noord/Skating",
          "All Sports/Oost/Skating",
          "All Sports/Centrum/Sloeproeien",
          "All Sports/Oost/Sloeproeien",
          "All Sports/Zuid/Sloeproeien",
          "All Sports/Centrum/Squash",
          "All Sports/Nieuw-West/Squash",
          "All Sports/Oost/Squash",
          "All Sports/Zuid/Squash",
          "All Sports/Oost/Sup",
          "All Sports/Zuid/Sup",
          "All Sports/Nieuw-West/Surfing",
          "All Sports/Oost/Surfing",
          "All Sports/Zuidoost/Surfing",
          "All Sports/Nieuw-West/Survivalrun",
          "All Sports/Centrum/Swimming",
          "All Sports/Nieuw-West/Swimming",
          "All Sports/Noord/Swimming",
          "All Sports/Oost/Swimming",
          "All Sports/West/Swimming",
          "All Sports/Zuid/Swimming",
          "All Sports/Zuidoost/Swimming",
          "All Sports/Nieuw-West/Table Tennis",
          "All Sports/Noord/Table Tennis",
          "All Sports/Oost/Table Tennis",
          "All Sports/West/Table Tennis",
          "All Sports/Zuid/Table Tennis",
          "All Sports/Zuidoost/Table Tennis",
          "All Sports/Nieuw-West/Taekwondo",
          "All Sports/Noord/Taekwondo",
          "All Sports/Oost/Taekwondo",
          "All Sports/West/Taekwondo",
          "All Sports/Zuid/Tai Chi",
          "All Sports/Centrum/Target Shooting",
          "All Sports/Nieuw-West/Target Shooting",
          "All Sports/Noord/Target Shooting",
          "All Sports/Oost/Target Shooting",
          "All Sports/West/Target Shooting",
          "All Sports/Centrum/Tennis",
          "All Sports/Nieuw-West/Tennis",
          "All Sports/Noord/Tennis",
          "All Sports/Oost/Tennis",
          "All Sports/West/Tennis",
          "All Sports/Zuid/Tennis",
          "All Sports/Zuidoost/Tennis",
          "All Sports/Nieuw-West/Triathlon",
          "All Sports/Zuidoost/Triathlon",
          "All Sports/Nieuw-West/Underwater Sports",
          "All Sports/Noord/Underwater Sports",
          "All Sports/Zuid/Underwater Sports",
          "All Sports/Nieuw-West/Urban Sports",
          "All Sports/Noord/Urban Sports",
          "All Sports/Oost/Urban Sports",
          "All Sports/West/Urban Sports",
          "All Sports/Zuid/Urban Sports",
          "All Sports/Zuidoost/Urban Sports",
          "All Sports/Centrum/Volley-ball",
          "All Sports/Nieuw-West/Volley-ball",
          "All Sports/Noord/Volley-ball",
          "All Sports/Oost/Volley-ball",
          "All Sports/West/Volley-ball",
          "All Sports/Zuid/Volley-ball",
          "All Sports/Zuidoost/Volley-ball",
          "All Sports/Nieuw-West/Water Polo",
          "All Sports/Noord/Water Polo",
          "All Sports/Oost/Water Polo",
          "All Sports/Zuid/Water Polo",
          "All Sports/Zuidoost/Water Polo",
          "All Sports/Centrum/Yoga",
          "All Sports/Nieuw-West/Yoga",
          "All Sports/Noord/Yoga",
          "All Sports/West/Yoga",
          "All Sports/Zuid/Yoga",
          "All Sports/Zuidoost/Yoga",
          "All Sports/Centrum",
          "All Sports/Nieuw-West",
          "All Sports/Noord",
          "All Sports/Oost",
          "All Sports/West",
          "All Sports/Westpoort",
          "All Sports/Zuid",
          "All Sports/Zuidoost",
          "All Sports"
         ],
         "labels": [
          "Adapted Sports",
          "Adapted Sports",
          "Adapted Sports",
          "Adapted Sports",
          "Adapted Sports",
          "Aerobics",
          "Aerobics",
          "Aikido",
          "Aikido",
          "Aikido",
          "Aikido",
          "Aikido",
          "Aikido",
          "American Football",
          "Archery",
          "Athletics",
          "Athletics",
          "Athletics",
          "Athletics",
          "Athletics",
          "Australian Football",
          "Badminton",
          "Badminton",
          "Badminton",
          "Badminton",
          "Badminton",
          "Badminton",
          "Baseball / Softball",
          "Baseball / Softball",
          "Baseball / Softball",
          "Baseball / Softball",
          "Basketball",
          "Basketball",
          "Basketball",
          "Basketball",
          "Basketball",
          "Basketball",
          "Beach Volleyball",
          "Beach Volleyball",
          "Beach Volleyball",
          "Beach Volleyball",
          "Beachhandbal",
          "Billiards",
          "Billiards",
          "Billiards",
          "Billiards",
          "Billiards",
          "Bootcamp",
          "Bootcamp",
          "Bootcamp",
          "Bounce",
          "Bowling",
          "Bowling",
          "Bowling",
          "Bowls",
          "Bowls",
          "Bowls",
          "Bowls",
          "Boxing",
          "Boxing",
          "Boxing",
          "Boxing",
          "Boxing",
          "Bridge",
          "Bridge",
          "Bridge",
          "Bridge",
          "Bridge",
          "Bridge",
          "Bridge",
          "Canoeing",
          "Canoeing",
          "Canoeing",
          "Canoeing",
          "Capoeira",
          "Capoeira",
          "Capoeira",
          "Capoeira",
          "Capoeira",
          "Cheerleading",
          "Cheerleading",
          "Cheerleading",
          "Cheerleading",
          "Chess",
          "Chess",
          "Chess",
          "Chess",
          "Chess",
          "Chess",
          "Circus",
          "Circus",
          "Circus",
          "Climbing",
          "Climbing",
          "Climbing",
          "Climbing",
          "Climbing",
          "Climbing",
          "Cricket",
          "Cricket",
          "Cricket",
          "Cricket",
          "Cycling",
          "Cycling",
          "Cycling",
          "Dammen",
          "Dammen",
          "Dance",
          "Dance",
          "Dance",
          "Dance",
          "Dance",
          "Dance",
          "Dragon Boat Racing",
          "Equestrian",
          "Equestrian",
          "Equestrian",
          "Equestrian",
          "Fencing",
          "Fencing",
          "Fitness",
          "Fitness",
          "Fitness",
          "Fitness",
          "Fitness",
          "Fitness",
          "Fitness",
          "Floorball",
          "Football",
          "Football",
          "Football",
          "Football",
          "Football",
          "Football",
          "Frisbee",
          "Frisbee",
          "Futsal",
          "Futsal",
          "Futsal",
          "Futsal",
          "Futsal",
          "Futsal",
          "Gaelic Football",
          "Go",
          "Golf",
          "Golf",
          "Golf",
          "Golf",
          "Gymnastics",
          "Gymnastics",
          "Gymnastics",
          "Gymnastics",
          "Gymnastics",
          "Gymnastics",
          "Gymnastics",
          "Handball",
          "Handball",
          "Handball",
          "Handball",
          "Hapkido",
          "Hiking",
          "Hiking",
          "Hiking",
          "Hockey",
          "Hockey",
          "Hockey",
          "Hockey",
          "Hockey",
          "Ice Hockey",
          "Judo",
          "Judo",
          "Judo",
          "Judo",
          "Judo",
          "Judo",
          "Judo",
          "Karate",
          "Karate",
          "Karate",
          "Karate",
          "Karate",
          "Karate",
          "Kickboxing",
          "Kickboxing",
          "Kickboxing",
          "Kickboxing",
          "Kickboxing",
          "Korfball",
          "Korfball",
          "Korfball",
          "Korfball",
          "Korfball",
          "Korfball",
          "Korfball",
          "Kung-fu",
          "Lacrosse",
          "Martial And Strength Sports",
          "Martial And Strength Sports",
          "Martial And Strength Sports",
          "Martial And Strength Sports",
          "Martial And Strength Sports",
          "Martial And Strength Sports",
          "Multisport",
          "Multisport",
          "Padel",
          "Padel",
          "Padel",
          "Padel",
          "Pencak Silat",
          "Pencak Silat",
          "Pencak Silat",
          "Pickleball",
          "Rowing",
          "Rowing",
          "Rowing",
          "Rugby",
          "Rugby",
          "Running",
          "Running",
          "Running",
          "Sailing",
          "Sailing",
          "Sailing",
          "Sailing",
          "Sailing",
          "Sailing",
          "Skating",
          "Skating",
          "Skating",
          "Sloeproeien",
          "Sloeproeien",
          "Sloeproeien",
          "Squash",
          "Squash",
          "Squash",
          "Squash",
          "Sup",
          "Sup",
          "Surfing",
          "Surfing",
          "Surfing",
          "Survivalrun",
          "Swimming",
          "Swimming",
          "Swimming",
          "Swimming",
          "Swimming",
          "Swimming",
          "Swimming",
          "Table Tennis",
          "Table Tennis",
          "Table Tennis",
          "Table Tennis",
          "Table Tennis",
          "Table Tennis",
          "Taekwondo",
          "Taekwondo",
          "Taekwondo",
          "Taekwondo",
          "Tai Chi",
          "Target Shooting",
          "Target Shooting",
          "Target Shooting",
          "Target Shooting",
          "Target Shooting",
          "Tennis",
          "Tennis",
          "Tennis",
          "Tennis",
          "Tennis",
          "Tennis",
          "Tennis",
          "Triathlon",
          "Triathlon",
          "Underwater Sports",
          "Underwater Sports",
          "Underwater Sports",
          "Urban Sports",
          "Urban Sports",
          "Urban Sports",
          "Urban Sports",
          "Urban Sports",
          "Urban Sports",
          "Volley-ball",
          "Volley-ball",
          "Volley-ball",
          "Volley-ball",
          "Volley-ball",
          "Volley-ball",
          "Volley-ball",
          "Water Polo",
          "Water Polo",
          "Water Polo",
          "Water Polo",
          "Water Polo",
          "Yoga",
          "Yoga",
          "Yoga",
          "Yoga",
          "Yoga",
          "Yoga",
          "Centrum",
          "Nieuw-West",
          "Noord",
          "Oost",
          "West",
          "Westpoort",
          "Zuid",
          "Zuidoost",
          "All Sports"
         ],
         "marker": {
          "coloraxis": "coloraxis",
          "colors": [
           1,
           1,
           2,
           1,
           1,
           2,
           1,
           1,
           1,
           2,
           4,
           7,
           9,
           2,
           1,
           1,
           1,
           1,
           2,
           1,
           1,
           2,
           2,
           4,
           2,
           4,
           1,
           2,
           1,
           1,
           2,
           5,
           2,
           5,
           3,
           4,
           7,
           1,
           4,
           1,
           1,
           1,
           3,
           1,
           1,
           8,
           2,
           1,
           1,
           1,
           1,
           1,
           1,
           1,
           2,
           1,
           2,
           1,
           1,
           1,
           2,
           3,
           1,
           3,
           3,
           7,
           2,
           3,
           6,
           1,
           3,
           1,
           5,
           1,
           1,
           3,
           2,
           4,
           1,
           1,
           1,
           1,
           1,
           6,
           2,
           3,
           2,
           4,
           2,
           1,
           1,
           1,
           1,
           5,
           1,
           1,
           1,
           2,
           1,
           1,
           3,
           1,
           3,
           2,
           1,
           1,
           1,
           1,
           1,
           7,
           3,
           11,
           4,
           1,
           3,
           4,
           1,
           1,
           2,
           4,
           14,
           6,
           5,
           19,
           22,
           21,
           8,
           1,
           19,
           8,
           20,
           9,
           7,
           6,
           1,
           1,
           1,
           3,
           1,
           2,
           7,
           1,
           1,
           1,
           3,
           1,
           1,
           3,
           3,
           18,
           9,
           10,
           4,
           12,
           7,
           5,
           3,
           2,
           1,
           1,
           1,
           1,
           1,
           2,
           1,
           2,
           4,
           2,
           1,
           2,
           10,
           8,
           10,
           9,
           4,
           2,
           3,
           3,
           2,
           1,
           7,
           2,
           4,
           1,
           6,
           3,
           1,
           1,
           1,
           1,
           2,
           2,
           3,
           1,
           4,
           2,
           7,
           4,
           14,
           8,
           9,
           4,
           1,
           2,
           1,
           2,
           1,
           3,
           2,
           2,
           1,
           1,
           3,
           4,
           2,
           3,
           1,
           2,
           1,
           2,
           2,
           3,
           4,
           3,
           4,
           1,
           1,
           4,
           18,
           1,
           1,
           1,
           1,
           2,
           2,
           4,
           3,
           2,
           1,
           2,
           1,
           1,
           3,
           8,
           11,
           6,
           7,
           7,
           2,
           2,
           2,
           5,
           3,
           4,
           1,
           1,
           1,
           2,
           1,
           2,
           2,
           2,
           3,
           2,
           1,
           1,
           3,
           3,
           8,
           2,
           16,
           4,
           1,
           1,
           6,
           4,
           2,
           2,
           1,
           1,
           3,
           3,
           1,
           1,
           1,
           1,
           6,
           2,
           3,
           2,
           1,
           1,
           2,
           1,
           1,
           1,
           1,
           1,
           3,
           5,
           1,
           5.098360655737705,
           7.01123595505618,
           5.1344537815126055,
           9.222222222222221,
           8.68503937007874,
           1,
           7.826530612244898,
           3.7435897435897436,
           7.2481902792140644
          ]
         },
         "maxdepth": 3,
         "name": "",
         "outsidetextfont": {
          "color": "darkblue",
          "size": 20
         },
         "parents": [
          "All Sports/Centrum",
          "All Sports/Nieuw-West",
          "All Sports/Noord",
          "All Sports/West",
          "All Sports/Zuidoost",
          "All Sports/Nieuw-West",
          "All Sports/Zuidoost",
          "All Sports/Centrum",
          "All Sports/Nieuw-West",
          "All Sports/Noord",
          "All Sports/Oost",
          "All Sports/West",
          "All Sports/Zuid",
          "All Sports/Nieuw-West",
          "All Sports/Nieuw-West",
          "All Sports/Nieuw-West",
          "All Sports/Noord",
          "All Sports/Oost",
          "All Sports/Zuid",
          "All Sports/Zuidoost",
          "All Sports/Nieuw-West",
          "All Sports/Nieuw-West",
          "All Sports/Noord",
          "All Sports/Oost",
          "All Sports/West",
          "All Sports/Zuid",
          "All Sports/Zuidoost",
          "All Sports/Nieuw-West",
          "All Sports/Noord",
          "All Sports/Oost",
          "All Sports/Zuidoost",
          "All Sports/Nieuw-West",
          "All Sports/Noord",
          "All Sports/Oost",
          "All Sports/West",
          "All Sports/Zuid",
          "All Sports/Zuidoost",
          "All Sports/Nieuw-West",
          "All Sports/Oost",
          "All Sports/Zuid",
          "All Sports/Zuidoost",
          "All Sports/Nieuw-West",
          "All Sports/Nieuw-West",
          "All Sports/Noord",
          "All Sports/Oost",
          "All Sports/West",
          "All Sports/Zuid",
          "All Sports/Nieuw-West",
          "All Sports/Noord",
          "All Sports/West",
          "All Sports/Nieuw-West",
          "All Sports/Centrum",
          "All Sports/Zuid",
          "All Sports/Zuidoost",
          "All Sports/Nieuw-West",
          "All Sports/Noord",
          "All Sports/Oost",
          "All Sports/Zuidoost",
          "All Sports/Centrum",
          "All Sports/Oost",
          "All Sports/West",
          "All Sports/Zuid",
          "All Sports/Zuidoost",
          "All Sports/Centrum",
          "All Sports/Nieuw-West",
          "All Sports/Noord",
          "All Sports/Oost",
          "All Sports/West",
          "All Sports/Zuid",
          "All Sports/Zuidoost",
          "All Sports/Nieuw-West",
          "All Sports/Noord",
          "All Sports/Oost",
          "All Sports/Zuidoost",
          "All Sports/Noord",
          "All Sports/Oost",
          "All Sports/West",
          "All Sports/Zuid",
          "All Sports/Zuidoost",
          "All Sports/Nieuw-West",
          "All Sports/Oost",
          "All Sports/Zuid",
          "All Sports/Zuidoost",
          "All Sports/Centrum",
          "All Sports/Noord",
          "All Sports/Oost",
          "All Sports/West",
          "All Sports/Zuid",
          "All Sports/Zuidoost",
          "All Sports/Centrum",
          "All Sports/Nieuw-West",
          "All Sports/Oost",
          "All Sports/Centrum",
          "All Sports/Nieuw-West",
          "All Sports/Noord",
          "All Sports/Oost",
          "All Sports/West",
          "All Sports/Zuid",
          "All Sports/Nieuw-West",
          "All Sports/Oost",
          "All Sports/Zuid",
          "All Sports/Zuidoost",
          "All Sports/Nieuw-West",
          "All Sports/Noord",
          "All Sports/Zuid",
          "All Sports/West",
          "All Sports/Zuid",
          "All Sports/Centrum",
          "All Sports/Nieuw-West",
          "All Sports/Noord",
          "All Sports/Oost",
          "All Sports/West",
          "All Sports/Zuid",
          "All Sports/Zuidoost",
          "All Sports/Nieuw-West",
          "All Sports/Noord",
          "All Sports/West",
          "All Sports/Zuid",
          "All Sports/Centrum",
          "All Sports/Zuid",
          "All Sports/Centrum",
          "All Sports/Nieuw-West",
          "All Sports/Noord",
          "All Sports/Oost",
          "All Sports/West",
          "All Sports/Zuid",
          "All Sports/Zuidoost",
          "All Sports/Centrum",
          "All Sports/Nieuw-West",
          "All Sports/Noord",
          "All Sports/Oost",
          "All Sports/West",
          "All Sports/Zuid",
          "All Sports/Zuidoost",
          "All Sports/Nieuw-West",
          "All Sports/Oost",
          "All Sports/Centrum",
          "All Sports/Nieuw-West",
          "All Sports/Noord",
          "All Sports/Oost",
          "All Sports/Zuid",
          "All Sports/Zuidoost",
          "All Sports/Nieuw-West",
          "All Sports/Centrum",
          "All Sports/Nieuw-West",
          "All Sports/Noord",
          "All Sports/Zuid",
          "All Sports/Zuidoost",
          "All Sports/Centrum",
          "All Sports/Nieuw-West",
          "All Sports/Noord",
          "All Sports/Oost",
          "All Sports/West",
          "All Sports/Zuid",
          "All Sports/Zuidoost",
          "All Sports/Nieuw-West",
          "All Sports/Noord",
          "All Sports/Oost",
          "All Sports/Zuid",
          "All Sports/Zuid",
          "All Sports/Centrum",
          "All Sports/Oost",
          "All Sports/Zuid",
          "All Sports/Nieuw-West",
          "All Sports/Noord",
          "All Sports/Oost",
          "All Sports/Zuid",
          "All Sports/Zuidoost",
          "All Sports/Oost",
          "All Sports/Centrum",
          "All Sports/Nieuw-West",
          "All Sports/Noord",
          "All Sports/Oost",
          "All Sports/West",
          "All Sports/Zuid",
          "All Sports/Zuidoost",
          "All Sports/Centrum",
          "All Sports/Nieuw-West",
          "All Sports/Noord",
          "All Sports/West",
          "All Sports/Zuid",
          "All Sports/Zuidoost",
          "All Sports/Nieuw-West",
          "All Sports/Noord",
          "All Sports/Oost",
          "All Sports/West",
          "All Sports/Zuidoost",
          "All Sports/Centrum",
          "All Sports/Nieuw-West",
          "All Sports/Noord",
          "All Sports/Oost",
          "All Sports/West",
          "All Sports/Zuid",
          "All Sports/Zuidoost",
          "All Sports/Nieuw-West",
          "All Sports/Oost",
          "All Sports/Nieuw-West",
          "All Sports/Noord",
          "All Sports/Oost",
          "All Sports/West",
          "All Sports/Zuid",
          "All Sports/Zuidoost",
          "All Sports/Oost",
          "All Sports/Zuid",
          "All Sports/Nieuw-West",
          "All Sports/Oost",
          "All Sports/Westpoort",
          "All Sports/Zuid",
          "All Sports/Nieuw-West",
          "All Sports/Oost",
          "All Sports/Zuidoost",
          "All Sports/Oost",
          "All Sports/Centrum",
          "All Sports/Oost",
          "All Sports/Zuid",
          "All Sports/Nieuw-West",
          "All Sports/Noord",
          "All Sports/Nieuw-West",
          "All Sports/Oost",
          "All Sports/West",
          "All Sports/Centrum",
          "All Sports/Nieuw-West",
          "All Sports/Noord",
          "All Sports/Oost",
          "All Sports/Zuid",
          "All Sports/Zuidoost",
          "All Sports/Centrum",
          "All Sports/Noord",
          "All Sports/Oost",
          "All Sports/Centrum",
          "All Sports/Oost",
          "All Sports/Zuid",
          "All Sports/Centrum",
          "All Sports/Nieuw-West",
          "All Sports/Oost",
          "All Sports/Zuid",
          "All Sports/Oost",
          "All Sports/Zuid",
          "All Sports/Nieuw-West",
          "All Sports/Oost",
          "All Sports/Zuidoost",
          "All Sports/Nieuw-West",
          "All Sports/Centrum",
          "All Sports/Nieuw-West",
          "All Sports/Noord",
          "All Sports/Oost",
          "All Sports/West",
          "All Sports/Zuid",
          "All Sports/Zuidoost",
          "All Sports/Nieuw-West",
          "All Sports/Noord",
          "All Sports/Oost",
          "All Sports/West",
          "All Sports/Zuid",
          "All Sports/Zuidoost",
          "All Sports/Nieuw-West",
          "All Sports/Noord",
          "All Sports/Oost",
          "All Sports/West",
          "All Sports/Zuid",
          "All Sports/Centrum",
          "All Sports/Nieuw-West",
          "All Sports/Noord",
          "All Sports/Oost",
          "All Sports/West",
          "All Sports/Centrum",
          "All Sports/Nieuw-West",
          "All Sports/Noord",
          "All Sports/Oost",
          "All Sports/West",
          "All Sports/Zuid",
          "All Sports/Zuidoost",
          "All Sports/Nieuw-West",
          "All Sports/Zuidoost",
          "All Sports/Nieuw-West",
          "All Sports/Noord",
          "All Sports/Zuid",
          "All Sports/Nieuw-West",
          "All Sports/Noord",
          "All Sports/Oost",
          "All Sports/West",
          "All Sports/Zuid",
          "All Sports/Zuidoost",
          "All Sports/Centrum",
          "All Sports/Nieuw-West",
          "All Sports/Noord",
          "All Sports/Oost",
          "All Sports/West",
          "All Sports/Zuid",
          "All Sports/Zuidoost",
          "All Sports/Nieuw-West",
          "All Sports/Noord",
          "All Sports/Oost",
          "All Sports/Zuid",
          "All Sports/Zuidoost",
          "All Sports/Centrum",
          "All Sports/Nieuw-West",
          "All Sports/Noord",
          "All Sports/West",
          "All Sports/Zuid",
          "All Sports/Zuidoost",
          "All Sports",
          "All Sports",
          "All Sports",
          "All Sports",
          "All Sports",
          "All Sports",
          "All Sports",
          "All Sports",
          ""
         ],
         "textinfo": "label",
         "type": "treemap",
         "values": [
          1,
          1,
          2,
          1,
          1,
          2,
          1,
          1,
          1,
          2,
          4,
          7,
          9,
          2,
          1,
          1,
          1,
          1,
          2,
          1,
          1,
          2,
          2,
          4,
          2,
          4,
          1,
          2,
          1,
          1,
          2,
          5,
          2,
          5,
          3,
          4,
          7,
          1,
          4,
          1,
          1,
          1,
          3,
          1,
          1,
          8,
          2,
          1,
          1,
          1,
          1,
          1,
          1,
          1,
          2,
          1,
          2,
          1,
          1,
          1,
          2,
          3,
          1,
          3,
          3,
          7,
          2,
          3,
          6,
          1,
          3,
          1,
          5,
          1,
          1,
          3,
          2,
          4,
          1,
          1,
          1,
          1,
          1,
          6,
          2,
          3,
          2,
          4,
          2,
          1,
          1,
          1,
          1,
          5,
          1,
          1,
          1,
          2,
          1,
          1,
          3,
          1,
          3,
          2,
          1,
          1,
          1,
          1,
          1,
          7,
          3,
          11,
          4,
          1,
          3,
          4,
          1,
          1,
          2,
          4,
          14,
          6,
          5,
          19,
          22,
          21,
          8,
          1,
          19,
          8,
          20,
          9,
          7,
          6,
          1,
          1,
          1,
          3,
          1,
          2,
          7,
          1,
          1,
          1,
          3,
          1,
          1,
          3,
          3,
          18,
          9,
          10,
          4,
          12,
          7,
          5,
          3,
          2,
          1,
          1,
          1,
          1,
          1,
          2,
          1,
          2,
          4,
          2,
          1,
          2,
          10,
          8,
          10,
          9,
          4,
          2,
          3,
          3,
          2,
          1,
          7,
          2,
          4,
          1,
          6,
          3,
          1,
          1,
          1,
          1,
          2,
          2,
          3,
          1,
          4,
          2,
          7,
          4,
          14,
          8,
          9,
          4,
          1,
          2,
          1,
          2,
          1,
          3,
          2,
          2,
          1,
          1,
          3,
          4,
          2,
          3,
          1,
          2,
          1,
          2,
          2,
          3,
          4,
          3,
          4,
          1,
          1,
          4,
          18,
          1,
          1,
          1,
          1,
          2,
          2,
          4,
          3,
          2,
          1,
          2,
          1,
          1,
          3,
          8,
          11,
          6,
          7,
          7,
          2,
          2,
          2,
          5,
          3,
          4,
          1,
          1,
          1,
          2,
          1,
          2,
          2,
          2,
          3,
          2,
          1,
          1,
          3,
          3,
          8,
          2,
          16,
          4,
          1,
          1,
          6,
          4,
          2,
          2,
          1,
          1,
          3,
          3,
          1,
          1,
          1,
          1,
          6,
          2,
          3,
          2,
          1,
          1,
          2,
          1,
          1,
          1,
          1,
          1,
          3,
          5,
          1,
          61,
          178,
          119,
          207,
          127,
          1,
          196,
          78,
          967
         ]
        }
       ],
       "layout": {
        "coloraxis": {
         "cmax": 22,
         "cmid": 7.2481902792140644,
         "cmin": 1,
         "colorbar": {
          "title": {
           "text": "Counts"
          }
         },
         "colorscale": [
          [
           0,
           "rgb(237, 229, 207)"
          ],
          [
           0.16666666666666666,
           "rgb(224, 194, 162)"
          ],
          [
           0.3333333333333333,
           "rgb(211, 156, 131)"
          ],
          [
           0.5,
           "rgb(193, 118, 111)"
          ],
          [
           0.6666666666666666,
           "rgb(166, 84, 97)"
          ],
          [
           0.8333333333333334,
           "rgb(129, 55, 83)"
          ],
          [
           1,
           "rgb(84, 31, 63)"
          ]
         ]
        },
        "height": 600,
        "legend": {
         "tracegroupgap": 0
        },
        "margin": {
         "l": 20,
         "t": 100
        },
        "template": {
         "data": {
          "bar": [
           {
            "error_x": {
             "color": "#2a3f5f"
            },
            "error_y": {
             "color": "#2a3f5f"
            },
            "marker": {
             "line": {
              "color": "#E5ECF6",
              "width": 0.5
             }
            },
            "type": "bar"
           }
          ],
          "barpolar": [
           {
            "marker": {
             "line": {
              "color": "#E5ECF6",
              "width": 0.5
             }
            },
            "type": "barpolar"
           }
          ],
          "carpet": [
           {
            "aaxis": {
             "endlinecolor": "#2a3f5f",
             "gridcolor": "white",
             "linecolor": "white",
             "minorgridcolor": "white",
             "startlinecolor": "#2a3f5f"
            },
            "baxis": {
             "endlinecolor": "#2a3f5f",
             "gridcolor": "white",
             "linecolor": "white",
             "minorgridcolor": "white",
             "startlinecolor": "#2a3f5f"
            },
            "type": "carpet"
           }
          ],
          "choropleth": [
           {
            "colorbar": {
             "outlinewidth": 0,
             "ticks": ""
            },
            "type": "choropleth"
           }
          ],
          "contour": [
           {
            "colorbar": {
             "outlinewidth": 0,
             "ticks": ""
            },
            "colorscale": [
             [
              0,
              "#0d0887"
             ],
             [
              0.1111111111111111,
              "#46039f"
             ],
             [
              0.2222222222222222,
              "#7201a8"
             ],
             [
              0.3333333333333333,
              "#9c179e"
             ],
             [
              0.4444444444444444,
              "#bd3786"
             ],
             [
              0.5555555555555556,
              "#d8576b"
             ],
             [
              0.6666666666666666,
              "#ed7953"
             ],
             [
              0.7777777777777778,
              "#fb9f3a"
             ],
             [
              0.8888888888888888,
              "#fdca26"
             ],
             [
              1,
              "#f0f921"
             ]
            ],
            "type": "contour"
           }
          ],
          "contourcarpet": [
           {
            "colorbar": {
             "outlinewidth": 0,
             "ticks": ""
            },
            "type": "contourcarpet"
           }
          ],
          "heatmap": [
           {
            "colorbar": {
             "outlinewidth": 0,
             "ticks": ""
            },
            "colorscale": [
             [
              0,
              "#0d0887"
             ],
             [
              0.1111111111111111,
              "#46039f"
             ],
             [
              0.2222222222222222,
              "#7201a8"
             ],
             [
              0.3333333333333333,
              "#9c179e"
             ],
             [
              0.4444444444444444,
              "#bd3786"
             ],
             [
              0.5555555555555556,
              "#d8576b"
             ],
             [
              0.6666666666666666,
              "#ed7953"
             ],
             [
              0.7777777777777778,
              "#fb9f3a"
             ],
             [
              0.8888888888888888,
              "#fdca26"
             ],
             [
              1,
              "#f0f921"
             ]
            ],
            "type": "heatmap"
           }
          ],
          "heatmapgl": [
           {
            "colorbar": {
             "outlinewidth": 0,
             "ticks": ""
            },
            "colorscale": [
             [
              0,
              "#0d0887"
             ],
             [
              0.1111111111111111,
              "#46039f"
             ],
             [
              0.2222222222222222,
              "#7201a8"
             ],
             [
              0.3333333333333333,
              "#9c179e"
             ],
             [
              0.4444444444444444,
              "#bd3786"
             ],
             [
              0.5555555555555556,
              "#d8576b"
             ],
             [
              0.6666666666666666,
              "#ed7953"
             ],
             [
              0.7777777777777778,
              "#fb9f3a"
             ],
             [
              0.8888888888888888,
              "#fdca26"
             ],
             [
              1,
              "#f0f921"
             ]
            ],
            "type": "heatmapgl"
           }
          ],
          "histogram": [
           {
            "marker": {
             "colorbar": {
              "outlinewidth": 0,
              "ticks": ""
             }
            },
            "type": "histogram"
           }
          ],
          "histogram2d": [
           {
            "colorbar": {
             "outlinewidth": 0,
             "ticks": ""
            },
            "colorscale": [
             [
              0,
              "#0d0887"
             ],
             [
              0.1111111111111111,
              "#46039f"
             ],
             [
              0.2222222222222222,
              "#7201a8"
             ],
             [
              0.3333333333333333,
              "#9c179e"
             ],
             [
              0.4444444444444444,
              "#bd3786"
             ],
             [
              0.5555555555555556,
              "#d8576b"
             ],
             [
              0.6666666666666666,
              "#ed7953"
             ],
             [
              0.7777777777777778,
              "#fb9f3a"
             ],
             [
              0.8888888888888888,
              "#fdca26"
             ],
             [
              1,
              "#f0f921"
             ]
            ],
            "type": "histogram2d"
           }
          ],
          "histogram2dcontour": [
           {
            "colorbar": {
             "outlinewidth": 0,
             "ticks": ""
            },
            "colorscale": [
             [
              0,
              "#0d0887"
             ],
             [
              0.1111111111111111,
              "#46039f"
             ],
             [
              0.2222222222222222,
              "#7201a8"
             ],
             [
              0.3333333333333333,
              "#9c179e"
             ],
             [
              0.4444444444444444,
              "#bd3786"
             ],
             [
              0.5555555555555556,
              "#d8576b"
             ],
             [
              0.6666666666666666,
              "#ed7953"
             ],
             [
              0.7777777777777778,
              "#fb9f3a"
             ],
             [
              0.8888888888888888,
              "#fdca26"
             ],
             [
              1,
              "#f0f921"
             ]
            ],
            "type": "histogram2dcontour"
           }
          ],
          "mesh3d": [
           {
            "colorbar": {
             "outlinewidth": 0,
             "ticks": ""
            },
            "type": "mesh3d"
           }
          ],
          "parcoords": [
           {
            "line": {
             "colorbar": {
              "outlinewidth": 0,
              "ticks": ""
             }
            },
            "type": "parcoords"
           }
          ],
          "pie": [
           {
            "automargin": true,
            "type": "pie"
           }
          ],
          "scatter": [
           {
            "marker": {
             "colorbar": {
              "outlinewidth": 0,
              "ticks": ""
             }
            },
            "type": "scatter"
           }
          ],
          "scatter3d": [
           {
            "line": {
             "colorbar": {
              "outlinewidth": 0,
              "ticks": ""
             }
            },
            "marker": {
             "colorbar": {
              "outlinewidth": 0,
              "ticks": ""
             }
            },
            "type": "scatter3d"
           }
          ],
          "scattercarpet": [
           {
            "marker": {
             "colorbar": {
              "outlinewidth": 0,
              "ticks": ""
             }
            },
            "type": "scattercarpet"
           }
          ],
          "scattergeo": [
           {
            "marker": {
             "colorbar": {
              "outlinewidth": 0,
              "ticks": ""
             }
            },
            "type": "scattergeo"
           }
          ],
          "scattergl": [
           {
            "marker": {
             "colorbar": {
              "outlinewidth": 0,
              "ticks": ""
             }
            },
            "type": "scattergl"
           }
          ],
          "scattermapbox": [
           {
            "marker": {
             "colorbar": {
              "outlinewidth": 0,
              "ticks": ""
             }
            },
            "type": "scattermapbox"
           }
          ],
          "scatterpolar": [
           {
            "marker": {
             "colorbar": {
              "outlinewidth": 0,
              "ticks": ""
             }
            },
            "type": "scatterpolar"
           }
          ],
          "scatterpolargl": [
           {
            "marker": {
             "colorbar": {
              "outlinewidth": 0,
              "ticks": ""
             }
            },
            "type": "scatterpolargl"
           }
          ],
          "scatterternary": [
           {
            "marker": {
             "colorbar": {
              "outlinewidth": 0,
              "ticks": ""
             }
            },
            "type": "scatterternary"
           }
          ],
          "surface": [
           {
            "colorbar": {
             "outlinewidth": 0,
             "ticks": ""
            },
            "colorscale": [
             [
              0,
              "#0d0887"
             ],
             [
              0.1111111111111111,
              "#46039f"
             ],
             [
              0.2222222222222222,
              "#7201a8"
             ],
             [
              0.3333333333333333,
              "#9c179e"
             ],
             [
              0.4444444444444444,
              "#bd3786"
             ],
             [
              0.5555555555555556,
              "#d8576b"
             ],
             [
              0.6666666666666666,
              "#ed7953"
             ],
             [
              0.7777777777777778,
              "#fb9f3a"
             ],
             [
              0.8888888888888888,
              "#fdca26"
             ],
             [
              1,
              "#f0f921"
             ]
            ],
            "type": "surface"
           }
          ],
          "table": [
           {
            "cells": {
             "fill": {
              "color": "#EBF0F8"
             },
             "line": {
              "color": "white"
             }
            },
            "header": {
             "fill": {
              "color": "#C8D4E3"
             },
             "line": {
              "color": "white"
             }
            },
            "type": "table"
           }
          ]
         },
         "layout": {
          "coloraxis": {
           "colorbar": {
            "outlinewidth": 0
           }
          },
          "font": {
           "family": "Old Standard TT"
          },
          "hoverlabel": {
           "bgcolor": "white",
           "bordercolor": "black",
           "font": {
            "family": "Rockwell"
           }
          },
          "margin": {
           "b": 0,
           "l": 0,
           "pad": 100,
           "r": 0,
           "t": 100
          },
          "paper_bgcolor": "white",
          "title": {
           "font": {
            "size": 24
           },
           "xanchor": "center",
           "yanchor": "top",
           "yref": "container"
          }
         }
        },
        "title": {
         "pad": {
          "b": 100
         },
         "text": "Different Kinds of Sport<br>(Click Area to Expand)"
        }
       }
      },
      "text/html": [
       "<div>                            <div id=\"2adbf1ca-ea2a-4037-a198-8665ee6c9a2e\" class=\"plotly-graph-div\" style=\"height:600px; width:100%;\"></div>            <script type=\"text/javascript\">                require([\"plotly\"], function(Plotly) {                    window.PLOTLYENV=window.PLOTLYENV || {};                                    if (document.getElementById(\"2adbf1ca-ea2a-4037-a198-8665ee6c9a2e\")) {                    Plotly.newPlot(                        \"2adbf1ca-ea2a-4037-a198-8665ee6c9a2e\",                        [{\"branchvalues\": \"total\", \"customdata\": [[1.0], [1.0], [2.0], [1.0], [1.0], [2.0], [1.0], [1.0], [1.0], [2.0], [4.0], [7.0], [9.0], [2.0], [1.0], [1.0], [1.0], [1.0], [2.0], [1.0], [1.0], [2.0], [2.0], [4.0], [2.0], [4.0], [1.0], [2.0], [1.0], [1.0], [2.0], [5.0], [2.0], [5.0], [3.0], [4.0], [7.0], [1.0], [4.0], [1.0], [1.0], [1.0], [3.0], [1.0], [1.0], [8.0], [2.0], [1.0], [1.0], [1.0], [1.0], [1.0], [1.0], [1.0], [2.0], [1.0], [2.0], [1.0], [1.0], [1.0], [2.0], [3.0], [1.0], [3.0], [3.0], [7.0], [2.0], [3.0], [6.0], [1.0], [3.0], [1.0], [5.0], [1.0], [1.0], [3.0], [2.0], [4.0], [1.0], [1.0], [1.0], [1.0], [1.0], [6.0], [2.0], [3.0], [2.0], [4.0], [2.0], [1.0], [1.0], [1.0], [1.0], [5.0], [1.0], [1.0], [1.0], [2.0], [1.0], [1.0], [3.0], [1.0], [3.0], [2.0], [1.0], [1.0], [1.0], [1.0], [1.0], [7.0], [3.0], [11.0], [4.0], [1.0], [3.0], [4.0], [1.0], [1.0], [2.0], [4.0], [14.0], [6.0], [5.0], [19.0], [22.0], [21.0], [8.0], [1.0], [19.0], [8.0], [20.0], [9.0], [7.0], [6.0], [1.0], [1.0], [1.0], [3.0], [1.0], [2.0], [7.0], [1.0], [1.0], [1.0], [3.0], [1.0], [1.0], [3.0], [3.0], [18.0], [9.0], [10.0], [4.0], [12.0], [7.0], [5.0], [3.0], [2.0], [1.0], [1.0], [1.0], [1.0], [1.0], [2.0], [1.0], [2.0], [4.0], [2.0], [1.0], [2.0], [10.0], [8.0], [10.0], [9.0], [4.0], [2.0], [3.0], [3.0], [2.0], [1.0], [7.0], [2.0], [4.0], [1.0], [6.0], [3.0], [1.0], [1.0], [1.0], [1.0], [2.0], [2.0], [3.0], [1.0], [4.0], [2.0], [7.0], [4.0], [14.0], [8.0], [9.0], [4.0], [1.0], [2.0], [1.0], [2.0], [1.0], [3.0], [2.0], [2.0], [1.0], [1.0], [3.0], [4.0], [2.0], [3.0], [1.0], [2.0], [1.0], [2.0], [2.0], [3.0], [4.0], [3.0], [4.0], [1.0], [1.0], [4.0], [18.0], [1.0], [1.0], [1.0], [1.0], [2.0], [2.0], [4.0], [3.0], [2.0], [1.0], [2.0], [1.0], [1.0], [3.0], [8.0], [11.0], [6.0], [7.0], [7.0], [2.0], [2.0], [2.0], [5.0], [3.0], [4.0], [1.0], [1.0], [1.0], [2.0], [1.0], [2.0], [2.0], [2.0], [3.0], [2.0], [1.0], [1.0], [3.0], [3.0], [8.0], [2.0], [16.0], [4.0], [1.0], [1.0], [6.0], [4.0], [2.0], [2.0], [1.0], [1.0], [3.0], [3.0], [1.0], [1.0], [1.0], [1.0], [6.0], [2.0], [3.0], [2.0], [1.0], [1.0], [2.0], [1.0], [1.0], [1.0], [1.0], [1.0], [3.0], [5.0], [1.0], [5.098360655737705], [7.01123595505618], [5.1344537815126055], [9.222222222222221], [8.68503937007874], [1.0], [7.826530612244898], [3.7435897435897436], [7.2481902792140644]], \"domain\": {\"x\": [0.0, 1.0], \"y\": [0.0, 1.0]}, \"hovertemplate\": \"%{label}<br>Count: %{value}\", \"hovertext\": [\"Adapted Sports\", \"Adapted Sports\", \"Adapted Sports\", \"Adapted Sports\", \"Adapted Sports\", \"Aerobics\", \"Aerobics\", \"Aikido\", \"Aikido\", \"Aikido\", \"Aikido\", \"Aikido\", \"Aikido\", \"American Football\", \"Archery\", \"Athletics\", \"Athletics\", \"Athletics\", \"Athletics\", \"Athletics\", \"Australian Football\", \"Badminton\", \"Badminton\", \"Badminton\", \"Badminton\", \"Badminton\", \"Badminton\", \"Baseball / Softball\", \"Baseball / Softball\", \"Baseball / Softball\", \"Baseball / Softball\", \"Basketball\", \"Basketball\", \"Basketball\", \"Basketball\", \"Basketball\", \"Basketball\", \"Beach Volleyball\", \"Beach Volleyball\", \"Beach Volleyball\", \"Beach Volleyball\", \"Beachhandbal\", \"Billiards\", \"Billiards\", \"Billiards\", \"Billiards\", \"Billiards\", \"Bootcamp\", \"Bootcamp\", \"Bootcamp\", \"Bounce\", \"Bowling\", \"Bowling\", \"Bowling\", \"Bowls\", \"Bowls\", \"Bowls\", \"Bowls\", \"Boxing\", \"Boxing\", \"Boxing\", \"Boxing\", \"Boxing\", \"Bridge\", \"Bridge\", \"Bridge\", \"Bridge\", \"Bridge\", \"Bridge\", \"Bridge\", \"Canoeing\", \"Canoeing\", \"Canoeing\", \"Canoeing\", \"Capoeira\", \"Capoeira\", \"Capoeira\", \"Capoeira\", \"Capoeira\", \"Cheerleading\", \"Cheerleading\", \"Cheerleading\", \"Cheerleading\", \"Chess\", \"Chess\", \"Chess\", \"Chess\", \"Chess\", \"Chess\", \"Circus\", \"Circus\", \"Circus\", \"Climbing\", \"Climbing\", \"Climbing\", \"Climbing\", \"Climbing\", \"Climbing\", \"Cricket\", \"Cricket\", \"Cricket\", \"Cricket\", \"Cycling\", \"Cycling\", \"Cycling\", \"Dammen\", \"Dammen\", \"Dance\", \"Dance\", \"Dance\", \"Dance\", \"Dance\", \"Dance\", \"Dragon Boat Racing\", \"Equestrian\", \"Equestrian\", \"Equestrian\", \"Equestrian\", \"Fencing\", \"Fencing\", \"Fitness\", \"Fitness\", \"Fitness\", \"Fitness\", \"Fitness\", \"Fitness\", \"Fitness\", \"Floorball\", \"Football\", \"Football\", \"Football\", \"Football\", \"Football\", \"Football\", \"Frisbee\", \"Frisbee\", \"Futsal\", \"Futsal\", \"Futsal\", \"Futsal\", \"Futsal\", \"Futsal\", \"Gaelic Football\", \"Go\", \"Golf\", \"Golf\", \"Golf\", \"Golf\", \"Gymnastics\", \"Gymnastics\", \"Gymnastics\", \"Gymnastics\", \"Gymnastics\", \"Gymnastics\", \"Gymnastics\", \"Handball\", \"Handball\", \"Handball\", \"Handball\", \"Hapkido\", \"Hiking\", \"Hiking\", \"Hiking\", \"Hockey\", \"Hockey\", \"Hockey\", \"Hockey\", \"Hockey\", \"Ice Hockey\", \"Judo\", \"Judo\", \"Judo\", \"Judo\", \"Judo\", \"Judo\", \"Judo\", \"Karate\", \"Karate\", \"Karate\", \"Karate\", \"Karate\", \"Karate\", \"Kickboxing\", \"Kickboxing\", \"Kickboxing\", \"Kickboxing\", \"Kickboxing\", \"Korfball\", \"Korfball\", \"Korfball\", \"Korfball\", \"Korfball\", \"Korfball\", \"Korfball\", \"Kung-fu\", \"Lacrosse\", \"Martial And Strength Sports\", \"Martial And Strength Sports\", \"Martial And Strength Sports\", \"Martial And Strength Sports\", \"Martial And Strength Sports\", \"Martial And Strength Sports\", \"Multisport\", \"Multisport\", \"Padel\", \"Padel\", \"Padel\", \"Padel\", \"Pencak Silat\", \"Pencak Silat\", \"Pencak Silat\", \"Pickleball\", \"Rowing\", \"Rowing\", \"Rowing\", \"Rugby\", \"Rugby\", \"Running\", \"Running\", \"Running\", \"Sailing\", \"Sailing\", \"Sailing\", \"Sailing\", \"Sailing\", \"Sailing\", \"Skating\", \"Skating\", \"Skating\", \"Sloeproeien\", \"Sloeproeien\", \"Sloeproeien\", \"Squash\", \"Squash\", \"Squash\", \"Squash\", \"Sup\", \"Sup\", \"Surfing\", \"Surfing\", \"Surfing\", \"Survivalrun\", \"Swimming\", \"Swimming\", \"Swimming\", \"Swimming\", \"Swimming\", \"Swimming\", \"Swimming\", \"Table Tennis\", \"Table Tennis\", \"Table Tennis\", \"Table Tennis\", \"Table Tennis\", \"Table Tennis\", \"Taekwondo\", \"Taekwondo\", \"Taekwondo\", \"Taekwondo\", \"Tai Chi\", \"Target Shooting\", \"Target Shooting\", \"Target Shooting\", \"Target Shooting\", \"Target Shooting\", \"Tennis\", \"Tennis\", \"Tennis\", \"Tennis\", \"Tennis\", \"Tennis\", \"Tennis\", \"Triathlon\", \"Triathlon\", \"Underwater Sports\", \"Underwater Sports\", \"Underwater Sports\", \"Urban Sports\", \"Urban Sports\", \"Urban Sports\", \"Urban Sports\", \"Urban Sports\", \"Urban Sports\", \"Volley-ball\", \"Volley-ball\", \"Volley-ball\", \"Volley-ball\", \"Volley-ball\", \"Volley-ball\", \"Volley-ball\", \"Water Polo\", \"Water Polo\", \"Water Polo\", \"Water Polo\", \"Water Polo\", \"Yoga\", \"Yoga\", \"Yoga\", \"Yoga\", \"Yoga\", \"Yoga\", \"(?)\", \"(?)\", \"(?)\", \"(?)\", \"(?)\", \"Padel\", \"(?)\", \"(?)\", \"(?)\"], \"ids\": [\"All Sports/Centrum/Adapted Sports\", \"All Sports/Nieuw-West/Adapted Sports\", \"All Sports/Noord/Adapted Sports\", \"All Sports/West/Adapted Sports\", \"All Sports/Zuidoost/Adapted Sports\", \"All Sports/Nieuw-West/Aerobics\", \"All Sports/Zuidoost/Aerobics\", \"All Sports/Centrum/Aikido\", \"All Sports/Nieuw-West/Aikido\", \"All Sports/Noord/Aikido\", \"All Sports/Oost/Aikido\", \"All Sports/West/Aikido\", \"All Sports/Zuid/Aikido\", \"All Sports/Nieuw-West/American Football\", \"All Sports/Nieuw-West/Archery\", \"All Sports/Nieuw-West/Athletics\", \"All Sports/Noord/Athletics\", \"All Sports/Oost/Athletics\", \"All Sports/Zuid/Athletics\", \"All Sports/Zuidoost/Athletics\", \"All Sports/Nieuw-West/Australian Football\", \"All Sports/Nieuw-West/Badminton\", \"All Sports/Noord/Badminton\", \"All Sports/Oost/Badminton\", \"All Sports/West/Badminton\", \"All Sports/Zuid/Badminton\", \"All Sports/Zuidoost/Badminton\", \"All Sports/Nieuw-West/Baseball / Softball\", \"All Sports/Noord/Baseball / Softball\", \"All Sports/Oost/Baseball / Softball\", \"All Sports/Zuidoost/Baseball / Softball\", \"All Sports/Nieuw-West/Basketball\", \"All Sports/Noord/Basketball\", \"All Sports/Oost/Basketball\", \"All Sports/West/Basketball\", \"All Sports/Zuid/Basketball\", \"All Sports/Zuidoost/Basketball\", \"All Sports/Nieuw-West/Beach Volleyball\", \"All Sports/Oost/Beach Volleyball\", \"All Sports/Zuid/Beach Volleyball\", \"All Sports/Zuidoost/Beach Volleyball\", \"All Sports/Nieuw-West/Beachhandbal\", \"All Sports/Nieuw-West/Billiards\", \"All Sports/Noord/Billiards\", \"All Sports/Oost/Billiards\", \"All Sports/West/Billiards\", \"All Sports/Zuid/Billiards\", \"All Sports/Nieuw-West/Bootcamp\", \"All Sports/Noord/Bootcamp\", \"All Sports/West/Bootcamp\", \"All Sports/Nieuw-West/Bounce\", \"All Sports/Centrum/Bowling\", \"All Sports/Zuid/Bowling\", \"All Sports/Zuidoost/Bowling\", \"All Sports/Nieuw-West/Bowls\", \"All Sports/Noord/Bowls\", \"All Sports/Oost/Bowls\", \"All Sports/Zuidoost/Bowls\", \"All Sports/Centrum/Boxing\", \"All Sports/Oost/Boxing\", \"All Sports/West/Boxing\", \"All Sports/Zuid/Boxing\", \"All Sports/Zuidoost/Boxing\", \"All Sports/Centrum/Bridge\", \"All Sports/Nieuw-West/Bridge\", \"All Sports/Noord/Bridge\", \"All Sports/Oost/Bridge\", \"All Sports/West/Bridge\", \"All Sports/Zuid/Bridge\", \"All Sports/Zuidoost/Bridge\", \"All Sports/Nieuw-West/Canoeing\", \"All Sports/Noord/Canoeing\", \"All Sports/Oost/Canoeing\", \"All Sports/Zuidoost/Canoeing\", \"All Sports/Noord/Capoeira\", \"All Sports/Oost/Capoeira\", \"All Sports/West/Capoeira\", \"All Sports/Zuid/Capoeira\", \"All Sports/Zuidoost/Capoeira\", \"All Sports/Nieuw-West/Cheerleading\", \"All Sports/Oost/Cheerleading\", \"All Sports/Zuid/Cheerleading\", \"All Sports/Zuidoost/Cheerleading\", \"All Sports/Centrum/Chess\", \"All Sports/Noord/Chess\", \"All Sports/Oost/Chess\", \"All Sports/West/Chess\", \"All Sports/Zuid/Chess\", \"All Sports/Zuidoost/Chess\", \"All Sports/Centrum/Circus\", \"All Sports/Nieuw-West/Circus\", \"All Sports/Oost/Circus\", \"All Sports/Centrum/Climbing\", \"All Sports/Nieuw-West/Climbing\", \"All Sports/Noord/Climbing\", \"All Sports/Oost/Climbing\", \"All Sports/West/Climbing\", \"All Sports/Zuid/Climbing\", \"All Sports/Nieuw-West/Cricket\", \"All Sports/Oost/Cricket\", \"All Sports/Zuid/Cricket\", \"All Sports/Zuidoost/Cricket\", \"All Sports/Nieuw-West/Cycling\", \"All Sports/Noord/Cycling\", \"All Sports/Zuid/Cycling\", \"All Sports/West/Dammen\", \"All Sports/Zuid/Dammen\", \"All Sports/Centrum/Dance\", \"All Sports/Nieuw-West/Dance\", \"All Sports/Noord/Dance\", \"All Sports/Oost/Dance\", \"All Sports/West/Dance\", \"All Sports/Zuid/Dance\", \"All Sports/Zuidoost/Dragon Boat Racing\", \"All Sports/Nieuw-West/Equestrian\", \"All Sports/Noord/Equestrian\", \"All Sports/West/Equestrian\", \"All Sports/Zuid/Equestrian\", \"All Sports/Centrum/Fencing\", \"All Sports/Zuid/Fencing\", \"All Sports/Centrum/Fitness\", \"All Sports/Nieuw-West/Fitness\", \"All Sports/Noord/Fitness\", \"All Sports/Oost/Fitness\", \"All Sports/West/Fitness\", \"All Sports/Zuid/Fitness\", \"All Sports/Zuidoost/Fitness\", \"All Sports/Centrum/Floorball\", \"All Sports/Nieuw-West/Football\", \"All Sports/Noord/Football\", \"All Sports/Oost/Football\", \"All Sports/West/Football\", \"All Sports/Zuid/Football\", \"All Sports/Zuidoost/Football\", \"All Sports/Nieuw-West/Frisbee\", \"All Sports/Oost/Frisbee\", \"All Sports/Centrum/Futsal\", \"All Sports/Nieuw-West/Futsal\", \"All Sports/Noord/Futsal\", \"All Sports/Oost/Futsal\", \"All Sports/Zuid/Futsal\", \"All Sports/Zuidoost/Futsal\", \"All Sports/Nieuw-West/Gaelic Football\", \"All Sports/Centrum/Go\", \"All Sports/Nieuw-West/Golf\", \"All Sports/Noord/Golf\", \"All Sports/Zuid/Golf\", \"All Sports/Zuidoost/Golf\", \"All Sports/Centrum/Gymnastics\", \"All Sports/Nieuw-West/Gymnastics\", \"All Sports/Noord/Gymnastics\", \"All Sports/Oost/Gymnastics\", \"All Sports/West/Gymnastics\", \"All Sports/Zuid/Gymnastics\", \"All Sports/Zuidoost/Gymnastics\", \"All Sports/Nieuw-West/Handball\", \"All Sports/Noord/Handball\", \"All Sports/Oost/Handball\", \"All Sports/Zuid/Handball\", \"All Sports/Zuid/Hapkido\", \"All Sports/Centrum/Hiking\", \"All Sports/Oost/Hiking\", \"All Sports/Zuid/Hiking\", \"All Sports/Nieuw-West/Hockey\", \"All Sports/Noord/Hockey\", \"All Sports/Oost/Hockey\", \"All Sports/Zuid/Hockey\", \"All Sports/Zuidoost/Hockey\", \"All Sports/Oost/Ice Hockey\", \"All Sports/Centrum/Judo\", \"All Sports/Nieuw-West/Judo\", \"All Sports/Noord/Judo\", \"All Sports/Oost/Judo\", \"All Sports/West/Judo\", \"All Sports/Zuid/Judo\", \"All Sports/Zuidoost/Judo\", \"All Sports/Centrum/Karate\", \"All Sports/Nieuw-West/Karate\", \"All Sports/Noord/Karate\", \"All Sports/West/Karate\", \"All Sports/Zuid/Karate\", \"All Sports/Zuidoost/Karate\", \"All Sports/Nieuw-West/Kickboxing\", \"All Sports/Noord/Kickboxing\", \"All Sports/Oost/Kickboxing\", \"All Sports/West/Kickboxing\", \"All Sports/Zuidoost/Kickboxing\", \"All Sports/Centrum/Korfball\", \"All Sports/Nieuw-West/Korfball\", \"All Sports/Noord/Korfball\", \"All Sports/Oost/Korfball\", \"All Sports/West/Korfball\", \"All Sports/Zuid/Korfball\", \"All Sports/Zuidoost/Korfball\", \"All Sports/Nieuw-West/Kung-fu\", \"All Sports/Oost/Lacrosse\", \"All Sports/Nieuw-West/Martial And Strength Sports\", \"All Sports/Noord/Martial And Strength Sports\", \"All Sports/Oost/Martial And Strength Sports\", \"All Sports/West/Martial And Strength Sports\", \"All Sports/Zuid/Martial And Strength Sports\", \"All Sports/Zuidoost/Martial And Strength Sports\", \"All Sports/Oost/Multisport\", \"All Sports/Zuid/Multisport\", \"All Sports/Nieuw-West/Padel\", \"All Sports/Oost/Padel\", \"All Sports/Westpoort/Padel\", \"All Sports/Zuid/Padel\", \"All Sports/Nieuw-West/Pencak Silat\", \"All Sports/Oost/Pencak Silat\", \"All Sports/Zuidoost/Pencak Silat\", \"All Sports/Oost/Pickleball\", \"All Sports/Centrum/Rowing\", \"All Sports/Oost/Rowing\", \"All Sports/Zuid/Rowing\", \"All Sports/Nieuw-West/Rugby\", \"All Sports/Noord/Rugby\", \"All Sports/Nieuw-West/Running\", \"All Sports/Oost/Running\", \"All Sports/West/Running\", \"All Sports/Centrum/Sailing\", \"All Sports/Nieuw-West/Sailing\", \"All Sports/Noord/Sailing\", \"All Sports/Oost/Sailing\", \"All Sports/Zuid/Sailing\", \"All Sports/Zuidoost/Sailing\", \"All Sports/Centrum/Skating\", \"All Sports/Noord/Skating\", \"All Sports/Oost/Skating\", \"All Sports/Centrum/Sloeproeien\", \"All Sports/Oost/Sloeproeien\", \"All Sports/Zuid/Sloeproeien\", \"All Sports/Centrum/Squash\", \"All Sports/Nieuw-West/Squash\", \"All Sports/Oost/Squash\", \"All Sports/Zuid/Squash\", \"All Sports/Oost/Sup\", \"All Sports/Zuid/Sup\", \"All Sports/Nieuw-West/Surfing\", \"All Sports/Oost/Surfing\", \"All Sports/Zuidoost/Surfing\", \"All Sports/Nieuw-West/Survivalrun\", \"All Sports/Centrum/Swimming\", \"All Sports/Nieuw-West/Swimming\", \"All Sports/Noord/Swimming\", \"All Sports/Oost/Swimming\", \"All Sports/West/Swimming\", \"All Sports/Zuid/Swimming\", \"All Sports/Zuidoost/Swimming\", \"All Sports/Nieuw-West/Table Tennis\", \"All Sports/Noord/Table Tennis\", \"All Sports/Oost/Table Tennis\", \"All Sports/West/Table Tennis\", \"All Sports/Zuid/Table Tennis\", \"All Sports/Zuidoost/Table Tennis\", \"All Sports/Nieuw-West/Taekwondo\", \"All Sports/Noord/Taekwondo\", \"All Sports/Oost/Taekwondo\", \"All Sports/West/Taekwondo\", \"All Sports/Zuid/Tai Chi\", \"All Sports/Centrum/Target Shooting\", \"All Sports/Nieuw-West/Target Shooting\", \"All Sports/Noord/Target Shooting\", \"All Sports/Oost/Target Shooting\", \"All Sports/West/Target Shooting\", \"All Sports/Centrum/Tennis\", \"All Sports/Nieuw-West/Tennis\", \"All Sports/Noord/Tennis\", \"All Sports/Oost/Tennis\", \"All Sports/West/Tennis\", \"All Sports/Zuid/Tennis\", \"All Sports/Zuidoost/Tennis\", \"All Sports/Nieuw-West/Triathlon\", \"All Sports/Zuidoost/Triathlon\", \"All Sports/Nieuw-West/Underwater Sports\", \"All Sports/Noord/Underwater Sports\", \"All Sports/Zuid/Underwater Sports\", \"All Sports/Nieuw-West/Urban Sports\", \"All Sports/Noord/Urban Sports\", \"All Sports/Oost/Urban Sports\", \"All Sports/West/Urban Sports\", \"All Sports/Zuid/Urban Sports\", \"All Sports/Zuidoost/Urban Sports\", \"All Sports/Centrum/Volley-ball\", \"All Sports/Nieuw-West/Volley-ball\", \"All Sports/Noord/Volley-ball\", \"All Sports/Oost/Volley-ball\", \"All Sports/West/Volley-ball\", \"All Sports/Zuid/Volley-ball\", \"All Sports/Zuidoost/Volley-ball\", \"All Sports/Nieuw-West/Water Polo\", \"All Sports/Noord/Water Polo\", \"All Sports/Oost/Water Polo\", \"All Sports/Zuid/Water Polo\", \"All Sports/Zuidoost/Water Polo\", \"All Sports/Centrum/Yoga\", \"All Sports/Nieuw-West/Yoga\", \"All Sports/Noord/Yoga\", \"All Sports/West/Yoga\", \"All Sports/Zuid/Yoga\", \"All Sports/Zuidoost/Yoga\", \"All Sports/Centrum\", \"All Sports/Nieuw-West\", \"All Sports/Noord\", \"All Sports/Oost\", \"All Sports/West\", \"All Sports/Westpoort\", \"All Sports/Zuid\", \"All Sports/Zuidoost\", \"All Sports\"], \"labels\": [\"Adapted Sports\", \"Adapted Sports\", \"Adapted Sports\", \"Adapted Sports\", \"Adapted Sports\", \"Aerobics\", \"Aerobics\", \"Aikido\", \"Aikido\", \"Aikido\", \"Aikido\", \"Aikido\", \"Aikido\", \"American Football\", \"Archery\", \"Athletics\", \"Athletics\", \"Athletics\", \"Athletics\", \"Athletics\", \"Australian Football\", \"Badminton\", \"Badminton\", \"Badminton\", \"Badminton\", \"Badminton\", \"Badminton\", \"Baseball / Softball\", \"Baseball / Softball\", \"Baseball / Softball\", \"Baseball / Softball\", \"Basketball\", \"Basketball\", \"Basketball\", \"Basketball\", \"Basketball\", \"Basketball\", \"Beach Volleyball\", \"Beach Volleyball\", \"Beach Volleyball\", \"Beach Volleyball\", \"Beachhandbal\", \"Billiards\", \"Billiards\", \"Billiards\", \"Billiards\", \"Billiards\", \"Bootcamp\", \"Bootcamp\", \"Bootcamp\", \"Bounce\", \"Bowling\", \"Bowling\", \"Bowling\", \"Bowls\", \"Bowls\", \"Bowls\", \"Bowls\", \"Boxing\", \"Boxing\", \"Boxing\", \"Boxing\", \"Boxing\", \"Bridge\", \"Bridge\", \"Bridge\", \"Bridge\", \"Bridge\", \"Bridge\", \"Bridge\", \"Canoeing\", \"Canoeing\", \"Canoeing\", \"Canoeing\", \"Capoeira\", \"Capoeira\", \"Capoeira\", \"Capoeira\", \"Capoeira\", \"Cheerleading\", \"Cheerleading\", \"Cheerleading\", \"Cheerleading\", \"Chess\", \"Chess\", \"Chess\", \"Chess\", \"Chess\", \"Chess\", \"Circus\", \"Circus\", \"Circus\", \"Climbing\", \"Climbing\", \"Climbing\", \"Climbing\", \"Climbing\", \"Climbing\", \"Cricket\", \"Cricket\", \"Cricket\", \"Cricket\", \"Cycling\", \"Cycling\", \"Cycling\", \"Dammen\", \"Dammen\", \"Dance\", \"Dance\", \"Dance\", \"Dance\", \"Dance\", \"Dance\", \"Dragon Boat Racing\", \"Equestrian\", \"Equestrian\", \"Equestrian\", \"Equestrian\", \"Fencing\", \"Fencing\", \"Fitness\", \"Fitness\", \"Fitness\", \"Fitness\", \"Fitness\", \"Fitness\", \"Fitness\", \"Floorball\", \"Football\", \"Football\", \"Football\", \"Football\", \"Football\", \"Football\", \"Frisbee\", \"Frisbee\", \"Futsal\", \"Futsal\", \"Futsal\", \"Futsal\", \"Futsal\", \"Futsal\", \"Gaelic Football\", \"Go\", \"Golf\", \"Golf\", \"Golf\", \"Golf\", \"Gymnastics\", \"Gymnastics\", \"Gymnastics\", \"Gymnastics\", \"Gymnastics\", \"Gymnastics\", \"Gymnastics\", \"Handball\", \"Handball\", \"Handball\", \"Handball\", \"Hapkido\", \"Hiking\", \"Hiking\", \"Hiking\", \"Hockey\", \"Hockey\", \"Hockey\", \"Hockey\", \"Hockey\", \"Ice Hockey\", \"Judo\", \"Judo\", \"Judo\", \"Judo\", \"Judo\", \"Judo\", \"Judo\", \"Karate\", \"Karate\", \"Karate\", \"Karate\", \"Karate\", \"Karate\", \"Kickboxing\", \"Kickboxing\", \"Kickboxing\", \"Kickboxing\", \"Kickboxing\", \"Korfball\", \"Korfball\", \"Korfball\", \"Korfball\", \"Korfball\", \"Korfball\", \"Korfball\", \"Kung-fu\", \"Lacrosse\", \"Martial And Strength Sports\", \"Martial And Strength Sports\", \"Martial And Strength Sports\", \"Martial And Strength Sports\", \"Martial And Strength Sports\", \"Martial And Strength Sports\", \"Multisport\", \"Multisport\", \"Padel\", \"Padel\", \"Padel\", \"Padel\", \"Pencak Silat\", \"Pencak Silat\", \"Pencak Silat\", \"Pickleball\", \"Rowing\", \"Rowing\", \"Rowing\", \"Rugby\", \"Rugby\", \"Running\", \"Running\", \"Running\", \"Sailing\", \"Sailing\", \"Sailing\", \"Sailing\", \"Sailing\", \"Sailing\", \"Skating\", \"Skating\", \"Skating\", \"Sloeproeien\", \"Sloeproeien\", \"Sloeproeien\", \"Squash\", \"Squash\", \"Squash\", \"Squash\", \"Sup\", \"Sup\", \"Surfing\", \"Surfing\", \"Surfing\", \"Survivalrun\", \"Swimming\", \"Swimming\", \"Swimming\", \"Swimming\", \"Swimming\", \"Swimming\", \"Swimming\", \"Table Tennis\", \"Table Tennis\", \"Table Tennis\", \"Table Tennis\", \"Table Tennis\", \"Table Tennis\", \"Taekwondo\", \"Taekwondo\", \"Taekwondo\", \"Taekwondo\", \"Tai Chi\", \"Target Shooting\", \"Target Shooting\", \"Target Shooting\", \"Target Shooting\", \"Target Shooting\", \"Tennis\", \"Tennis\", \"Tennis\", \"Tennis\", \"Tennis\", \"Tennis\", \"Tennis\", \"Triathlon\", \"Triathlon\", \"Underwater Sports\", \"Underwater Sports\", \"Underwater Sports\", \"Urban Sports\", \"Urban Sports\", \"Urban Sports\", \"Urban Sports\", \"Urban Sports\", \"Urban Sports\", \"Volley-ball\", \"Volley-ball\", \"Volley-ball\", \"Volley-ball\", \"Volley-ball\", \"Volley-ball\", \"Volley-ball\", \"Water Polo\", \"Water Polo\", \"Water Polo\", \"Water Polo\", \"Water Polo\", \"Yoga\", \"Yoga\", \"Yoga\", \"Yoga\", \"Yoga\", \"Yoga\", \"Centrum\", \"Nieuw-West\", \"Noord\", \"Oost\", \"West\", \"Westpoort\", \"Zuid\", \"Zuidoost\", \"All Sports\"], \"marker\": {\"coloraxis\": \"coloraxis\", \"colors\": [1.0, 1.0, 2.0, 1.0, 1.0, 2.0, 1.0, 1.0, 1.0, 2.0, 4.0, 7.0, 9.0, 2.0, 1.0, 1.0, 1.0, 1.0, 2.0, 1.0, 1.0, 2.0, 2.0, 4.0, 2.0, 4.0, 1.0, 2.0, 1.0, 1.0, 2.0, 5.0, 2.0, 5.0, 3.0, 4.0, 7.0, 1.0, 4.0, 1.0, 1.0, 1.0, 3.0, 1.0, 1.0, 8.0, 2.0, 1.0, 1.0, 1.0, 1.0, 1.0, 1.0, 1.0, 2.0, 1.0, 2.0, 1.0, 1.0, 1.0, 2.0, 3.0, 1.0, 3.0, 3.0, 7.0, 2.0, 3.0, 6.0, 1.0, 3.0, 1.0, 5.0, 1.0, 1.0, 3.0, 2.0, 4.0, 1.0, 1.0, 1.0, 1.0, 1.0, 6.0, 2.0, 3.0, 2.0, 4.0, 2.0, 1.0, 1.0, 1.0, 1.0, 5.0, 1.0, 1.0, 1.0, 2.0, 1.0, 1.0, 3.0, 1.0, 3.0, 2.0, 1.0, 1.0, 1.0, 1.0, 1.0, 7.0, 3.0, 11.0, 4.0, 1.0, 3.0, 4.0, 1.0, 1.0, 2.0, 4.0, 14.0, 6.0, 5.0, 19.0, 22.0, 21.0, 8.0, 1.0, 19.0, 8.0, 20.0, 9.0, 7.0, 6.0, 1.0, 1.0, 1.0, 3.0, 1.0, 2.0, 7.0, 1.0, 1.0, 1.0, 3.0, 1.0, 1.0, 3.0, 3.0, 18.0, 9.0, 10.0, 4.0, 12.0, 7.0, 5.0, 3.0, 2.0, 1.0, 1.0, 1.0, 1.0, 1.0, 2.0, 1.0, 2.0, 4.0, 2.0, 1.0, 2.0, 10.0, 8.0, 10.0, 9.0, 4.0, 2.0, 3.0, 3.0, 2.0, 1.0, 7.0, 2.0, 4.0, 1.0, 6.0, 3.0, 1.0, 1.0, 1.0, 1.0, 2.0, 2.0, 3.0, 1.0, 4.0, 2.0, 7.0, 4.0, 14.0, 8.0, 9.0, 4.0, 1.0, 2.0, 1.0, 2.0, 1.0, 3.0, 2.0, 2.0, 1.0, 1.0, 3.0, 4.0, 2.0, 3.0, 1.0, 2.0, 1.0, 2.0, 2.0, 3.0, 4.0, 3.0, 4.0, 1.0, 1.0, 4.0, 18.0, 1.0, 1.0, 1.0, 1.0, 2.0, 2.0, 4.0, 3.0, 2.0, 1.0, 2.0, 1.0, 1.0, 3.0, 8.0, 11.0, 6.0, 7.0, 7.0, 2.0, 2.0, 2.0, 5.0, 3.0, 4.0, 1.0, 1.0, 1.0, 2.0, 1.0, 2.0, 2.0, 2.0, 3.0, 2.0, 1.0, 1.0, 3.0, 3.0, 8.0, 2.0, 16.0, 4.0, 1.0, 1.0, 6.0, 4.0, 2.0, 2.0, 1.0, 1.0, 3.0, 3.0, 1.0, 1.0, 1.0, 1.0, 6.0, 2.0, 3.0, 2.0, 1.0, 1.0, 2.0, 1.0, 1.0, 1.0, 1.0, 1.0, 3.0, 5.0, 1.0, 5.098360655737705, 7.01123595505618, 5.1344537815126055, 9.222222222222221, 8.68503937007874, 1.0, 7.826530612244898, 3.7435897435897436, 7.2481902792140644]}, \"maxdepth\": 3, \"name\": \"\", \"outsidetextfont\": {\"color\": \"darkblue\", \"size\": 20}, \"parents\": [\"All Sports/Centrum\", \"All Sports/Nieuw-West\", \"All Sports/Noord\", \"All Sports/West\", \"All Sports/Zuidoost\", \"All Sports/Nieuw-West\", \"All Sports/Zuidoost\", \"All Sports/Centrum\", \"All Sports/Nieuw-West\", \"All Sports/Noord\", \"All Sports/Oost\", \"All Sports/West\", \"All Sports/Zuid\", \"All Sports/Nieuw-West\", \"All Sports/Nieuw-West\", \"All Sports/Nieuw-West\", \"All Sports/Noord\", \"All Sports/Oost\", \"All Sports/Zuid\", \"All Sports/Zuidoost\", \"All Sports/Nieuw-West\", \"All Sports/Nieuw-West\", \"All Sports/Noord\", \"All Sports/Oost\", \"All Sports/West\", \"All Sports/Zuid\", \"All Sports/Zuidoost\", \"All Sports/Nieuw-West\", \"All Sports/Noord\", \"All Sports/Oost\", \"All Sports/Zuidoost\", \"All Sports/Nieuw-West\", \"All Sports/Noord\", \"All Sports/Oost\", \"All Sports/West\", \"All Sports/Zuid\", \"All Sports/Zuidoost\", \"All Sports/Nieuw-West\", \"All Sports/Oost\", \"All Sports/Zuid\", \"All Sports/Zuidoost\", \"All Sports/Nieuw-West\", \"All Sports/Nieuw-West\", \"All Sports/Noord\", \"All Sports/Oost\", \"All Sports/West\", \"All Sports/Zuid\", \"All Sports/Nieuw-West\", \"All Sports/Noord\", \"All Sports/West\", \"All Sports/Nieuw-West\", \"All Sports/Centrum\", \"All Sports/Zuid\", \"All Sports/Zuidoost\", \"All Sports/Nieuw-West\", \"All Sports/Noord\", \"All Sports/Oost\", \"All Sports/Zuidoost\", \"All Sports/Centrum\", \"All Sports/Oost\", \"All Sports/West\", \"All Sports/Zuid\", \"All Sports/Zuidoost\", \"All Sports/Centrum\", \"All Sports/Nieuw-West\", \"All Sports/Noord\", \"All Sports/Oost\", \"All Sports/West\", \"All Sports/Zuid\", \"All Sports/Zuidoost\", \"All Sports/Nieuw-West\", \"All Sports/Noord\", \"All Sports/Oost\", \"All Sports/Zuidoost\", \"All Sports/Noord\", \"All Sports/Oost\", \"All Sports/West\", \"All Sports/Zuid\", \"All Sports/Zuidoost\", \"All Sports/Nieuw-West\", \"All Sports/Oost\", \"All Sports/Zuid\", \"All Sports/Zuidoost\", \"All Sports/Centrum\", \"All Sports/Noord\", \"All Sports/Oost\", \"All Sports/West\", \"All Sports/Zuid\", \"All Sports/Zuidoost\", \"All Sports/Centrum\", \"All Sports/Nieuw-West\", \"All Sports/Oost\", \"All Sports/Centrum\", \"All Sports/Nieuw-West\", \"All Sports/Noord\", \"All Sports/Oost\", \"All Sports/West\", \"All Sports/Zuid\", \"All Sports/Nieuw-West\", \"All Sports/Oost\", \"All Sports/Zuid\", \"All Sports/Zuidoost\", \"All Sports/Nieuw-West\", \"All Sports/Noord\", \"All Sports/Zuid\", \"All Sports/West\", \"All Sports/Zuid\", \"All Sports/Centrum\", \"All Sports/Nieuw-West\", \"All Sports/Noord\", \"All Sports/Oost\", \"All Sports/West\", \"All Sports/Zuid\", \"All Sports/Zuidoost\", \"All Sports/Nieuw-West\", \"All Sports/Noord\", \"All Sports/West\", \"All Sports/Zuid\", \"All Sports/Centrum\", \"All Sports/Zuid\", \"All Sports/Centrum\", \"All Sports/Nieuw-West\", \"All Sports/Noord\", \"All Sports/Oost\", \"All Sports/West\", \"All Sports/Zuid\", \"All Sports/Zuidoost\", \"All Sports/Centrum\", \"All Sports/Nieuw-West\", \"All Sports/Noord\", \"All Sports/Oost\", \"All Sports/West\", \"All Sports/Zuid\", \"All Sports/Zuidoost\", \"All Sports/Nieuw-West\", \"All Sports/Oost\", \"All Sports/Centrum\", \"All Sports/Nieuw-West\", \"All Sports/Noord\", \"All Sports/Oost\", \"All Sports/Zuid\", \"All Sports/Zuidoost\", \"All Sports/Nieuw-West\", \"All Sports/Centrum\", \"All Sports/Nieuw-West\", \"All Sports/Noord\", \"All Sports/Zuid\", \"All Sports/Zuidoost\", \"All Sports/Centrum\", \"All Sports/Nieuw-West\", \"All Sports/Noord\", \"All Sports/Oost\", \"All Sports/West\", \"All Sports/Zuid\", \"All Sports/Zuidoost\", \"All Sports/Nieuw-West\", \"All Sports/Noord\", \"All Sports/Oost\", \"All Sports/Zuid\", \"All Sports/Zuid\", \"All Sports/Centrum\", \"All Sports/Oost\", \"All Sports/Zuid\", \"All Sports/Nieuw-West\", \"All Sports/Noord\", \"All Sports/Oost\", \"All Sports/Zuid\", \"All Sports/Zuidoost\", \"All Sports/Oost\", \"All Sports/Centrum\", \"All Sports/Nieuw-West\", \"All Sports/Noord\", \"All Sports/Oost\", \"All Sports/West\", \"All Sports/Zuid\", \"All Sports/Zuidoost\", \"All Sports/Centrum\", \"All Sports/Nieuw-West\", \"All Sports/Noord\", \"All Sports/West\", \"All Sports/Zuid\", \"All Sports/Zuidoost\", \"All Sports/Nieuw-West\", \"All Sports/Noord\", \"All Sports/Oost\", \"All Sports/West\", \"All Sports/Zuidoost\", \"All Sports/Centrum\", \"All Sports/Nieuw-West\", \"All Sports/Noord\", \"All Sports/Oost\", \"All Sports/West\", \"All Sports/Zuid\", \"All Sports/Zuidoost\", \"All Sports/Nieuw-West\", \"All Sports/Oost\", \"All Sports/Nieuw-West\", \"All Sports/Noord\", \"All Sports/Oost\", \"All Sports/West\", \"All Sports/Zuid\", \"All Sports/Zuidoost\", \"All Sports/Oost\", \"All Sports/Zuid\", \"All Sports/Nieuw-West\", \"All Sports/Oost\", \"All Sports/Westpoort\", \"All Sports/Zuid\", \"All Sports/Nieuw-West\", \"All Sports/Oost\", \"All Sports/Zuidoost\", \"All Sports/Oost\", \"All Sports/Centrum\", \"All Sports/Oost\", \"All Sports/Zuid\", \"All Sports/Nieuw-West\", \"All Sports/Noord\", \"All Sports/Nieuw-West\", \"All Sports/Oost\", \"All Sports/West\", \"All Sports/Centrum\", \"All Sports/Nieuw-West\", \"All Sports/Noord\", \"All Sports/Oost\", \"All Sports/Zuid\", \"All Sports/Zuidoost\", \"All Sports/Centrum\", \"All Sports/Noord\", \"All Sports/Oost\", \"All Sports/Centrum\", \"All Sports/Oost\", \"All Sports/Zuid\", \"All Sports/Centrum\", \"All Sports/Nieuw-West\", \"All Sports/Oost\", \"All Sports/Zuid\", \"All Sports/Oost\", \"All Sports/Zuid\", \"All Sports/Nieuw-West\", \"All Sports/Oost\", \"All Sports/Zuidoost\", \"All Sports/Nieuw-West\", \"All Sports/Centrum\", \"All Sports/Nieuw-West\", \"All Sports/Noord\", \"All Sports/Oost\", \"All Sports/West\", \"All Sports/Zuid\", \"All Sports/Zuidoost\", \"All Sports/Nieuw-West\", \"All Sports/Noord\", \"All Sports/Oost\", \"All Sports/West\", \"All Sports/Zuid\", \"All Sports/Zuidoost\", \"All Sports/Nieuw-West\", \"All Sports/Noord\", \"All Sports/Oost\", \"All Sports/West\", \"All Sports/Zuid\", \"All Sports/Centrum\", \"All Sports/Nieuw-West\", \"All Sports/Noord\", \"All Sports/Oost\", \"All Sports/West\", \"All Sports/Centrum\", \"All Sports/Nieuw-West\", \"All Sports/Noord\", \"All Sports/Oost\", \"All Sports/West\", \"All Sports/Zuid\", \"All Sports/Zuidoost\", \"All Sports/Nieuw-West\", \"All Sports/Zuidoost\", \"All Sports/Nieuw-West\", \"All Sports/Noord\", \"All Sports/Zuid\", \"All Sports/Nieuw-West\", \"All Sports/Noord\", \"All Sports/Oost\", \"All Sports/West\", \"All Sports/Zuid\", \"All Sports/Zuidoost\", \"All Sports/Centrum\", \"All Sports/Nieuw-West\", \"All Sports/Noord\", \"All Sports/Oost\", \"All Sports/West\", \"All Sports/Zuid\", \"All Sports/Zuidoost\", \"All Sports/Nieuw-West\", \"All Sports/Noord\", \"All Sports/Oost\", \"All Sports/Zuid\", \"All Sports/Zuidoost\", \"All Sports/Centrum\", \"All Sports/Nieuw-West\", \"All Sports/Noord\", \"All Sports/West\", \"All Sports/Zuid\", \"All Sports/Zuidoost\", \"All Sports\", \"All Sports\", \"All Sports\", \"All Sports\", \"All Sports\", \"All Sports\", \"All Sports\", \"All Sports\", \"\"], \"textinfo\": \"label\", \"type\": \"treemap\", \"values\": [1, 1, 2, 1, 1, 2, 1, 1, 1, 2, 4, 7, 9, 2, 1, 1, 1, 1, 2, 1, 1, 2, 2, 4, 2, 4, 1, 2, 1, 1, 2, 5, 2, 5, 3, 4, 7, 1, 4, 1, 1, 1, 3, 1, 1, 8, 2, 1, 1, 1, 1, 1, 1, 1, 2, 1, 2, 1, 1, 1, 2, 3, 1, 3, 3, 7, 2, 3, 6, 1, 3, 1, 5, 1, 1, 3, 2, 4, 1, 1, 1, 1, 1, 6, 2, 3, 2, 4, 2, 1, 1, 1, 1, 5, 1, 1, 1, 2, 1, 1, 3, 1, 3, 2, 1, 1, 1, 1, 1, 7, 3, 11, 4, 1, 3, 4, 1, 1, 2, 4, 14, 6, 5, 19, 22, 21, 8, 1, 19, 8, 20, 9, 7, 6, 1, 1, 1, 3, 1, 2, 7, 1, 1, 1, 3, 1, 1, 3, 3, 18, 9, 10, 4, 12, 7, 5, 3, 2, 1, 1, 1, 1, 1, 2, 1, 2, 4, 2, 1, 2, 10, 8, 10, 9, 4, 2, 3, 3, 2, 1, 7, 2, 4, 1, 6, 3, 1, 1, 1, 1, 2, 2, 3, 1, 4, 2, 7, 4, 14, 8, 9, 4, 1, 2, 1, 2, 1, 3, 2, 2, 1, 1, 3, 4, 2, 3, 1, 2, 1, 2, 2, 3, 4, 3, 4, 1, 1, 4, 18, 1, 1, 1, 1, 2, 2, 4, 3, 2, 1, 2, 1, 1, 3, 8, 11, 6, 7, 7, 2, 2, 2, 5, 3, 4, 1, 1, 1, 2, 1, 2, 2, 2, 3, 2, 1, 1, 3, 3, 8, 2, 16, 4, 1, 1, 6, 4, 2, 2, 1, 1, 3, 3, 1, 1, 1, 1, 6, 2, 3, 2, 1, 1, 2, 1, 1, 1, 1, 1, 3, 5, 1, 61, 178, 119, 207, 127, 1, 196, 78, 967]}],                        {\"coloraxis\": {\"cmax\": 22, \"cmid\": 7.2481902792140644, \"cmin\": 1, \"colorbar\": {\"title\": {\"text\": \"Counts\"}}, \"colorscale\": [[0.0, \"rgb(237, 229, 207)\"], [0.16666666666666666, \"rgb(224, 194, 162)\"], [0.3333333333333333, \"rgb(211, 156, 131)\"], [0.5, \"rgb(193, 118, 111)\"], [0.6666666666666666, \"rgb(166, 84, 97)\"], [0.8333333333333334, \"rgb(129, 55, 83)\"], [1.0, \"rgb(84, 31, 63)\"]]}, \"height\": 600, \"legend\": {\"tracegroupgap\": 0}, \"margin\": {\"l\": 20, \"t\": 100}, \"template\": {\"data\": {\"bar\": [{\"error_x\": {\"color\": \"#2a3f5f\"}, \"error_y\": {\"color\": \"#2a3f5f\"}, \"marker\": {\"line\": {\"color\": \"#E5ECF6\", \"width\": 0.5}}, \"type\": \"bar\"}], \"barpolar\": [{\"marker\": {\"line\": {\"color\": \"#E5ECF6\", \"width\": 0.5}}, \"type\": \"barpolar\"}], \"carpet\": [{\"aaxis\": {\"endlinecolor\": \"#2a3f5f\", \"gridcolor\": \"white\", \"linecolor\": \"white\", \"minorgridcolor\": \"white\", \"startlinecolor\": \"#2a3f5f\"}, \"baxis\": {\"endlinecolor\": \"#2a3f5f\", \"gridcolor\": \"white\", \"linecolor\": \"white\", \"minorgridcolor\": \"white\", \"startlinecolor\": \"#2a3f5f\"}, \"type\": \"carpet\"}], \"choropleth\": [{\"colorbar\": {\"outlinewidth\": 0, \"ticks\": \"\"}, \"type\": \"choropleth\"}], \"contour\": [{\"colorbar\": {\"outlinewidth\": 0, \"ticks\": \"\"}, \"colorscale\": [[0.0, \"#0d0887\"], [0.1111111111111111, \"#46039f\"], [0.2222222222222222, \"#7201a8\"], [0.3333333333333333, \"#9c179e\"], [0.4444444444444444, \"#bd3786\"], [0.5555555555555556, \"#d8576b\"], [0.6666666666666666, \"#ed7953\"], [0.7777777777777778, \"#fb9f3a\"], [0.8888888888888888, \"#fdca26\"], [1.0, \"#f0f921\"]], \"type\": \"contour\"}], \"contourcarpet\": [{\"colorbar\": {\"outlinewidth\": 0, \"ticks\": \"\"}, \"type\": \"contourcarpet\"}], \"heatmap\": [{\"colorbar\": {\"outlinewidth\": 0, \"ticks\": \"\"}, \"colorscale\": [[0.0, \"#0d0887\"], [0.1111111111111111, \"#46039f\"], [0.2222222222222222, \"#7201a8\"], [0.3333333333333333, \"#9c179e\"], [0.4444444444444444, \"#bd3786\"], [0.5555555555555556, \"#d8576b\"], [0.6666666666666666, \"#ed7953\"], [0.7777777777777778, \"#fb9f3a\"], [0.8888888888888888, \"#fdca26\"], [1.0, \"#f0f921\"]], \"type\": \"heatmap\"}], \"heatmapgl\": [{\"colorbar\": {\"outlinewidth\": 0, \"ticks\": \"\"}, \"colorscale\": [[0.0, \"#0d0887\"], [0.1111111111111111, \"#46039f\"], [0.2222222222222222, \"#7201a8\"], [0.3333333333333333, \"#9c179e\"], [0.4444444444444444, \"#bd3786\"], [0.5555555555555556, \"#d8576b\"], [0.6666666666666666, \"#ed7953\"], [0.7777777777777778, \"#fb9f3a\"], [0.8888888888888888, \"#fdca26\"], [1.0, \"#f0f921\"]], \"type\": \"heatmapgl\"}], \"histogram\": [{\"marker\": {\"colorbar\": {\"outlinewidth\": 0, \"ticks\": \"\"}}, \"type\": \"histogram\"}], \"histogram2d\": [{\"colorbar\": {\"outlinewidth\": 0, \"ticks\": \"\"}, \"colorscale\": [[0.0, \"#0d0887\"], [0.1111111111111111, \"#46039f\"], [0.2222222222222222, \"#7201a8\"], [0.3333333333333333, \"#9c179e\"], [0.4444444444444444, \"#bd3786\"], [0.5555555555555556, \"#d8576b\"], [0.6666666666666666, \"#ed7953\"], [0.7777777777777778, \"#fb9f3a\"], [0.8888888888888888, \"#fdca26\"], [1.0, \"#f0f921\"]], \"type\": \"histogram2d\"}], \"histogram2dcontour\": [{\"colorbar\": {\"outlinewidth\": 0, \"ticks\": \"\"}, \"colorscale\": [[0.0, \"#0d0887\"], [0.1111111111111111, \"#46039f\"], [0.2222222222222222, \"#7201a8\"], [0.3333333333333333, \"#9c179e\"], [0.4444444444444444, \"#bd3786\"], [0.5555555555555556, \"#d8576b\"], [0.6666666666666666, \"#ed7953\"], [0.7777777777777778, \"#fb9f3a\"], [0.8888888888888888, \"#fdca26\"], [1.0, \"#f0f921\"]], \"type\": \"histogram2dcontour\"}], \"mesh3d\": [{\"colorbar\": {\"outlinewidth\": 0, \"ticks\": \"\"}, \"type\": \"mesh3d\"}], \"parcoords\": [{\"line\": {\"colorbar\": {\"outlinewidth\": 0, \"ticks\": \"\"}}, \"type\": \"parcoords\"}], \"pie\": [{\"automargin\": true, \"type\": \"pie\"}], \"scatter\": [{\"marker\": {\"colorbar\": {\"outlinewidth\": 0, \"ticks\": \"\"}}, \"type\": \"scatter\"}], \"scatter3d\": [{\"line\": {\"colorbar\": {\"outlinewidth\": 0, \"ticks\": \"\"}}, \"marker\": {\"colorbar\": {\"outlinewidth\": 0, \"ticks\": \"\"}}, \"type\": \"scatter3d\"}], \"scattercarpet\": [{\"marker\": {\"colorbar\": {\"outlinewidth\": 0, \"ticks\": \"\"}}, \"type\": \"scattercarpet\"}], \"scattergeo\": [{\"marker\": {\"colorbar\": {\"outlinewidth\": 0, \"ticks\": \"\"}}, \"type\": \"scattergeo\"}], \"scattergl\": [{\"marker\": {\"colorbar\": {\"outlinewidth\": 0, \"ticks\": \"\"}}, \"type\": \"scattergl\"}], \"scattermapbox\": [{\"marker\": {\"colorbar\": {\"outlinewidth\": 0, \"ticks\": \"\"}}, \"type\": \"scattermapbox\"}], \"scatterpolar\": [{\"marker\": {\"colorbar\": {\"outlinewidth\": 0, \"ticks\": \"\"}}, \"type\": \"scatterpolar\"}], \"scatterpolargl\": [{\"marker\": {\"colorbar\": {\"outlinewidth\": 0, \"ticks\": \"\"}}, \"type\": \"scatterpolargl\"}], \"scatterternary\": [{\"marker\": {\"colorbar\": {\"outlinewidth\": 0, \"ticks\": \"\"}}, \"type\": \"scatterternary\"}], \"surface\": [{\"colorbar\": {\"outlinewidth\": 0, \"ticks\": \"\"}, \"colorscale\": [[0.0, \"#0d0887\"], [0.1111111111111111, \"#46039f\"], [0.2222222222222222, \"#7201a8\"], [0.3333333333333333, \"#9c179e\"], [0.4444444444444444, \"#bd3786\"], [0.5555555555555556, \"#d8576b\"], [0.6666666666666666, \"#ed7953\"], [0.7777777777777778, \"#fb9f3a\"], [0.8888888888888888, \"#fdca26\"], [1.0, \"#f0f921\"]], \"type\": \"surface\"}], \"table\": [{\"cells\": {\"fill\": {\"color\": \"#EBF0F8\"}, \"line\": {\"color\": \"white\"}}, \"header\": {\"fill\": {\"color\": \"#C8D4E3\"}, \"line\": {\"color\": \"white\"}}, \"type\": \"table\"}]}, \"layout\": {\"coloraxis\": {\"colorbar\": {\"outlinewidth\": 0}}, \"font\": {\"family\": \"Old Standard TT\"}, \"hoverlabel\": {\"bgcolor\": \"white\", \"bordercolor\": \"black\", \"font\": {\"family\": \"Rockwell\"}}, \"margin\": {\"b\": 0, \"l\": 0, \"pad\": 100, \"r\": 0, \"t\": 100}, \"paper_bgcolor\": \"white\", \"title\": {\"font\": {\"size\": 24}, \"xanchor\": \"center\", \"yanchor\": \"top\", \"yref\": \"container\"}}}, \"title\": {\"pad\": {\"b\": 100}, \"text\": \"Different Kinds of Sport<br>(Click Area to Expand)\"}},                        {\"responsive\": true}                    ).then(function(){\n",
       "                            \n",
       "var gd = document.getElementById('2adbf1ca-ea2a-4037-a198-8665ee6c9a2e');\n",
       "var x = new MutationObserver(function (mutations, observer) {{\n",
       "        var display = window.getComputedStyle(gd).display;\n",
       "        if (!display || display === 'none') {{\n",
       "            console.log([gd, 'removed!']);\n",
       "            Plotly.purge(gd);\n",
       "            observer.disconnect();\n",
       "        }}\n",
       "}});\n",
       "\n",
       "// Listen for the removal of the full notebook cells\n",
       "var notebookContainer = gd.closest('#notebook-container');\n",
       "if (notebookContainer) {{\n",
       "    x.observe(notebookContainer, {childList: true});\n",
       "}}\n",
       "\n",
       "// Listen for the clearing of the current output cell\n",
       "var outputEl = gd.closest('.output');\n",
       "if (outputEl) {{\n",
       "    x.observe(outputEl, {childList: true});\n",
       "}}\n",
       "\n",
       "                        })                };                });            </script>        </div>"
      ]
     },
     "metadata": {},
     "output_type": "display_data"
    }
   ],
   "source": [
    "import plotly.express as px\n",
    "import plotly.graph_objects as go\n",
    "\n",
    "import numpy as np\n",
    "\n",
    "sport_template = dict(\n",
    "    layout = go.Layout(font=dict(\n",
    "                            family=\"Old Standard TT\",\n",
    "                            ),\n",
    "                       paper_bgcolor=\"white\",\n",
    "                       margin=dict(l=0, t=100, b=0, r=0,pad=100),\n",
    "                       hoverlabel=dict(\n",
    "                                   bordercolor=\"black\",\n",
    "                                   bgcolor =\"white\",\n",
    "#                                    font_size=15,\n",
    "                                   font_family=\"Rockwell\"),\n",
    "                       title=dict(xanchor=\"center\",\n",
    "                                  yanchor=\"top\",\n",
    "                                  yref=\"container\",\n",
    "                                  font_size=24),\n",
    "                       coloraxis_colorbar=dict(\n",
    "                                  outlinewidth = 0)\n",
    "                      ))\n",
    "\n",
    "\n",
    "fig = px.treemap(df,\n",
    "                 path = [\"All\", 'Stadsdeel',\"Sport_en\"],\n",
    "                 color = \"sport_count_in_district\",\n",
    "                 color_continuous_scale=\"brwnyl\",\n",
    "#                  color_continuous_scale=\"earth\",\n",
    "                 range_color = [1, 22],\n",
    "                 hover_name = \"Sport_en\",\n",
    "                 color_continuous_midpoint=np.average(df[\"sport_count_in_district\"]),\n",
    "                 maxdepth=3\n",
    "                )\n",
    "\n",
    "fig.update_traces(go.Treemap(\n",
    "    textinfo = \"label\",\n",
    "    hovertemplate = \"%{label}<br>Count: %{value}\",\n",
    "    outsidetextfont = {\"size\": 20, \"color\": \"darkblue\"},\n",
    "#     hovertemplate = \"%{label}\"\n",
    ")\n",
    "                 )\n",
    "\n",
    "fig.update_layout(\n",
    "    title = dict(\n",
    "        text = \"Different Kinds of Sport<br>(Click Area to Expand)\",\n",
    "        pad=dict(b=100)),\n",
    "    coloraxis_colorbar=dict(\n",
    "        title=\"Counts\",\n",
    "    ),\n",
    "    margin=dict(l=20, t=100),\n",
    "\n",
    "    template=sport_template,\n",
    "    height=600\n",
    ")\n",
    "\n",
    "fig.show()\n",
    "                        \n",
    "    "
   ]
  },
  {
   "cell_type": "code",
   "execution_count": 224,
   "id": "prompt-martial",
   "metadata": {},
   "outputs": [],
   "source": [
    "df[\"Sport_en\"] = df[\"Sport_en\"].map(lambda x: \" \".join(w.capitalize() for w in x.split()))"
   ]
  },
  {
   "cell_type": "code",
   "execution_count": 183,
   "id": "bacterial-dialogue",
   "metadata": {},
   "outputs": [],
   "source": [
    "df.All = \"All Sports\""
   ]
  },
  {
   "cell_type": "code",
   "execution_count": 185,
   "id": "sought-movement",
   "metadata": {},
   "outputs": [],
   "source": [
    "df[\"Sport\"] = df[\"Sport\"].map(lambda x: \" \".join(w.capitalize() for w in x.split()))"
   ]
  },
  {
   "cell_type": "code",
   "execution_count": 187,
   "id": "nearby-alfred",
   "metadata": {},
   "outputs": [],
   "source": [
    "df.to_csv(\"../data/sports_provider_Amsterdam.csv\", index = False)"
   ]
  },
  {
   "cell_type": "markdown",
   "id": "affecting-tension",
   "metadata": {
    "heading_collapsed": true
   },
   "source": [
    "### District"
   ]
  },
  {
   "cell_type": "code",
   "execution_count": 38,
   "id": "dying-mechanism",
   "metadata": {
    "hidden": true
   },
   "outputs": [
    {
     "data": {
      "text/plain": [
       "array(['Nieuw-West', 'Noord', 'Zuidoost', 'West', 'Buiten Amsterdam',\n",
       "       'Centrum', 'Oost', 'Zuid', 'Westpoort', 'Diemen', 'Zuid-Oost'],\n",
       "      dtype=object)"
      ]
     },
     "execution_count": 38,
     "metadata": {},
     "output_type": "execute_result"
    }
   ],
   "source": [
    "df.Stadsdeel.unique()"
   ]
  },
  {
   "cell_type": "code",
   "execution_count": 58,
   "id": "postal-monthly",
   "metadata": {
    "hidden": true,
    "scrolled": true
   },
   "outputs": [
    {
     "data": {
      "image/png": "[encoded data removed]",
      "text/plain": [
       "<Figure size 432x288 with 1 Axes>"
      ]
     },
     "metadata": {
      "needs_background": "light"
     },
     "output_type": "display_data"
    }
   ],
   "source": [
    "sns.countplot(data=df, x=\"Stadsdeel\")\n",
    "plt.xlabel(\"District\")\n",
    "plt.xticks(rotation=40)\n",
    "plt.title(\"Number of Sports in each District\")\n",
    "plt.savefig(\"plots/amount_in_district.png\")"
   ]
  }
 ],
 "metadata": {
  "kernelspec": {
   "display_name": "Python 3",
   "language": "python",
   "name": "python3"
  },
  "language_info": {
   "codemirror_mode": {
    "name": "ipython",
    "version": 3
   },
   "file_extension": ".py",
   "mimetype": "text/x-python",
   "name": "python",
   "nbconvert_exporter": "python",
   "pygments_lexer": "ipython3",
   "version": "3.8.5"
  },
  "toc": {
   "base_numbering": 1,
   "nav_menu": {},
   "number_sections": true,
   "sideBar": true,
   "skip_h1_title": true,
   "title_cell": "Table of Contents",
   "title_sidebar": "Contents",
   "toc_cell": false,
   "toc_position": {},
   "toc_section_display": true,
   "toc_window_display": true
  }
 },
 "nbformat": 4,
 "nbformat_minor": 5
}
